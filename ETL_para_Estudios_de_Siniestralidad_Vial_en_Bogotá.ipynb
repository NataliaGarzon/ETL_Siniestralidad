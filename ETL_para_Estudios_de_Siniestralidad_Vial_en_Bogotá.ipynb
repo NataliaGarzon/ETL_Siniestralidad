{
  "cells": [
    {
      "cell_type": "markdown",
      "metadata": {
        "id": "j-9lEj_rncfh"
      },
      "source": [
        "Título del Trabajo: Diseño e implementación de un mecanismo ETL que permita la integración de fuentes públicas del gobierno local para estudios de siniestralidad vial en Bogotá\n",
        "\n",
        "Universidad: Universidad Central\n",
        "\n",
        "Facultad: Facultad de Ingeniería y Ciencias Básicas\n",
        "\n",
        "Programa Académico: Maestría en Analítica de Datos\n",
        "\n",
        "Directores:\n",
        "- Alejandra Baena, PhD\n",
        "-Juan Camilo Ramírez, PhD\n",
        "\n",
        "Autores:\n",
        "- Natalia Garzón Arias\n",
        "- Luz Adriana Jiménez Sabrica\n",
        "\n",
        "\n",
        "Fecha de Presentación: 05-febrero-2024\n",
        "\n",
        "\n"
      ]
    },
    {
      "cell_type": "markdown",
      "metadata": {
        "id": "OGbzDHamn5In"
      },
      "source": [
        "# Tabla de Contenido\n",
        "\n",
        "1. [Introducción](#introduccion)\n",
        "2. [Extracción](#extraccion)\n",
        "3. [Transformación](#transformacion)\n",
        "4. [Carga](#carga)\n",
        "5. [Interfaz de Monitoreo](#Interfaz)"
      ]
    },
    {
      "cell_type": "markdown",
      "metadata": {
        "id": "zu0m8DGjn6P2"
      },
      "source": [
        "## 1. Introducción\n"
      ]
    },
    {
      "cell_type": "markdown",
      "metadata": {
        "id": "-b-JDlPgoc0s"
      },
      "source": [
        "El propósito de las siguientes líneas de código es crear un mecanismo de Extracción, Transformación y Carga (ETL, por sus siglas en inglés) para la generación de conocimiento a partir de fuentes gubernamentales públicas, que hoy exponen los datos de siniestros viales de manera aislada dificultando ver las relaciones o influencias entre las variables disponibles."
      ]
    },
    {
      "cell_type": "markdown",
      "metadata": {
        "id": "QUiZdX5DoABc"
      },
      "source": [
        "## 2. Extracción <a id=\"extraccion\"></a>"
      ]
    },
    {
      "cell_type": "code",
      "execution_count": 1,
      "metadata": {
        "id": "7czTuBbz3dW0"
      },
      "outputs": [],
      "source": [
        "import time\n",
        "import psutil\n",
        "import os\n",
        "from bs4 import BeautifulSoup\n",
        "from urllib.request import urlopen"
      ]
    },
    {
      "cell_type": "code",
      "execution_count": 2,
      "metadata": {
        "id": "As4G7brH3eaF"
      },
      "outputs": [],
      "source": [
        "# Inicia el temporizador para la fase de Extracción\n",
        "extraction_start_time = time.time()"
      ]
    },
    {
      "cell_type": "code",
      "execution_count": 3,
      "metadata": {
        "colab": {
          "base_uri": "https://localhost:8080/"
        },
        "id": "4bBEMHQtmkVC",
        "outputId": "cab0a9ff-f9ec-4001-f1dc-a3d381944fee"
      },
      "outputs": [
        {
          "output_type": "stream",
          "name": "stdout",
          "text": [
            "Get:1 https://cloud.r-project.org/bin/linux/ubuntu jammy-cran40/ InRelease [3,626 B]\n",
            "Hit:2 http://archive.ubuntu.com/ubuntu jammy InRelease\n",
            "Get:3 http://archive.ubuntu.com/ubuntu jammy-updates InRelease [119 kB]\n",
            "Get:4 http://security.ubuntu.com/ubuntu jammy-security InRelease [110 kB]\n",
            "Get:5 http://archive.ubuntu.com/ubuntu jammy-backports InRelease [109 kB]\n",
            "Hit:6 https://ppa.launchpadcontent.net/c2d4u.team/c2d4u4.0+/ubuntu jammy InRelease\n",
            "Hit:7 https://ppa.launchpadcontent.net/deadsnakes/ppa/ubuntu jammy InRelease\n",
            "Hit:8 https://ppa.launchpadcontent.net/graphics-drivers/ppa/ubuntu jammy InRelease\n",
            "Hit:9 https://ppa.launchpadcontent.net/ubuntugis/ppa/ubuntu jammy InRelease\n",
            "Get:10 http://archive.ubuntu.com/ubuntu jammy-updates/universe amd64 Packages [1,352 kB]\n",
            "Get:11 http://archive.ubuntu.com/ubuntu jammy-updates/main amd64 Packages [1,848 kB]\n",
            "Get:12 http://archive.ubuntu.com/ubuntu jammy-backports/universe amd64 Packages [33.3 kB]\n",
            "Get:13 http://archive.ubuntu.com/ubuntu jammy-backports/main amd64 Packages [80.9 kB]\n",
            "Get:14 http://security.ubuntu.com/ubuntu jammy-security/universe amd64 Packages [1,079 kB]\n",
            "Get:15 http://security.ubuntu.com/ubuntu jammy-security/main amd64 Packages [1,569 kB]\n",
            "Get:16 https://developer.download.nvidia.com/compute/cuda/repos/ubuntu2204/x86_64  InRelease [1,581 B]\n",
            "Get:17 https://developer.download.nvidia.com/compute/cuda/repos/ubuntu2204/x86_64  Packages [736 kB]\n",
            "Fetched 7,042 kB in 56s (125 kB/s)\n",
            "Reading package lists... Done\n",
            "Reading package lists... Done\n",
            "Building dependency tree... Done\n",
            "Reading state information... Done\n",
            "E: Unable to locate package libu2f-udev_1.1.4-1_all.deb\n",
            "E: Couldn't find any package by glob 'libu2f-udev_1.1.4-1_all.deb'\n",
            "E: Couldn't find any package by regex 'libu2f-udev_1.1.4-1_all.deb'\n",
            "Collecting selenium\n",
            "  Downloading selenium-4.18.1-py3-none-any.whl (10.0 MB)\n",
            "\u001b[2K     \u001b[90m━━━━━━━━━━━━━━━━━━━━━━━━━━━━━━━━━━━━━━━━\u001b[0m \u001b[32m10.0/10.0 MB\u001b[0m \u001b[31m27.6 MB/s\u001b[0m eta \u001b[36m0:00:00\u001b[0m\n",
            "\u001b[?25hRequirement already satisfied: urllib3[socks]<3,>=1.26 in /usr/local/lib/python3.10/dist-packages (from selenium) (2.0.7)\n",
            "Collecting trio~=0.17 (from selenium)\n",
            "  Downloading trio-0.24.0-py3-none-any.whl (460 kB)\n",
            "\u001b[2K     \u001b[90m━━━━━━━━━━━━━━━━━━━━━━━━━━━━━━━━━━━━━━━━\u001b[0m \u001b[32m460.2/460.2 kB\u001b[0m \u001b[31m47.5 MB/s\u001b[0m eta \u001b[36m0:00:00\u001b[0m\n",
            "\u001b[?25hCollecting trio-websocket~=0.9 (from selenium)\n",
            "  Downloading trio_websocket-0.11.1-py3-none-any.whl (17 kB)\n",
            "Requirement already satisfied: certifi>=2021.10.8 in /usr/local/lib/python3.10/dist-packages (from selenium) (2024.2.2)\n",
            "Requirement already satisfied: typing_extensions>=4.9.0 in /usr/local/lib/python3.10/dist-packages (from selenium) (4.10.0)\n",
            "Requirement already satisfied: attrs>=20.1.0 in /usr/local/lib/python3.10/dist-packages (from trio~=0.17->selenium) (23.2.0)\n",
            "Requirement already satisfied: sortedcontainers in /usr/local/lib/python3.10/dist-packages (from trio~=0.17->selenium) (2.4.0)\n",
            "Requirement already satisfied: idna in /usr/local/lib/python3.10/dist-packages (from trio~=0.17->selenium) (3.6)\n",
            "Collecting outcome (from trio~=0.17->selenium)\n",
            "  Downloading outcome-1.3.0.post0-py2.py3-none-any.whl (10 kB)\n",
            "Requirement already satisfied: sniffio>=1.3.0 in /usr/local/lib/python3.10/dist-packages (from trio~=0.17->selenium) (1.3.1)\n",
            "Requirement already satisfied: exceptiongroup in /usr/local/lib/python3.10/dist-packages (from trio~=0.17->selenium) (1.2.0)\n",
            "Collecting wsproto>=0.14 (from trio-websocket~=0.9->selenium)\n",
            "  Downloading wsproto-1.2.0-py3-none-any.whl (24 kB)\n",
            "Requirement already satisfied: pysocks!=1.5.7,<2.0,>=1.5.6 in /usr/local/lib/python3.10/dist-packages (from urllib3[socks]<3,>=1.26->selenium) (1.7.1)\n",
            "Collecting h11<1,>=0.9.0 (from wsproto>=0.14->trio-websocket~=0.9->selenium)\n",
            "  Downloading h11-0.14.0-py3-none-any.whl (58 kB)\n",
            "\u001b[2K     \u001b[90m━━━━━━━━━━━━━━━━━━━━━━━━━━━━━━━━━━━━━━━━\u001b[0m \u001b[32m58.3/58.3 kB\u001b[0m \u001b[31m8.0 MB/s\u001b[0m eta \u001b[36m0:00:00\u001b[0m\n",
            "\u001b[?25hInstalling collected packages: outcome, h11, wsproto, trio, trio-websocket, selenium\n",
            "Successfully installed h11-0.14.0 outcome-1.3.0.post0 selenium-4.18.1 trio-0.24.0 trio-websocket-0.11.1 wsproto-1.2.0\n"
          ]
        }
      ],
      "source": [
        "# Instalamos las dependencias para instalar Google Chrome\n",
        "!sudo apt-get update\n",
        "!sudo apt-get install -y libu2f-udev_1.1.4-1_all.deb\n",
        "!pip install selenium"
      ]
    },
    {
      "cell_type": "code",
      "execution_count": 4,
      "metadata": {
        "colab": {
          "base_uri": "https://localhost:8080/"
        },
        "id": "2SRInWfskXt6",
        "outputId": "0611d92d-466b-40a6-d882-a8db75432f81"
      },
      "outputs": [
        {
          "output_type": "stream",
          "name": "stdout",
          "text": [
            "--2024-03-13 23:43:55--  https://dl.google.com/linux/direct/google-chrome-stable_current_amd64.deb\n",
            "Resolving dl.google.com (dl.google.com)... 142.250.141.190, 142.250.141.136, 142.250.141.93, ...\n",
            "Connecting to dl.google.com (dl.google.com)|142.250.141.190|:443... connected.\n",
            "HTTP request sent, awaiting response... 200 OK\n",
            "Length: 106053828 (101M) [application/x-debian-package]\n",
            "Saving to: ‘google-chrome-stable_current_amd64.deb’\n",
            "\n",
            "google-chrome-stabl 100%[===================>] 101.14M   192MB/s    in 0.5s    \n",
            "\n",
            "2024-03-13 23:43:56 (192 MB/s) - ‘google-chrome-stable_current_amd64.deb’ saved [106053828/106053828]\n",
            "\n",
            "Selecting previously unselected package google-chrome-stable.\n",
            "(Reading database ... 121752 files and directories currently installed.)\n",
            "Preparing to unpack google-chrome-stable_current_amd64.deb ...\n",
            "Unpacking google-chrome-stable (122.0.6261.128-1) ...\n",
            "\u001b[1mdpkg:\u001b[0m dependency problems prevent configuration of google-chrome-stable:\n",
            " google-chrome-stable depends on libu2f-udev; however:\n",
            "  Package libu2f-udev is not installed.\n",
            " google-chrome-stable depends on libvulkan1; however:\n",
            "  Package libvulkan1 is not installed.\n",
            "\n",
            "\u001b[1mdpkg:\u001b[0m error processing package google-chrome-stable (--install):\n",
            " dependency problems - leaving unconfigured\n",
            "Processing triggers for man-db (2.10.2-1) ...\n",
            "Errors were encountered while processing:\n",
            " google-chrome-stable\n",
            "Reading package lists... Done\n",
            "Building dependency tree... Done\n",
            "Reading state information... Done\n",
            "Correcting dependencies... Done\n",
            "The following additional packages will be installed:\n",
            "  libu2f-udev libudev1 libvulkan1 mesa-vulkan-drivers systemd-hwe-hwdb udev\n",
            "The following NEW packages will be installed:\n",
            "  libu2f-udev libvulkan1 mesa-vulkan-drivers systemd-hwe-hwdb udev\n",
            "The following packages will be upgraded:\n",
            "  libudev1\n",
            "1 upgraded, 5 newly installed, 0 to remove and 37 not upgraded.\n",
            "1 not fully installed or removed.\n",
            "Need to get 12.5 MB of archives.\n",
            "After this operation, 61.1 MB of additional disk space will be used.\n",
            "Get:1 http://archive.ubuntu.com/ubuntu jammy-updates/main amd64 libudev1 amd64 249.11-0ubuntu3.12 [78.2 kB]\n",
            "Get:2 http://archive.ubuntu.com/ubuntu jammy-updates/main amd64 udev amd64 249.11-0ubuntu3.12 [1,557 kB]\n",
            "Get:3 http://archive.ubuntu.com/ubuntu jammy/main amd64 libu2f-udev all 1.1.10-3build2 [4,190 B]\n",
            "Get:4 http://archive.ubuntu.com/ubuntu jammy/main amd64 libvulkan1 amd64 1.3.204.1-2 [128 kB]\n",
            "Get:5 http://archive.ubuntu.com/ubuntu jammy-updates/main amd64 mesa-vulkan-drivers amd64 23.2.1-1ubuntu3.1~22.04.2 [10.7 MB]\n",
            "Get:6 http://archive.ubuntu.com/ubuntu jammy-updates/main amd64 systemd-hwe-hwdb all 249.11.5 [3,228 B]\n",
            "Fetched 12.5 MB in 1s (11.8 MB/s)\n",
            "(Reading database ... 121866 files and directories currently installed.)\n",
            "Preparing to unpack .../libudev1_249.11-0ubuntu3.12_amd64.deb ...\n",
            "Unpacking libudev1:amd64 (249.11-0ubuntu3.12) over (249.11-0ubuntu3.10) ...\n",
            "Setting up libudev1:amd64 (249.11-0ubuntu3.12) ...\n",
            "Selecting previously unselected package udev.\n",
            "(Reading database ... 121866 files and directories currently installed.)\n",
            "Preparing to unpack .../udev_249.11-0ubuntu3.12_amd64.deb ...\n",
            "Unpacking udev (249.11-0ubuntu3.12) ...\n",
            "Selecting previously unselected package libu2f-udev.\n",
            "Preparing to unpack .../libu2f-udev_1.1.10-3build2_all.deb ...\n",
            "Unpacking libu2f-udev (1.1.10-3build2) ...\n",
            "Selecting previously unselected package libvulkan1:amd64.\n",
            "Preparing to unpack .../libvulkan1_1.3.204.1-2_amd64.deb ...\n",
            "Unpacking libvulkan1:amd64 (1.3.204.1-2) ...\n",
            "Selecting previously unselected package mesa-vulkan-drivers:amd64.\n",
            "Preparing to unpack .../mesa-vulkan-drivers_23.2.1-1ubuntu3.1~22.04.2_amd64.deb ...\n",
            "Unpacking mesa-vulkan-drivers:amd64 (23.2.1-1ubuntu3.1~22.04.2) ...\n",
            "Selecting previously unselected package systemd-hwe-hwdb.\n",
            "Preparing to unpack .../systemd-hwe-hwdb_249.11.5_all.deb ...\n",
            "Unpacking systemd-hwe-hwdb (249.11.5) ...\n",
            "Setting up udev (249.11-0ubuntu3.12) ...\n",
            "invoke-rc.d: could not determine current runlevel\n",
            "invoke-rc.d: policy-rc.d denied execution of start.\n",
            "Setting up libvulkan1:amd64 (1.3.204.1-2) ...\n",
            "Setting up systemd-hwe-hwdb (249.11.5) ...\n",
            "Setting up mesa-vulkan-drivers:amd64 (23.2.1-1ubuntu3.1~22.04.2) ...\n",
            "Setting up libu2f-udev (1.1.10-3build2) ...\n",
            "Setting up google-chrome-stable (122.0.6261.128-1) ...\n",
            "update-alternatives: using /usr/bin/google-chrome-stable to provide /usr/bin/x-www-browser (x-www-browser) in auto mode\n",
            "update-alternatives: using /usr/bin/google-chrome-stable to provide /usr/bin/gnome-www-browser (gnome-www-browser) in auto mode\n",
            "update-alternatives: using /usr/bin/google-chrome-stable to provide /usr/bin/google-chrome (google-chrome) in auto mode\n",
            "Processing triggers for man-db (2.10.2-1) ...\n",
            "Processing triggers for libc-bin (2.35-0ubuntu3.4) ...\n",
            "/sbin/ldconfig.real: /usr/local/lib/libtbb.so.12 is not a symbolic link\n",
            "\n",
            "/sbin/ldconfig.real: /usr/local/lib/libtbbbind.so.3 is not a symbolic link\n",
            "\n",
            "/sbin/ldconfig.real: /usr/local/lib/libtbbbind_2_0.so.3 is not a symbolic link\n",
            "\n",
            "/sbin/ldconfig.real: /usr/local/lib/libtbbmalloc_proxy.so.2 is not a symbolic link\n",
            "\n",
            "/sbin/ldconfig.real: /usr/local/lib/libtbbmalloc.so.2 is not a symbolic link\n",
            "\n",
            "/sbin/ldconfig.real: /usr/local/lib/libtbbbind_2_5.so.3 is not a symbolic link\n",
            "\n"
          ]
        }
      ],
      "source": [
        "# Instalamos Google-Chrome\n",
        "!wget https://dl.google.com/linux/direct/google-chrome-stable_current_amd64.deb\n",
        "!dpkg -i google-chrome-stable_current_amd64.deb\n",
        "!apt-get install -f\n",
        "!rm -rf google-chrome-stable_current_amd64.deb"
      ]
    },
    {
      "cell_type": "code",
      "execution_count": 5,
      "metadata": {
        "id": "3rhHcPShDHJu"
      },
      "outputs": [],
      "source": [
        "# Identificamos la versión estable disponible para descarga del ChromeWebDriver\n",
        "url = \"https://googlechromelabs.github.io/chrome-for-testing/\"\n",
        "page = urlopen(url)\n",
        "html = page.read().decode(\"utf-8\")\n",
        "soup = BeautifulSoup(html, \"html.parser\")\n",
        "code=soup.find(\"code\")"
      ]
    },
    {
      "cell_type": "code",
      "execution_count": 27,
      "metadata": {
        "colab": {
          "base_uri": "https://localhost:8080/"
        },
        "id": "QIW-ZbtYkd0v",
        "outputId": "1e103b70-fe0e-412f-e16b-c3766abaded0"
      },
      "outputs": [
        {
          "output_type": "stream",
          "name": "stdout",
          "text": [
            "--2024-03-14 01:41:14--  https://storage.googleapis.com/chrome-for-testing-public/122.0.6261.128/linux64/chromedriver-linux64.zip\n",
            "Resolving storage.googleapis.com (storage.googleapis.com)... 142.250.101.207, 142.250.141.207, 142.251.2.207, ...\n",
            "Connecting to storage.googleapis.com (storage.googleapis.com)|142.250.101.207|:443... connected.\n",
            "HTTP request sent, awaiting response... 200 OK\n",
            "Length: 8598044 (8.2M) [application/zip]\n",
            "Saving to: ‘chromedriver-linux64.zip’\n",
            "\n",
            "\rchromedriver-linux6   0%[                    ]       0  --.-KB/s               \rchromedriver-linux6 100%[===================>]   8.20M  --.-KB/s    in 0.1s    \n",
            "\n",
            "2024-03-14 01:41:14 (76.3 MB/s) - ‘chromedriver-linux64.zip’ saved [8598044/8598044]\n",
            "\n",
            "Archive:  chromedriver-linux64.zip\n",
            "replace chromedriver-linux64/LICENSE.chromedriver? [y]es, [n]o, [A]ll, [N]one, [r]ename: "
          ]
        }
      ],
      "source": [
        "# Descargamos el WebDriver para Chrome\n",
        "ver_Google = str(code)\n",
        "ver_Google = ver_Google[len (\"<code>\"):(len(ver_Google)-len (\"</code>\"))]\n",
        "url_WebDriver = 'https://storage.googleapis.com/chrome-for-testing-public/'+ver_Google+'/linux64/chromedriver-linux64.zip'\n",
        "!wget $url_WebDriver\n",
        "!unzip chromedriver-linux64\n",
        "!rm -rf chromedriver-linux64.zip\n",
        "!rm -rf LICENSE.chromedriver"
      ]
    },
    {
      "cell_type": "code",
      "execution_count": 29,
      "metadata": {
        "id": "3aEPcqF1ksRv"
      },
      "outputs": [],
      "source": [
        "# importamos el modulo webdriver de Selenium\n",
        "from selenium import webdriver\n",
        "from selenium.webdriver.chrome.service import Service\n",
        "from selenium.webdriver.chrome.options import Options\n",
        "from selenium.webdriver.common.by import By\n",
        "from selenium.webdriver.common.keys import Keys\n",
        "from selenium.webdriver.support.ui import WebDriverWait\n",
        "from selenium.webdriver.support import expected_conditions as EC\n",
        "from selenium.webdriver.common.action_chains import ActionChains\n",
        "from selenium.common.exceptions import NoSuchElementException\n",
        "import pandas as pd\n",
        "import os\n",
        "\n",
        "\n",
        "# Opciones de chrome\n",
        "chrome_options = Options()\n",
        "chrome_options.add_argument('--headless')\n",
        "chrome_options.add_argument('--no-sandbox')\n",
        "\n",
        "\n",
        "# Ruta del controlador de Chrome\n",
        "chrome_driver_path = '/content/chromedriver-linux64/chromedriver'\n",
        "\n",
        "# Crear un objeto Service para especificar la ruta del controlador\n",
        "service = Service(chrome_driver_path)\n",
        "\n",
        "# Crear una instancia del navegador Chrome\n",
        "driver = webdriver.Chrome(service=service, options=chrome_options)"
      ]
    },
    {
      "cell_type": "code",
      "execution_count": 8,
      "metadata": {
        "id": "oyqrC1SLKpXX"
      },
      "outputs": [],
      "source": [
        "# Definir función para acceder a shadow_root\n",
        "def expand_shadow_element(element):\n",
        "    shadow_root = driver.execute_script('return arguments[0].shadowRoot', element)\n",
        "    return shadow_root"
      ]
    },
    {
      "cell_type": "markdown",
      "metadata": {
        "id": "ReJuJy4MXxsc"
      },
      "source": [
        "### 2.1 Actor Vial"
      ]
    },
    {
      "cell_type": "code",
      "execution_count": 32,
      "metadata": {
        "id": "kDkv1owBNBNB"
      },
      "outputs": [],
      "source": [
        "# Navegar en la página web\n",
        "driver.get('https://datos.movilidadbogota.gov.co/datasets/movilidadbogota::actor-vial/about')\n",
        "time.sleep(7)\n",
        "\n",
        "download = WebDriverWait(driver, 20).until(\n",
        "          EC.element_to_be_clickable((By.XPATH,\n",
        "                                      '/html[1]/body[1]/div[7]/div[2]/div[1]/div[1]/div[3]/div[1]/div[1]/div[4]/div[2]/button[1]')))\n",
        "download.click()\n",
        "\n",
        "root1 = driver.find_element(By.CSS_SELECTOR, \"arcgis-download-list\")\n",
        "shadow_root1 = expand_shadow_element(root1)\n",
        "time.sleep(5)\n",
        "\n",
        "root2 = shadow_root1.find_element(By.CSS_SELECTOR, \"arcgis-download-list-card.list-card\")\n",
        "shadow_root2 = expand_shadow_element(root2)\n",
        "time.sleep(5)\n",
        "\n",
        "root3 = shadow_root2.find_element(By.CSS_SELECTOR, \"arcgis-download-list-card-ui\")\n",
        "shadow_root3 = expand_shadow_element(root3)\n",
        "time.sleep(5)\n",
        "\n",
        "root4 = shadow_root2.find_element(By.CSS_SELECTOR, 'arcgis-download-features-button')\n",
        "shadow_root4 = expand_shadow_element(root4)\n",
        "time.sleep(5)\n",
        "\n",
        "root5 = shadow_root4.find_element(By.CSS_SELECTOR, 'calcite-button')\n",
        "shadow_root5 = expand_shadow_element(root5)\n",
        "time.sleep(5)\n",
        "\n",
        "csv_download = shadow_root5.find_element(By.CSS_SELECTOR, \".button-padding--shrunk.content--slotted.icon-end-empty\")\n",
        "driver.execute_script(\"arguments[0].scrollIntoView();\", csv_download)\n",
        "driver.execute_script(\"arguments[0].click();\", csv_download)\n",
        "time.sleep(20)"
      ]
    },
    {
      "cell_type": "code",
      "source": [
        "# Obtener lista de archivos en el directorio\n",
        "archivos = os.listdir('/content')\n",
        "\n",
        "# Variable para verificar si el archivo ha aparecido\n",
        "archivo_aparecido = False\n",
        "\n",
        "# Tiempo máximo de espera en segundos\n",
        "tiempo_maximo_espera = 300  # Por ejemplo, 5 minutos\n",
        "\n",
        "# Tiempo de espera entre verificaciones en segundos\n",
        "intervalo_verificacion = 10\n",
        "\n",
        "tiempo_transcurrido = 0\n",
        "\n",
        "while not archivo_aparecido and tiempo_transcurrido < tiempo_maximo_espera:\n",
        "    if any(archivo.endswith('.csv') and archivo.startswith('AccidentalidadAnalisis') for archivo in archivos):\n",
        "        archivo_aparecido = True\n",
        "    else:\n",
        "        tiempo_transcurrido += intervalo_verificacion\n",
        "        time.sleep(intervalo_verificacion)\n",
        "\n",
        "if archivo_aparecido:\n",
        "  # Iterar sobre los archivos\n",
        "  for archivo in archivos:\n",
        "      # Verificar si el nombre del archivo comienza con 'AccidentalidadAnalisis' y termina con '.csv'\n",
        "      if archivo.startswith('AccidentalidadAnalisis') and archivo.endswith('.csv'):\n",
        "          # Ruta completa del archivo original\n",
        "          OriginalActorVial = '/content/' + archivo\n",
        "\n",
        "          # Nuevo nombre del archivo (eliminando los números al final)\n",
        "          nuevo_nombre = 'ActorVial.csv'\n",
        "\n",
        "          # Nueva ruta con el nombre modificado\n",
        "          NuevaActorVial = '/content/' + nuevo_nombre\n",
        "\n",
        "          # Cambiar el nombre del archivo\n",
        "          os.rename(OriginalActorVial, NuevaActorVial)\n",
        "else:\n",
        "    print(\"El archivo no ha aparecido en la carpeta dentro del tiempo de espera.\")"
      ],
      "metadata": {
        "id": "7BoW12Qtr-8k"
      },
      "execution_count": null,
      "outputs": []
    },
    {
      "cell_type": "markdown",
      "metadata": {
        "id": "MThBFmZoX3Bc"
      },
      "source": [
        "### 2.2 Via"
      ]
    },
    {
      "cell_type": "code",
      "execution_count": 34,
      "metadata": {
        "id": "J9ZCuHcrX5Hx"
      },
      "outputs": [],
      "source": [
        "# Navego en la página web\n",
        "driver.get('https://datos.movilidadbogota.gov.co/datasets/movilidadbogota::via/about')\n",
        "time.sleep(7)\n",
        "\n",
        "download = WebDriverWait(driver, 20).until(\n",
        "          EC.element_to_be_clickable((By.XPATH,\n",
        "                                      '/html[1]/body[1]/div[7]/div[2]/div[1]/div[1]/div[3]/div[1]/div[1]/div[4]/div[2]/button[1]')))\n",
        "download.click()\n",
        "\n",
        "root1 = driver.find_element(By.CSS_SELECTOR, \"arcgis-download-list\")\n",
        "shadow_root1 = expand_shadow_element(root1)\n",
        "time.sleep(5)\n",
        "\n",
        "root2 = shadow_root1.find_element(By.CSS_SELECTOR, \"arcgis-download-list-card.list-card\")\n",
        "shadow_root2 = expand_shadow_element(root2)\n",
        "time.sleep(5)\n",
        "\n",
        "root3 = shadow_root2.find_element(By.CSS_SELECTOR, \"arcgis-download-list-card-ui\")\n",
        "shadow_root3 = expand_shadow_element(root3)\n",
        "time.sleep(5)\n",
        "\n",
        "root4 = shadow_root2.find_element(By.CSS_SELECTOR, 'arcgis-download-features-button')\n",
        "shadow_root4 = expand_shadow_element(root4)\n",
        "time.sleep(5)\n",
        "\n",
        "root5 = shadow_root4.find_element(By.CSS_SELECTOR, 'calcite-button')\n",
        "shadow_root5 = expand_shadow_element(root5)\n",
        "time.sleep(5)\n",
        "\n",
        "csv_download = shadow_root5.find_element(By.CSS_SELECTOR, \".button-padding--shrunk.content--slotted.icon-end-empty\")\n",
        "driver.execute_script(\"arguments[0].scrollIntoView();\", csv_download)\n",
        "driver.execute_script(\"arguments[0].click();\", csv_download)\n",
        "time.sleep(20)"
      ]
    },
    {
      "cell_type": "code",
      "execution_count": 35,
      "metadata": {
        "id": "wbIZkmj0X5j2"
      },
      "outputs": [],
      "source": [
        "# Obtener lista de archivos en el directorio\n",
        "archivos = os.listdir('/content')\n",
        "\n",
        "# Variable para verificar si el archivo ha aparecido\n",
        "archivo_aparecido = False\n",
        "\n",
        "# Tiempo máximo de espera en segundos\n",
        "tiempo_maximo_espera = 300  # Por ejemplo, 5 minutos\n",
        "\n",
        "# Tiempo de espera entre verificaciones en segundos\n",
        "intervalo_verificacion = 10\n",
        "\n",
        "tiempo_transcurrido = 0\n",
        "\n",
        "while not archivo_aparecido and tiempo_transcurrido < tiempo_maximo_espera:\n",
        "    if any(archivo.endswith('.csv') and archivo.startswith('AccidentalidadAnalisis') for archivo in archivos):\n",
        "        archivo_aparecido = True\n",
        "    else:\n",
        "        tiempo_transcurrido += intervalo_verificacion\n",
        "        time.sleep(intervalo_verificacion)\n",
        "\n",
        "if archivo_aparecido:\n",
        "  # Iterar sobre los archivos\n",
        "  for archivo in archivos:\n",
        "      # Verificar si el nombre del archivo comienza con 'AccidentalidadAnalisis' y termina con '.csv'\n",
        "      if archivo.startswith('AccidentalidadAnalisis') and archivo.endswith('.csv'):\n",
        "          # Ruta completa del archivo original\n",
        "          OriginalVia = '/content/' + archivo\n",
        "\n",
        "          # Nuevo nombre del archivo (eliminando los números al final)\n",
        "          nuevo_nombre = 'Via.csv'\n",
        "\n",
        "          # Nueva ruta con el nombre modificado\n",
        "          NuevaVia = '/content/' + nuevo_nombre\n",
        "\n",
        "          # Cambiar el nombre del archivo\n",
        "          os.rename(OriginalVia, NuevaVia)\n",
        "else:\n",
        "    print(\"El archivo no ha aparecido en la carpeta dentro del tiempo de espera.\")"
      ]
    },
    {
      "cell_type": "markdown",
      "metadata": {
        "id": "O8hTVJP_X5_u"
      },
      "source": [
        "### 2.3 Accidente"
      ]
    },
    {
      "cell_type": "code",
      "execution_count": 36,
      "metadata": {
        "id": "GSYJdEc1X7s-"
      },
      "outputs": [],
      "source": [
        "# Navego en la página web\n",
        "driver.get('https://datos.movilidadbogota.gov.co/datasets/movilidadbogota::accidente-1/about')\n",
        "time.sleep(7)\n",
        "\n",
        "download = WebDriverWait(driver, 20).until(\n",
        "          EC.element_to_be_clickable((By.XPATH,\n",
        "                                      '/html[1]/body[1]/div[7]/div[2]/div[1]/div[1]/div[3]/div[1]/div[1]/div[4]/div[2]/button[1]')))\n",
        "download.click()\n",
        "\n",
        "root1 = driver.find_element(By.CSS_SELECTOR, \"arcgis-download-list\")\n",
        "shadow_root1 = expand_shadow_element(root1)\n",
        "time.sleep(5)\n",
        "\n",
        "root2 = shadow_root1.find_element(By.CSS_SELECTOR, \"arcgis-download-list-card.list-card\")\n",
        "shadow_root2 = expand_shadow_element(root2)\n",
        "time.sleep(5)\n",
        "\n",
        "root3 = shadow_root2.find_element(By.CSS_SELECTOR, \"arcgis-download-list-card-ui\")\n",
        "shadow_root3 = expand_shadow_element(root3)\n",
        "time.sleep(5)\n",
        "\n",
        "root4 = shadow_root2.find_element(By.CSS_SELECTOR, 'arcgis-download-features-button')\n",
        "shadow_root4 = expand_shadow_element(root4)\n",
        "time.sleep(5)\n",
        "\n",
        "root5 = shadow_root4.find_element(By.CSS_SELECTOR, 'calcite-button')\n",
        "shadow_root5 = expand_shadow_element(root5)\n",
        "time.sleep(5)\n",
        "\n",
        "csv_download = shadow_root5.find_element(By.CSS_SELECTOR, \".button-padding--shrunk.content--slotted.icon-end-empty\")\n",
        "driver.execute_script(\"arguments[0].scrollIntoView();\", csv_download)\n",
        "driver.execute_script(\"arguments[0].click();\", csv_download)\n",
        "time.sleep(20)"
      ]
    },
    {
      "cell_type": "code",
      "execution_count": 37,
      "metadata": {
        "id": "uDaK89VlX8Af"
      },
      "outputs": [],
      "source": [
        "# Obtener lista de archivos en el directorio\n",
        "archivos = os.listdir('/content')\n",
        "\n",
        "# Variable para verificar si el archivo ha aparecido\n",
        "archivo_aparecido = False\n",
        "\n",
        "# Tiempo máximo de espera en segundos\n",
        "tiempo_maximo_espera = 300  # Por ejemplo, 5 minutos\n",
        "\n",
        "# Tiempo de espera entre verificaciones en segundos\n",
        "intervalo_verificacion = 10\n",
        "\n",
        "tiempo_transcurrido = 0\n",
        "\n",
        "while not archivo_aparecido and tiempo_transcurrido < tiempo_maximo_espera:\n",
        "    if any(archivo.endswith('.csv') and archivo.startswith('AccidentalidadAnalisis') for archivo in archivos):\n",
        "        archivo_aparecido = True\n",
        "    else:\n",
        "        tiempo_transcurrido += intervalo_verificacion\n",
        "        time.sleep(intervalo_verificacion)\n",
        "\n",
        "if archivo_aparecido:\n",
        "  # Iterar sobre los archivos\n",
        "  for archivo in archivos:\n",
        "      # Verificar si el nombre del archivo comienza con 'AccidentalidadAnalisis' y termina con '.csv'\n",
        "      if archivo.startswith('AccidentalidadAnalisis') and archivo.endswith('.csv'):\n",
        "          # Ruta completa del archivo original\n",
        "          OriginalAccidente = '/content/' + archivo\n",
        "\n",
        "          # Nuevo nombre del archivo (eliminando los números al final)\n",
        "          nuevo_nombre = 'Accidente.csv'\n",
        "\n",
        "          # Nueva ruta con el nombre modificado\n",
        "          NuevaAccidente = '/content/' + nuevo_nombre\n",
        "\n",
        "          # Cambiar el nombre del archivo\n",
        "          os.rename(OriginalAccidente, NuevaAccidente)\n",
        "else:\n",
        "    print(\"El archivo no ha aparecido en la carpeta dentro del tiempo de espera.\")"
      ]
    },
    {
      "cell_type": "markdown",
      "metadata": {
        "id": "cxj-C0-AX8dU"
      },
      "source": [
        "### 2.4 Vehiculo"
      ]
    },
    {
      "cell_type": "code",
      "execution_count": 38,
      "metadata": {
        "id": "EZNf4SbTYI6_"
      },
      "outputs": [],
      "source": [
        "# Navego en la página web\n",
        "driver.get('https://datos.movilidadbogota.gov.co/datasets/movilidadbogota::vehiculo-1/about')\n",
        "time.sleep(7)\n",
        "\n",
        "download = WebDriverWait(driver, 20).until(\n",
        "          EC.element_to_be_clickable((By.XPATH,\n",
        "                                      '/html[1]/body[1]/div[7]/div[2]/div[1]/div[1]/div[3]/div[1]/div[1]/div[4]/div[2]/button[1]')))\n",
        "download.click()\n",
        "\n",
        "root1 = driver.find_element(By.CSS_SELECTOR, \"arcgis-download-list\")\n",
        "shadow_root1 = expand_shadow_element(root1)\n",
        "time.sleep(5)\n",
        "\n",
        "root2 = shadow_root1.find_element(By.CSS_SELECTOR, \"arcgis-download-list-card.list-card\")\n",
        "shadow_root2 = expand_shadow_element(root2)\n",
        "time.sleep(5)\n",
        "\n",
        "root3 = shadow_root2.find_element(By.CSS_SELECTOR, \"arcgis-download-list-card-ui\")\n",
        "shadow_root3 = expand_shadow_element(root3)\n",
        "time.sleep(5)\n",
        "\n",
        "root4 = shadow_root2.find_element(By.CSS_SELECTOR, 'arcgis-download-features-button')\n",
        "shadow_root4 = expand_shadow_element(root4)\n",
        "time.sleep(5)\n",
        "\n",
        "root5 = shadow_root4.find_element(By.CSS_SELECTOR, 'calcite-button')\n",
        "shadow_root5 = expand_shadow_element(root5)\n",
        "time.sleep(5)\n",
        "\n",
        "csv_download = shadow_root5.find_element(By.CSS_SELECTOR, \".button-padding--shrunk.content--slotted.icon-end-empty\")\n",
        "driver.execute_script(\"arguments[0].scrollIntoView();\", csv_download)\n",
        "driver.execute_script(\"arguments[0].click();\", csv_download)\n",
        "time.sleep(20)"
      ]
    },
    {
      "cell_type": "code",
      "execution_count": 39,
      "metadata": {
        "id": "4CThUuCaYJXX"
      },
      "outputs": [],
      "source": [
        "# Obtener lista de archivos en el directorio\n",
        "archivos = os.listdir('/content')\n",
        "\n",
        "# Variable para verificar si el archivo ha aparecido\n",
        "archivo_aparecido = False\n",
        "\n",
        "# Tiempo máximo de espera en segundos\n",
        "tiempo_maximo_espera = 300  # Por ejemplo, 5 minutos\n",
        "\n",
        "# Tiempo de espera entre verificaciones en segundos\n",
        "intervalo_verificacion = 10\n",
        "\n",
        "tiempo_transcurrido = 0\n",
        "\n",
        "while not archivo_aparecido and tiempo_transcurrido < tiempo_maximo_espera:\n",
        "    if any(archivo.endswith('.csv') and archivo.startswith('AccidentalidadAnalisis') for archivo in archivos):\n",
        "        archivo_aparecido = True\n",
        "    else:\n",
        "        tiempo_transcurrido += intervalo_verificacion\n",
        "        time.sleep(intervalo_verificacion)\n",
        "\n",
        "if archivo_aparecido:\n",
        "  # Iterar sobre los archivos\n",
        "  for archivo in archivos:\n",
        "      # Verificar si el nombre del archivo comienza con 'AccidentalidadAnalisis' y termina con '.csv'\n",
        "      if archivo.startswith('AccidentalidadAnalisis') and archivo.endswith('.csv'):\n",
        "          # Ruta completa del archivo original\n",
        "          OriginalVehiculo = '/content/' + archivo\n",
        "\n",
        "          # Nuevo nombre del archivo (eliminando los números al final)\n",
        "          nuevo_nombre = 'Vehiculo.csv'\n",
        "\n",
        "          # Nueva ruta con el nombre modificado\n",
        "          NuevaVehiculo = '/content/' + nuevo_nombre\n",
        "\n",
        "          # Cambiar el nombre del archivo\n",
        "          os.rename(OriginalVehiculo, NuevaVehiculo)\n",
        "else:\n",
        "    print(\"El archivo no ha aparecido en la carpeta dentro del tiempo de espera.\")"
      ]
    },
    {
      "cell_type": "markdown",
      "metadata": {
        "id": "exd8stjlYJhe"
      },
      "source": [
        "### 2.5 Causa"
      ]
    },
    {
      "cell_type": "code",
      "execution_count": 40,
      "metadata": {
        "id": "854m4wuvYPww"
      },
      "outputs": [],
      "source": [
        "# Navego en la página web\n",
        "driver.get('https://datos.movilidadbogota.gov.co/datasets/movilidadbogota::causa/about')\n",
        "time.sleep(7)\n",
        "\n",
        "download = WebDriverWait(driver, 20).until(\n",
        "          EC.element_to_be_clickable((By.XPATH,\n",
        "                                      '/html[1]/body[1]/div[7]/div[2]/div[1]/div[1]/div[3]/div[1]/div[1]/div[4]/div[2]/button[1]')))\n",
        "download.click()\n",
        "\n",
        "root1 = driver.find_element(By.CSS_SELECTOR, \"arcgis-download-list\")\n",
        "shadow_root1 = expand_shadow_element(root1)\n",
        "time.sleep(5)\n",
        "\n",
        "root2 = shadow_root1.find_element(By.CSS_SELECTOR, \"arcgis-download-list-card.list-card\")\n",
        "shadow_root2 = expand_shadow_element(root2)\n",
        "time.sleep(5)\n",
        "\n",
        "root3 = shadow_root2.find_element(By.CSS_SELECTOR, \"arcgis-download-list-card-ui\")\n",
        "shadow_root3 = expand_shadow_element(root3)\n",
        "time.sleep(5)\n",
        "\n",
        "root4 = shadow_root2.find_element(By.CSS_SELECTOR, 'arcgis-download-features-button')\n",
        "shadow_root4 = expand_shadow_element(root4)\n",
        "time.sleep(5)\n",
        "\n",
        "root5 = shadow_root4.find_element(By.CSS_SELECTOR, 'calcite-button')\n",
        "shadow_root5 = expand_shadow_element(root5)\n",
        "time.sleep(5)\n",
        "\n",
        "csv_download = shadow_root5.find_element(By.CSS_SELECTOR, \".button-padding--shrunk.content--slotted.icon-end-empty\")\n",
        "driver.execute_script(\"arguments[0].scrollIntoView();\", csv_download)\n",
        "driver.execute_script(\"arguments[0].click();\", csv_download)\n",
        "time.sleep(20)"
      ]
    },
    {
      "cell_type": "code",
      "execution_count": 42,
      "metadata": {
        "id": "JOFDjeJqYQDV"
      },
      "outputs": [],
      "source": [
        "# Obtener lista de archivos en el directorio\n",
        "archivos = os.listdir('/content')\n",
        "\n",
        "# Variable para verificar si el archivo ha aparecido\n",
        "archivo_aparecido = False\n",
        "\n",
        "# Tiempo máximo de espera en segundos\n",
        "tiempo_maximo_espera = 300  # Por ejemplo, 5 minutos\n",
        "\n",
        "# Tiempo de espera entre verificaciones en segundos\n",
        "intervalo_verificacion = 10\n",
        "\n",
        "tiempo_transcurrido = 0\n",
        "\n",
        "while not archivo_aparecido and tiempo_transcurrido < tiempo_maximo_espera:\n",
        "    if any(archivo.endswith('.csv') and archivo.startswith('AccidentalidadAnalisis') for archivo in archivos):\n",
        "        archivo_aparecido = True\n",
        "    else:\n",
        "        tiempo_transcurrido += intervalo_verificacion\n",
        "        time.sleep(intervalo_verificacion)\n",
        "\n",
        "if archivo_aparecido:\n",
        "  # Iterar sobre los archivos\n",
        "  for archivo in archivos:\n",
        "      # Verificar si el nombre del archivo comienza con 'AccidentalidadAnalisis' y termina con '.csv'\n",
        "      if archivo.startswith('AccidentalidadAnalisis') and archivo.endswith('.csv'):\n",
        "          # Ruta completa del archivo original\n",
        "          OriginalCausa = '/content/' + archivo\n",
        "\n",
        "          # Nuevo nombre del archivo (eliminando los números al final)\n",
        "          nuevo_nombre = 'Causa.csv'\n",
        "\n",
        "          # Nueva ruta con el nombre modificado\n",
        "          NuevaCausa = '/content/' + nuevo_nombre\n",
        "\n",
        "          # Cambiar el nombre del archivo\n",
        "          os.rename(OriginalCausa, NuevaCausa)\n",
        "else:\n",
        "    print(\"El archivo no ha aparecido en la carpeta dentro del tiempo de espera.\")"
      ]
    },
    {
      "cell_type": "code",
      "execution_count": null,
      "metadata": {
        "id": "_RIAuWBcJnLq"
      },
      "outputs": [],
      "source": [
        "# Detiene el temporizador de extracción\n",
        "extraction_end_time = time.time()"
      ]
    },
    {
      "cell_type": "code",
      "execution_count": null,
      "metadata": {
        "id": "M-xCJnVcJsX5",
        "colab": {
          "base_uri": "https://localhost:8080/"
        },
        "outputId": "7ee7200a-ea89-4718-fba8-d674cb49d64a"
      },
      "outputs": [
        {
          "output_type": "stream",
          "name": "stdout",
          "text": [
            "Tiempo de extracción: 198.87 segundos\n"
          ]
        }
      ],
      "source": [
        "# Calcula el tiempo de extracción\n",
        "extraction_time = extraction_end_time - extraction_start_time\n",
        "print(f'Tiempo de extracción: {extraction_time:.2f} segundos')"
      ]
    },
    {
      "cell_type": "markdown",
      "metadata": {
        "id": "X4i9Iw7doF5z"
      },
      "source": [
        "## 3. Transformación <a id=\"transformacion\"></a>"
      ]
    },
    {
      "cell_type": "code",
      "execution_count": null,
      "metadata": {
        "id": "9AGgt5I8Juoj"
      },
      "outputs": [],
      "source": [
        "# Inicia el temporizador de transformación\n",
        "transformation_start_time = time.time()"
      ]
    },
    {
      "cell_type": "code",
      "execution_count": null,
      "metadata": {
        "id": "0SNYuNfi32iT"
      },
      "outputs": [],
      "source": [
        "import pandas as pd\n",
        "import numpy as np\n",
        "import datetime"
      ]
    },
    {
      "cell_type": "markdown",
      "metadata": {
        "id": "nojAOwqbagXs"
      },
      "source": [
        "### 3.1 Creación tabla Geometrica A"
      ]
    },
    {
      "cell_type": "code",
      "execution_count": null,
      "metadata": {
        "id": "bSD4fGeCagX5",
        "colab": {
          "base_uri": "https://localhost:8080/"
        },
        "outputId": "3eaf0cf1-009c-422a-b608-8d0003adbc4c"
      },
      "outputs": [
        {
          "output_type": "stream",
          "name": "stderr",
          "text": [
            "<ipython-input-24-0d072ac0676e>:2: DtypeWarning: Columns (17) have mixed types. Specify dtype option on import or set low_memory=False.\n",
            "  Geometrica_A = pd.read_csv('/content/Via.csv')\n"
          ]
        }
      ],
      "source": [
        "# 1. Crear la tabla de Geometrica_A con los campos necesarios\n",
        "Geometrica_A = pd.read_csv('/content/Via.csv')\n",
        "Geometrica_A = Geometrica_A[['GEOMETRICA_A']]"
      ]
    },
    {
      "cell_type": "code",
      "execution_count": null,
      "metadata": {
        "id": "n6CPT4oFagX6",
        "colab": {
          "base_uri": "https://localhost:8080/"
        },
        "outputId": "b345334c-7815-4734-fdac-c114604c1c5a"
      },
      "outputs": [
        {
          "output_type": "stream",
          "name": "stdout",
          "text": [
            "El DataFrame está compuesto por 483,952 filas y 1 columnas\n"
          ]
        }
      ],
      "source": [
        "# 2. Revisión de la Estructura del Dataset\n",
        "print('El DataFrame está compuesto por {:,}'.format(Geometrica_A.shape[0]),'filas y',Geometrica_A.shape[1],'columnas')"
      ]
    },
    {
      "cell_type": "code",
      "execution_count": null,
      "metadata": {
        "id": "BpYSxxAKagX6"
      },
      "outputs": [],
      "source": [
        "# 3. Eliminamos los duplicados\n",
        "Geometrica_A = Geometrica_A.drop_duplicates()"
      ]
    },
    {
      "cell_type": "code",
      "execution_count": null,
      "metadata": {
        "id": "nTAWEhALagX6"
      },
      "outputs": [],
      "source": [
        "# 4. Eliminamos los valores vacíos\n",
        "Geometrica_A = Geometrica_A.dropna()"
      ]
    },
    {
      "cell_type": "code",
      "execution_count": null,
      "metadata": {
        "id": "Db0H3fvfagX7",
        "colab": {
          "base_uri": "https://localhost:8080/"
        },
        "outputId": "f865fe15-7ecd-41fa-9372-907554d3f023"
      },
      "outputs": [
        {
          "output_type": "stream",
          "name": "stdout",
          "text": [
            "El DataFrame está compuesto por 2 filas y 1 columnas\n"
          ]
        }
      ],
      "source": [
        "# 5. Reseteamos el índice y confimamos la Estructura del Dataset\n",
        "Geometrica_A = Geometrica_A.reset_index(drop=True)\n",
        "print('El DataFrame está compuesto por {:,}'.format(Geometrica_A.shape[0]),'filas y',Geometrica_A.shape[1],'columnas')"
      ]
    },
    {
      "cell_type": "code",
      "execution_count": null,
      "metadata": {
        "id": "Br4aS9aXagX7"
      },
      "outputs": [],
      "source": [
        "#6. Creamos codigo de geometrica A\n",
        "Geometrica_A['COD_GEOMETRICA_A']=Geometrica_A.index+1"
      ]
    },
    {
      "cell_type": "code",
      "execution_count": null,
      "metadata": {
        "id": "Pm5TnjToagX7",
        "colab": {
          "base_uri": "https://localhost:8080/"
        },
        "outputId": "fd88c219-7acd-46c8-e7c8-64515ff3a4c8"
      },
      "outputs": [
        {
          "output_type": "stream",
          "name": "stdout",
          "text": [
            "  GEOMETRICA_A  COD_GEOMETRICA_A\n",
            "0        RECTA                 1\n",
            "1        CURVA                 2\n"
          ]
        }
      ],
      "source": [
        "print(Geometrica_A.head())"
      ]
    },
    {
      "cell_type": "code",
      "execution_count": null,
      "metadata": {
        "id": "szMtcZZragX7"
      },
      "outputs": [],
      "source": [
        "Geometrica_A[\"COD_GEOMETRICA_A\"] = pd.to_numeric(Geometrica_A[\"COD_GEOMETRICA_A\"] , downcast=\"integer\", errors=\"coerce\")\n",
        "Geometrica_A[\"COD_GEOMETRICA_A\"] = Geometrica_A[\"COD_GEOMETRICA_A\"].astype(int)"
      ]
    },
    {
      "cell_type": "code",
      "execution_count": null,
      "metadata": {
        "id": "zALJW9ChagX7",
        "colab": {
          "base_uri": "https://localhost:8080/"
        },
        "outputId": "0c523bcd-58b3-4563-94fe-a7a4f393e17e"
      },
      "outputs": [
        {
          "output_type": "stream",
          "name": "stdout",
          "text": [
            "Las variables almacenan la información en el siguiente formato: GEOMETRICA_A        object\n",
            "COD_GEOMETRICA_A     int64\n",
            "dtype: object\n"
          ]
        }
      ],
      "source": [
        "print('Las variables almacenan la información en el siguiente formato:', Geometrica_A.dtypes)"
      ]
    },
    {
      "cell_type": "markdown",
      "metadata": {
        "id": "mkSovB85bi4B"
      },
      "source": [
        "### 3.2 Creación tabla Geometrica B"
      ]
    },
    {
      "cell_type": "code",
      "execution_count": null,
      "metadata": {
        "id": "YMjaq3hpbi4e",
        "colab": {
          "base_uri": "https://localhost:8080/"
        },
        "outputId": "517e0c2c-6e11-43db-8f9e-b942ab88c989"
      },
      "outputs": [
        {
          "output_type": "stream",
          "name": "stderr",
          "text": [
            "<ipython-input-33-74611000e084>:2: DtypeWarning: Columns (17) have mixed types. Specify dtype option on import or set low_memory=False.\n",
            "  Geometrica_B = pd.read_csv('/content/Via.csv')\n"
          ]
        }
      ],
      "source": [
        "# 1. Crear la tabla de Geometrica_B con los campos necesarios\n",
        "Geometrica_B = pd.read_csv('/content/Via.csv')\n",
        "Geometrica_B = Geometrica_B[['GEOMETRICA_B']]"
      ]
    },
    {
      "cell_type": "code",
      "execution_count": null,
      "metadata": {
        "id": "c2q5Srpubi4f",
        "colab": {
          "base_uri": "https://localhost:8080/"
        },
        "outputId": "966c1e66-6f21-4ea3-b0be-26c5f0d6923e"
      },
      "outputs": [
        {
          "output_type": "stream",
          "name": "stdout",
          "text": [
            "El DataFrame está compuesto por 483,952 filas y 1 columnas\n"
          ]
        }
      ],
      "source": [
        "# 2. Revisión de la Estructura del Dataset\n",
        "print('El DataFrame está compuesto por {:,}'.format(Geometrica_B.shape[0]),'filas y',Geometrica_B.shape[1],'columnas')"
      ]
    },
    {
      "cell_type": "code",
      "execution_count": null,
      "metadata": {
        "id": "nBXnucBfbi4f"
      },
      "outputs": [],
      "source": [
        "# 3. Eliminamos los duplicados\n",
        "Geometrica_B = Geometrica_B.drop_duplicates()"
      ]
    },
    {
      "cell_type": "code",
      "execution_count": null,
      "metadata": {
        "id": "qg2Gc5nObi4g"
      },
      "outputs": [],
      "source": [
        "# 4. Eliminamos los valores vacíos\n",
        "Geometrica_B = Geometrica_B.dropna()"
      ]
    },
    {
      "cell_type": "code",
      "execution_count": null,
      "metadata": {
        "id": "JTKqwm-4bi4g",
        "colab": {
          "base_uri": "https://localhost:8080/"
        },
        "outputId": "23efbad1-224c-4c3e-d2f7-bb5cb842517a"
      },
      "outputs": [
        {
          "output_type": "stream",
          "name": "stdout",
          "text": [
            "El DataFrame está compuesto por 2 filas y 1 columnas\n"
          ]
        }
      ],
      "source": [
        "# 5. Reseteamos el ínidce y confimamos  de la Estructura del Dataset\n",
        "Geometrica_B = Geometrica_B.reset_index(drop=True)\n",
        "print('El DataFrame está compuesto por {:,}'.format(Geometrica_B.shape[0]),'filas y',Geometrica_B.shape[1],'columnas')"
      ]
    },
    {
      "cell_type": "code",
      "execution_count": null,
      "metadata": {
        "id": "vtJkkHGtbi4g"
      },
      "outputs": [],
      "source": [
        "#6. Creamos codigo de geometrica B\n",
        "Geometrica_B['COD_GEOMETRICA_B']=Geometrica_B.index+1"
      ]
    },
    {
      "cell_type": "code",
      "execution_count": null,
      "metadata": {
        "id": "Dfcj-qEfbi4g",
        "colab": {
          "base_uri": "https://localhost:8080/"
        },
        "outputId": "9ba6a954-6a8a-4e25-979c-cc7ff1778195"
      },
      "outputs": [
        {
          "output_type": "stream",
          "name": "stdout",
          "text": [
            "  GEOMETRICA_B  COD_GEOMETRICA_B\n",
            "0        PLANO                 1\n",
            "1    PENDIENTE                 2\n"
          ]
        }
      ],
      "source": [
        "print(Geometrica_B.head())"
      ]
    },
    {
      "cell_type": "code",
      "execution_count": null,
      "metadata": {
        "id": "Iq9fpNsLbi4g"
      },
      "outputs": [],
      "source": [
        "Geometrica_B[\"COD_GEOMETRICA_B\"] = pd.to_numeric(Geometrica_B[\"COD_GEOMETRICA_B\"] , downcast=\"integer\", errors=\"coerce\")\n",
        "Geometrica_B[\"COD_GEOMETRICA_B\"] = Geometrica_B[\"COD_GEOMETRICA_B\"].astype(int)"
      ]
    },
    {
      "cell_type": "code",
      "execution_count": null,
      "metadata": {
        "id": "kd862kMCbi4h",
        "colab": {
          "base_uri": "https://localhost:8080/"
        },
        "outputId": "a11cddd9-2171-484e-ae24-9e2da9cff1dc"
      },
      "outputs": [
        {
          "output_type": "stream",
          "name": "stdout",
          "text": [
            "Las variables almacenan la información en el siguiente formato: GEOMETRICA_B        object\n",
            "COD_GEOMETRICA_B     int64\n",
            "dtype: object\n"
          ]
        }
      ],
      "source": [
        "print('Las variables almacenan la información en el siguiente formato:', Geometrica_B.dtypes)"
      ]
    },
    {
      "cell_type": "markdown",
      "metadata": {
        "id": "vuBv1OjucYzO"
      },
      "source": [
        "### 3.3 Creación tabla Geometrica C"
      ]
    },
    {
      "cell_type": "code",
      "execution_count": null,
      "metadata": {
        "id": "ZxZfh54OcYzP",
        "colab": {
          "base_uri": "https://localhost:8080/"
        },
        "outputId": "49d002b5-7acc-4251-8476-24ef0bb4eb9b"
      },
      "outputs": [
        {
          "output_type": "stream",
          "name": "stderr",
          "text": [
            "<ipython-input-42-43fbe1886a20>:2: DtypeWarning: Columns (17) have mixed types. Specify dtype option on import or set low_memory=False.\n",
            "  Geometrica_C = pd.read_csv('/content/Via.csv')\n"
          ]
        }
      ],
      "source": [
        "# 1. Crear la tabla de Geometrica_C con los campos necesarios\n",
        "Geometrica_C = pd.read_csv('/content/Via.csv')\n",
        "Geometrica_C = Geometrica_C[['GEOMETRICA_C']]"
      ]
    },
    {
      "cell_type": "code",
      "execution_count": null,
      "metadata": {
        "id": "05TqMJ2-cYzP",
        "colab": {
          "base_uri": "https://localhost:8080/"
        },
        "outputId": "256a8858-680a-4993-c6b5-e8a63056cbcd"
      },
      "outputs": [
        {
          "output_type": "stream",
          "name": "stdout",
          "text": [
            "El DataFrame está compuesto por 483,952 filas y 1 columnas\n"
          ]
        }
      ],
      "source": [
        "# 2. Revisión de la Estructura del Dataset\n",
        "print('El DataFrame está compuesto por {:,}'.format(Geometrica_C.shape[0]),'filas y',Geometrica_C.shape[1],'columnas')"
      ]
    },
    {
      "cell_type": "code",
      "execution_count": null,
      "metadata": {
        "id": "FyGBFNzzcYzP"
      },
      "outputs": [],
      "source": [
        "# 3. Eliminamos los duplicados\n",
        "Geometrica_C = Geometrica_C.drop_duplicates()"
      ]
    },
    {
      "cell_type": "code",
      "execution_count": null,
      "metadata": {
        "id": "P9x9Y95ucYzQ"
      },
      "outputs": [],
      "source": [
        "# 4. Eliminamos los valores vacíos\n",
        "Geometrica_C = Geometrica_C.dropna()"
      ]
    },
    {
      "cell_type": "code",
      "execution_count": null,
      "metadata": {
        "id": "LSKi2GemcYzQ",
        "colab": {
          "base_uri": "https://localhost:8080/"
        },
        "outputId": "5a568684-189a-4aaa-afc1-8afb701fe2f0"
      },
      "outputs": [
        {
          "output_type": "stream",
          "name": "stdout",
          "text": [
            "El DataFrame está compuesto por 3 filas y 1 columnas\n"
          ]
        }
      ],
      "source": [
        "# 5. Reseteamos el ínidce y confimamos  de la Estructura del Dataset\n",
        "Geometrica_C = Geometrica_C.reset_index(drop=True)\n",
        "print('El DataFrame está compuesto por {:,}'.format(Geometrica_C.shape[0]),'filas y',Geometrica_C.shape[1],'columnas')"
      ]
    },
    {
      "cell_type": "code",
      "execution_count": null,
      "metadata": {
        "id": "TQ2u_CdtcYzQ"
      },
      "outputs": [],
      "source": [
        "#6. Creamos codigo de geometrica c\n",
        "Geometrica_C['COD_GEOMETRICA_C']=Geometrica_C.index+1"
      ]
    },
    {
      "cell_type": "code",
      "execution_count": null,
      "metadata": {
        "id": "Z3ZrY7kZcYzQ",
        "colab": {
          "base_uri": "https://localhost:8080/"
        },
        "outputId": "be1db590-b13a-4448-f84a-c9a2eb8d03ec"
      },
      "outputs": [
        {
          "output_type": "stream",
          "name": "stdout",
          "text": [
            "    GEOMETRICA_C  COD_GEOMETRICA_C\n",
            "0      CON ANDEN                 1\n",
            "1     CON BERMAS                 2\n",
            "2  BAHIA DE EST.                 3\n"
          ]
        }
      ],
      "source": [
        "print(Geometrica_C.head())"
      ]
    },
    {
      "cell_type": "code",
      "execution_count": null,
      "metadata": {
        "id": "7QU2cnJdcYzQ"
      },
      "outputs": [],
      "source": [
        "Geometrica_C[\"COD_GEOMETRICA_C\"] = pd.to_numeric(Geometrica_C[\"COD_GEOMETRICA_C\"] , downcast=\"integer\", errors=\"coerce\")\n",
        "Geometrica_C[\"COD_GEOMETRICA_C\"] = Geometrica_C[\"COD_GEOMETRICA_C\"].astype(int)"
      ]
    },
    {
      "cell_type": "code",
      "execution_count": null,
      "metadata": {
        "id": "O1H35FdlcYzR",
        "colab": {
          "base_uri": "https://localhost:8080/"
        },
        "outputId": "ec1f4c4c-bf64-4c10-8dc2-a41ff9e67a72"
      },
      "outputs": [
        {
          "output_type": "stream",
          "name": "stdout",
          "text": [
            "Las variables almacenan la información en el siguiente formato: GEOMETRICA_C        object\n",
            "COD_GEOMETRICA_C     int64\n",
            "dtype: object\n"
          ]
        }
      ],
      "source": [
        "print('Las variables almacenan la información en el siguiente formato:', Geometrica_C.dtypes)"
      ]
    },
    {
      "cell_type": "markdown",
      "metadata": {
        "id": "kmC6tm1mdbd8"
      },
      "source": [
        "### 3.4 Creación tabla Utilizacion"
      ]
    },
    {
      "cell_type": "code",
      "execution_count": null,
      "metadata": {
        "id": "4RNGpOlbdbeJ",
        "colab": {
          "base_uri": "https://localhost:8080/"
        },
        "outputId": "dee413ca-8e9e-4b24-cb22-3d6375613425"
      },
      "outputs": [
        {
          "output_type": "stream",
          "name": "stderr",
          "text": [
            "<ipython-input-51-d878a33e2166>:2: DtypeWarning: Columns (17) have mixed types. Specify dtype option on import or set low_memory=False.\n",
            "  Utilizacion = pd.read_csv('/content/Via.csv')\n"
          ]
        }
      ],
      "source": [
        "# 1. Crear la tabla de Utilizacion con los campos necesarios\n",
        "Utilizacion = pd.read_csv('/content/Via.csv')\n",
        "Utilizacion = Utilizacion[['UTILIZACION']]"
      ]
    },
    {
      "cell_type": "code",
      "execution_count": null,
      "metadata": {
        "id": "O9voU8nHdbeK",
        "colab": {
          "base_uri": "https://localhost:8080/"
        },
        "outputId": "5c3aae64-c750-4d55-829f-f078106a0434"
      },
      "outputs": [
        {
          "output_type": "stream",
          "name": "stdout",
          "text": [
            "El DataFrame está compuesto por 483,952 filas y 1 columnas\n"
          ]
        }
      ],
      "source": [
        "# 2. Revisión de la Estructura del Dataset\n",
        "print('El DataFrame está compuesto por {:,}'.format(Utilizacion.shape[0]),'filas y',Utilizacion.shape[1],'columnas')"
      ]
    },
    {
      "cell_type": "code",
      "execution_count": null,
      "metadata": {
        "id": "5NzzGqkRdbeK"
      },
      "outputs": [],
      "source": [
        "# 3. Eliminamos los duplicados\n",
        "Utilizacion = Utilizacion.drop_duplicates()"
      ]
    },
    {
      "cell_type": "code",
      "execution_count": null,
      "metadata": {
        "id": "Yi0cNTfgdbeK"
      },
      "outputs": [],
      "source": [
        "# 4. Eliminamos los valores vacíos\n",
        "Utilizacion = Utilizacion.dropna()"
      ]
    },
    {
      "cell_type": "code",
      "execution_count": null,
      "metadata": {
        "id": "JHaGTKSFdbeK",
        "colab": {
          "base_uri": "https://localhost:8080/"
        },
        "outputId": "1c110dc3-57bf-41d3-89aa-2788eeab01d2"
      },
      "outputs": [
        {
          "output_type": "stream",
          "name": "stdout",
          "text": [
            "El DataFrame está compuesto por 5 filas y 1 columnas\n"
          ]
        }
      ],
      "source": [
        "# 5. Reseteamos el ínidce y confimamos  de la Estructura del Dataset\n",
        "Utilizacion = Utilizacion.reset_index(drop=True)\n",
        "print('El DataFrame está compuesto por {:,}'.format(Utilizacion.shape[0]),'filas y',Utilizacion.shape[1],'columnas')"
      ]
    },
    {
      "cell_type": "code",
      "execution_count": null,
      "metadata": {
        "id": "ocL6oYovdbeL"
      },
      "outputs": [],
      "source": [
        "#6. Creamos codigo de utilizacion\n",
        "Utilizacion['COD_UTILIZACION']=Utilizacion.index+1"
      ]
    },
    {
      "cell_type": "code",
      "execution_count": null,
      "metadata": {
        "id": "rBd-1q6ndbeL",
        "colab": {
          "base_uri": "https://localhost:8080/"
        },
        "outputId": "8b8e668e-754d-49c9-bc14-a8e21dd9c9fa"
      },
      "outputs": [
        {
          "output_type": "stream",
          "name": "stdout",
          "text": [
            "     UTILIZACION  COD_UTILIZACION\n",
            "0  DOBLE SENTIDO                1\n",
            "1     UN SENTIDO                2\n",
            "2     REVERSIBLE                3\n",
            "3    CONTRAFLUJO                4\n",
            "4       CICLOVIA                5\n"
          ]
        }
      ],
      "source": [
        "print(Utilizacion.head())"
      ]
    },
    {
      "cell_type": "code",
      "execution_count": null,
      "metadata": {
        "id": "qhehUPOwdbeL"
      },
      "outputs": [],
      "source": [
        "Utilizacion[\"COD_UTILIZACION\"] = pd.to_numeric(Utilizacion[\"COD_UTILIZACION\"] , downcast=\"integer\", errors=\"coerce\")\n",
        "Utilizacion[\"COD_UTILIZACION\"] = Utilizacion[\"COD_UTILIZACION\"].astype(int)"
      ]
    },
    {
      "cell_type": "code",
      "execution_count": null,
      "metadata": {
        "id": "cv12tlcLdbeL",
        "colab": {
          "base_uri": "https://localhost:8080/"
        },
        "outputId": "1722d5f0-e492-4cdc-d185-4dd757fdc047"
      },
      "outputs": [
        {
          "output_type": "stream",
          "name": "stdout",
          "text": [
            "Las variables almacenan la información en el siguiente formato: UTILIZACION        object\n",
            "COD_UTILIZACION     int64\n",
            "dtype: object\n"
          ]
        }
      ],
      "source": [
        "print('Las variables almacenan la información en el siguiente formato:', Utilizacion.dtypes)"
      ]
    },
    {
      "cell_type": "markdown",
      "metadata": {
        "id": "FM_3K4OXdh2t"
      },
      "source": [
        "### 3.5 Creación tabla Calzadas"
      ]
    },
    {
      "cell_type": "code",
      "execution_count": null,
      "metadata": {
        "id": "6AN-rkDRdh3M",
        "colab": {
          "base_uri": "https://localhost:8080/"
        },
        "outputId": "ed02964d-f1ee-42dc-e397-6260676d1914"
      },
      "outputs": [
        {
          "output_type": "stream",
          "name": "stderr",
          "text": [
            "<ipython-input-60-6fda5a08eb29>:2: DtypeWarning: Columns (17) have mixed types. Specify dtype option on import or set low_memory=False.\n",
            "  Calzadas = pd.read_csv('/content/Via.csv')\n"
          ]
        }
      ],
      "source": [
        "# 1. Crear la tabla de Calzadas con los campos necesarios\n",
        "Calzadas = pd.read_csv('/content/Via.csv')\n",
        "Calzadas = Calzadas[['CALZADAS']]"
      ]
    },
    {
      "cell_type": "code",
      "execution_count": null,
      "metadata": {
        "id": "Yyed4gcodh3M",
        "colab": {
          "base_uri": "https://localhost:8080/"
        },
        "outputId": "847a52f4-156b-4fd2-ddeb-3289f09efc14"
      },
      "outputs": [
        {
          "output_type": "stream",
          "name": "stdout",
          "text": [
            "El DataFrame está compuesto por 483,952 filas y 1 columnas\n"
          ]
        }
      ],
      "source": [
        "# 2. Revisión de la Estructura del Dataset\n",
        "print('El DataFrame está compuesto por {:,}'.format(Calzadas.shape[0]),'filas y',Calzadas.shape[1],'columnas')"
      ]
    },
    {
      "cell_type": "code",
      "execution_count": null,
      "metadata": {
        "id": "eLxNenkIdh3N"
      },
      "outputs": [],
      "source": [
        "# 3. Eliminamos los duplicados\n",
        "Calzadas = Calzadas.drop_duplicates()"
      ]
    },
    {
      "cell_type": "code",
      "execution_count": null,
      "metadata": {
        "id": "U1QTG8fgdh3N"
      },
      "outputs": [],
      "source": [
        "# 4. Eliminamos los valores vacíos\n",
        "Calzadas = Calzadas.dropna()"
      ]
    },
    {
      "cell_type": "code",
      "execution_count": null,
      "metadata": {
        "id": "aJUCYhvGdh3N",
        "colab": {
          "base_uri": "https://localhost:8080/"
        },
        "outputId": "ab4bf176-5b54-4ba9-de1c-95e740a8e996"
      },
      "outputs": [
        {
          "output_type": "stream",
          "name": "stdout",
          "text": [
            "El DataFrame está compuesto por 5 filas y 1 columnas\n"
          ]
        }
      ],
      "source": [
        "# 5. Reseteamos el ínidce y confimamos  de la Estructura del Dataset\n",
        "Calzadas = Calzadas.reset_index(drop=True)\n",
        "print('El DataFrame está compuesto por {:,}'.format(Calzadas.shape[0]),'filas y',Calzadas.shape[1],'columnas')"
      ]
    },
    {
      "cell_type": "code",
      "execution_count": null,
      "metadata": {
        "id": "MDXEqPeYdh3N"
      },
      "outputs": [],
      "source": [
        "#6. Creamos codigo de calzadas\n",
        "Calzadas['COD_CALZADAS']=Calzadas.index+1"
      ]
    },
    {
      "cell_type": "code",
      "execution_count": null,
      "metadata": {
        "id": "u_YtGKAEdh3N",
        "colab": {
          "base_uri": "https://localhost:8080/"
        },
        "outputId": "cf8267b4-bc63-4b90-e400-08ceffa7f670"
      },
      "outputs": [
        {
          "output_type": "stream",
          "name": "stdout",
          "text": [
            "       CALZADAS  COD_CALZADAS\n",
            "0           UNA             1\n",
            "1    TRES O MAS             2\n",
            "2           DOS             3\n",
            "3      VARIABLE             4\n",
            "4  CUATRO O MAS             5\n"
          ]
        }
      ],
      "source": [
        "print(Calzadas.head())"
      ]
    },
    {
      "cell_type": "code",
      "execution_count": null,
      "metadata": {
        "id": "nBJQgF_Zdh3O"
      },
      "outputs": [],
      "source": [
        "Calzadas[\"COD_CALZADAS\"] = pd.to_numeric(Calzadas[\"COD_CALZADAS\"] , downcast=\"integer\", errors=\"coerce\")\n",
        "Calzadas[\"COD_CALZADAS\"] = Calzadas[\"COD_CALZADAS\"].astype(int)"
      ]
    },
    {
      "cell_type": "code",
      "execution_count": null,
      "metadata": {
        "id": "k6hjNEAIdh3O",
        "colab": {
          "base_uri": "https://localhost:8080/"
        },
        "outputId": "3a5d7bc5-d83a-4741-c916-3e8f0805f745"
      },
      "outputs": [
        {
          "output_type": "stream",
          "name": "stdout",
          "text": [
            "Las variables almacenan la información en el siguiente formato: CALZADAS        object\n",
            "COD_CALZADAS     int64\n",
            "dtype: object\n"
          ]
        }
      ],
      "source": [
        "print('Las variables almacenan la información en el siguiente formato:', Calzadas.dtypes)"
      ]
    },
    {
      "cell_type": "markdown",
      "metadata": {
        "id": "kaW6QhtIdm6B"
      },
      "source": [
        "### 3.6 Creación tabla Carriles"
      ]
    },
    {
      "cell_type": "code",
      "execution_count": null,
      "metadata": {
        "id": "riri9bkhdm6C",
        "colab": {
          "base_uri": "https://localhost:8080/"
        },
        "outputId": "5ee84047-0bc7-419a-baa1-d7fb0e7c6fd9"
      },
      "outputs": [
        {
          "output_type": "stream",
          "name": "stderr",
          "text": [
            "<ipython-input-69-34e4608b8eb9>:2: DtypeWarning: Columns (17) have mixed types. Specify dtype option on import or set low_memory=False.\n",
            "  Carriles = pd.read_csv('/content/Via.csv')\n"
          ]
        }
      ],
      "source": [
        "# 1. Crear la tabla de Carriles con los campos necesarios\n",
        "Carriles = pd.read_csv('/content/Via.csv')\n",
        "Carriles = Carriles[['CARRILES']]"
      ]
    },
    {
      "cell_type": "code",
      "execution_count": null,
      "metadata": {
        "id": "YnbtAnYldm6C",
        "colab": {
          "base_uri": "https://localhost:8080/"
        },
        "outputId": "41196b52-c8f9-4b3e-859a-910fbb8d1eca"
      },
      "outputs": [
        {
          "output_type": "stream",
          "name": "stdout",
          "text": [
            "El DataFrame está compuesto por 483,952 filas y 1 columnas\n"
          ]
        }
      ],
      "source": [
        "# 2. Revisión de la Estructura del Dataset\n",
        "print('El DataFrame está compuesto por {:,}'.format(Carriles.shape[0]),'filas y',Carriles.shape[1],'columnas')"
      ]
    },
    {
      "cell_type": "code",
      "execution_count": null,
      "metadata": {
        "id": "wT6TDTEZdm6C"
      },
      "outputs": [],
      "source": [
        "# 3. Eliminamos los duplicados\n",
        "Carriles = Carriles.drop_duplicates()"
      ]
    },
    {
      "cell_type": "code",
      "execution_count": null,
      "metadata": {
        "id": "_vGRyZT6dm6C"
      },
      "outputs": [],
      "source": [
        "# 4. Eliminamos los valores vacíos\n",
        "Carriles = Carriles.dropna()"
      ]
    },
    {
      "cell_type": "code",
      "execution_count": null,
      "metadata": {
        "id": "eNUS_2KAdm6D",
        "colab": {
          "base_uri": "https://localhost:8080/"
        },
        "outputId": "9e57d8e3-6b11-4bfb-ad5d-33931dd8b94c"
      },
      "outputs": [
        {
          "output_type": "stream",
          "name": "stdout",
          "text": [
            "El DataFrame está compuesto por 5 filas y 1 columnas\n"
          ]
        }
      ],
      "source": [
        "# 5. Reseteamos el ínidce y confimamos  de la Estructura del Dataset\n",
        "Carriles = Carriles.reset_index(drop=True)\n",
        "print('El DataFrame está compuesto por {:,}'.format(Carriles.shape[0]),'filas y',Carriles.shape[1],'columnas')"
      ]
    },
    {
      "cell_type": "code",
      "execution_count": null,
      "metadata": {
        "id": "sqqXVa0wdm6D"
      },
      "outputs": [],
      "source": [
        "#6. Creamos codigo de carriles\n",
        "Carriles['COD_CARRILES']=Carriles.index+1"
      ]
    },
    {
      "cell_type": "code",
      "execution_count": null,
      "metadata": {
        "id": "L6p8iKkEdm6D",
        "colab": {
          "base_uri": "https://localhost:8080/"
        },
        "outputId": "c47bced9-e5d7-41ee-d99d-f881545c8b03"
      },
      "outputs": [
        {
          "output_type": "stream",
          "name": "stdout",
          "text": [
            "       CARRILES  COD_CARRILES\n",
            "0           UNO             1\n",
            "1           DOS             2\n",
            "2    TRES O MAS             3\n",
            "3      VARIABLE             4\n",
            "4  CUATRO O MAS             5\n"
          ]
        }
      ],
      "source": [
        "print(Carriles.head())"
      ]
    },
    {
      "cell_type": "code",
      "execution_count": null,
      "metadata": {
        "id": "SjbyRnBXdm6D"
      },
      "outputs": [],
      "source": [
        "Carriles[\"COD_CARRILES\"] = pd.to_numeric(Carriles[\"COD_CARRILES\"] , downcast=\"integer\", errors=\"coerce\")\n",
        "Carriles[\"COD_CARRILES\"] = Carriles[\"COD_CARRILES\"].astype(int)"
      ]
    },
    {
      "cell_type": "code",
      "execution_count": null,
      "metadata": {
        "id": "9fb7Qxcqdm6E",
        "colab": {
          "base_uri": "https://localhost:8080/"
        },
        "outputId": "0f00beac-2caa-433d-ae8f-990427df9baa"
      },
      "outputs": [
        {
          "output_type": "stream",
          "name": "stdout",
          "text": [
            "Las variables almacenan la información en el siguiente formato: CARRILES        object\n",
            "COD_CARRILES     int64\n",
            "dtype: object\n"
          ]
        }
      ],
      "source": [
        "print('Las variables almacenan la información en el siguiente formato:', Carriles.dtypes)"
      ]
    },
    {
      "cell_type": "markdown",
      "metadata": {
        "id": "e3mR9XEvdriP"
      },
      "source": [
        "### 3.7 Creación tabla Material"
      ]
    },
    {
      "cell_type": "code",
      "execution_count": null,
      "metadata": {
        "id": "2_TO8KDtdris",
        "colab": {
          "base_uri": "https://localhost:8080/"
        },
        "outputId": "92051406-f8d0-4318-bb0c-a079248f06bd"
      },
      "outputs": [
        {
          "output_type": "stream",
          "name": "stderr",
          "text": [
            "<ipython-input-78-41b78a2ec93e>:2: DtypeWarning: Columns (17) have mixed types. Specify dtype option on import or set low_memory=False.\n",
            "  Material = pd.read_csv('/content/Via.csv')\n"
          ]
        }
      ],
      "source": [
        "# 1. Crear la tabla de Material con los campos necesarios\n",
        "Material = pd.read_csv('/content/Via.csv')\n",
        "Material = Material[['MATERIAL']]"
      ]
    },
    {
      "cell_type": "code",
      "execution_count": null,
      "metadata": {
        "id": "mpEH4Lm2dris",
        "colab": {
          "base_uri": "https://localhost:8080/"
        },
        "outputId": "d20a7bd4-3bc2-4b0a-a7b1-b78a3aed31d7"
      },
      "outputs": [
        {
          "output_type": "stream",
          "name": "stdout",
          "text": [
            "El DataFrame está compuesto por 483,952 filas y 1 columnas\n"
          ]
        }
      ],
      "source": [
        "# 2. Revisión de la Estructura del Dataset\n",
        "print('El DataFrame está compuesto por {:,}'.format(Material.shape[0]),'filas y',Material.shape[1],'columnas')"
      ]
    },
    {
      "cell_type": "code",
      "execution_count": null,
      "metadata": {
        "id": "l6c4IJ4Adrit"
      },
      "outputs": [],
      "source": [
        "# 3. Eliminamos los duplicados\n",
        "Material = Material.drop_duplicates()"
      ]
    },
    {
      "cell_type": "code",
      "execution_count": null,
      "metadata": {
        "id": "dV03akSHdrit"
      },
      "outputs": [],
      "source": [
        "# 4. Eliminamos los valores vacíos\n",
        "Material = Material.dropna()"
      ]
    },
    {
      "cell_type": "code",
      "execution_count": null,
      "metadata": {
        "id": "cbAEJIccdrit",
        "colab": {
          "base_uri": "https://localhost:8080/"
        },
        "outputId": "f415c49f-b9b2-4639-9cfe-eb110bbb8ba3"
      },
      "outputs": [
        {
          "output_type": "stream",
          "name": "stdout",
          "text": [
            "El DataFrame está compuesto por 7 filas y 1 columnas\n"
          ]
        }
      ],
      "source": [
        "# 5. Reseteamos el ínidce y confimamos  de la Estructura del Dataset\n",
        "Material = Material.reset_index(drop=True)\n",
        "print('El DataFrame está compuesto por {:,}'.format(Material.shape[0]),'filas y',Material.shape[1],'columnas')"
      ]
    },
    {
      "cell_type": "code",
      "execution_count": null,
      "metadata": {
        "id": "Yh0RuRyOdrit"
      },
      "outputs": [],
      "source": [
        "#6. Creamos codigo de material\n",
        "Material['COD_MATERIAL']=Material.index+1"
      ]
    },
    {
      "cell_type": "code",
      "execution_count": null,
      "metadata": {
        "id": "e5QZY6u4driu",
        "colab": {
          "base_uri": "https://localhost:8080/"
        },
        "outputId": "0b43abb6-12f6-4da5-e393-5a22bc0227d6"
      },
      "outputs": [
        {
          "output_type": "stream",
          "name": "stdout",
          "text": [
            "    MATERIAL  COD_MATERIAL\n",
            "0   CONCRETO             1\n",
            "1    ASFALTO             2\n",
            "2   AFIRMADO             3\n",
            "3    ADOQUIN             4\n",
            "4     TIERRA             5\n",
            "5  EMPEDRADO             6\n",
            "6       OTRO             7\n"
          ]
        }
      ],
      "source": [
        "print(Material.head(7))"
      ]
    },
    {
      "cell_type": "code",
      "execution_count": null,
      "metadata": {
        "id": "AEk4COO-driu"
      },
      "outputs": [],
      "source": [
        "Material[\"COD_MATERIAL\"] = pd.to_numeric(Material[\"COD_MATERIAL\"] , downcast=\"integer\", errors=\"coerce\")\n",
        "Material[\"COD_MATERIAL\"] = Material[\"COD_MATERIAL\"].astype(int)"
      ]
    },
    {
      "cell_type": "code",
      "execution_count": null,
      "metadata": {
        "id": "ru-wWSbAdriu",
        "colab": {
          "base_uri": "https://localhost:8080/"
        },
        "outputId": "ab968dff-f9f3-47ad-c0b0-85e6550716e2"
      },
      "outputs": [
        {
          "output_type": "stream",
          "name": "stdout",
          "text": [
            "Las variables almacenan la información en el siguiente formato: MATERIAL        object\n",
            "COD_MATERIAL     int64\n",
            "dtype: object\n"
          ]
        }
      ],
      "source": [
        "print('Las variables almacenan la información en el siguiente formato:', Material.dtypes)"
      ]
    },
    {
      "cell_type": "markdown",
      "metadata": {
        "id": "1D0Br332dv-O"
      },
      "source": [
        "### 3.8 Creación tabla Estado_Via"
      ]
    },
    {
      "cell_type": "code",
      "execution_count": null,
      "metadata": {
        "id": "pZorczUbdv-P",
        "colab": {
          "base_uri": "https://localhost:8080/"
        },
        "outputId": "af875673-509b-4f43-e2d3-3e8c4dcb0d64"
      },
      "outputs": [
        {
          "output_type": "stream",
          "name": "stderr",
          "text": [
            "<ipython-input-87-c9dc7ba53665>:2: DtypeWarning: Columns (17) have mixed types. Specify dtype option on import or set low_memory=False.\n",
            "  Estado_Via = pd.read_csv('/content/Via.csv')\n"
          ]
        }
      ],
      "source": [
        "# 1. Crear la tabla de Estado con los campos necesarios\n",
        "Estado_Via = pd.read_csv('/content/Via.csv')\n",
        "Estado_Via = Estado_Via[['ESTADO']]"
      ]
    },
    {
      "cell_type": "code",
      "execution_count": null,
      "metadata": {
        "id": "TIaY16_Odv-P",
        "colab": {
          "base_uri": "https://localhost:8080/"
        },
        "outputId": "a0f79a86-e28f-4159-c390-fd0a970d903f"
      },
      "outputs": [
        {
          "output_type": "stream",
          "name": "stdout",
          "text": [
            "El DataFrame está compuesto por 483,952 filas y 1 columnas\n"
          ]
        }
      ],
      "source": [
        "# 2. Revisión de la Estructura del Dataset\n",
        "print('El DataFrame está compuesto por {:,}'.format(Estado_Via.shape[0]),'filas y',Estado_Via.shape[1],'columnas')"
      ]
    },
    {
      "cell_type": "code",
      "execution_count": null,
      "metadata": {
        "id": "4UphMl0Udv-P"
      },
      "outputs": [],
      "source": [
        "# 3. Eliminamos los duplicados\n",
        "Estado_Via = Estado_Via.drop_duplicates()"
      ]
    },
    {
      "cell_type": "code",
      "execution_count": null,
      "metadata": {
        "id": "I0Fi93tSdv-Q"
      },
      "outputs": [],
      "source": [
        "# 4. Eliminamos los valores vacíos\n",
        "Estado_Via = Estado_Via.dropna()"
      ]
    },
    {
      "cell_type": "code",
      "execution_count": null,
      "metadata": {
        "id": "QYJGwQwodv-Q",
        "colab": {
          "base_uri": "https://localhost:8080/"
        },
        "outputId": "74689b4f-7b76-45a2-e9af-0cdea1f5676e"
      },
      "outputs": [
        {
          "output_type": "stream",
          "name": "stdout",
          "text": [
            "El DataFrame está compuesto por 9 filas y 1 columnas\n"
          ]
        }
      ],
      "source": [
        "# 5. Reseteamos el ínidce y confimamos  de la Estructura del Dataset\n",
        "Estado_Via = Estado_Via.reset_index(drop=True)\n",
        "print('El DataFrame está compuesto por {:,}'.format(Estado_Via.shape[0]),'filas y',Estado_Via.shape[1],'columnas')"
      ]
    },
    {
      "cell_type": "code",
      "execution_count": null,
      "metadata": {
        "id": "MRQQH1Xxdv-Q"
      },
      "outputs": [],
      "source": [
        "#6. Creamos codigo de estado\n",
        "Estado_Via['COD_ESTADO']=Estado_Via.index+1"
      ]
    },
    {
      "cell_type": "code",
      "execution_count": null,
      "metadata": {
        "id": "yu4bTxd_dv-Q",
        "colab": {
          "base_uri": "https://localhost:8080/"
        },
        "outputId": "f0c279ba-0ce5-4052-8c74-b40edd1b24f1"
      },
      "outputs": [
        {
          "output_type": "stream",
          "name": "stdout",
          "text": [
            "          ESTADO  COD_ESTADO\n",
            "0          BUENO           1\n",
            "1      DERRUMBES           2\n",
            "2     CON HUECOS           3\n",
            "3         RIZADA           4\n",
            "4   HUNDIMIENTOS           5\n",
            "5  EN REPARACION           6\n",
            "6       PARCHADA           7\n",
            "7       FISURADA           8\n",
            "8       INUNDADA           9\n"
          ]
        }
      ],
      "source": [
        "print(Estado_Via.head(9))"
      ]
    },
    {
      "cell_type": "code",
      "execution_count": null,
      "metadata": {
        "id": "N1mgx-U7dv-Q"
      },
      "outputs": [],
      "source": [
        "Estado_Via[\"COD_ESTADO\"] = pd.to_numeric(Estado_Via[\"COD_ESTADO\"] , downcast=\"integer\", errors=\"coerce\")\n",
        "Estado_Via[\"COD_ESTADO\"] = Estado_Via[\"COD_ESTADO\"].astype(int)"
      ]
    },
    {
      "cell_type": "code",
      "execution_count": null,
      "metadata": {
        "id": "g3C0A_BTdv-R",
        "colab": {
          "base_uri": "https://localhost:8080/"
        },
        "outputId": "09ce468f-e47b-4987-9c66-2b43e8ca21a2"
      },
      "outputs": [
        {
          "output_type": "stream",
          "name": "stdout",
          "text": [
            "Las variables almacenan la información en el siguiente formato: ESTADO        object\n",
            "COD_ESTADO     int64\n",
            "dtype: object\n"
          ]
        }
      ],
      "source": [
        "print('Las variables almacenan la información en el siguiente formato:', Estado_Via.dtypes)"
      ]
    },
    {
      "cell_type": "markdown",
      "metadata": {
        "id": "F_EMLlbld2Xh"
      },
      "source": [
        "### 3.9 Creación tabla Condiciones"
      ]
    },
    {
      "cell_type": "code",
      "execution_count": null,
      "metadata": {
        "id": "-C-XKeIMd2X_",
        "colab": {
          "base_uri": "https://localhost:8080/"
        },
        "outputId": "2725e8e2-f770-4a1a-c526-285dd4f140db"
      },
      "outputs": [
        {
          "output_type": "stream",
          "name": "stderr",
          "text": [
            "<ipython-input-96-1a449f8deb75>:2: DtypeWarning: Columns (17) have mixed types. Specify dtype option on import or set low_memory=False.\n",
            "  Condiciones = pd.read_csv('/content/Via.csv')\n"
          ]
        }
      ],
      "source": [
        "# 1. Crear la tabla de Condiciones con los campos necesarios\n",
        "Condiciones = pd.read_csv('/content/Via.csv')\n",
        "Condiciones = Condiciones[['CONDICIONES']]"
      ]
    },
    {
      "cell_type": "code",
      "execution_count": null,
      "metadata": {
        "id": "6Y5MuKtDd2YA",
        "colab": {
          "base_uri": "https://localhost:8080/"
        },
        "outputId": "2dfe1bc1-4211-4ff2-da51-a8978bd840f4"
      },
      "outputs": [
        {
          "output_type": "stream",
          "name": "stdout",
          "text": [
            "El DataFrame está compuesto por 483,952 filas y 1 columnas\n"
          ]
        }
      ],
      "source": [
        "# 2. Revisión de la Estructura del Dataset\n",
        "print('El DataFrame está compuesto por {:,}'.format(Condiciones.shape[0]),'filas y',Condiciones.shape[1],'columnas')"
      ]
    },
    {
      "cell_type": "code",
      "execution_count": null,
      "metadata": {
        "id": "A9tvZvXcd2YA"
      },
      "outputs": [],
      "source": [
        "# 3. Eliminamos los duplicados\n",
        "Condiciones = Condiciones.drop_duplicates()"
      ]
    },
    {
      "cell_type": "code",
      "execution_count": null,
      "metadata": {
        "id": "ckpWOdZEd2YA"
      },
      "outputs": [],
      "source": [
        "# 4. Eliminamos los valores vacíos\n",
        "Condiciones = Condiciones.dropna()"
      ]
    },
    {
      "cell_type": "code",
      "execution_count": null,
      "metadata": {
        "id": "BUN63o6Rd2YB",
        "colab": {
          "base_uri": "https://localhost:8080/"
        },
        "outputId": "1473a0e3-dbaf-4397-94b9-87f8ace04856"
      },
      "outputs": [
        {
          "output_type": "stream",
          "name": "stdout",
          "text": [
            "El DataFrame está compuesto por 8 filas y 1 columnas\n"
          ]
        }
      ],
      "source": [
        "# 5. Reseteamos el ínidce y confimamos  de la Estructura del Dataset\n",
        "Condiciones = Condiciones.reset_index(drop=True)\n",
        "print('El DataFrame está compuesto por {:,}'.format(Condiciones.shape[0]),'filas y',Condiciones.shape[1],'columnas')"
      ]
    },
    {
      "cell_type": "code",
      "execution_count": null,
      "metadata": {
        "id": "GygZ33Ugd2YB"
      },
      "outputs": [],
      "source": [
        "#6. Creamos codigo de condición\n",
        "Condiciones['COD_CONDICION']=Condiciones.index+1"
      ]
    },
    {
      "cell_type": "code",
      "execution_count": null,
      "metadata": {
        "id": "eDfvBfCcd2YB",
        "colab": {
          "base_uri": "https://localhost:8080/"
        },
        "outputId": "11af2b93-64a8-49ae-d736-e5b92a69ab51"
      },
      "outputs": [
        {
          "output_type": "stream",
          "name": "stdout",
          "text": [
            "              CONDICIONES  COD_CONDICION\n",
            "0                    SECA              1\n",
            "1         MATERIAL SUELTO              2\n",
            "2                  HUMEDA              3\n",
            "3  ALCANTARILLA DESTAPADA              4\n",
            "4                    LODO              5\n",
            "5                  ACEITE              6\n",
            "6                    OTRA              7\n",
            "7       MATERIAL ORGANICO              8\n"
          ]
        }
      ],
      "source": [
        "print(Condiciones.head(8))"
      ]
    },
    {
      "cell_type": "code",
      "execution_count": null,
      "metadata": {
        "id": "WcXjk6fCd2YB"
      },
      "outputs": [],
      "source": [
        "Condiciones[\"COD_CONDICION\"] = pd.to_numeric(Condiciones[\"COD_CONDICION\"] , downcast=\"integer\", errors=\"coerce\")\n",
        "Condiciones[\"COD_CONDICION\"] = Condiciones[\"COD_CONDICION\"].astype(int)"
      ]
    },
    {
      "cell_type": "code",
      "execution_count": null,
      "metadata": {
        "id": "NhomrzUOd2YB",
        "colab": {
          "base_uri": "https://localhost:8080/"
        },
        "outputId": "68751b2d-2fe7-46c0-e4cc-8e5ad45dce06"
      },
      "outputs": [
        {
          "output_type": "stream",
          "name": "stdout",
          "text": [
            "Las variables almacenan la información en el siguiente formato: CONDICIONES      object\n",
            "COD_CONDICION     int64\n",
            "dtype: object\n"
          ]
        }
      ],
      "source": [
        "print('Las variables almacenan la información en el siguiente formato:', Condiciones.dtypes)"
      ]
    },
    {
      "cell_type": "markdown",
      "metadata": {
        "id": "V51Ps_yZd8jZ"
      },
      "source": [
        "### 3.10 Creación tabla Iluminacion A"
      ]
    },
    {
      "cell_type": "code",
      "execution_count": null,
      "metadata": {
        "id": "ZS57Bhzbd8jZ",
        "colab": {
          "base_uri": "https://localhost:8080/"
        },
        "outputId": "fa6f9a97-75e6-4905-b044-90511ac83df7"
      },
      "outputs": [
        {
          "output_type": "stream",
          "name": "stderr",
          "text": [
            "<ipython-input-105-2f01866532e0>:2: DtypeWarning: Columns (17) have mixed types. Specify dtype option on import or set low_memory=False.\n",
            "  Iluminacion_A = pd.read_csv('/content/Via.csv')\n"
          ]
        }
      ],
      "source": [
        "# 1. Crear la tabla de Iluminacion A con los campos necesarios\n",
        "Iluminacion_A = pd.read_csv('/content/Via.csv')\n",
        "Iluminacion_A = Iluminacion_A[['ILUMINACION_A']]"
      ]
    },
    {
      "cell_type": "code",
      "execution_count": null,
      "metadata": {
        "id": "Xh_wQJUhd8jZ",
        "colab": {
          "base_uri": "https://localhost:8080/"
        },
        "outputId": "46ce9b93-1083-40ac-894a-119abb757df2"
      },
      "outputs": [
        {
          "output_type": "stream",
          "name": "stdout",
          "text": [
            "El DataFrame está compuesto por 483,952 filas y 1 columnas\n"
          ]
        }
      ],
      "source": [
        "# 2. Revisión de la Estructura del Dataset\n",
        "print('El DataFrame está compuesto por {:,}'.format(Iluminacion_A.shape[0]),'filas y',Iluminacion_A.shape[1],'columnas')"
      ]
    },
    {
      "cell_type": "code",
      "execution_count": null,
      "metadata": {
        "id": "-l08vrZyd8ja"
      },
      "outputs": [],
      "source": [
        "# 3. Eliminamos los duplicados\n",
        "Iluminacion_A = Iluminacion_A.drop_duplicates()"
      ]
    },
    {
      "cell_type": "code",
      "execution_count": null,
      "metadata": {
        "id": "UnLrcqSQd8ja"
      },
      "outputs": [],
      "source": [
        "# 4. Eliminamos los valores vacíos\n",
        "Iluminacion_A = Iluminacion_A.dropna()"
      ]
    },
    {
      "cell_type": "code",
      "execution_count": null,
      "metadata": {
        "id": "K06yiNFNd8ja",
        "colab": {
          "base_uri": "https://localhost:8080/"
        },
        "outputId": "cd8b4303-9fa7-4ed0-9ff0-2c7c2e3ff714"
      },
      "outputs": [
        {
          "output_type": "stream",
          "name": "stdout",
          "text": [
            "El DataFrame está compuesto por 2 filas y 1 columnas\n"
          ]
        }
      ],
      "source": [
        "# 5. Reseteamos el ínidce y confimamos  de la Estructura del Dataset\n",
        "Iluminacion_A = Iluminacion_A.reset_index(drop=True)\n",
        "print('El DataFrame está compuesto por {:,}'.format(Iluminacion_A.shape[0]),'filas y',Iluminacion_A.shape[1],'columnas')"
      ]
    },
    {
      "cell_type": "code",
      "execution_count": null,
      "metadata": {
        "id": "9mnRW7RBd8ja"
      },
      "outputs": [],
      "source": [
        "#6. Creamos codigo de iluminación\n",
        "Iluminacion_A['COD_ILUMINACION_A']=Iluminacion_A.index+1"
      ]
    },
    {
      "cell_type": "code",
      "execution_count": null,
      "metadata": {
        "id": "Cxs_2Uzsd8ja",
        "colab": {
          "base_uri": "https://localhost:8080/"
        },
        "outputId": "7bb21e0a-6b68-463c-8bbf-7975be6e945d"
      },
      "outputs": [
        {
          "output_type": "stream",
          "name": "stdout",
          "text": [
            "  ILUMINACION_A  COD_ILUMINACION_A\n",
            "0           SIN                  1\n",
            "1           CON                  2\n"
          ]
        }
      ],
      "source": [
        "print(Iluminacion_A.head())"
      ]
    },
    {
      "cell_type": "code",
      "execution_count": null,
      "metadata": {
        "id": "8r338-kXd8jb"
      },
      "outputs": [],
      "source": [
        "Iluminacion_A[\"COD_ILUMINACION_A\"] = pd.to_numeric(Iluminacion_A[\"COD_ILUMINACION_A\"] , downcast=\"integer\", errors=\"coerce\")\n",
        "Iluminacion_A[\"COD_ILUMINACION_A\"] = Iluminacion_A[\"COD_ILUMINACION_A\"].astype(int)"
      ]
    },
    {
      "cell_type": "code",
      "execution_count": null,
      "metadata": {
        "id": "6ZhQKgLGd8jb",
        "colab": {
          "base_uri": "https://localhost:8080/"
        },
        "outputId": "891201c1-c190-43bb-eeee-57efca8d1df7"
      },
      "outputs": [
        {
          "output_type": "stream",
          "name": "stdout",
          "text": [
            "Las variables almacenan la información en el siguiente formato: ILUMINACION_A        object\n",
            "COD_ILUMINACION_A     int64\n",
            "dtype: object\n"
          ]
        }
      ],
      "source": [
        "print('Las variables almacenan la información en el siguiente formato:', Iluminacion_A.dtypes)"
      ]
    },
    {
      "cell_type": "markdown",
      "metadata": {
        "id": "LCk98cL7eGbT"
      },
      "source": [
        "### 3.11 Creación tabla Agente Transito"
      ]
    },
    {
      "cell_type": "code",
      "execution_count": null,
      "metadata": {
        "id": "kv79Odo9eGbT",
        "colab": {
          "base_uri": "https://localhost:8080/"
        },
        "outputId": "36226028-1635-4b05-d0f1-da654561c25f"
      },
      "outputs": [
        {
          "output_type": "stream",
          "name": "stderr",
          "text": [
            "<ipython-input-114-e2ac2f5f9b89>:2: DtypeWarning: Columns (17) have mixed types. Specify dtype option on import or set low_memory=False.\n",
            "  Agente_Transito = pd.read_csv('/content/Via.csv')\n"
          ]
        }
      ],
      "source": [
        "# 1. Crear la tabla de Agente Transito con los campos necesarios\n",
        "Agente_Transito = pd.read_csv('/content/Via.csv')\n",
        "Agente_Transito = Agente_Transito[['AGENTE_TRANSITO']]"
      ]
    },
    {
      "cell_type": "code",
      "execution_count": null,
      "metadata": {
        "id": "n2K9G8FYeGbU",
        "colab": {
          "base_uri": "https://localhost:8080/"
        },
        "outputId": "a2deccec-1b90-429a-8389-739dae938e9b"
      },
      "outputs": [
        {
          "output_type": "stream",
          "name": "stdout",
          "text": [
            "El DataFrame está compuesto por 483,952 filas y 1 columnas\n"
          ]
        }
      ],
      "source": [
        "# 2. Revisión de la Estructura del Dataset\n",
        "print('El DataFrame está compuesto por {:,}'.format(Agente_Transito.shape[0]),'filas y',Agente_Transito.shape[1],'columnas')"
      ]
    },
    {
      "cell_type": "code",
      "execution_count": null,
      "metadata": {
        "id": "V0KWTw5ZeGbU"
      },
      "outputs": [],
      "source": [
        "# 3. Eliminamos los duplicados\n",
        "Agente_Transito = Agente_Transito.drop_duplicates()"
      ]
    },
    {
      "cell_type": "code",
      "execution_count": null,
      "metadata": {
        "id": "C8E_O99QeGbU"
      },
      "outputs": [],
      "source": [
        "# 4. Eliminamos los valores vacíos\n",
        "Agente_Transito = Agente_Transito.dropna()"
      ]
    },
    {
      "cell_type": "code",
      "execution_count": null,
      "metadata": {
        "id": "-WtPjD-teGbU",
        "colab": {
          "base_uri": "https://localhost:8080/"
        },
        "outputId": "d1a972d3-bccf-49f3-f991-11a17cc4b713"
      },
      "outputs": [
        {
          "output_type": "stream",
          "name": "stdout",
          "text": [
            "El DataFrame está compuesto por 2 filas y 1 columnas\n"
          ]
        }
      ],
      "source": [
        "# 5. Reseteamos el ínidce y confimamos  de la Estructura del Dataset\n",
        "Agente_Transito = Agente_Transito.reset_index(drop=True)\n",
        "print('El DataFrame está compuesto por {:,}'.format(Agente_Transito.shape[0]),'filas y',Agente_Transito.shape[1],'columnas')"
      ]
    },
    {
      "cell_type": "code",
      "execution_count": null,
      "metadata": {
        "id": "I-D0RwFeeGbV"
      },
      "outputs": [],
      "source": [
        "#6. Creamos codigo de agente\n",
        "Agente_Transito['COD_AGENTE_TRANSITO']=Agente_Transito.index+1"
      ]
    },
    {
      "cell_type": "code",
      "execution_count": null,
      "metadata": {
        "id": "dD0BKh59eGbV",
        "colab": {
          "base_uri": "https://localhost:8080/"
        },
        "outputId": "9c6abf4d-63ce-4070-e9df-beea1593c81c"
      },
      "outputs": [
        {
          "output_type": "stream",
          "name": "stdout",
          "text": [
            "  AGENTE_TRANSITO  COD_AGENTE_TRANSITO\n",
            "0              NO                    1\n",
            "1              SI                    2\n"
          ]
        }
      ],
      "source": [
        "print(Agente_Transito.head())"
      ]
    },
    {
      "cell_type": "code",
      "execution_count": null,
      "metadata": {
        "id": "f_4P7RVVeGbV"
      },
      "outputs": [],
      "source": [
        "Agente_Transito[\"COD_AGENTE_TRANSITO\"] = pd.to_numeric(Agente_Transito[\"COD_AGENTE_TRANSITO\"] , downcast=\"integer\", errors=\"coerce\")\n",
        "Agente_Transito[\"COD_AGENTE_TRANSITO\"] = Agente_Transito[\"COD_AGENTE_TRANSITO\"].astype(int)"
      ]
    },
    {
      "cell_type": "code",
      "execution_count": null,
      "metadata": {
        "id": "RJDMce4teGbV",
        "colab": {
          "base_uri": "https://localhost:8080/"
        },
        "outputId": "4cb18768-f0b1-4dae-ead8-ec0ac53e1a91"
      },
      "outputs": [
        {
          "output_type": "stream",
          "name": "stdout",
          "text": [
            "Las variables almacenan la información en el siguiente formato: AGENTE_TRANSITO        object\n",
            "COD_AGENTE_TRANSITO     int64\n",
            "dtype: object\n"
          ]
        }
      ],
      "source": [
        "print('Las variables almacenan la información en el siguiente formato:', Agente_Transito.dtypes)"
      ]
    },
    {
      "cell_type": "markdown",
      "metadata": {
        "id": "_8kru-TOeQ4N"
      },
      "source": [
        "### 3.12 Creación tabla Semaforo"
      ]
    },
    {
      "cell_type": "code",
      "execution_count": null,
      "metadata": {
        "id": "_eXl_ZkYeQ4q",
        "colab": {
          "base_uri": "https://localhost:8080/"
        },
        "outputId": "8f1bc979-4240-44a9-9330-bc2d536bf0ba"
      },
      "outputs": [
        {
          "output_type": "stream",
          "name": "stderr",
          "text": [
            "<ipython-input-123-b2b72246977a>:2: DtypeWarning: Columns (17) have mixed types. Specify dtype option on import or set low_memory=False.\n",
            "  Semaforo = pd.read_csv('/content/Via.csv')\n"
          ]
        }
      ],
      "source": [
        "# 1. Crear la tabla de Semaforo con los campos necesarios\n",
        "Semaforo = pd.read_csv('/content/Via.csv')\n",
        "Semaforo = Semaforo[['SEMAFORO']]"
      ]
    },
    {
      "cell_type": "code",
      "execution_count": null,
      "metadata": {
        "id": "hXP_KME2eQ4r",
        "colab": {
          "base_uri": "https://localhost:8080/"
        },
        "outputId": "58a5161a-0268-45f4-bc7d-ecf345f9c620"
      },
      "outputs": [
        {
          "output_type": "stream",
          "name": "stdout",
          "text": [
            "El DataFrame está compuesto por 483,952 filas y 1 columnas\n"
          ]
        }
      ],
      "source": [
        "# 2. Revisión de la Estructura del Dataset\n",
        "print('El DataFrame está compuesto por {:,}'.format(Semaforo.shape[0]),'filas y',Semaforo.shape[1],'columnas')"
      ]
    },
    {
      "cell_type": "code",
      "execution_count": null,
      "metadata": {
        "id": "NZ6vEqoKeQ4r"
      },
      "outputs": [],
      "source": [
        "# 3. Eliminamos los duplicados\n",
        "Semaforo = Semaforo.drop_duplicates()"
      ]
    },
    {
      "cell_type": "code",
      "execution_count": null,
      "metadata": {
        "id": "ZqoyinsNeQ4r"
      },
      "outputs": [],
      "source": [
        "# 4. Eliminamos los valores vacíos\n",
        "Semaforo = Semaforo.dropna()"
      ]
    },
    {
      "cell_type": "code",
      "execution_count": null,
      "metadata": {
        "id": "mY7BjTVeeQ4r",
        "colab": {
          "base_uri": "https://localhost:8080/"
        },
        "outputId": "91c16d2d-189b-4a92-a535-b6a14c43c15a"
      },
      "outputs": [
        {
          "output_type": "stream",
          "name": "stdout",
          "text": [
            "El DataFrame está compuesto por 6 filas y 1 columnas\n"
          ]
        }
      ],
      "source": [
        "# 5. Reseteamos el ínidce y confimamos  de la Estructura del Dataset\n",
        "Semaforo = Semaforo.reset_index(drop=True)\n",
        "print('El DataFrame está compuesto por {:,}'.format(Semaforo.shape[0]),'filas y',Semaforo.shape[1],'columnas')"
      ]
    },
    {
      "cell_type": "code",
      "execution_count": null,
      "metadata": {
        "id": "qvG54S75eQ4s"
      },
      "outputs": [],
      "source": [
        "#6. Creamos codigo de semaforo\n",
        "Semaforo['COD_SEMAFORO']=Semaforo.index+1"
      ]
    },
    {
      "cell_type": "code",
      "execution_count": null,
      "metadata": {
        "id": "QD-YUcIzeQ4s",
        "colab": {
          "base_uri": "https://localhost:8080/"
        },
        "outputId": "7e83b71b-32b6-4330-8fbe-e4ff5e3be261"
      },
      "outputs": [
        {
          "output_type": "stream",
          "name": "stdout",
          "text": [
            "       SEMAFORO  COD_SEMAFORO\n",
            "0      OPERANDO             1\n",
            "1        OCULTO             2\n",
            "2  INTERMITENTE             3\n",
            "3     CON DAÑOS             4\n",
            "4       APAGADO             5\n",
            "5       NINGUNO             6\n"
          ]
        }
      ],
      "source": [
        "print(Semaforo.head(6))"
      ]
    },
    {
      "cell_type": "code",
      "execution_count": null,
      "metadata": {
        "id": "ZYK3msWIeQ4s"
      },
      "outputs": [],
      "source": [
        "Semaforo[\"COD_SEMAFORO\"] = pd.to_numeric(Semaforo[\"COD_SEMAFORO\"] , downcast=\"integer\", errors=\"coerce\")\n",
        "Semaforo[\"COD_SEMAFORO\"] = Semaforo[\"COD_SEMAFORO\"].astype(int)"
      ]
    },
    {
      "cell_type": "code",
      "execution_count": null,
      "metadata": {
        "id": "MuQr0lxzeQ4s",
        "colab": {
          "base_uri": "https://localhost:8080/"
        },
        "outputId": "9f563d5c-6d6f-4218-b4d3-97d645db7542"
      },
      "outputs": [
        {
          "output_type": "stream",
          "name": "stdout",
          "text": [
            "Las variables almacenan la información en el siguiente formato: SEMAFORO        object\n",
            "COD_SEMAFORO     int64\n",
            "dtype: object\n"
          ]
        }
      ],
      "source": [
        "print('Las variables almacenan la información en el siguiente formato:', Semaforo.dtypes)"
      ]
    },
    {
      "cell_type": "markdown",
      "metadata": {
        "id": "Gw7q5wDjTish"
      },
      "source": [
        "### 3.13 Creación tabla Tiempo"
      ]
    },
    {
      "cell_type": "code",
      "execution_count": null,
      "metadata": {
        "id": "AX8J4oBSTiQa"
      },
      "outputs": [],
      "source": [
        "# 1. Crear la tabla de tiempo con los campos necesarios\n",
        "Tiempo = pd.read_csv('/content/Accidente.csv')\n",
        "Tiempo = Tiempo[['FECHA_OCURRENCIA_ACC']]"
      ]
    },
    {
      "cell_type": "code",
      "execution_count": null,
      "metadata": {
        "id": "pAUFJ0ewTfmi",
        "colab": {
          "base_uri": "https://localhost:8080/"
        },
        "outputId": "81e9f6fe-e0bc-4f5b-cdf3-22dc857ffd97"
      },
      "outputs": [
        {
          "output_type": "stream",
          "name": "stdout",
          "text": [
            "El DataFrame está compuesto por 472,767 filas y 1 columnas\n",
            "Con información distribuida en las siguientes variables: Index(['FECHA_OCURRENCIA_ACC'], dtype='object')\n",
            "Las variables almacenan la información en el siguiente formato: FECHA_OCURRENCIA_ACC    object\n",
            "dtype: object\n"
          ]
        }
      ],
      "source": [
        "# 2. Revisión de la Estructura del Dataset\n",
        "print('El DataFrame está compuesto por {:,}'.format(Tiempo.shape[0]),'filas y',Tiempo.shape[1],'columnas')\n",
        "print('Con información distribuida en las siguientes variables:', Tiempo.columns)\n",
        "print('Las variables almacenan la información en el siguiente formato:', Tiempo.dtypes)"
      ]
    },
    {
      "cell_type": "code",
      "execution_count": null,
      "metadata": {
        "id": "kz_30hHZTpsV"
      },
      "outputs": [],
      "source": [
        "# 3. Eliminamos los duplicados\n",
        "Tiempo = Tiempo.drop_duplicates()"
      ]
    },
    {
      "cell_type": "code",
      "execution_count": null,
      "metadata": {
        "id": "bBKBvmP2UAJW"
      },
      "outputs": [],
      "source": [
        "# 4. Eliminamos los valores vacíos\n",
        "Tiempo = Tiempo.dropna()"
      ]
    },
    {
      "cell_type": "code",
      "execution_count": null,
      "metadata": {
        "id": "zlSNil4rT3vI",
        "colab": {
          "base_uri": "https://localhost:8080/"
        },
        "outputId": "4fc8d61d-ae45-4984-a111-4c93fbf48923"
      },
      "outputs": [
        {
          "output_type": "stream",
          "name": "stdout",
          "text": [
            "El DataFrame está compuesto por 6,756 filas y 1 columnas\n"
          ]
        }
      ],
      "source": [
        "# 5. Reseteamos el ínidce y confimamos  de la Estructura del Dataset\n",
        "Tiempo = Tiempo.reset_index(drop=True)\n",
        "print('El DataFrame está compuesto por {:,}'.format(Tiempo.shape[0]),'filas y',Tiempo.shape[1],'columnas')"
      ]
    },
    {
      "cell_type": "code",
      "execution_count": null,
      "metadata": {
        "id": "Yym4CfWkSu3n"
      },
      "outputs": [],
      "source": [
        "# 6. Tranformamos la columna Fecha a formato fecha\n",
        "Tiempo.loc[:, 'FECHA_OCURRENCIA_ACC'] = pd.to_datetime(Tiempo['FECHA_OCURRENCIA_ACC']).dt.strftime('%d/%m/%Y')\n",
        "Tiempo[\"FECHA_OCURRENCIA_ACC\"]=pd.to_datetime(Tiempo[\"FECHA_OCURRENCIA_ACC\"], format=\"%d/%m/%Y\")"
      ]
    },
    {
      "cell_type": "code",
      "execution_count": null,
      "metadata": {
        "id": "km2hSVLrRc5Y"
      },
      "outputs": [],
      "source": [
        "# 7. Creamos las columnas de año, nro_mes, txt_mes, nro_dia, txt_dia, trimestre para poblarlas a partir de la fecha\n",
        "Tiempo['ANO_OCURRENCIA'] = \"\"\n",
        "Tiempo['NRO_MES_OCURRENCIA'] = \"\"\n",
        "Tiempo['TXT_MES_OCURRENCIA'] = \"\"\n",
        "Tiempo['NRO_DIA_OCURRENCIA'] = \"\"\n",
        "Tiempo['TXT_DIA_OCURRENCIA'] = \"\"\n",
        "Tiempo['TRIMESTRE_OCURRENCIA'] = \"\""
      ]
    },
    {
      "cell_type": "code",
      "execution_count": null,
      "metadata": {
        "id": "jFO3tyT8VRgp"
      },
      "outputs": [],
      "source": [
        "# 8. Poblamos las columnas creadas con la información de la columna de fecha de ocurrencia\n",
        "for i in range(len(Tiempo['FECHA_OCURRENCIA_ACC'])):\n",
        "  Tiempo.loc[i,\"ANO_OCURRENCIA\"]=(Tiempo.loc[i, \"FECHA_OCURRENCIA_ACC\"]).year\n",
        "\n",
        "for i in range(len(Tiempo['FECHA_OCURRENCIA_ACC'])):\n",
        "  Tiempo.loc[i,\"NRO_MES_OCURRENCIA\"]=(Tiempo.loc[i, \"FECHA_OCURRENCIA_ACC\"]).month\n",
        "\n",
        "for i in range(len(Tiempo['FECHA_OCURRENCIA_ACC'])):\n",
        "  Tiempo.loc[i,\"TXT_MES_OCURRENCIA\"]=(Tiempo.loc[i, \"FECHA_OCURRENCIA_ACC\"]).month_name()\n",
        "\n",
        "for i in range(len(Tiempo['FECHA_OCURRENCIA_ACC'])):\n",
        "  Tiempo.loc[i,\"NRO_DIA_OCURRENCIA\"]=(Tiempo.loc[i, \"FECHA_OCURRENCIA_ACC\"]).day\n",
        "\n",
        "for i in range(len(Tiempo['FECHA_OCURRENCIA_ACC'])):\n",
        "  Tiempo.loc[i,\"TXT_DIA_OCURRENCIA\"]=(Tiempo.loc[i, \"FECHA_OCURRENCIA_ACC\"]).day_name()\n",
        "\n",
        "for i in range(len(Tiempo['FECHA_OCURRENCIA_ACC'])):\n",
        "  Tiempo.loc[i,\"TRIMESTRE_OCURRENCIA\"]=(Tiempo.loc[i, \"FECHA_OCURRENCIA_ACC\"]).quarter"
      ]
    },
    {
      "cell_type": "code",
      "execution_count": null,
      "metadata": {
        "id": "jU8gXpSNjQ0L"
      },
      "outputs": [],
      "source": [
        "#7. Se almacena solo la fecha de ocurrencia\n",
        "Tiempo['FECHA_OCURRENCIA_ACC'] = Tiempo['FECHA_OCURRENCIA_ACC'].dt.date"
      ]
    },
    {
      "cell_type": "code",
      "execution_count": null,
      "metadata": {
        "id": "OPAJ4m6xSYEf",
        "colab": {
          "base_uri": "https://localhost:8080/"
        },
        "outputId": "04d31025-2084-43b8-bc02-acedf38e17fd"
      },
      "outputs": [
        {
          "output_type": "stream",
          "name": "stdout",
          "text": [
            "  FECHA_OCURRENCIA_ACC ANO_OCURRENCIA NRO_MES_OCURRENCIA TXT_MES_OCURRENCIA  \\\n",
            "0           2017-06-12           2017                  6               June   \n",
            "1           2022-10-29           2022                 10            October   \n",
            "2           2012-12-15           2012                 12           December   \n",
            "3           2022-11-01           2022                 11           November   \n",
            "4           2014-10-26           2014                 10            October   \n",
            "\n",
            "  NRO_DIA_OCURRENCIA TXT_DIA_OCURRENCIA TRIMESTRE_OCURRENCIA  \n",
            "0                 12             Monday                    2  \n",
            "1                 29           Saturday                    4  \n",
            "2                 15           Saturday                    4  \n",
            "3                  1            Tuesday                    4  \n",
            "4                 26             Sunday                    4  \n"
          ]
        }
      ],
      "source": [
        "print(Tiempo.head())"
      ]
    },
    {
      "cell_type": "code",
      "execution_count": null,
      "metadata": {
        "id": "ka7mOvumH_2Z"
      },
      "outputs": [],
      "source": [
        "# 9. Asegurar tipo de datos\n",
        "Tiempo[\"ANO_OCURRENCIA\"] = pd.to_numeric(Tiempo[\"ANO_OCURRENCIA\"], downcast=\"integer\", errors=\"coerce\")\n",
        "Tiempo[\"NRO_MES_OCURRENCIA\"] = pd.to_numeric(Tiempo[\"NRO_MES_OCURRENCIA\"], downcast=\"integer\", errors=\"coerce\")\n",
        "Tiempo[\"NRO_DIA_OCURRENCIA\"] = pd.to_numeric(Tiempo[\"NRO_DIA_OCURRENCIA\"], downcast=\"integer\", errors=\"coerce\")\n",
        "Tiempo[\"TRIMESTRE_OCURRENCIA\"] = pd.to_numeric(Tiempo[\"TRIMESTRE_OCURRENCIA\"], downcast=\"integer\", errors=\"coerce\")"
      ]
    },
    {
      "cell_type": "code",
      "execution_count": null,
      "metadata": {
        "id": "yWwbx1zmEfFW",
        "colab": {
          "base_uri": "https://localhost:8080/"
        },
        "outputId": "45b45ebf-5f7c-4d0e-ff60-90bd49b8ead5"
      },
      "outputs": [
        {
          "output_type": "execute_result",
          "data": {
            "text/plain": [
              "                      Nulos  Registros % Nulos\n",
              "FECHA_OCURRENCIA_ACC      0       6756   0.00%\n",
              "ANO_OCURRENCIA            0       6756   0.00%\n",
              "NRO_MES_OCURRENCIA        0       6756   0.00%\n",
              "TXT_MES_OCURRENCIA        0       6756   0.00%\n",
              "NRO_DIA_OCURRENCIA        0       6756   0.00%\n",
              "TXT_DIA_OCURRENCIA        0       6756   0.00%\n",
              "TRIMESTRE_OCURRENCIA      0       6756   0.00%"
            ],
            "text/html": [
              "\n",
              "  <div id=\"df-7fd8801c-a44d-49a5-9cb3-51119ef531a7\" class=\"colab-df-container\">\n",
              "    <div>\n",
              "<style scoped>\n",
              "    .dataframe tbody tr th:only-of-type {\n",
              "        vertical-align: middle;\n",
              "    }\n",
              "\n",
              "    .dataframe tbody tr th {\n",
              "        vertical-align: top;\n",
              "    }\n",
              "\n",
              "    .dataframe thead th {\n",
              "        text-align: right;\n",
              "    }\n",
              "</style>\n",
              "<table border=\"1\" class=\"dataframe\">\n",
              "  <thead>\n",
              "    <tr style=\"text-align: right;\">\n",
              "      <th></th>\n",
              "      <th>Nulos</th>\n",
              "      <th>Registros</th>\n",
              "      <th>% Nulos</th>\n",
              "    </tr>\n",
              "  </thead>\n",
              "  <tbody>\n",
              "    <tr>\n",
              "      <th>FECHA_OCURRENCIA_ACC</th>\n",
              "      <td>0</td>\n",
              "      <td>6756</td>\n",
              "      <td>0.00%</td>\n",
              "    </tr>\n",
              "    <tr>\n",
              "      <th>ANO_OCURRENCIA</th>\n",
              "      <td>0</td>\n",
              "      <td>6756</td>\n",
              "      <td>0.00%</td>\n",
              "    </tr>\n",
              "    <tr>\n",
              "      <th>NRO_MES_OCURRENCIA</th>\n",
              "      <td>0</td>\n",
              "      <td>6756</td>\n",
              "      <td>0.00%</td>\n",
              "    </tr>\n",
              "    <tr>\n",
              "      <th>TXT_MES_OCURRENCIA</th>\n",
              "      <td>0</td>\n",
              "      <td>6756</td>\n",
              "      <td>0.00%</td>\n",
              "    </tr>\n",
              "    <tr>\n",
              "      <th>NRO_DIA_OCURRENCIA</th>\n",
              "      <td>0</td>\n",
              "      <td>6756</td>\n",
              "      <td>0.00%</td>\n",
              "    </tr>\n",
              "    <tr>\n",
              "      <th>TXT_DIA_OCURRENCIA</th>\n",
              "      <td>0</td>\n",
              "      <td>6756</td>\n",
              "      <td>0.00%</td>\n",
              "    </tr>\n",
              "    <tr>\n",
              "      <th>TRIMESTRE_OCURRENCIA</th>\n",
              "      <td>0</td>\n",
              "      <td>6756</td>\n",
              "      <td>0.00%</td>\n",
              "    </tr>\n",
              "  </tbody>\n",
              "</table>\n",
              "</div>\n",
              "    <div class=\"colab-df-buttons\">\n",
              "\n",
              "  <div class=\"colab-df-container\">\n",
              "    <button class=\"colab-df-convert\" onclick=\"convertToInteractive('df-7fd8801c-a44d-49a5-9cb3-51119ef531a7')\"\n",
              "            title=\"Convert this dataframe to an interactive table.\"\n",
              "            style=\"display:none;\">\n",
              "\n",
              "  <svg xmlns=\"http://www.w3.org/2000/svg\" height=\"24px\" viewBox=\"0 -960 960 960\">\n",
              "    <path d=\"M120-120v-720h720v720H120Zm60-500h600v-160H180v160Zm220 220h160v-160H400v160Zm0 220h160v-160H400v160ZM180-400h160v-160H180v160Zm440 0h160v-160H620v160ZM180-180h160v-160H180v160Zm440 0h160v-160H620v160Z\"/>\n",
              "  </svg>\n",
              "    </button>\n",
              "\n",
              "  <style>\n",
              "    .colab-df-container {\n",
              "      display:flex;\n",
              "      gap: 12px;\n",
              "    }\n",
              "\n",
              "    .colab-df-convert {\n",
              "      background-color: #E8F0FE;\n",
              "      border: none;\n",
              "      border-radius: 50%;\n",
              "      cursor: pointer;\n",
              "      display: none;\n",
              "      fill: #1967D2;\n",
              "      height: 32px;\n",
              "      padding: 0 0 0 0;\n",
              "      width: 32px;\n",
              "    }\n",
              "\n",
              "    .colab-df-convert:hover {\n",
              "      background-color: #E2EBFA;\n",
              "      box-shadow: 0px 1px 2px rgba(60, 64, 67, 0.3), 0px 1px 3px 1px rgba(60, 64, 67, 0.15);\n",
              "      fill: #174EA6;\n",
              "    }\n",
              "\n",
              "    .colab-df-buttons div {\n",
              "      margin-bottom: 4px;\n",
              "    }\n",
              "\n",
              "    [theme=dark] .colab-df-convert {\n",
              "      background-color: #3B4455;\n",
              "      fill: #D2E3FC;\n",
              "    }\n",
              "\n",
              "    [theme=dark] .colab-df-convert:hover {\n",
              "      background-color: #434B5C;\n",
              "      box-shadow: 0px 1px 3px 1px rgba(0, 0, 0, 0.15);\n",
              "      filter: drop-shadow(0px 1px 2px rgba(0, 0, 0, 0.3));\n",
              "      fill: #FFFFFF;\n",
              "    }\n",
              "  </style>\n",
              "\n",
              "    <script>\n",
              "      const buttonEl =\n",
              "        document.querySelector('#df-7fd8801c-a44d-49a5-9cb3-51119ef531a7 button.colab-df-convert');\n",
              "      buttonEl.style.display =\n",
              "        google.colab.kernel.accessAllowed ? 'block' : 'none';\n",
              "\n",
              "      async function convertToInteractive(key) {\n",
              "        const element = document.querySelector('#df-7fd8801c-a44d-49a5-9cb3-51119ef531a7');\n",
              "        const dataTable =\n",
              "          await google.colab.kernel.invokeFunction('convertToInteractive',\n",
              "                                                    [key], {});\n",
              "        if (!dataTable) return;\n",
              "\n",
              "        const docLinkHtml = 'Like what you see? Visit the ' +\n",
              "          '<a target=\"_blank\" href=https://colab.research.google.com/notebooks/data_table.ipynb>data table notebook</a>'\n",
              "          + ' to learn more about interactive tables.';\n",
              "        element.innerHTML = '';\n",
              "        dataTable['output_type'] = 'display_data';\n",
              "        await google.colab.output.renderOutput(dataTable, element);\n",
              "        const docLink = document.createElement('div');\n",
              "        docLink.innerHTML = docLinkHtml;\n",
              "        element.appendChild(docLink);\n",
              "      }\n",
              "    </script>\n",
              "  </div>\n",
              "\n",
              "\n",
              "<div id=\"df-6be4066c-9781-4b19-b0cb-72b62f174286\">\n",
              "  <button class=\"colab-df-quickchart\" onclick=\"quickchart('df-6be4066c-9781-4b19-b0cb-72b62f174286')\"\n",
              "            title=\"Suggest charts\"\n",
              "            style=\"display:none;\">\n",
              "\n",
              "<svg xmlns=\"http://www.w3.org/2000/svg\" height=\"24px\"viewBox=\"0 0 24 24\"\n",
              "     width=\"24px\">\n",
              "    <g>\n",
              "        <path d=\"M19 3H5c-1.1 0-2 .9-2 2v14c0 1.1.9 2 2 2h14c1.1 0 2-.9 2-2V5c0-1.1-.9-2-2-2zM9 17H7v-7h2v7zm4 0h-2V7h2v10zm4 0h-2v-4h2v4z\"/>\n",
              "    </g>\n",
              "</svg>\n",
              "  </button>\n",
              "\n",
              "<style>\n",
              "  .colab-df-quickchart {\n",
              "      --bg-color: #E8F0FE;\n",
              "      --fill-color: #1967D2;\n",
              "      --hover-bg-color: #E2EBFA;\n",
              "      --hover-fill-color: #174EA6;\n",
              "      --disabled-fill-color: #AAA;\n",
              "      --disabled-bg-color: #DDD;\n",
              "  }\n",
              "\n",
              "  [theme=dark] .colab-df-quickchart {\n",
              "      --bg-color: #3B4455;\n",
              "      --fill-color: #D2E3FC;\n",
              "      --hover-bg-color: #434B5C;\n",
              "      --hover-fill-color: #FFFFFF;\n",
              "      --disabled-bg-color: #3B4455;\n",
              "      --disabled-fill-color: #666;\n",
              "  }\n",
              "\n",
              "  .colab-df-quickchart {\n",
              "    background-color: var(--bg-color);\n",
              "    border: none;\n",
              "    border-radius: 50%;\n",
              "    cursor: pointer;\n",
              "    display: none;\n",
              "    fill: var(--fill-color);\n",
              "    height: 32px;\n",
              "    padding: 0;\n",
              "    width: 32px;\n",
              "  }\n",
              "\n",
              "  .colab-df-quickchart:hover {\n",
              "    background-color: var(--hover-bg-color);\n",
              "    box-shadow: 0 1px 2px rgba(60, 64, 67, 0.3), 0 1px 3px 1px rgba(60, 64, 67, 0.15);\n",
              "    fill: var(--button-hover-fill-color);\n",
              "  }\n",
              "\n",
              "  .colab-df-quickchart-complete:disabled,\n",
              "  .colab-df-quickchart-complete:disabled:hover {\n",
              "    background-color: var(--disabled-bg-color);\n",
              "    fill: var(--disabled-fill-color);\n",
              "    box-shadow: none;\n",
              "  }\n",
              "\n",
              "  .colab-df-spinner {\n",
              "    border: 2px solid var(--fill-color);\n",
              "    border-color: transparent;\n",
              "    border-bottom-color: var(--fill-color);\n",
              "    animation:\n",
              "      spin 1s steps(1) infinite;\n",
              "  }\n",
              "\n",
              "  @keyframes spin {\n",
              "    0% {\n",
              "      border-color: transparent;\n",
              "      border-bottom-color: var(--fill-color);\n",
              "      border-left-color: var(--fill-color);\n",
              "    }\n",
              "    20% {\n",
              "      border-color: transparent;\n",
              "      border-left-color: var(--fill-color);\n",
              "      border-top-color: var(--fill-color);\n",
              "    }\n",
              "    30% {\n",
              "      border-color: transparent;\n",
              "      border-left-color: var(--fill-color);\n",
              "      border-top-color: var(--fill-color);\n",
              "      border-right-color: var(--fill-color);\n",
              "    }\n",
              "    40% {\n",
              "      border-color: transparent;\n",
              "      border-right-color: var(--fill-color);\n",
              "      border-top-color: var(--fill-color);\n",
              "    }\n",
              "    60% {\n",
              "      border-color: transparent;\n",
              "      border-right-color: var(--fill-color);\n",
              "    }\n",
              "    80% {\n",
              "      border-color: transparent;\n",
              "      border-right-color: var(--fill-color);\n",
              "      border-bottom-color: var(--fill-color);\n",
              "    }\n",
              "    90% {\n",
              "      border-color: transparent;\n",
              "      border-bottom-color: var(--fill-color);\n",
              "    }\n",
              "  }\n",
              "</style>\n",
              "\n",
              "  <script>\n",
              "    async function quickchart(key) {\n",
              "      const quickchartButtonEl =\n",
              "        document.querySelector('#' + key + ' button');\n",
              "      quickchartButtonEl.disabled = true;  // To prevent multiple clicks.\n",
              "      quickchartButtonEl.classList.add('colab-df-spinner');\n",
              "      try {\n",
              "        const charts = await google.colab.kernel.invokeFunction(\n",
              "            'suggestCharts', [key], {});\n",
              "      } catch (error) {\n",
              "        console.error('Error during call to suggestCharts:', error);\n",
              "      }\n",
              "      quickchartButtonEl.classList.remove('colab-df-spinner');\n",
              "      quickchartButtonEl.classList.add('colab-df-quickchart-complete');\n",
              "    }\n",
              "    (() => {\n",
              "      let quickchartButtonEl =\n",
              "        document.querySelector('#df-6be4066c-9781-4b19-b0cb-72b62f174286 button');\n",
              "      quickchartButtonEl.style.display =\n",
              "        google.colab.kernel.accessAllowed ? 'block' : 'none';\n",
              "    })();\n",
              "  </script>\n",
              "</div>\n",
              "    </div>\n",
              "  </div>\n"
            ],
            "application/vnd.google.colaboratory.intrinsic+json": {
              "type": "dataframe",
              "variable_name": "resumen_NaN_Tiempo",
              "summary": "{\n  \"name\": \"resumen_NaN_Tiempo\",\n  \"rows\": 7,\n  \"fields\": [\n    {\n      \"column\": \"Nulos\",\n      \"properties\": {\n        \"dtype\": \"number\",\n        \"std\": 0,\n        \"min\": 0,\n        \"max\": 0,\n        \"num_unique_values\": 1,\n        \"samples\": [\n          0\n        ],\n        \"semantic_type\": \"\",\n        \"description\": \"\"\n      }\n    },\n    {\n      \"column\": \"Registros\",\n      \"properties\": {\n        \"dtype\": \"number\",\n        \"std\": 0,\n        \"min\": 6756,\n        \"max\": 6756,\n        \"num_unique_values\": 1,\n        \"samples\": [\n          6756\n        ],\n        \"semantic_type\": \"\",\n        \"description\": \"\"\n      }\n    },\n    {\n      \"column\": \"% Nulos\",\n      \"properties\": {\n        \"dtype\": \"category\",\n        \"num_unique_values\": 1,\n        \"samples\": [\n          \"0.00%\"\n        ],\n        \"semantic_type\": \"\",\n        \"description\": \"\"\n      }\n    }\n  ]\n}"
            }
          },
          "metadata": {},
          "execution_count": 143
        }
      ],
      "source": [
        "# 10. Contabilizamos valores nulos, e identificamos participación en el total de registros por columnas\n",
        "resumen_NaN_Tiempo = pd.DataFrame(Tiempo.isnull().sum())\n",
        "resumen_NaN_Tiempo.columns=['Nulos']\n",
        "resumen_NaN_Tiempo['Registros']=Tiempo.shape[0]\n",
        "resumen_NaN_Tiempo['% Nulos']=resumen_NaN_Tiempo.Nulos/resumen_NaN_Tiempo.Registros\n",
        "resumen_NaN_Tiempo['% Nulos']=resumen_NaN_Tiempo['% Nulos'].apply(\"{:.2%}\".format)\n",
        "resumen_NaN_Tiempo"
      ]
    },
    {
      "cell_type": "code",
      "execution_count": null,
      "metadata": {
        "id": "xxkqKpurIGl3",
        "colab": {
          "base_uri": "https://localhost:8080/"
        },
        "outputId": "a84dc2e6-c36a-498e-f8ee-0f3c93142c7f"
      },
      "outputs": [
        {
          "output_type": "stream",
          "name": "stdout",
          "text": [
            "Las variables almacenan la información en el siguiente formato: FECHA_OCURRENCIA_ACC    object\n",
            "ANO_OCURRENCIA           int16\n",
            "NRO_MES_OCURRENCIA        int8\n",
            "TXT_MES_OCURRENCIA      object\n",
            "NRO_DIA_OCURRENCIA        int8\n",
            "TXT_DIA_OCURRENCIA      object\n",
            "TRIMESTRE_OCURRENCIA      int8\n",
            "dtype: object\n"
          ]
        }
      ],
      "source": [
        "print('Las variables almacenan la información en el siguiente formato:', Tiempo.dtypes)"
      ]
    },
    {
      "cell_type": "markdown",
      "metadata": {
        "id": "OLzdnkRI1f3h"
      },
      "source": [
        "### 3.14 Creación tabla Horario"
      ]
    },
    {
      "cell_type": "code",
      "execution_count": null,
      "metadata": {
        "id": "M9QfjwKm1f3i"
      },
      "outputs": [],
      "source": [
        "# 1. Crear la tabla de horario con los campos necesarios\n",
        "Horario = pd.read_csv('/content/Accidente.csv')\n",
        "Horario = Horario[['HORA_OCURRENCIA_ACC']]"
      ]
    },
    {
      "cell_type": "code",
      "execution_count": null,
      "metadata": {
        "id": "wbigoJH71f3i",
        "colab": {
          "base_uri": "https://localhost:8080/"
        },
        "outputId": "f8ac8226-dd8f-4b98-d9cd-91488634102e"
      },
      "outputs": [
        {
          "output_type": "stream",
          "name": "stdout",
          "text": [
            "El DataFrame está compuesto por 472,767 filas y 1 columnas\n",
            "Con información distribuida en las siguientes variables: Index(['HORA_OCURRENCIA_ACC'], dtype='object')\n",
            "Las variables almacenan la información en el siguiente formato: HORA_OCURRENCIA_ACC    object\n",
            "dtype: object\n"
          ]
        }
      ],
      "source": [
        "# 2. Revisión de la Estructura del Dataset\n",
        "print('El DataFrame está compuesto por {:,}'.format(Horario.shape[0]),'filas y',Horario.shape[1],'columnas')\n",
        "print('Con información distribuida en las siguientes variables:', Horario.columns)\n",
        "print('Las variables almacenan la información en el siguiente formato:', Horario.dtypes)"
      ]
    },
    {
      "cell_type": "code",
      "execution_count": null,
      "metadata": {
        "id": "81M8V-I71f3j"
      },
      "outputs": [],
      "source": [
        "# 3. Eliminamos los duplicados\n",
        "Horario = Horario.drop_duplicates()"
      ]
    },
    {
      "cell_type": "code",
      "execution_count": null,
      "metadata": {
        "id": "01m8tG0H1f3j"
      },
      "outputs": [],
      "source": [
        "# 4. Eliminamos los valores vacíos\n",
        "Horario = Horario.dropna()"
      ]
    },
    {
      "cell_type": "code",
      "execution_count": null,
      "metadata": {
        "id": "x1nDsRDV1f3j",
        "colab": {
          "base_uri": "https://localhost:8080/"
        },
        "outputId": "7222a6a6-7eb1-458e-811e-2714e10c31aa"
      },
      "outputs": [
        {
          "output_type": "stream",
          "name": "stdout",
          "text": [
            "El DataFrame está compuesto por 1,440 filas y 1 columnas\n"
          ]
        }
      ],
      "source": [
        "# 5. Reseteamos el ínidce y confimamos  de la Estructura del Dataset\n",
        "Horario = Horario.reset_index(drop=True)\n",
        "print('El DataFrame está compuesto por {:,}'.format(Horario.shape[0]),'filas y',Horario.shape[1],'columnas')"
      ]
    },
    {
      "cell_type": "code",
      "execution_count": null,
      "metadata": {
        "id": "5vjXhR7H1f3k"
      },
      "outputs": [],
      "source": [
        "# 6. Creamos las columna de jornada\n",
        "Horario['HORA_OCURRENCIA'] = \"\"\n",
        "Horario['JORNADA_OCURRENCIA'] = \"\""
      ]
    },
    {
      "cell_type": "code",
      "execution_count": null,
      "metadata": {
        "id": "jLrNO9bs1f3k"
      },
      "outputs": [],
      "source": [
        "# 7. Poblamos las columnas creadas con la información de la columna de fecha de ocurrencia\n",
        "Horario['HORA_OCURRENCIA'] = Horario['HORA_OCURRENCIA_ACC'].str.split(':').str[0]\n",
        "\n",
        "Madrugada = [\"00\", \"01\", \"02\", \"03\", \"04\", \"05\"]\n",
        "Mañana = [\"06\", \"07\", \"08\", \"09\", \"10\", \"11\"]\n",
        "Tarde = [\"12\", \"13\", \"14\", \"15\", \"16\", \"17\"]\n",
        "Noche = [\"18\", \"19\", \"20\", \"21\", \"22\", \"23\"]\n",
        "\n",
        "for i in range(len(Horario['HORA_OCURRENCIA_ACC'])):\n",
        "  if Horario.loc[i,\"HORA_OCURRENCIA\"] in Madrugada:\n",
        "    Horario.loc[i,\"JORNADA_OCURRENCIA\"]=\"Madrugada\"\n",
        "  elif Horario.loc[i,\"HORA_OCURRENCIA\"] in Mañana:\n",
        "    Horario.loc[i,\"JORNADA_OCURRENCIA\"]=\"Mañana\"\n",
        "  elif Horario.loc[i,\"HORA_OCURRENCIA\"] in Tarde:\n",
        "    Horario.loc[i,\"JORNADA_OCURRENCIA\"]=\"Tarde\"\n",
        "  elif Horario.loc[i,\"HORA_OCURRENCIA\"] in Noche:\n",
        "    Horario.loc[i,\"JORNADA_OCURRENCIA\"]=\"Noche\"\n"
      ]
    },
    {
      "cell_type": "code",
      "execution_count": null,
      "metadata": {
        "id": "5rff1F8MF6IP",
        "colab": {
          "base_uri": "https://localhost:8080/"
        },
        "outputId": "0bb2bc3e-39f7-48a2-fb5b-30b1e24a1e6e"
      },
      "outputs": [
        {
          "output_type": "execute_result",
          "data": {
            "text/plain": [
              "                     Nulos  Registros % Nulos\n",
              "HORA_OCURRENCIA_ACC      0       1440   0.00%\n",
              "HORA_OCURRENCIA          0       1440   0.00%\n",
              "JORNADA_OCURRENCIA       0       1440   0.00%"
            ],
            "text/html": [
              "\n",
              "  <div id=\"df-4c318187-8de1-480b-919d-1b6960de9758\" class=\"colab-df-container\">\n",
              "    <div>\n",
              "<style scoped>\n",
              "    .dataframe tbody tr th:only-of-type {\n",
              "        vertical-align: middle;\n",
              "    }\n",
              "\n",
              "    .dataframe tbody tr th {\n",
              "        vertical-align: top;\n",
              "    }\n",
              "\n",
              "    .dataframe thead th {\n",
              "        text-align: right;\n",
              "    }\n",
              "</style>\n",
              "<table border=\"1\" class=\"dataframe\">\n",
              "  <thead>\n",
              "    <tr style=\"text-align: right;\">\n",
              "      <th></th>\n",
              "      <th>Nulos</th>\n",
              "      <th>Registros</th>\n",
              "      <th>% Nulos</th>\n",
              "    </tr>\n",
              "  </thead>\n",
              "  <tbody>\n",
              "    <tr>\n",
              "      <th>HORA_OCURRENCIA_ACC</th>\n",
              "      <td>0</td>\n",
              "      <td>1440</td>\n",
              "      <td>0.00%</td>\n",
              "    </tr>\n",
              "    <tr>\n",
              "      <th>HORA_OCURRENCIA</th>\n",
              "      <td>0</td>\n",
              "      <td>1440</td>\n",
              "      <td>0.00%</td>\n",
              "    </tr>\n",
              "    <tr>\n",
              "      <th>JORNADA_OCURRENCIA</th>\n",
              "      <td>0</td>\n",
              "      <td>1440</td>\n",
              "      <td>0.00%</td>\n",
              "    </tr>\n",
              "  </tbody>\n",
              "</table>\n",
              "</div>\n",
              "    <div class=\"colab-df-buttons\">\n",
              "\n",
              "  <div class=\"colab-df-container\">\n",
              "    <button class=\"colab-df-convert\" onclick=\"convertToInteractive('df-4c318187-8de1-480b-919d-1b6960de9758')\"\n",
              "            title=\"Convert this dataframe to an interactive table.\"\n",
              "            style=\"display:none;\">\n",
              "\n",
              "  <svg xmlns=\"http://www.w3.org/2000/svg\" height=\"24px\" viewBox=\"0 -960 960 960\">\n",
              "    <path d=\"M120-120v-720h720v720H120Zm60-500h600v-160H180v160Zm220 220h160v-160H400v160Zm0 220h160v-160H400v160ZM180-400h160v-160H180v160Zm440 0h160v-160H620v160ZM180-180h160v-160H180v160Zm440 0h160v-160H620v160Z\"/>\n",
              "  </svg>\n",
              "    </button>\n",
              "\n",
              "  <style>\n",
              "    .colab-df-container {\n",
              "      display:flex;\n",
              "      gap: 12px;\n",
              "    }\n",
              "\n",
              "    .colab-df-convert {\n",
              "      background-color: #E8F0FE;\n",
              "      border: none;\n",
              "      border-radius: 50%;\n",
              "      cursor: pointer;\n",
              "      display: none;\n",
              "      fill: #1967D2;\n",
              "      height: 32px;\n",
              "      padding: 0 0 0 0;\n",
              "      width: 32px;\n",
              "    }\n",
              "\n",
              "    .colab-df-convert:hover {\n",
              "      background-color: #E2EBFA;\n",
              "      box-shadow: 0px 1px 2px rgba(60, 64, 67, 0.3), 0px 1px 3px 1px rgba(60, 64, 67, 0.15);\n",
              "      fill: #174EA6;\n",
              "    }\n",
              "\n",
              "    .colab-df-buttons div {\n",
              "      margin-bottom: 4px;\n",
              "    }\n",
              "\n",
              "    [theme=dark] .colab-df-convert {\n",
              "      background-color: #3B4455;\n",
              "      fill: #D2E3FC;\n",
              "    }\n",
              "\n",
              "    [theme=dark] .colab-df-convert:hover {\n",
              "      background-color: #434B5C;\n",
              "      box-shadow: 0px 1px 3px 1px rgba(0, 0, 0, 0.15);\n",
              "      filter: drop-shadow(0px 1px 2px rgba(0, 0, 0, 0.3));\n",
              "      fill: #FFFFFF;\n",
              "    }\n",
              "  </style>\n",
              "\n",
              "    <script>\n",
              "      const buttonEl =\n",
              "        document.querySelector('#df-4c318187-8de1-480b-919d-1b6960de9758 button.colab-df-convert');\n",
              "      buttonEl.style.display =\n",
              "        google.colab.kernel.accessAllowed ? 'block' : 'none';\n",
              "\n",
              "      async function convertToInteractive(key) {\n",
              "        const element = document.querySelector('#df-4c318187-8de1-480b-919d-1b6960de9758');\n",
              "        const dataTable =\n",
              "          await google.colab.kernel.invokeFunction('convertToInteractive',\n",
              "                                                    [key], {});\n",
              "        if (!dataTable) return;\n",
              "\n",
              "        const docLinkHtml = 'Like what you see? Visit the ' +\n",
              "          '<a target=\"_blank\" href=https://colab.research.google.com/notebooks/data_table.ipynb>data table notebook</a>'\n",
              "          + ' to learn more about interactive tables.';\n",
              "        element.innerHTML = '';\n",
              "        dataTable['output_type'] = 'display_data';\n",
              "        await google.colab.output.renderOutput(dataTable, element);\n",
              "        const docLink = document.createElement('div');\n",
              "        docLink.innerHTML = docLinkHtml;\n",
              "        element.appendChild(docLink);\n",
              "      }\n",
              "    </script>\n",
              "  </div>\n",
              "\n",
              "\n",
              "<div id=\"df-a2a992de-1684-40ff-8a92-d678e7ce2f76\">\n",
              "  <button class=\"colab-df-quickchart\" onclick=\"quickchart('df-a2a992de-1684-40ff-8a92-d678e7ce2f76')\"\n",
              "            title=\"Suggest charts\"\n",
              "            style=\"display:none;\">\n",
              "\n",
              "<svg xmlns=\"http://www.w3.org/2000/svg\" height=\"24px\"viewBox=\"0 0 24 24\"\n",
              "     width=\"24px\">\n",
              "    <g>\n",
              "        <path d=\"M19 3H5c-1.1 0-2 .9-2 2v14c0 1.1.9 2 2 2h14c1.1 0 2-.9 2-2V5c0-1.1-.9-2-2-2zM9 17H7v-7h2v7zm4 0h-2V7h2v10zm4 0h-2v-4h2v4z\"/>\n",
              "    </g>\n",
              "</svg>\n",
              "  </button>\n",
              "\n",
              "<style>\n",
              "  .colab-df-quickchart {\n",
              "      --bg-color: #E8F0FE;\n",
              "      --fill-color: #1967D2;\n",
              "      --hover-bg-color: #E2EBFA;\n",
              "      --hover-fill-color: #174EA6;\n",
              "      --disabled-fill-color: #AAA;\n",
              "      --disabled-bg-color: #DDD;\n",
              "  }\n",
              "\n",
              "  [theme=dark] .colab-df-quickchart {\n",
              "      --bg-color: #3B4455;\n",
              "      --fill-color: #D2E3FC;\n",
              "      --hover-bg-color: #434B5C;\n",
              "      --hover-fill-color: #FFFFFF;\n",
              "      --disabled-bg-color: #3B4455;\n",
              "      --disabled-fill-color: #666;\n",
              "  }\n",
              "\n",
              "  .colab-df-quickchart {\n",
              "    background-color: var(--bg-color);\n",
              "    border: none;\n",
              "    border-radius: 50%;\n",
              "    cursor: pointer;\n",
              "    display: none;\n",
              "    fill: var(--fill-color);\n",
              "    height: 32px;\n",
              "    padding: 0;\n",
              "    width: 32px;\n",
              "  }\n",
              "\n",
              "  .colab-df-quickchart:hover {\n",
              "    background-color: var(--hover-bg-color);\n",
              "    box-shadow: 0 1px 2px rgba(60, 64, 67, 0.3), 0 1px 3px 1px rgba(60, 64, 67, 0.15);\n",
              "    fill: var(--button-hover-fill-color);\n",
              "  }\n",
              "\n",
              "  .colab-df-quickchart-complete:disabled,\n",
              "  .colab-df-quickchart-complete:disabled:hover {\n",
              "    background-color: var(--disabled-bg-color);\n",
              "    fill: var(--disabled-fill-color);\n",
              "    box-shadow: none;\n",
              "  }\n",
              "\n",
              "  .colab-df-spinner {\n",
              "    border: 2px solid var(--fill-color);\n",
              "    border-color: transparent;\n",
              "    border-bottom-color: var(--fill-color);\n",
              "    animation:\n",
              "      spin 1s steps(1) infinite;\n",
              "  }\n",
              "\n",
              "  @keyframes spin {\n",
              "    0% {\n",
              "      border-color: transparent;\n",
              "      border-bottom-color: var(--fill-color);\n",
              "      border-left-color: var(--fill-color);\n",
              "    }\n",
              "    20% {\n",
              "      border-color: transparent;\n",
              "      border-left-color: var(--fill-color);\n",
              "      border-top-color: var(--fill-color);\n",
              "    }\n",
              "    30% {\n",
              "      border-color: transparent;\n",
              "      border-left-color: var(--fill-color);\n",
              "      border-top-color: var(--fill-color);\n",
              "      border-right-color: var(--fill-color);\n",
              "    }\n",
              "    40% {\n",
              "      border-color: transparent;\n",
              "      border-right-color: var(--fill-color);\n",
              "      border-top-color: var(--fill-color);\n",
              "    }\n",
              "    60% {\n",
              "      border-color: transparent;\n",
              "      border-right-color: var(--fill-color);\n",
              "    }\n",
              "    80% {\n",
              "      border-color: transparent;\n",
              "      border-right-color: var(--fill-color);\n",
              "      border-bottom-color: var(--fill-color);\n",
              "    }\n",
              "    90% {\n",
              "      border-color: transparent;\n",
              "      border-bottom-color: var(--fill-color);\n",
              "    }\n",
              "  }\n",
              "</style>\n",
              "\n",
              "  <script>\n",
              "    async function quickchart(key) {\n",
              "      const quickchartButtonEl =\n",
              "        document.querySelector('#' + key + ' button');\n",
              "      quickchartButtonEl.disabled = true;  // To prevent multiple clicks.\n",
              "      quickchartButtonEl.classList.add('colab-df-spinner');\n",
              "      try {\n",
              "        const charts = await google.colab.kernel.invokeFunction(\n",
              "            'suggestCharts', [key], {});\n",
              "      } catch (error) {\n",
              "        console.error('Error during call to suggestCharts:', error);\n",
              "      }\n",
              "      quickchartButtonEl.classList.remove('colab-df-spinner');\n",
              "      quickchartButtonEl.classList.add('colab-df-quickchart-complete');\n",
              "    }\n",
              "    (() => {\n",
              "      let quickchartButtonEl =\n",
              "        document.querySelector('#df-a2a992de-1684-40ff-8a92-d678e7ce2f76 button');\n",
              "      quickchartButtonEl.style.display =\n",
              "        google.colab.kernel.accessAllowed ? 'block' : 'none';\n",
              "    })();\n",
              "  </script>\n",
              "</div>\n",
              "    </div>\n",
              "  </div>\n"
            ],
            "application/vnd.google.colaboratory.intrinsic+json": {
              "type": "dataframe",
              "variable_name": "resumen_NaN_Horario",
              "summary": "{\n  \"name\": \"resumen_NaN_Horario\",\n  \"rows\": 3,\n  \"fields\": [\n    {\n      \"column\": \"Nulos\",\n      \"properties\": {\n        \"dtype\": \"number\",\n        \"std\": 0,\n        \"min\": 0,\n        \"max\": 0,\n        \"num_unique_values\": 1,\n        \"samples\": [\n          0\n        ],\n        \"semantic_type\": \"\",\n        \"description\": \"\"\n      }\n    },\n    {\n      \"column\": \"Registros\",\n      \"properties\": {\n        \"dtype\": \"number\",\n        \"std\": 0,\n        \"min\": 1440,\n        \"max\": 1440,\n        \"num_unique_values\": 1,\n        \"samples\": [\n          1440\n        ],\n        \"semantic_type\": \"\",\n        \"description\": \"\"\n      }\n    },\n    {\n      \"column\": \"% Nulos\",\n      \"properties\": {\n        \"dtype\": \"category\",\n        \"num_unique_values\": 1,\n        \"samples\": [\n          \"0.00%\"\n        ],\n        \"semantic_type\": \"\",\n        \"description\": \"\"\n      }\n    }\n  ]\n}"
            }
          },
          "metadata": {},
          "execution_count": 152
        }
      ],
      "source": [
        "# 8. Contabilizamos valores nulos, e identificamos participación en el total de registros por columnas\n",
        "resumen_NaN_Horario = pd.DataFrame(Horario.isnull().sum())\n",
        "resumen_NaN_Horario.columns=['Nulos']\n",
        "resumen_NaN_Horario['Registros']=Horario.shape[0]\n",
        "resumen_NaN_Horario['% Nulos']=resumen_NaN_Horario.Nulos/resumen_NaN_Horario.Registros\n",
        "resumen_NaN_Horario['% Nulos']=resumen_NaN_Horario['% Nulos'].apply(\"{:.2%}\".format)\n",
        "resumen_NaN_Horario"
      ]
    },
    {
      "cell_type": "code",
      "execution_count": null,
      "metadata": {
        "id": "wHWlx7ru1f3k",
        "colab": {
          "base_uri": "https://localhost:8080/"
        },
        "outputId": "34e3b076-ea89-4cb1-f080-0befe76669e6"
      },
      "outputs": [
        {
          "output_type": "stream",
          "name": "stdout",
          "text": [
            "  HORA_OCURRENCIA_ACC HORA_OCURRENCIA JORNADA_OCURRENCIA\n",
            "0            05:30:00              05          Madrugada\n",
            "1            10:55:00              10             Mañana\n",
            "2            20:30:00              20              Noche\n",
            "3            14:58:00              14              Tarde\n",
            "4            21:25:00              21              Noche\n"
          ]
        }
      ],
      "source": [
        "print(Horario.head())"
      ]
    },
    {
      "cell_type": "code",
      "execution_count": null,
      "metadata": {
        "id": "gMXT_k-o1f3k",
        "colab": {
          "base_uri": "https://localhost:8080/"
        },
        "outputId": "9e8ef772-688b-4a5b-fcdd-d2b350ddb47d"
      },
      "outputs": [
        {
          "output_type": "stream",
          "name": "stdout",
          "text": [
            "Las variables almacenan la información en el siguiente formato: HORA_OCURRENCIA_ACC    object\n",
            "HORA_OCURRENCIA        object\n",
            "JORNADA_OCURRENCIA     object\n",
            "dtype: object\n"
          ]
        }
      ],
      "source": [
        "print('Las variables almacenan la información en el siguiente formato:', Horario.dtypes)"
      ]
    },
    {
      "cell_type": "markdown",
      "metadata": {
        "id": "BI_WCstbX1qo"
      },
      "source": [
        "### 3.15 Creación tabla Gravedad"
      ]
    },
    {
      "cell_type": "code",
      "execution_count": null,
      "metadata": {
        "id": "Ccz8rqIpX84T"
      },
      "outputs": [],
      "source": [
        "# 1. Crear la tabla de Gravedad con los campos necesarios\n",
        "Gravedad = pd.read_csv('/content/Accidente.csv')\n",
        "Gravedad = Gravedad[['GRAVEDAD']]"
      ]
    },
    {
      "cell_type": "code",
      "execution_count": null,
      "metadata": {
        "id": "3STCWnB3YH5a",
        "colab": {
          "base_uri": "https://localhost:8080/"
        },
        "outputId": "7bc6458e-0121-4297-cfaa-5bbaeb69f1c7"
      },
      "outputs": [
        {
          "output_type": "stream",
          "name": "stdout",
          "text": [
            "El DataFrame está compuesto por 472,767 filas y 1 columnas\n"
          ]
        }
      ],
      "source": [
        "# 2. Revisión de la Estructura del Dataset\n",
        "print('El DataFrame está compuesto por {:,}'.format(Gravedad.shape[0]),'filas y',Gravedad.shape[1],'columnas')"
      ]
    },
    {
      "cell_type": "code",
      "execution_count": null,
      "metadata": {
        "id": "tXYhPo4JYOfJ"
      },
      "outputs": [],
      "source": [
        "# 3. Eliminamos los duplicados\n",
        "Gravedad = Gravedad.drop_duplicates()"
      ]
    },
    {
      "cell_type": "code",
      "execution_count": null,
      "metadata": {
        "id": "FrDVhCDiYPda"
      },
      "outputs": [],
      "source": [
        "# 4. Eliminamos los valores vacíos\n",
        "Gravedad = Gravedad.dropna()"
      ]
    },
    {
      "cell_type": "code",
      "execution_count": null,
      "metadata": {
        "id": "YCWVzRJRYQqy",
        "colab": {
          "base_uri": "https://localhost:8080/"
        },
        "outputId": "0451e6dd-0bbb-450f-9b4f-c64f92fb15a5"
      },
      "outputs": [
        {
          "output_type": "stream",
          "name": "stdout",
          "text": [
            "El DataFrame está compuesto por 3 filas y 1 columnas\n"
          ]
        }
      ],
      "source": [
        "# 5. Reseteamos el ínidce y confimamos  de la Estructura del Dataset\n",
        "Gravedad = Gravedad.reset_index(drop=True)\n",
        "print('El DataFrame está compuesto por {:,}'.format(Gravedad.shape[0]),'filas y',Gravedad.shape[1],'columnas')"
      ]
    },
    {
      "cell_type": "code",
      "execution_count": null,
      "metadata": {
        "id": "KNFOpQuGBvBU"
      },
      "outputs": [],
      "source": [
        "#6. Creamos codigo de gravedad\n",
        "Gravedad['COD_GRAVEDAD']=Gravedad.index+1"
      ]
    },
    {
      "cell_type": "code",
      "execution_count": null,
      "metadata": {
        "id": "pm70stBgYwmy",
        "colab": {
          "base_uri": "https://localhost:8080/"
        },
        "outputId": "01fbce0c-677b-44fe-bc0d-6a69bf6a2e45"
      },
      "outputs": [
        {
          "output_type": "stream",
          "name": "stdout",
          "text": [
            "      GRAVEDAD  COD_GRAVEDAD\n",
            "0   SOLO DANOS             1\n",
            "1  CON HERIDOS             2\n",
            "2  CON MUERTOS             3\n"
          ]
        }
      ],
      "source": [
        "print(Gravedad.head())"
      ]
    },
    {
      "cell_type": "code",
      "execution_count": null,
      "metadata": {
        "id": "fC2NSPb6In6l"
      },
      "outputs": [],
      "source": [
        "Gravedad[\"COD_GRAVEDAD\"] = pd.to_numeric(Gravedad[\"COD_GRAVEDAD\"] , downcast=\"float\", errors=\"coerce\")\n",
        "Gravedad[\"COD_GRAVEDAD\"] = Gravedad[\"COD_GRAVEDAD\"].astype(float)"
      ]
    },
    {
      "cell_type": "code",
      "execution_count": null,
      "metadata": {
        "id": "0n6VaFLAIptA",
        "colab": {
          "base_uri": "https://localhost:8080/"
        },
        "outputId": "8b189615-e53d-49ad-aa5d-14ec71c45b8c"
      },
      "outputs": [
        {
          "output_type": "stream",
          "name": "stdout",
          "text": [
            "Las variables almacenan la información en el siguiente formato: GRAVEDAD         object\n",
            "COD_GRAVEDAD    float64\n",
            "dtype: object\n"
          ]
        }
      ],
      "source": [
        "print('Las variables almacenan la información en el siguiente formato:', Gravedad.dtypes)"
      ]
    },
    {
      "cell_type": "markdown",
      "metadata": {
        "id": "aNNo038LX9PC"
      },
      "source": [
        "### 3.16 Creación tabla Clase_Accidente"
      ]
    },
    {
      "cell_type": "code",
      "execution_count": null,
      "metadata": {
        "id": "dm31EIOSYBvW"
      },
      "outputs": [],
      "source": [
        "# 1. Crear la tabla de Clase_Accidente con los campos necesarios\n",
        "Clase_Accidente = pd.read_csv('/content/Accidente.csv')\n",
        "Clase_Accidente = Clase_Accidente[['CLASE_ACC']]"
      ]
    },
    {
      "cell_type": "code",
      "execution_count": null,
      "metadata": {
        "id": "4h5VuSHnY2VH",
        "colab": {
          "base_uri": "https://localhost:8080/"
        },
        "outputId": "80ce8ac7-2c71-48b7-80ff-256675115cec"
      },
      "outputs": [
        {
          "output_type": "stream",
          "name": "stdout",
          "text": [
            "El DataFrame está compuesto por 472,767 filas y 1 columnas\n"
          ]
        }
      ],
      "source": [
        "# 2. Revisión de la Estructura del Dataset\n",
        "print('El DataFrame está compuesto por {:,}'.format(Clase_Accidente.shape[0]),'filas y',Clase_Accidente.shape[1],'columnas')"
      ]
    },
    {
      "cell_type": "code",
      "execution_count": null,
      "metadata": {
        "id": "oNtk4bPtY3ao"
      },
      "outputs": [],
      "source": [
        "# 3. Eliminamos los duplicados\n",
        "Clase_Accidente = Clase_Accidente.drop_duplicates()"
      ]
    },
    {
      "cell_type": "code",
      "execution_count": null,
      "metadata": {
        "id": "uVv9tMLLY4ag"
      },
      "outputs": [],
      "source": [
        "# 4. Eliminamos los valores vacíos\n",
        "Clase_Accidente = Clase_Accidente.dropna()"
      ]
    },
    {
      "cell_type": "code",
      "execution_count": null,
      "metadata": {
        "id": "eF9kRM90Y5Ps",
        "colab": {
          "base_uri": "https://localhost:8080/"
        },
        "outputId": "1bf0155b-c463-414f-d8cd-81cc72f7741a"
      },
      "outputs": [
        {
          "output_type": "stream",
          "name": "stdout",
          "text": [
            "El DataFrame está compuesto por 7 filas y 1 columnas\n"
          ]
        }
      ],
      "source": [
        "# 4. Reseteamos el ínidce y confimamos  de la Estructura del Dataset\n",
        "Clase_Accidente = Clase_Accidente.reset_index(drop=True)\n",
        "print('El DataFrame está compuesto por {:,}'.format(Clase_Accidente.shape[0]),'filas y',Clase_Accidente.shape[1],'columnas')"
      ]
    },
    {
      "cell_type": "code",
      "execution_count": null,
      "metadata": {
        "id": "4hF3NowzCvT-"
      },
      "outputs": [],
      "source": [
        "#6. Creamos codigo de Clase_Accidente\n",
        "Clase_Accidente['COD_CLASE_ACC']=Clase_Accidente.index+1"
      ]
    },
    {
      "cell_type": "code",
      "execution_count": null,
      "metadata": {
        "id": "ixFCq6LbZYRT",
        "colab": {
          "base_uri": "https://localhost:8080/"
        },
        "outputId": "cc14f3db-0fef-4e96-ab86-d54a513cc9c8"
      },
      "outputs": [
        {
          "output_type": "stream",
          "name": "stdout",
          "text": [
            "           CLASE_ACC  COD_CLASE_ACC\n",
            "0             CHOQUE              1\n",
            "1          ATROPELLO              2\n",
            "2         AUTOLESION              3\n",
            "3        VOLCAMIENTO              4\n",
            "4               OTRO              5\n",
            "5  CAIDA DE OCUPANTE              6\n",
            "6           INCENDIO              7\n"
          ]
        }
      ],
      "source": [
        "print(Clase_Accidente.head(7))"
      ]
    },
    {
      "cell_type": "code",
      "execution_count": null,
      "metadata": {
        "id": "3BqFUNW8I2PD"
      },
      "outputs": [],
      "source": [
        "Clase_Accidente[\"COD_CLASE_ACC\"] = pd.to_numeric(Clase_Accidente[\"COD_CLASE_ACC\"] , downcast=\"float\", errors=\"coerce\")\n",
        "Clase_Accidente[\"COD_CLASE_ACC\"] = Clase_Accidente[\"COD_CLASE_ACC\"].astype(float)"
      ]
    },
    {
      "cell_type": "code",
      "execution_count": null,
      "metadata": {
        "id": "FIEvwqXKI3lK",
        "colab": {
          "base_uri": "https://localhost:8080/"
        },
        "outputId": "b7a67d5c-77a2-4bd3-f6db-0080ffa74031"
      },
      "outputs": [
        {
          "output_type": "stream",
          "name": "stdout",
          "text": [
            "Las variables almacenan la información en el siguiente formato: CLASE_ACC         object\n",
            "COD_CLASE_ACC    float64\n",
            "dtype: object\n"
          ]
        }
      ],
      "source": [
        "print('Las variables almacenan la información en el siguiente formato:', Clase_Accidente.dtypes)"
      ]
    },
    {
      "cell_type": "markdown",
      "metadata": {
        "id": "IakBGWzPYB9I"
      },
      "source": [
        "### 3.17 Creación tabla Localidad"
      ]
    },
    {
      "cell_type": "code",
      "execution_count": null,
      "metadata": {
        "id": "IQ1L5I9dZdVk"
      },
      "outputs": [],
      "source": [
        "# 1. Crear la tabla de Localidad con los campos necesarios\n",
        "Localidad = pd.read_csv('/content/Accidente.csv')\n",
        "Localidad = Localidad[['LOCALIDAD']]"
      ]
    },
    {
      "cell_type": "code",
      "execution_count": null,
      "metadata": {
        "id": "GUUaU_9bZe3U",
        "colab": {
          "base_uri": "https://localhost:8080/"
        },
        "outputId": "8e6b43b2-569d-4b02-aa30-e8b182e3c1d0"
      },
      "outputs": [
        {
          "output_type": "stream",
          "name": "stdout",
          "text": [
            "El DataFrame está compuesto por 472,767 filas y 1 columnas\n"
          ]
        }
      ],
      "source": [
        "# 2. Revisión de la Estructura del Dataset\n",
        "print('El DataFrame está compuesto por {:,}'.format(Localidad.shape[0]),'filas y',Localidad.shape[1],'columnas')"
      ]
    },
    {
      "cell_type": "code",
      "execution_count": null,
      "metadata": {
        "id": "uHoyiVjwZf6s"
      },
      "outputs": [],
      "source": [
        "# 3. Eliminamos los duplicados\n",
        "Localidad = Localidad.drop_duplicates()"
      ]
    },
    {
      "cell_type": "code",
      "execution_count": null,
      "metadata": {
        "id": "UGl7tQ0tZg-l"
      },
      "outputs": [],
      "source": [
        "# 4. Eliminamos los valores vacíos\n",
        "Localidad = Localidad.dropna()"
      ]
    },
    {
      "cell_type": "code",
      "execution_count": null,
      "metadata": {
        "id": "Ovdd02yjZh2T",
        "colab": {
          "base_uri": "https://localhost:8080/"
        },
        "outputId": "62029842-099d-4a38-dcc2-072603f21590"
      },
      "outputs": [
        {
          "output_type": "stream",
          "name": "stdout",
          "text": [
            "El DataFrame está compuesto por 20 filas y 1 columnas\n"
          ]
        }
      ],
      "source": [
        "# 4. Reseteamos el ínidce y confimamos  de la Estructura del Dataset\n",
        "Localidad = Localidad.reset_index(drop=True)\n",
        "print('El DataFrame está compuesto por {:,}'.format(Localidad.shape[0]),'filas y',Localidad.shape[1],'columnas')"
      ]
    },
    {
      "cell_type": "code",
      "execution_count": null,
      "metadata": {
        "id": "HgeWSpJCC30J"
      },
      "outputs": [],
      "source": [
        "#6. Creamos codigo de Localidad\n",
        "Localidad['COD_LOCALIDAD']=Localidad.index+1"
      ]
    },
    {
      "cell_type": "code",
      "execution_count": null,
      "metadata": {
        "id": "2qyhvDN9Zv13",
        "colab": {
          "base_uri": "https://localhost:8080/"
        },
        "outputId": "7d4248aa-d6df-4ba3-f445-bdc7f53dd2c9"
      },
      "outputs": [
        {
          "output_type": "stream",
          "name": "stdout",
          "text": [
            "             LOCALIDAD  COD_LOCALIDAD\n",
            "0             ENGATIVA              1\n",
            "1            CHAPINERO              2\n",
            "2                 SUBA              3\n",
            "3             FONTIBON              4\n",
            "4       CIUDAD BOLIVAR              5\n",
            "5         LOS MARTIRES              6\n",
            "6             SANTA FE              7\n",
            "7                 BOSA              8\n",
            "8              USAQUEN              9\n",
            "9              KENNEDY             10\n",
            "10  RAFAEL URIBE URIBE             11\n",
            "11         TEUSAQUILLO             12\n",
            "12       SAN CRISTOBAL             13\n",
            "13       PUENTE ARANDA             14\n",
            "14          TUNJUELITO             15\n",
            "15      ANTONIO NARINO             16\n",
            "16                USME             17\n",
            "17      BARRIOS UNIDOS             18\n",
            "18          CANDELARIA             19\n",
            "19             SUMAPAZ             20\n"
          ]
        }
      ],
      "source": [
        "print(Localidad.head(20))"
      ]
    },
    {
      "cell_type": "code",
      "execution_count": null,
      "metadata": {
        "id": "2BW0B7HRJA1o"
      },
      "outputs": [],
      "source": [
        "Localidad[\"COD_LOCALIDAD\"] = pd.to_numeric(Localidad[\"COD_LOCALIDAD\"] , downcast=\"float\", errors=\"coerce\")\n",
        "Localidad[\"COD_LOCALIDAD\"] = Localidad[\"COD_LOCALIDAD\"].astype(float)"
      ]
    },
    {
      "cell_type": "code",
      "execution_count": null,
      "metadata": {
        "id": "AD9aknhHJCCY",
        "colab": {
          "base_uri": "https://localhost:8080/"
        },
        "outputId": "cac298aa-a356-45a2-962d-538b44d6db69"
      },
      "outputs": [
        {
          "output_type": "stream",
          "name": "stdout",
          "text": [
            "Las variables almacenan la información en el siguiente formato: LOCALIDAD         object\n",
            "COD_LOCALIDAD    float64\n",
            "dtype: object\n"
          ]
        }
      ],
      "source": [
        "print('Las variables almacenan la información en el siguiente formato:', Localidad.dtypes)"
      ]
    },
    {
      "cell_type": "markdown",
      "metadata": {
        "id": "544b41WmpU-x"
      },
      "source": [
        "### 3.18 Creación tabla Descripcion_Causa"
      ]
    },
    {
      "cell_type": "code",
      "execution_count": null,
      "metadata": {
        "id": "dKEI_l4DpU-3",
        "colab": {
          "base_uri": "https://localhost:8080/"
        },
        "outputId": "892eca38-5c14-4364-ea32-24e30eaa11ca"
      },
      "outputs": [
        {
          "output_type": "stream",
          "name": "stderr",
          "text": [
            "<ipython-input-182-40184f6d4205>:2: DtypeWarning: Columns (4) have mixed types. Specify dtype option on import or set low_memory=False.\n",
            "  Describe_Causa = pd.read_csv('/content/Causa.csv')\n"
          ]
        }
      ],
      "source": [
        "# 1. Crear la tabla de Describe_Causa con los campos necesarios\n",
        "Describe_Causa = pd.read_csv('/content/Causa.csv')\n",
        "Describe_Causa = Describe_Causa[['CODIGO_CAUSA', 'NOMBRE']]"
      ]
    },
    {
      "cell_type": "code",
      "execution_count": null,
      "metadata": {
        "id": "tfdE-l_UpU-3",
        "colab": {
          "base_uri": "https://localhost:8080/"
        },
        "outputId": "bba7f507-f1fd-4cca-d201-af693dc81b9b"
      },
      "outputs": [
        {
          "output_type": "stream",
          "name": "stdout",
          "text": [
            "El DataFrame está compuesto por 682,392 filas y 2 columnas\n"
          ]
        }
      ],
      "source": [
        "# 2. Revisión de la Estructura del Dataset\n",
        "print('El DataFrame está compuesto por {:,}'.format(Describe_Causa.shape[0]),'filas y',Describe_Causa.shape[1],'columnas')"
      ]
    },
    {
      "cell_type": "code",
      "execution_count": null,
      "metadata": {
        "id": "hk7LxKrrpU-4"
      },
      "outputs": [],
      "source": [
        "# 3. Obligamos a que el código causa sea interpretado como número\n",
        "Describe_Causa[\"CODIGO_CAUSA\"] = pd.to_numeric(Describe_Causa[\"CODIGO_CAUSA\"] , downcast=\"float\", errors=\"coerce\")\n",
        "Describe_Causa[\"CODIGO_CAUSA\"] = Describe_Causa[\"CODIGO_CAUSA\"].astype(float)"
      ]
    },
    {
      "cell_type": "code",
      "execution_count": null,
      "metadata": {
        "id": "qOoP9O-NpU-3"
      },
      "outputs": [],
      "source": [
        "# 4. Eliminamos los duplicados\n",
        "Describe_Causa = Describe_Causa.drop_duplicates()"
      ]
    },
    {
      "cell_type": "code",
      "execution_count": null,
      "metadata": {
        "id": "uPSY_oXopU-3"
      },
      "outputs": [],
      "source": [
        "# 5. Eliminamos los valores vacíos\n",
        "Describe_Causa = Describe_Causa.dropna()"
      ]
    },
    {
      "cell_type": "code",
      "execution_count": null,
      "metadata": {
        "id": "1Ji4SG6GpU-3",
        "colab": {
          "base_uri": "https://localhost:8080/"
        },
        "outputId": "22ae9ba4-0995-4cea-a46d-56bdee6bdb81"
      },
      "outputs": [
        {
          "output_type": "stream",
          "name": "stdout",
          "text": [
            "El DataFrame está compuesto por 110 filas y 2 columnas\n"
          ]
        }
      ],
      "source": [
        "# 6. Reseteamos el ínidce y confirmamos la Estructura del Dataset\n",
        "Describe_Causa = Describe_Causa.reset_index(drop=True)\n",
        "print('El DataFrame está compuesto por {:,}'.format(Describe_Causa.shape[0]),'filas y',Describe_Causa.shape[1],'columnas')"
      ]
    },
    {
      "cell_type": "code",
      "execution_count": null,
      "metadata": {
        "id": "oOJs4xYdpU-3",
        "colab": {
          "base_uri": "https://localhost:8080/"
        },
        "outputId": "fe901e6d-95d8-4a5e-85de-6fcc0255acdc"
      },
      "outputs": [
        {
          "output_type": "stream",
          "name": "stdout",
          "text": [
            "   CODIGO_CAUSA                                        NOMBRE\n",
            "0         157.0                                          OTRA\n",
            "1         121.0            NO MANTENER DISTANCIA DE SEGURIDAD\n",
            "2         143.0  PONER EN MARCHA UN VEHICULO SIN PRECAUCIONES\n",
            "3         139.0          NO UTILIZAR - IMPERICIA EN EL MANEJO\n",
            "4         103.0                            ADELANTAR CERRANDO\n",
            "5         104.0                      ADELANTAR INVADIENDO VIA\n"
          ]
        }
      ],
      "source": [
        "print(Describe_Causa.head(6))"
      ]
    },
    {
      "cell_type": "code",
      "execution_count": null,
      "metadata": {
        "id": "aaIqHldEpU-4",
        "colab": {
          "base_uri": "https://localhost:8080/"
        },
        "outputId": "5258008c-3eaf-4022-88af-1d608412a2cf"
      },
      "outputs": [
        {
          "output_type": "stream",
          "name": "stdout",
          "text": [
            "Las variables almacenan la información en el siguiente formato: CODIGO_CAUSA    float64\n",
            "NOMBRE           object\n",
            "dtype: object\n"
          ]
        }
      ],
      "source": [
        "print('Las variables almacenan la información en el siguiente formato:', Describe_Causa.dtypes)"
      ]
    },
    {
      "cell_type": "markdown",
      "metadata": {
        "id": "8QXZCHwUpg1I"
      },
      "source": [
        "### 3.19 Creación tabla Tipo_Causa"
      ]
    },
    {
      "cell_type": "code",
      "execution_count": null,
      "metadata": {
        "id": "B9d7kEkLpg1J",
        "colab": {
          "base_uri": "https://localhost:8080/"
        },
        "outputId": "7117d3f9-e73b-4fdd-ef4e-2a8a07b9e7b1"
      },
      "outputs": [
        {
          "output_type": "stream",
          "name": "stderr",
          "text": [
            "<ipython-input-190-07d70b2b9ea2>:2: DtypeWarning: Columns (4) have mixed types. Specify dtype option on import or set low_memory=False.\n",
            "  Tipo_Causa = pd.read_csv('/content/Causa.csv')\n"
          ]
        }
      ],
      "source": [
        "# 1. Crear la tabla de Tipo_Causa con los campos necesarios\n",
        "Tipo_Causa = pd.read_csv('/content/Causa.csv')\n",
        "Tipo_Causa = Tipo_Causa[['TIPO', 'TIPO_CAUSA']]"
      ]
    },
    {
      "cell_type": "code",
      "execution_count": null,
      "metadata": {
        "id": "R8XIcLWzpg1J",
        "colab": {
          "base_uri": "https://localhost:8080/"
        },
        "outputId": "6060fe44-f2d7-45ab-c0a0-50b57f12017e"
      },
      "outputs": [
        {
          "output_type": "stream",
          "name": "stdout",
          "text": [
            "El DataFrame está compuesto por 682,392 filas y 2 columnas\n"
          ]
        }
      ],
      "source": [
        "# 2. Revisión de la Estructura del Dataset\n",
        "print('El DataFrame está compuesto por {:,}'.format(Tipo_Causa.shape[0]),'filas y',Tipo_Causa.shape[1],'columnas')"
      ]
    },
    {
      "cell_type": "code",
      "execution_count": null,
      "metadata": {
        "id": "rkbvzZ2Upg1J"
      },
      "outputs": [],
      "source": [
        "# 3. Eliminamos los duplicados\n",
        "Tipo_Causa = Tipo_Causa.drop_duplicates()"
      ]
    },
    {
      "cell_type": "code",
      "execution_count": null,
      "metadata": {
        "id": "-1p5HvMupg1J"
      },
      "outputs": [],
      "source": [
        "# 4. Eliminamos los valores vacíos\n",
        "Tipo_Causa = Tipo_Causa.dropna()"
      ]
    },
    {
      "cell_type": "code",
      "execution_count": null,
      "metadata": {
        "id": "qJRPo2Hgpg1J",
        "colab": {
          "base_uri": "https://localhost:8080/"
        },
        "outputId": "a2cec329-4d03-42df-fb1e-cbf6923e57cb"
      },
      "outputs": [
        {
          "output_type": "stream",
          "name": "stdout",
          "text": [
            "El DataFrame está compuesto por 6 filas y 2 columnas\n"
          ]
        }
      ],
      "source": [
        "# 5. Reseteamos el ínidce y confirmamos la Estructura del Dataset\n",
        "Tipo_Causa = Tipo_Causa.reset_index(drop=True)\n",
        "print('El DataFrame está compuesto por {:,}'.format(Tipo_Causa.shape[0]),'filas y',Tipo_Causa.shape[1],'columnas')"
      ]
    },
    {
      "cell_type": "code",
      "execution_count": null,
      "metadata": {
        "id": "XXBXI2y7pg1J",
        "colab": {
          "base_uri": "https://localhost:8080/"
        },
        "outputId": "015f04c7-fbcc-4138-9954-ad3981e05b81"
      },
      "outputs": [
        {
          "output_type": "stream",
          "name": "stdout",
          "text": [
            "  TIPO TIPO_CAUSA\n",
            "0   CG  CONDUCTOR\n",
            "1   VI        VIA\n",
            "2   CE  CONDUCTOR\n",
            "3   VH   VEHICULO\n",
            "4   PE     PEATON\n",
            "5   PA   PASAJERO\n"
          ]
        }
      ],
      "source": [
        "print(Tipo_Causa.head(6))"
      ]
    },
    {
      "cell_type": "code",
      "execution_count": null,
      "metadata": {
        "id": "LW--Oxcwpg1K",
        "colab": {
          "base_uri": "https://localhost:8080/"
        },
        "outputId": "ed60bd9d-e75a-4cd9-8a1c-02e0f2e8b351"
      },
      "outputs": [
        {
          "output_type": "stream",
          "name": "stdout",
          "text": [
            "Las variables almacenan la información en el siguiente formato: TIPO          object\n",
            "TIPO_CAUSA    object\n",
            "dtype: object\n"
          ]
        }
      ],
      "source": [
        "print('Las variables almacenan la información en el siguiente formato:', Tipo_Causa.dtypes)"
      ]
    },
    {
      "cell_type": "markdown",
      "metadata": {
        "id": "E4NUTCX3wa-P"
      },
      "source": [
        "### 3.20 Creación tabla Clase_Vehiculo"
      ]
    },
    {
      "cell_type": "code",
      "execution_count": null,
      "metadata": {
        "id": "hC_tUi66wa-P",
        "colab": {
          "base_uri": "https://localhost:8080/"
        },
        "outputId": "9adaca27-d13d-43ff-deb8-daa0dfbc23bd"
      },
      "outputs": [
        {
          "output_type": "stream",
          "name": "stderr",
          "text": [
            "<ipython-input-197-6579a86053bf>:2: DtypeWarning: Columns (1,6,7) have mixed types. Specify dtype option on import or set low_memory=False.\n",
            "  Clase_Vh = pd.read_csv('/content/Vehiculo.csv')\n"
          ]
        }
      ],
      "source": [
        "# 1. Crear la tabla de Tipo_Causa con los campos necesarios\n",
        "Clase_Vh = pd.read_csv('/content/Vehiculo.csv')\n",
        "Clase_Vh = Clase_Vh[['CLASE']]"
      ]
    },
    {
      "cell_type": "code",
      "execution_count": null,
      "metadata": {
        "id": "2P5uKV1_wa-P",
        "colab": {
          "base_uri": "https://localhost:8080/"
        },
        "outputId": "68c288bf-4488-4b0d-9473-e6fc2da67d36"
      },
      "outputs": [
        {
          "output_type": "stream",
          "name": "stdout",
          "text": [
            "El DataFrame está compuesto por 1,441,024 filas y 1 columnas\n"
          ]
        }
      ],
      "source": [
        "# 2. Revisión de la Estructura del Dataset\n",
        "print('El DataFrame está compuesto por {:,}'.format(Clase_Vh.shape[0]),'filas y',Clase_Vh.shape[1],'columnas')"
      ]
    },
    {
      "cell_type": "code",
      "execution_count": null,
      "metadata": {
        "id": "mWpmLABqwa-Q"
      },
      "outputs": [],
      "source": [
        "# 3. Eliminamos los duplicados\n",
        "Clase_Vh = Clase_Vh.drop_duplicates()"
      ]
    },
    {
      "cell_type": "code",
      "execution_count": null,
      "metadata": {
        "id": "M70MzShAwa-Q"
      },
      "outputs": [],
      "source": [
        "# 4. Eliminamos los valores vacíos\n",
        "Clase_Vh = Clase_Vh.dropna()"
      ]
    },
    {
      "cell_type": "code",
      "execution_count": null,
      "metadata": {
        "id": "S0j5MXTnwa-Q",
        "colab": {
          "base_uri": "https://localhost:8080/"
        },
        "outputId": "d88dc048-5cb9-40a4-8d3c-dc5aca23f44e"
      },
      "outputs": [
        {
          "output_type": "stream",
          "name": "stdout",
          "text": [
            "El DataFrame está compuesto por 27 filas y 1 columnas\n"
          ]
        }
      ],
      "source": [
        "# 5. Reseteamos el ínidce y confirmamos la Estructura del Dataset\n",
        "Clase_Vh = Clase_Vh.reset_index(drop=True)\n",
        "print('El DataFrame está compuesto por {:,}'.format(Clase_Vh.shape[0]),'filas y',Clase_Vh.shape[1],'columnas')"
      ]
    },
    {
      "cell_type": "code",
      "execution_count": null,
      "metadata": {
        "id": "z8pEUV81xMEH"
      },
      "outputs": [],
      "source": [
        "# 6. Creamos codigo de Clase\n",
        "Clase_Vh['COD_CLASE']=Clase_Vh.index+1"
      ]
    },
    {
      "cell_type": "code",
      "execution_count": null,
      "metadata": {
        "id": "sLUsrK6-uSQt"
      },
      "outputs": [],
      "source": [
        "# 7. Corregir el registro en el que dice AMBULACIA por AMBULANCIA\n",
        "if 'AMBULACIA' in Clase_Vh['CLASE'].values:\n",
        "  Clase_Vh['CLASE'] = Clase_Vh['CLASE'].replace('AMBULACIA', 'AMBULANCIA')"
      ]
    },
    {
      "cell_type": "code",
      "execution_count": null,
      "metadata": {
        "id": "P7iJzBz6wa-Q",
        "colab": {
          "base_uri": "https://localhost:8080/"
        },
        "outputId": "5f8cecb6-5647-4a5b-dbf7-6e1205bd69f7"
      },
      "outputs": [
        {
          "output_type": "stream",
          "name": "stdout",
          "text": [
            "              CLASE  COD_CLASE\n",
            "0       MOTOCICLETA          1\n",
            "1         AUTOMOVIL          2\n",
            "2               BUS          3\n",
            "3      TRACTOCAMION          4\n",
            "4    CAMION, FURGON          5\n",
            "5         CAMIONETA          6\n",
            "6          MICROBUS          7\n",
            "7           CAMPERO          8\n",
            "8            BUSETA          9\n",
            "9          VOLQUETA         10\n",
            "10        MOTOCARRO         11\n",
            "11        BICICLETA         12\n",
            "12  NO IDENTIFICADO         13\n",
            "13  TRACCION ANIMAL         14\n",
            "14             OTRO         15\n",
            "15        MOTOCICLO         16\n",
            "16    M. INDUSTRIAL         17\n",
            "17      M. AGRICOLA         18\n",
            "18   BUS ARTICULADO         19\n",
            "19  BUS ALIMENTADOR         20\n",
            "20            METRO         21\n",
            "21       AMBULANCIA         22\n",
            "22             TREN         23\n",
            "23         BICITAXI         24\n",
            "24       CUATRIMOTO         25\n",
            "25         REMOLQUE         26\n",
            "26    SEMI-REMOLQUE         27\n"
          ]
        }
      ],
      "source": [
        "print(Clase_Vh.head(27))"
      ]
    },
    {
      "cell_type": "code",
      "execution_count": null,
      "metadata": {
        "id": "JdTn-npFxn2d"
      },
      "outputs": [],
      "source": [
        "Clase_Vh[\"COD_CLASE\"] = pd.to_numeric(Clase_Vh[\"COD_CLASE\"] , downcast=\"float\", errors=\"coerce\")\n",
        "Clase_Vh[\"COD_CLASE\"] = Clase_Vh[\"COD_CLASE\"].astype(float)"
      ]
    },
    {
      "cell_type": "code",
      "execution_count": null,
      "metadata": {
        "id": "-kMCbDPfwa-R",
        "colab": {
          "base_uri": "https://localhost:8080/"
        },
        "outputId": "380d48a1-1bbe-4feb-c535-c3235c4eb4c0"
      },
      "outputs": [
        {
          "output_type": "stream",
          "name": "stdout",
          "text": [
            "Las variables almacenan la información en el siguiente formato: CLASE         object\n",
            "COD_CLASE    float64\n",
            "dtype: object\n"
          ]
        }
      ],
      "source": [
        "print('Las variables almacenan la información en el siguiente formato:', Clase_Vh.dtypes)"
      ]
    },
    {
      "cell_type": "markdown",
      "metadata": {
        "id": "hjeDC_ZOwkzQ"
      },
      "source": [
        "### 3.21 Creación tabla Servicio"
      ]
    },
    {
      "cell_type": "code",
      "execution_count": null,
      "metadata": {
        "id": "JIKRAZiIwkzf",
        "colab": {
          "base_uri": "https://localhost:8080/"
        },
        "outputId": "47c5887b-fd3c-40b9-92e9-10dd36faa840"
      },
      "outputs": [
        {
          "output_type": "stream",
          "name": "stderr",
          "text": [
            "<ipython-input-207-33956d71d8ba>:2: DtypeWarning: Columns (1,6,7) have mixed types. Specify dtype option on import or set low_memory=False.\n",
            "  Servicio = pd.read_csv('/content/Vehiculo.csv')\n"
          ]
        }
      ],
      "source": [
        "# 1. Crear la tabla de Servicio con los campos necesarios\n",
        "Servicio = pd.read_csv('/content/Vehiculo.csv')\n",
        "Servicio = Servicio[['SERVICIO']]"
      ]
    },
    {
      "cell_type": "code",
      "execution_count": null,
      "metadata": {
        "id": "3uofikrpwkzf",
        "colab": {
          "base_uri": "https://localhost:8080/"
        },
        "outputId": "6fdcbdd8-2045-4676-a7e4-1f71551fd75e"
      },
      "outputs": [
        {
          "output_type": "stream",
          "name": "stdout",
          "text": [
            "El DataFrame está compuesto por 1,441,024 filas y 1 columnas\n"
          ]
        }
      ],
      "source": [
        "# 2. Revisión de la Estructura del Dataset\n",
        "print('El DataFrame está compuesto por {:,}'.format(Servicio.shape[0]),'filas y',Servicio.shape[1],'columnas')"
      ]
    },
    {
      "cell_type": "code",
      "execution_count": null,
      "metadata": {
        "id": "87JWpx0Mwkzf"
      },
      "outputs": [],
      "source": [
        "# 3. Eliminamos los duplicados\n",
        "Servicio = Servicio.drop_duplicates()"
      ]
    },
    {
      "cell_type": "code",
      "execution_count": null,
      "metadata": {
        "id": "_UW4eKa3wkzf"
      },
      "outputs": [],
      "source": [
        "# 4. Eliminamos los valores vacíos\n",
        "Servicio = Servicio.dropna()"
      ]
    },
    {
      "cell_type": "code",
      "execution_count": null,
      "metadata": {
        "id": "PYxvb89hwkzg",
        "colab": {
          "base_uri": "https://localhost:8080/"
        },
        "outputId": "48b486c9-ae6a-4659-a1f3-38ca4a09e842"
      },
      "outputs": [
        {
          "output_type": "stream",
          "name": "stdout",
          "text": [
            "El DataFrame está compuesto por 5 filas y 1 columnas\n"
          ]
        }
      ],
      "source": [
        "# 5. Reseteamos el ínidce y confirmamos la Estructura del Dataset\n",
        "Servicio = Servicio.reset_index(drop=True)\n",
        "print('El DataFrame está compuesto por {:,}'.format(Servicio.shape[0]),'filas y',Servicio.shape[1],'columnas')"
      ]
    },
    {
      "cell_type": "code",
      "execution_count": null,
      "metadata": {
        "id": "CVUskJ7KyFuq"
      },
      "outputs": [],
      "source": [
        "# 6. Creamos codigo de servicio\n",
        "Servicio['COD_SERVICIO']=Servicio.index+1"
      ]
    },
    {
      "cell_type": "code",
      "execution_count": null,
      "metadata": {
        "id": "wusPCSXnvvYk"
      },
      "outputs": [],
      "source": [
        "# 7. Eliminar los espacios en balnco al inicio y al final\n",
        "Servicio['SERVICIO'] = Servicio['SERVICIO'].str.strip()"
      ]
    },
    {
      "cell_type": "code",
      "execution_count": null,
      "metadata": {
        "id": "bDe680l8wkzg",
        "colab": {
          "base_uri": "https://localhost:8080/"
        },
        "outputId": "7fc212ec-dab2-40e8-a8d1-ed69fbdfc03f"
      },
      "outputs": [
        {
          "output_type": "stream",
          "name": "stdout",
          "text": [
            "          SERVICIO  COD_SERVICIO\n",
            "0       PARTICULAR             1\n",
            "1          PUBLICO             2\n",
            "2          OFICIAL             3\n",
            "3      DIPLOMATICO             4\n",
            "4  SIN INFORMACION             5\n"
          ]
        }
      ],
      "source": [
        "print(Servicio.head(5))"
      ]
    },
    {
      "cell_type": "code",
      "execution_count": null,
      "metadata": {
        "id": "26q-SsAuyR5-"
      },
      "outputs": [],
      "source": [
        "Servicio[\"COD_SERVICIO\"] = pd.to_numeric(Servicio[\"COD_SERVICIO\"] , downcast=\"float\", errors=\"coerce\")\n",
        "Servicio[\"COD_SERVICIO\"] = Servicio[\"COD_SERVICIO\"].astype(float)"
      ]
    },
    {
      "cell_type": "code",
      "execution_count": null,
      "metadata": {
        "id": "bqLWFblQwkzg",
        "colab": {
          "base_uri": "https://localhost:8080/"
        },
        "outputId": "870de08e-2a7a-4a22-ed22-75026312ec97"
      },
      "outputs": [
        {
          "output_type": "stream",
          "name": "stdout",
          "text": [
            "Las variables almacenan la información en el siguiente formato: SERVICIO         object\n",
            "COD_SERVICIO    float64\n",
            "dtype: object\n"
          ]
        }
      ],
      "source": [
        "print('Las variables almacenan la información en el siguiente formato:', Servicio.dtypes)"
      ]
    },
    {
      "cell_type": "markdown",
      "metadata": {
        "id": "GGUFr1p_wr1s"
      },
      "source": [
        "### 3.22 Creación tabla Modalidad"
      ]
    },
    {
      "cell_type": "code",
      "execution_count": null,
      "metadata": {
        "id": "j3iOU-Lgwr1s",
        "colab": {
          "base_uri": "https://localhost:8080/"
        },
        "outputId": "c68e4786-8f76-4968-c261-36ed61894674"
      },
      "outputs": [
        {
          "output_type": "stream",
          "name": "stderr",
          "text": [
            "<ipython-input-217-1876360564d5>:2: DtypeWarning: Columns (1,6,7) have mixed types. Specify dtype option on import or set low_memory=False.\n",
            "  Modalidad = pd.read_csv('/content/Vehiculo.csv')\n"
          ]
        }
      ],
      "source": [
        "# 1. Crear la tabla de Modalidad con los campos necesarios\n",
        "Modalidad = pd.read_csv('/content/Vehiculo.csv')\n",
        "Modalidad = Modalidad[['MODALIDAD']]"
      ]
    },
    {
      "cell_type": "code",
      "execution_count": null,
      "metadata": {
        "id": "oFZTgMunwr1s",
        "colab": {
          "base_uri": "https://localhost:8080/"
        },
        "outputId": "292a7bc8-ea44-45ed-e76e-cee69b813e88"
      },
      "outputs": [
        {
          "output_type": "stream",
          "name": "stdout",
          "text": [
            "El DataFrame está compuesto por 1,441,024 filas y 1 columnas\n"
          ]
        }
      ],
      "source": [
        "# 2. Revisión de la Estructura del Dataset\n",
        "print('El DataFrame está compuesto por {:,}'.format(Modalidad.shape[0]),'filas y',Modalidad.shape[1],'columnas')"
      ]
    },
    {
      "cell_type": "code",
      "execution_count": null,
      "metadata": {
        "id": "GA9hxU4Vwr1s"
      },
      "outputs": [],
      "source": [
        "# 3. Eliminamos los duplicados\n",
        "Modalidad = Modalidad.drop_duplicates()"
      ]
    },
    {
      "cell_type": "code",
      "execution_count": null,
      "metadata": {
        "id": "eGwdDbm_wr1s"
      },
      "outputs": [],
      "source": [
        "# 4. Eliminamos los valores vacíos\n",
        "Modalidad = Modalidad.dropna()"
      ]
    },
    {
      "cell_type": "code",
      "execution_count": null,
      "metadata": {
        "id": "5gJjnHH5wr1s",
        "colab": {
          "base_uri": "https://localhost:8080/"
        },
        "outputId": "11aed484-72bd-423f-a5bf-7fad0a24d274"
      },
      "outputs": [
        {
          "output_type": "stream",
          "name": "stdout",
          "text": [
            "El DataFrame está compuesto por 12 filas y 1 columnas\n"
          ]
        }
      ],
      "source": [
        "# 5. Reseteamos el ínidce y confirmamos la Estructura del Dataset\n",
        "Modalidad = Modalidad.reset_index(drop=True)\n",
        "print('El DataFrame está compuesto por {:,}'.format(Modalidad.shape[0]),'filas y',Modalidad.shape[1],'columnas')"
      ]
    },
    {
      "cell_type": "code",
      "execution_count": null,
      "metadata": {
        "id": "2R0IbyLfynsK"
      },
      "outputs": [],
      "source": [
        "# 6. Creamos codigo de Modalidad\n",
        "Modalidad['COD_MODALIDAD']=Modalidad.index+1"
      ]
    },
    {
      "cell_type": "code",
      "execution_count": null,
      "metadata": {
        "id": "Q6-B1RVAwr1s",
        "colab": {
          "base_uri": "https://localhost:8080/"
        },
        "outputId": "0d53fc0b-c1c5-4cc1-fa98-4ff4e148b42d"
      },
      "outputs": [
        {
          "output_type": "stream",
          "name": "stdout",
          "text": [
            "                         MODALIDAD  COD_MODALIDAD\n",
            "0               PASAJEROS - MASIVO              1\n",
            "1      CARGA - MERCANCIA PELIGROSA              2\n",
            "2                     CARGA-PESADA              3\n",
            "3           PASAJEROS - INDIVIDUAL              4\n",
            "4            PASAJEROS - COLECTIVO              5\n",
            "5     PASAJEROS - ESPECIAL TURISMO              6\n",
            "6   PASAJEROS - ESPECIAL OCASIONAL              7\n",
            "7                            MIXTO              8\n",
            "8     PASAJEROS - ESPECIAL ESCOLAR              9\n",
            "9              CARGA - EXTRAPESADA             10\n",
            "10  PASAJEROS - ESPECIAL ASALARIAD             11\n",
            "11       CARGA - EXTRADIMENSIONADA             12\n"
          ]
        }
      ],
      "source": [
        "print(Modalidad.head(12))"
      ]
    },
    {
      "cell_type": "code",
      "execution_count": null,
      "metadata": {
        "id": "vonL-WMqy1ld"
      },
      "outputs": [],
      "source": [
        "Modalidad[\"COD_MODALIDAD\"] = pd.to_numeric(Modalidad[\"COD_MODALIDAD\"] , downcast=\"float\", errors=\"coerce\")\n",
        "Modalidad[\"COD_MODALIDAD\"] = Modalidad[\"COD_MODALIDAD\"].astype(float)"
      ]
    },
    {
      "cell_type": "code",
      "execution_count": null,
      "metadata": {
        "id": "syhPCTd3wr1t",
        "colab": {
          "base_uri": "https://localhost:8080/"
        },
        "outputId": "772b2942-9124-4ef0-c370-13a3e1aacdda"
      },
      "outputs": [
        {
          "output_type": "stream",
          "name": "stdout",
          "text": [
            "Las variables almacenan la información en el siguiente formato: MODALIDAD         object\n",
            "COD_MODALIDAD    float64\n",
            "dtype: object\n"
          ]
        }
      ],
      "source": [
        "print('Las variables almacenan la información en el siguiente formato:', Modalidad.dtypes)"
      ]
    },
    {
      "cell_type": "markdown",
      "metadata": {
        "id": "hhUy4rPd4Scj"
      },
      "source": [
        "### 3.23 Creación de tabla Accidente"
      ]
    },
    {
      "cell_type": "code",
      "execution_count": null,
      "metadata": {
        "id": "0Xv_i9C64SBc"
      },
      "outputs": [],
      "source": [
        "Accidente = pd.read_csv('/content/Accidente.csv')"
      ]
    },
    {
      "cell_type": "code",
      "execution_count": null,
      "metadata": {
        "id": "PnbG_1arGbKz",
        "colab": {
          "base_uri": "https://localhost:8080/"
        },
        "outputId": "543a97b2-28fd-48bf-d714-5f4d2bdd9b32"
      },
      "outputs": [
        {
          "output_type": "execute_result",
          "data": {
            "text/plain": [
              "           X         Y  OBJECTID  FORMULARIO  CODIGO_ACCIDENTE  \\\n",
              "0 -74.090924  4.693807         1  A000640275           4484660   \n",
              "1 -74.119697  4.717638         2  A001515603          10583520   \n",
              "2 -74.040677  4.669288         3    A1241594            449558   \n",
              "3 -74.066101  4.737015         4  A001516620          10583513   \n",
              "4 -74.087407  4.679568         5  A000035070            513150   \n",
              "\n",
              "     FECHA_OCURRENCIA_ACC HORA_OCURRENCIA_ACC  ANO_OCURRENCIA_ACC  \\\n",
              "0  2017/06/12 00:00:00+00            05:30:00                2017   \n",
              "1  2022/10/29 00:00:00+00            10:55:00                2022   \n",
              "2  2012/12/15 00:00:00+00            20:30:00                2012   \n",
              "3  2022/11/01 00:00:00+00            14:58:00                2022   \n",
              "4  2014/10/26 00:00:00+00            21:25:00                2014   \n",
              "\n",
              "  MES_OCURRENCIA_ACC DIA_OCURRENCIA_ACC                   DIRECCION  \\\n",
              "0              JUNIO              LUNES  AV AVENIDA BOYACA-CL 79 02   \n",
              "1            OCTUBRE             SABADO      KR 111 A  - CL 79   02   \n",
              "2          DICIEMBRE             SABADO               KR 4-CL 91 02   \n",
              "3          NOVIEMBRE             MARTES        KR 72  - CL 148   02   \n",
              "4            OCTUBRE            DOMINGO             AC 72-KR 68F 02   \n",
              "\n",
              "      GRAVEDAD  CLASE_ACC  LOCALIDAD  MUNICIPIO          FECHA_HORA_ACC  \\\n",
              "0   SOLO DANOS     CHOQUE   ENGATIVA  BOGOTA DC  2017/06/12 05:30:00+00   \n",
              "1   SOLO DANOS     CHOQUE   ENGATIVA  BOGOTA DC  2022/10/29 10:55:00+00   \n",
              "2   SOLO DANOS     CHOQUE  CHAPINERO  BOGOTA DC  2012/12/15 20:30:00+00   \n",
              "3  CON HERIDOS     CHOQUE       SUBA  BOGOTA DC  2022/11/01 14:58:00+00   \n",
              "4  CON HERIDOS  ATROPELLO   ENGATIVA  BOGOTA DC  2014/10/26 21:25:00+00   \n",
              "\n",
              "    LATITUD   LONGITUD         CIV  PK_CALZADA  \n",
              "0  4.693807 -74.090924  10006772.0    221236.0  \n",
              "1  4.717638 -74.119697  10000591.0         NaN  \n",
              "2  4.669288 -74.040677   2002328.0     35683.0  \n",
              "3  4.737015 -74.066101  11005846.0         NaN  \n",
              "4  4.679568 -74.087407  10008600.0     43287.0  "
            ],
            "text/html": [
              "\n",
              "  <div id=\"df-2a09f124-8849-4d64-9f29-b2b4e7daa901\" class=\"colab-df-container\">\n",
              "    <div>\n",
              "<style scoped>\n",
              "    .dataframe tbody tr th:only-of-type {\n",
              "        vertical-align: middle;\n",
              "    }\n",
              "\n",
              "    .dataframe tbody tr th {\n",
              "        vertical-align: top;\n",
              "    }\n",
              "\n",
              "    .dataframe thead th {\n",
              "        text-align: right;\n",
              "    }\n",
              "</style>\n",
              "<table border=\"1\" class=\"dataframe\">\n",
              "  <thead>\n",
              "    <tr style=\"text-align: right;\">\n",
              "      <th></th>\n",
              "      <th>X</th>\n",
              "      <th>Y</th>\n",
              "      <th>OBJECTID</th>\n",
              "      <th>FORMULARIO</th>\n",
              "      <th>CODIGO_ACCIDENTE</th>\n",
              "      <th>FECHA_OCURRENCIA_ACC</th>\n",
              "      <th>HORA_OCURRENCIA_ACC</th>\n",
              "      <th>ANO_OCURRENCIA_ACC</th>\n",
              "      <th>MES_OCURRENCIA_ACC</th>\n",
              "      <th>DIA_OCURRENCIA_ACC</th>\n",
              "      <th>DIRECCION</th>\n",
              "      <th>GRAVEDAD</th>\n",
              "      <th>CLASE_ACC</th>\n",
              "      <th>LOCALIDAD</th>\n",
              "      <th>MUNICIPIO</th>\n",
              "      <th>FECHA_HORA_ACC</th>\n",
              "      <th>LATITUD</th>\n",
              "      <th>LONGITUD</th>\n",
              "      <th>CIV</th>\n",
              "      <th>PK_CALZADA</th>\n",
              "    </tr>\n",
              "  </thead>\n",
              "  <tbody>\n",
              "    <tr>\n",
              "      <th>0</th>\n",
              "      <td>-74.090924</td>\n",
              "      <td>4.693807</td>\n",
              "      <td>1</td>\n",
              "      <td>A000640275</td>\n",
              "      <td>4484660</td>\n",
              "      <td>2017/06/12 00:00:00+00</td>\n",
              "      <td>05:30:00</td>\n",
              "      <td>2017</td>\n",
              "      <td>JUNIO</td>\n",
              "      <td>LUNES</td>\n",
              "      <td>AV AVENIDA BOYACA-CL 79 02</td>\n",
              "      <td>SOLO DANOS</td>\n",
              "      <td>CHOQUE</td>\n",
              "      <td>ENGATIVA</td>\n",
              "      <td>BOGOTA DC</td>\n",
              "      <td>2017/06/12 05:30:00+00</td>\n",
              "      <td>4.693807</td>\n",
              "      <td>-74.090924</td>\n",
              "      <td>10006772.0</td>\n",
              "      <td>221236.0</td>\n",
              "    </tr>\n",
              "    <tr>\n",
              "      <th>1</th>\n",
              "      <td>-74.119697</td>\n",
              "      <td>4.717638</td>\n",
              "      <td>2</td>\n",
              "      <td>A001515603</td>\n",
              "      <td>10583520</td>\n",
              "      <td>2022/10/29 00:00:00+00</td>\n",
              "      <td>10:55:00</td>\n",
              "      <td>2022</td>\n",
              "      <td>OCTUBRE</td>\n",
              "      <td>SABADO</td>\n",
              "      <td>KR 111 A  - CL 79   02</td>\n",
              "      <td>SOLO DANOS</td>\n",
              "      <td>CHOQUE</td>\n",
              "      <td>ENGATIVA</td>\n",
              "      <td>BOGOTA DC</td>\n",
              "      <td>2022/10/29 10:55:00+00</td>\n",
              "      <td>4.717638</td>\n",
              "      <td>-74.119697</td>\n",
              "      <td>10000591.0</td>\n",
              "      <td>NaN</td>\n",
              "    </tr>\n",
              "    <tr>\n",
              "      <th>2</th>\n",
              "      <td>-74.040677</td>\n",
              "      <td>4.669288</td>\n",
              "      <td>3</td>\n",
              "      <td>A1241594</td>\n",
              "      <td>449558</td>\n",
              "      <td>2012/12/15 00:00:00+00</td>\n",
              "      <td>20:30:00</td>\n",
              "      <td>2012</td>\n",
              "      <td>DICIEMBRE</td>\n",
              "      <td>SABADO</td>\n",
              "      <td>KR 4-CL 91 02</td>\n",
              "      <td>SOLO DANOS</td>\n",
              "      <td>CHOQUE</td>\n",
              "      <td>CHAPINERO</td>\n",
              "      <td>BOGOTA DC</td>\n",
              "      <td>2012/12/15 20:30:00+00</td>\n",
              "      <td>4.669288</td>\n",
              "      <td>-74.040677</td>\n",
              "      <td>2002328.0</td>\n",
              "      <td>35683.0</td>\n",
              "    </tr>\n",
              "    <tr>\n",
              "      <th>3</th>\n",
              "      <td>-74.066101</td>\n",
              "      <td>4.737015</td>\n",
              "      <td>4</td>\n",
              "      <td>A001516620</td>\n",
              "      <td>10583513</td>\n",
              "      <td>2022/11/01 00:00:00+00</td>\n",
              "      <td>14:58:00</td>\n",
              "      <td>2022</td>\n",
              "      <td>NOVIEMBRE</td>\n",
              "      <td>MARTES</td>\n",
              "      <td>KR 72  - CL 148   02</td>\n",
              "      <td>CON HERIDOS</td>\n",
              "      <td>CHOQUE</td>\n",
              "      <td>SUBA</td>\n",
              "      <td>BOGOTA DC</td>\n",
              "      <td>2022/11/01 14:58:00+00</td>\n",
              "      <td>4.737015</td>\n",
              "      <td>-74.066101</td>\n",
              "      <td>11005846.0</td>\n",
              "      <td>NaN</td>\n",
              "    </tr>\n",
              "    <tr>\n",
              "      <th>4</th>\n",
              "      <td>-74.087407</td>\n",
              "      <td>4.679568</td>\n",
              "      <td>5</td>\n",
              "      <td>A000035070</td>\n",
              "      <td>513150</td>\n",
              "      <td>2014/10/26 00:00:00+00</td>\n",
              "      <td>21:25:00</td>\n",
              "      <td>2014</td>\n",
              "      <td>OCTUBRE</td>\n",
              "      <td>DOMINGO</td>\n",
              "      <td>AC 72-KR 68F 02</td>\n",
              "      <td>CON HERIDOS</td>\n",
              "      <td>ATROPELLO</td>\n",
              "      <td>ENGATIVA</td>\n",
              "      <td>BOGOTA DC</td>\n",
              "      <td>2014/10/26 21:25:00+00</td>\n",
              "      <td>4.679568</td>\n",
              "      <td>-74.087407</td>\n",
              "      <td>10008600.0</td>\n",
              "      <td>43287.0</td>\n",
              "    </tr>\n",
              "  </tbody>\n",
              "</table>\n",
              "</div>\n",
              "    <div class=\"colab-df-buttons\">\n",
              "\n",
              "  <div class=\"colab-df-container\">\n",
              "    <button class=\"colab-df-convert\" onclick=\"convertToInteractive('df-2a09f124-8849-4d64-9f29-b2b4e7daa901')\"\n",
              "            title=\"Convert this dataframe to an interactive table.\"\n",
              "            style=\"display:none;\">\n",
              "\n",
              "  <svg xmlns=\"http://www.w3.org/2000/svg\" height=\"24px\" viewBox=\"0 -960 960 960\">\n",
              "    <path d=\"M120-120v-720h720v720H120Zm60-500h600v-160H180v160Zm220 220h160v-160H400v160Zm0 220h160v-160H400v160ZM180-400h160v-160H180v160Zm440 0h160v-160H620v160ZM180-180h160v-160H180v160Zm440 0h160v-160H620v160Z\"/>\n",
              "  </svg>\n",
              "    </button>\n",
              "\n",
              "  <style>\n",
              "    .colab-df-container {\n",
              "      display:flex;\n",
              "      gap: 12px;\n",
              "    }\n",
              "\n",
              "    .colab-df-convert {\n",
              "      background-color: #E8F0FE;\n",
              "      border: none;\n",
              "      border-radius: 50%;\n",
              "      cursor: pointer;\n",
              "      display: none;\n",
              "      fill: #1967D2;\n",
              "      height: 32px;\n",
              "      padding: 0 0 0 0;\n",
              "      width: 32px;\n",
              "    }\n",
              "\n",
              "    .colab-df-convert:hover {\n",
              "      background-color: #E2EBFA;\n",
              "      box-shadow: 0px 1px 2px rgba(60, 64, 67, 0.3), 0px 1px 3px 1px rgba(60, 64, 67, 0.15);\n",
              "      fill: #174EA6;\n",
              "    }\n",
              "\n",
              "    .colab-df-buttons div {\n",
              "      margin-bottom: 4px;\n",
              "    }\n",
              "\n",
              "    [theme=dark] .colab-df-convert {\n",
              "      background-color: #3B4455;\n",
              "      fill: #D2E3FC;\n",
              "    }\n",
              "\n",
              "    [theme=dark] .colab-df-convert:hover {\n",
              "      background-color: #434B5C;\n",
              "      box-shadow: 0px 1px 3px 1px rgba(0, 0, 0, 0.15);\n",
              "      filter: drop-shadow(0px 1px 2px rgba(0, 0, 0, 0.3));\n",
              "      fill: #FFFFFF;\n",
              "    }\n",
              "  </style>\n",
              "\n",
              "    <script>\n",
              "      const buttonEl =\n",
              "        document.querySelector('#df-2a09f124-8849-4d64-9f29-b2b4e7daa901 button.colab-df-convert');\n",
              "      buttonEl.style.display =\n",
              "        google.colab.kernel.accessAllowed ? 'block' : 'none';\n",
              "\n",
              "      async function convertToInteractive(key) {\n",
              "        const element = document.querySelector('#df-2a09f124-8849-4d64-9f29-b2b4e7daa901');\n",
              "        const dataTable =\n",
              "          await google.colab.kernel.invokeFunction('convertToInteractive',\n",
              "                                                    [key], {});\n",
              "        if (!dataTable) return;\n",
              "\n",
              "        const docLinkHtml = 'Like what you see? Visit the ' +\n",
              "          '<a target=\"_blank\" href=https://colab.research.google.com/notebooks/data_table.ipynb>data table notebook</a>'\n",
              "          + ' to learn more about interactive tables.';\n",
              "        element.innerHTML = '';\n",
              "        dataTable['output_type'] = 'display_data';\n",
              "        await google.colab.output.renderOutput(dataTable, element);\n",
              "        const docLink = document.createElement('div');\n",
              "        docLink.innerHTML = docLinkHtml;\n",
              "        element.appendChild(docLink);\n",
              "      }\n",
              "    </script>\n",
              "  </div>\n",
              "\n",
              "\n",
              "<div id=\"df-7e2926dc-31c5-40fb-8051-f0e20fb3917a\">\n",
              "  <button class=\"colab-df-quickchart\" onclick=\"quickchart('df-7e2926dc-31c5-40fb-8051-f0e20fb3917a')\"\n",
              "            title=\"Suggest charts\"\n",
              "            style=\"display:none;\">\n",
              "\n",
              "<svg xmlns=\"http://www.w3.org/2000/svg\" height=\"24px\"viewBox=\"0 0 24 24\"\n",
              "     width=\"24px\">\n",
              "    <g>\n",
              "        <path d=\"M19 3H5c-1.1 0-2 .9-2 2v14c0 1.1.9 2 2 2h14c1.1 0 2-.9 2-2V5c0-1.1-.9-2-2-2zM9 17H7v-7h2v7zm4 0h-2V7h2v10zm4 0h-2v-4h2v4z\"/>\n",
              "    </g>\n",
              "</svg>\n",
              "  </button>\n",
              "\n",
              "<style>\n",
              "  .colab-df-quickchart {\n",
              "      --bg-color: #E8F0FE;\n",
              "      --fill-color: #1967D2;\n",
              "      --hover-bg-color: #E2EBFA;\n",
              "      --hover-fill-color: #174EA6;\n",
              "      --disabled-fill-color: #AAA;\n",
              "      --disabled-bg-color: #DDD;\n",
              "  }\n",
              "\n",
              "  [theme=dark] .colab-df-quickchart {\n",
              "      --bg-color: #3B4455;\n",
              "      --fill-color: #D2E3FC;\n",
              "      --hover-bg-color: #434B5C;\n",
              "      --hover-fill-color: #FFFFFF;\n",
              "      --disabled-bg-color: #3B4455;\n",
              "      --disabled-fill-color: #666;\n",
              "  }\n",
              "\n",
              "  .colab-df-quickchart {\n",
              "    background-color: var(--bg-color);\n",
              "    border: none;\n",
              "    border-radius: 50%;\n",
              "    cursor: pointer;\n",
              "    display: none;\n",
              "    fill: var(--fill-color);\n",
              "    height: 32px;\n",
              "    padding: 0;\n",
              "    width: 32px;\n",
              "  }\n",
              "\n",
              "  .colab-df-quickchart:hover {\n",
              "    background-color: var(--hover-bg-color);\n",
              "    box-shadow: 0 1px 2px rgba(60, 64, 67, 0.3), 0 1px 3px 1px rgba(60, 64, 67, 0.15);\n",
              "    fill: var(--button-hover-fill-color);\n",
              "  }\n",
              "\n",
              "  .colab-df-quickchart-complete:disabled,\n",
              "  .colab-df-quickchart-complete:disabled:hover {\n",
              "    background-color: var(--disabled-bg-color);\n",
              "    fill: var(--disabled-fill-color);\n",
              "    box-shadow: none;\n",
              "  }\n",
              "\n",
              "  .colab-df-spinner {\n",
              "    border: 2px solid var(--fill-color);\n",
              "    border-color: transparent;\n",
              "    border-bottom-color: var(--fill-color);\n",
              "    animation:\n",
              "      spin 1s steps(1) infinite;\n",
              "  }\n",
              "\n",
              "  @keyframes spin {\n",
              "    0% {\n",
              "      border-color: transparent;\n",
              "      border-bottom-color: var(--fill-color);\n",
              "      border-left-color: var(--fill-color);\n",
              "    }\n",
              "    20% {\n",
              "      border-color: transparent;\n",
              "      border-left-color: var(--fill-color);\n",
              "      border-top-color: var(--fill-color);\n",
              "    }\n",
              "    30% {\n",
              "      border-color: transparent;\n",
              "      border-left-color: var(--fill-color);\n",
              "      border-top-color: var(--fill-color);\n",
              "      border-right-color: var(--fill-color);\n",
              "    }\n",
              "    40% {\n",
              "      border-color: transparent;\n",
              "      border-right-color: var(--fill-color);\n",
              "      border-top-color: var(--fill-color);\n",
              "    }\n",
              "    60% {\n",
              "      border-color: transparent;\n",
              "      border-right-color: var(--fill-color);\n",
              "    }\n",
              "    80% {\n",
              "      border-color: transparent;\n",
              "      border-right-color: var(--fill-color);\n",
              "      border-bottom-color: var(--fill-color);\n",
              "    }\n",
              "    90% {\n",
              "      border-color: transparent;\n",
              "      border-bottom-color: var(--fill-color);\n",
              "    }\n",
              "  }\n",
              "</style>\n",
              "\n",
              "  <script>\n",
              "    async function quickchart(key) {\n",
              "      const quickchartButtonEl =\n",
              "        document.querySelector('#' + key + ' button');\n",
              "      quickchartButtonEl.disabled = true;  // To prevent multiple clicks.\n",
              "      quickchartButtonEl.classList.add('colab-df-spinner');\n",
              "      try {\n",
              "        const charts = await google.colab.kernel.invokeFunction(\n",
              "            'suggestCharts', [key], {});\n",
              "      } catch (error) {\n",
              "        console.error('Error during call to suggestCharts:', error);\n",
              "      }\n",
              "      quickchartButtonEl.classList.remove('colab-df-spinner');\n",
              "      quickchartButtonEl.classList.add('colab-df-quickchart-complete');\n",
              "    }\n",
              "    (() => {\n",
              "      let quickchartButtonEl =\n",
              "        document.querySelector('#df-7e2926dc-31c5-40fb-8051-f0e20fb3917a button');\n",
              "      quickchartButtonEl.style.display =\n",
              "        google.colab.kernel.accessAllowed ? 'block' : 'none';\n",
              "    })();\n",
              "  </script>\n",
              "</div>\n",
              "    </div>\n",
              "  </div>\n"
            ],
            "application/vnd.google.colaboratory.intrinsic+json": {
              "type": "dataframe",
              "variable_name": "Accidente"
            }
          },
          "metadata": {},
          "execution_count": 227
        }
      ],
      "source": [
        "Accidente.head()"
      ]
    },
    {
      "cell_type": "code",
      "execution_count": null,
      "metadata": {
        "id": "X4_eb_fgYWRd",
        "colab": {
          "base_uri": "https://localhost:8080/"
        },
        "outputId": "181fb29d-cc2c-4dbe-c632-d2be1b20dd3c"
      },
      "outputs": [
        {
          "output_type": "stream",
          "name": "stdout",
          "text": [
            "El DataFrame está compuesto por 472,767 filas y 20 columnas\n",
            "Con información distribuida en las siguientes variables: Index(['X', 'Y', 'OBJECTID', 'FORMULARIO', 'CODIGO_ACCIDENTE',\n",
            "       'FECHA_OCURRENCIA_ACC', 'HORA_OCURRENCIA_ACC', 'ANO_OCURRENCIA_ACC',\n",
            "       'MES_OCURRENCIA_ACC', 'DIA_OCURRENCIA_ACC', 'DIRECCION', 'GRAVEDAD',\n",
            "       'CLASE_ACC', 'LOCALIDAD', 'MUNICIPIO', 'FECHA_HORA_ACC', 'LATITUD',\n",
            "       'LONGITUD', 'CIV', 'PK_CALZADA'],\n",
            "      dtype='object')\n",
            "Las variables almacenan la información en el siguiente formato: X                       float64\n",
            "Y                       float64\n",
            "OBJECTID                  int64\n",
            "FORMULARIO               object\n",
            "CODIGO_ACCIDENTE          int64\n",
            "FECHA_OCURRENCIA_ACC     object\n",
            "HORA_OCURRENCIA_ACC      object\n",
            "ANO_OCURRENCIA_ACC        int64\n",
            "MES_OCURRENCIA_ACC       object\n",
            "DIA_OCURRENCIA_ACC       object\n",
            "DIRECCION                object\n",
            "GRAVEDAD                 object\n",
            "CLASE_ACC                object\n",
            "LOCALIDAD                object\n",
            "MUNICIPIO                object\n",
            "FECHA_HORA_ACC           object\n",
            "LATITUD                 float64\n",
            "LONGITUD                float64\n",
            "CIV                     float64\n",
            "PK_CALZADA              float64\n",
            "dtype: object\n"
          ]
        }
      ],
      "source": [
        "# 1. Revisión de la Estructura del Dataset\n",
        "print('El DataFrame está compuesto por {:,}'.format(Accidente.shape[0]),'filas y',Accidente.shape[1],'columnas')\n",
        "print('Con información distribuida en las siguientes variables:', Accidente.columns)\n",
        "print('Las variables almacenan la información en el siguiente formato:', Accidente.dtypes)"
      ]
    },
    {
      "cell_type": "code",
      "execution_count": null,
      "metadata": {
        "id": "anBReasqYeaW",
        "colab": {
          "base_uri": "https://localhost:8080/"
        },
        "outputId": "98d8f2e3-dfff-4608-cc76-00248ccb0d7c"
      },
      "outputs": [
        {
          "output_type": "execute_result",
          "data": {
            "text/plain": [
              "                    X              Y       OBJECTID  FORMULARIO  \\\n",
              "count   472767.000000  472767.000000  472767.000000      472767   \n",
              "unique            NaN            NaN            NaN      472767   \n",
              "top               NaN            NaN            NaN  A000640275   \n",
              "freq              NaN            NaN            NaN           1   \n",
              "mean       -74.101774       4.650681  236384.000000         NaN   \n",
              "std          0.039927       0.056136  136476.221694         NaN   \n",
              "min        -74.228300       4.085800       1.000000         NaN   \n",
              "25%        -74.131000       4.610782  118192.500000         NaN   \n",
              "50%        -74.100162       4.647700  236384.000000         NaN   \n",
              "75%        -74.070656       4.690738  354575.500000         NaN   \n",
              "max        -74.007000       4.828041  472767.000000         NaN   \n",
              "\n",
              "        CODIGO_ACCIDENTE    FECHA_OCURRENCIA_ACC HORA_OCURRENCIA_ACC  \\\n",
              "count       4.727670e+05                  472767              472767   \n",
              "unique               NaN                    6756                1440   \n",
              "top                  NaN  2019/12/06 00:00:00+00            14:00:00   \n",
              "freq                 NaN                     152                6280   \n",
              "mean        4.444574e+06                     NaN                 NaN   \n",
              "std         4.387758e+06                     NaN                 NaN   \n",
              "min         1.040000e+02                     NaN                 NaN   \n",
              "25%         3.930305e+05                     NaN                 NaN   \n",
              "50%         4.417165e+06                     NaN                 NaN   \n",
              "75%         1.047882e+07                     NaN                 NaN   \n",
              "max         1.060127e+07                     NaN                 NaN   \n",
              "\n",
              "        ANO_OCURRENCIA_ACC MES_OCURRENCIA_ACC DIA_OCURRENCIA_ACC  \\\n",
              "count        472767.000000             472767             472767   \n",
              "unique                 NaN                 12                  7   \n",
              "top                    NaN              MARZO            VIERNES   \n",
              "freq                   NaN              41606              76051   \n",
              "mean           2014.815082                NaN                NaN   \n",
              "std               4.715196                NaN                NaN   \n",
              "min            2002.000000                NaN                NaN   \n",
              "25%            2011.000000                NaN                NaN   \n",
              "50%            2015.000000                NaN                NaN   \n",
              "75%            2019.000000                NaN                NaN   \n",
              "max            2024.000000                NaN                NaN   \n",
              "\n",
              "                         DIRECCION    GRAVEDAD CLASE_ACC LOCALIDAD  MUNICIPIO  \\\n",
              "count                       472767      472764    472627    472717     472767   \n",
              "unique                      241171           3         7        20          1   \n",
              "top     AV AVENIDA BOYACA-CL 80 02  SOLO DANOS    CHOQUE   KENNEDY  BOGOTA DC   \n",
              "freq                           416      295613    394196     54790     472767   \n",
              "mean                           NaN         NaN       NaN       NaN        NaN   \n",
              "std                            NaN         NaN       NaN       NaN        NaN   \n",
              "min                            NaN         NaN       NaN       NaN        NaN   \n",
              "25%                            NaN         NaN       NaN       NaN        NaN   \n",
              "50%                            NaN         NaN       NaN       NaN        NaN   \n",
              "75%                            NaN         NaN       NaN       NaN        NaN   \n",
              "max                            NaN         NaN       NaN       NaN        NaN   \n",
              "\n",
              "                FECHA_HORA_ACC        LATITUD       LONGITUD           CIV  \\\n",
              "count                   472767  472767.000000  472767.000000  4.690330e+05   \n",
              "unique                  382331            NaN            NaN           NaN   \n",
              "top     2010/09/17 18:30:00+00            NaN            NaN           NaN   \n",
              "freq                         8            NaN            NaN           NaN   \n",
              "mean                       NaN       4.650681     -74.101774  1.341007e+07   \n",
              "std                        NaN       0.056136       0.039927  1.319298e+07   \n",
              "min                        NaN       4.085800     -74.228300  0.000000e+00   \n",
              "25%                        NaN       4.610782     -74.131000  7.001196e+06   \n",
              "50%                        NaN       4.647700     -74.100162  1.000749e+07   \n",
              "75%                        NaN       4.690738     -74.070656  1.400180e+07   \n",
              "max                        NaN       4.828041     -74.007000  5.000962e+07   \n",
              "\n",
              "          PK_CALZADA  \n",
              "count   3.801120e+05  \n",
              "unique           NaN  \n",
              "top              NaN  \n",
              "freq             NaN  \n",
              "mean    7.252240e+06  \n",
              "std     1.820267e+07  \n",
              "min     0.000000e+00  \n",
              "25%     4.213600e+04  \n",
              "50%     1.755900e+05  \n",
              "75%     2.331255e+05  \n",
              "max     9.103049e+07  "
            ],
            "text/html": [
              "\n",
              "  <div id=\"df-54113c92-0f05-4154-938a-fefff4d30acd\" class=\"colab-df-container\">\n",
              "    <div>\n",
              "<style scoped>\n",
              "    .dataframe tbody tr th:only-of-type {\n",
              "        vertical-align: middle;\n",
              "    }\n",
              "\n",
              "    .dataframe tbody tr th {\n",
              "        vertical-align: top;\n",
              "    }\n",
              "\n",
              "    .dataframe thead th {\n",
              "        text-align: right;\n",
              "    }\n",
              "</style>\n",
              "<table border=\"1\" class=\"dataframe\">\n",
              "  <thead>\n",
              "    <tr style=\"text-align: right;\">\n",
              "      <th></th>\n",
              "      <th>X</th>\n",
              "      <th>Y</th>\n",
              "      <th>OBJECTID</th>\n",
              "      <th>FORMULARIO</th>\n",
              "      <th>CODIGO_ACCIDENTE</th>\n",
              "      <th>FECHA_OCURRENCIA_ACC</th>\n",
              "      <th>HORA_OCURRENCIA_ACC</th>\n",
              "      <th>ANO_OCURRENCIA_ACC</th>\n",
              "      <th>MES_OCURRENCIA_ACC</th>\n",
              "      <th>DIA_OCURRENCIA_ACC</th>\n",
              "      <th>DIRECCION</th>\n",
              "      <th>GRAVEDAD</th>\n",
              "      <th>CLASE_ACC</th>\n",
              "      <th>LOCALIDAD</th>\n",
              "      <th>MUNICIPIO</th>\n",
              "      <th>FECHA_HORA_ACC</th>\n",
              "      <th>LATITUD</th>\n",
              "      <th>LONGITUD</th>\n",
              "      <th>CIV</th>\n",
              "      <th>PK_CALZADA</th>\n",
              "    </tr>\n",
              "  </thead>\n",
              "  <tbody>\n",
              "    <tr>\n",
              "      <th>count</th>\n",
              "      <td>472767.000000</td>\n",
              "      <td>472767.000000</td>\n",
              "      <td>472767.000000</td>\n",
              "      <td>472767</td>\n",
              "      <td>4.727670e+05</td>\n",
              "      <td>472767</td>\n",
              "      <td>472767</td>\n",
              "      <td>472767.000000</td>\n",
              "      <td>472767</td>\n",
              "      <td>472767</td>\n",
              "      <td>472767</td>\n",
              "      <td>472764</td>\n",
              "      <td>472627</td>\n",
              "      <td>472717</td>\n",
              "      <td>472767</td>\n",
              "      <td>472767</td>\n",
              "      <td>472767.000000</td>\n",
              "      <td>472767.000000</td>\n",
              "      <td>4.690330e+05</td>\n",
              "      <td>3.801120e+05</td>\n",
              "    </tr>\n",
              "    <tr>\n",
              "      <th>unique</th>\n",
              "      <td>NaN</td>\n",
              "      <td>NaN</td>\n",
              "      <td>NaN</td>\n",
              "      <td>472767</td>\n",
              "      <td>NaN</td>\n",
              "      <td>6756</td>\n",
              "      <td>1440</td>\n",
              "      <td>NaN</td>\n",
              "      <td>12</td>\n",
              "      <td>7</td>\n",
              "      <td>241171</td>\n",
              "      <td>3</td>\n",
              "      <td>7</td>\n",
              "      <td>20</td>\n",
              "      <td>1</td>\n",
              "      <td>382331</td>\n",
              "      <td>NaN</td>\n",
              "      <td>NaN</td>\n",
              "      <td>NaN</td>\n",
              "      <td>NaN</td>\n",
              "    </tr>\n",
              "    <tr>\n",
              "      <th>top</th>\n",
              "      <td>NaN</td>\n",
              "      <td>NaN</td>\n",
              "      <td>NaN</td>\n",
              "      <td>A000640275</td>\n",
              "      <td>NaN</td>\n",
              "      <td>2019/12/06 00:00:00+00</td>\n",
              "      <td>14:00:00</td>\n",
              "      <td>NaN</td>\n",
              "      <td>MARZO</td>\n",
              "      <td>VIERNES</td>\n",
              "      <td>AV AVENIDA BOYACA-CL 80 02</td>\n",
              "      <td>SOLO DANOS</td>\n",
              "      <td>CHOQUE</td>\n",
              "      <td>KENNEDY</td>\n",
              "      <td>BOGOTA DC</td>\n",
              "      <td>2010/09/17 18:30:00+00</td>\n",
              "      <td>NaN</td>\n",
              "      <td>NaN</td>\n",
              "      <td>NaN</td>\n",
              "      <td>NaN</td>\n",
              "    </tr>\n",
              "    <tr>\n",
              "      <th>freq</th>\n",
              "      <td>NaN</td>\n",
              "      <td>NaN</td>\n",
              "      <td>NaN</td>\n",
              "      <td>1</td>\n",
              "      <td>NaN</td>\n",
              "      <td>152</td>\n",
              "      <td>6280</td>\n",
              "      <td>NaN</td>\n",
              "      <td>41606</td>\n",
              "      <td>76051</td>\n",
              "      <td>416</td>\n",
              "      <td>295613</td>\n",
              "      <td>394196</td>\n",
              "      <td>54790</td>\n",
              "      <td>472767</td>\n",
              "      <td>8</td>\n",
              "      <td>NaN</td>\n",
              "      <td>NaN</td>\n",
              "      <td>NaN</td>\n",
              "      <td>NaN</td>\n",
              "    </tr>\n",
              "    <tr>\n",
              "      <th>mean</th>\n",
              "      <td>-74.101774</td>\n",
              "      <td>4.650681</td>\n",
              "      <td>236384.000000</td>\n",
              "      <td>NaN</td>\n",
              "      <td>4.444574e+06</td>\n",
              "      <td>NaN</td>\n",
              "      <td>NaN</td>\n",
              "      <td>2014.815082</td>\n",
              "      <td>NaN</td>\n",
              "      <td>NaN</td>\n",
              "      <td>NaN</td>\n",
              "      <td>NaN</td>\n",
              "      <td>NaN</td>\n",
              "      <td>NaN</td>\n",
              "      <td>NaN</td>\n",
              "      <td>NaN</td>\n",
              "      <td>4.650681</td>\n",
              "      <td>-74.101774</td>\n",
              "      <td>1.341007e+07</td>\n",
              "      <td>7.252240e+06</td>\n",
              "    </tr>\n",
              "    <tr>\n",
              "      <th>std</th>\n",
              "      <td>0.039927</td>\n",
              "      <td>0.056136</td>\n",
              "      <td>136476.221694</td>\n",
              "      <td>NaN</td>\n",
              "      <td>4.387758e+06</td>\n",
              "      <td>NaN</td>\n",
              "      <td>NaN</td>\n",
              "      <td>4.715196</td>\n",
              "      <td>NaN</td>\n",
              "      <td>NaN</td>\n",
              "      <td>NaN</td>\n",
              "      <td>NaN</td>\n",
              "      <td>NaN</td>\n",
              "      <td>NaN</td>\n",
              "      <td>NaN</td>\n",
              "      <td>NaN</td>\n",
              "      <td>0.056136</td>\n",
              "      <td>0.039927</td>\n",
              "      <td>1.319298e+07</td>\n",
              "      <td>1.820267e+07</td>\n",
              "    </tr>\n",
              "    <tr>\n",
              "      <th>min</th>\n",
              "      <td>-74.228300</td>\n",
              "      <td>4.085800</td>\n",
              "      <td>1.000000</td>\n",
              "      <td>NaN</td>\n",
              "      <td>1.040000e+02</td>\n",
              "      <td>NaN</td>\n",
              "      <td>NaN</td>\n",
              "      <td>2002.000000</td>\n",
              "      <td>NaN</td>\n",
              "      <td>NaN</td>\n",
              "      <td>NaN</td>\n",
              "      <td>NaN</td>\n",
              "      <td>NaN</td>\n",
              "      <td>NaN</td>\n",
              "      <td>NaN</td>\n",
              "      <td>NaN</td>\n",
              "      <td>4.085800</td>\n",
              "      <td>-74.228300</td>\n",
              "      <td>0.000000e+00</td>\n",
              "      <td>0.000000e+00</td>\n",
              "    </tr>\n",
              "    <tr>\n",
              "      <th>25%</th>\n",
              "      <td>-74.131000</td>\n",
              "      <td>4.610782</td>\n",
              "      <td>118192.500000</td>\n",
              "      <td>NaN</td>\n",
              "      <td>3.930305e+05</td>\n",
              "      <td>NaN</td>\n",
              "      <td>NaN</td>\n",
              "      <td>2011.000000</td>\n",
              "      <td>NaN</td>\n",
              "      <td>NaN</td>\n",
              "      <td>NaN</td>\n",
              "      <td>NaN</td>\n",
              "      <td>NaN</td>\n",
              "      <td>NaN</td>\n",
              "      <td>NaN</td>\n",
              "      <td>NaN</td>\n",
              "      <td>4.610782</td>\n",
              "      <td>-74.131000</td>\n",
              "      <td>7.001196e+06</td>\n",
              "      <td>4.213600e+04</td>\n",
              "    </tr>\n",
              "    <tr>\n",
              "      <th>50%</th>\n",
              "      <td>-74.100162</td>\n",
              "      <td>4.647700</td>\n",
              "      <td>236384.000000</td>\n",
              "      <td>NaN</td>\n",
              "      <td>4.417165e+06</td>\n",
              "      <td>NaN</td>\n",
              "      <td>NaN</td>\n",
              "      <td>2015.000000</td>\n",
              "      <td>NaN</td>\n",
              "      <td>NaN</td>\n",
              "      <td>NaN</td>\n",
              "      <td>NaN</td>\n",
              "      <td>NaN</td>\n",
              "      <td>NaN</td>\n",
              "      <td>NaN</td>\n",
              "      <td>NaN</td>\n",
              "      <td>4.647700</td>\n",
              "      <td>-74.100162</td>\n",
              "      <td>1.000749e+07</td>\n",
              "      <td>1.755900e+05</td>\n",
              "    </tr>\n",
              "    <tr>\n",
              "      <th>75%</th>\n",
              "      <td>-74.070656</td>\n",
              "      <td>4.690738</td>\n",
              "      <td>354575.500000</td>\n",
              "      <td>NaN</td>\n",
              "      <td>1.047882e+07</td>\n",
              "      <td>NaN</td>\n",
              "      <td>NaN</td>\n",
              "      <td>2019.000000</td>\n",
              "      <td>NaN</td>\n",
              "      <td>NaN</td>\n",
              "      <td>NaN</td>\n",
              "      <td>NaN</td>\n",
              "      <td>NaN</td>\n",
              "      <td>NaN</td>\n",
              "      <td>NaN</td>\n",
              "      <td>NaN</td>\n",
              "      <td>4.690738</td>\n",
              "      <td>-74.070656</td>\n",
              "      <td>1.400180e+07</td>\n",
              "      <td>2.331255e+05</td>\n",
              "    </tr>\n",
              "    <tr>\n",
              "      <th>max</th>\n",
              "      <td>-74.007000</td>\n",
              "      <td>4.828041</td>\n",
              "      <td>472767.000000</td>\n",
              "      <td>NaN</td>\n",
              "      <td>1.060127e+07</td>\n",
              "      <td>NaN</td>\n",
              "      <td>NaN</td>\n",
              "      <td>2024.000000</td>\n",
              "      <td>NaN</td>\n",
              "      <td>NaN</td>\n",
              "      <td>NaN</td>\n",
              "      <td>NaN</td>\n",
              "      <td>NaN</td>\n",
              "      <td>NaN</td>\n",
              "      <td>NaN</td>\n",
              "      <td>NaN</td>\n",
              "      <td>4.828041</td>\n",
              "      <td>-74.007000</td>\n",
              "      <td>5.000962e+07</td>\n",
              "      <td>9.103049e+07</td>\n",
              "    </tr>\n",
              "  </tbody>\n",
              "</table>\n",
              "</div>\n",
              "    <div class=\"colab-df-buttons\">\n",
              "\n",
              "  <div class=\"colab-df-container\">\n",
              "    <button class=\"colab-df-convert\" onclick=\"convertToInteractive('df-54113c92-0f05-4154-938a-fefff4d30acd')\"\n",
              "            title=\"Convert this dataframe to an interactive table.\"\n",
              "            style=\"display:none;\">\n",
              "\n",
              "  <svg xmlns=\"http://www.w3.org/2000/svg\" height=\"24px\" viewBox=\"0 -960 960 960\">\n",
              "    <path d=\"M120-120v-720h720v720H120Zm60-500h600v-160H180v160Zm220 220h160v-160H400v160Zm0 220h160v-160H400v160ZM180-400h160v-160H180v160Zm440 0h160v-160H620v160ZM180-180h160v-160H180v160Zm440 0h160v-160H620v160Z\"/>\n",
              "  </svg>\n",
              "    </button>\n",
              "\n",
              "  <style>\n",
              "    .colab-df-container {\n",
              "      display:flex;\n",
              "      gap: 12px;\n",
              "    }\n",
              "\n",
              "    .colab-df-convert {\n",
              "      background-color: #E8F0FE;\n",
              "      border: none;\n",
              "      border-radius: 50%;\n",
              "      cursor: pointer;\n",
              "      display: none;\n",
              "      fill: #1967D2;\n",
              "      height: 32px;\n",
              "      padding: 0 0 0 0;\n",
              "      width: 32px;\n",
              "    }\n",
              "\n",
              "    .colab-df-convert:hover {\n",
              "      background-color: #E2EBFA;\n",
              "      box-shadow: 0px 1px 2px rgba(60, 64, 67, 0.3), 0px 1px 3px 1px rgba(60, 64, 67, 0.15);\n",
              "      fill: #174EA6;\n",
              "    }\n",
              "\n",
              "    .colab-df-buttons div {\n",
              "      margin-bottom: 4px;\n",
              "    }\n",
              "\n",
              "    [theme=dark] .colab-df-convert {\n",
              "      background-color: #3B4455;\n",
              "      fill: #D2E3FC;\n",
              "    }\n",
              "\n",
              "    [theme=dark] .colab-df-convert:hover {\n",
              "      background-color: #434B5C;\n",
              "      box-shadow: 0px 1px 3px 1px rgba(0, 0, 0, 0.15);\n",
              "      filter: drop-shadow(0px 1px 2px rgba(0, 0, 0, 0.3));\n",
              "      fill: #FFFFFF;\n",
              "    }\n",
              "  </style>\n",
              "\n",
              "    <script>\n",
              "      const buttonEl =\n",
              "        document.querySelector('#df-54113c92-0f05-4154-938a-fefff4d30acd button.colab-df-convert');\n",
              "      buttonEl.style.display =\n",
              "        google.colab.kernel.accessAllowed ? 'block' : 'none';\n",
              "\n",
              "      async function convertToInteractive(key) {\n",
              "        const element = document.querySelector('#df-54113c92-0f05-4154-938a-fefff4d30acd');\n",
              "        const dataTable =\n",
              "          await google.colab.kernel.invokeFunction('convertToInteractive',\n",
              "                                                    [key], {});\n",
              "        if (!dataTable) return;\n",
              "\n",
              "        const docLinkHtml = 'Like what you see? Visit the ' +\n",
              "          '<a target=\"_blank\" href=https://colab.research.google.com/notebooks/data_table.ipynb>data table notebook</a>'\n",
              "          + ' to learn more about interactive tables.';\n",
              "        element.innerHTML = '';\n",
              "        dataTable['output_type'] = 'display_data';\n",
              "        await google.colab.output.renderOutput(dataTable, element);\n",
              "        const docLink = document.createElement('div');\n",
              "        docLink.innerHTML = docLinkHtml;\n",
              "        element.appendChild(docLink);\n",
              "      }\n",
              "    </script>\n",
              "  </div>\n",
              "\n",
              "\n",
              "<div id=\"df-ad96b77a-a83e-45c6-a5ca-745b56964557\">\n",
              "  <button class=\"colab-df-quickchart\" onclick=\"quickchart('df-ad96b77a-a83e-45c6-a5ca-745b56964557')\"\n",
              "            title=\"Suggest charts\"\n",
              "            style=\"display:none;\">\n",
              "\n",
              "<svg xmlns=\"http://www.w3.org/2000/svg\" height=\"24px\"viewBox=\"0 0 24 24\"\n",
              "     width=\"24px\">\n",
              "    <g>\n",
              "        <path d=\"M19 3H5c-1.1 0-2 .9-2 2v14c0 1.1.9 2 2 2h14c1.1 0 2-.9 2-2V5c0-1.1-.9-2-2-2zM9 17H7v-7h2v7zm4 0h-2V7h2v10zm4 0h-2v-4h2v4z\"/>\n",
              "    </g>\n",
              "</svg>\n",
              "  </button>\n",
              "\n",
              "<style>\n",
              "  .colab-df-quickchart {\n",
              "      --bg-color: #E8F0FE;\n",
              "      --fill-color: #1967D2;\n",
              "      --hover-bg-color: #E2EBFA;\n",
              "      --hover-fill-color: #174EA6;\n",
              "      --disabled-fill-color: #AAA;\n",
              "      --disabled-bg-color: #DDD;\n",
              "  }\n",
              "\n",
              "  [theme=dark] .colab-df-quickchart {\n",
              "      --bg-color: #3B4455;\n",
              "      --fill-color: #D2E3FC;\n",
              "      --hover-bg-color: #434B5C;\n",
              "      --hover-fill-color: #FFFFFF;\n",
              "      --disabled-bg-color: #3B4455;\n",
              "      --disabled-fill-color: #666;\n",
              "  }\n",
              "\n",
              "  .colab-df-quickchart {\n",
              "    background-color: var(--bg-color);\n",
              "    border: none;\n",
              "    border-radius: 50%;\n",
              "    cursor: pointer;\n",
              "    display: none;\n",
              "    fill: var(--fill-color);\n",
              "    height: 32px;\n",
              "    padding: 0;\n",
              "    width: 32px;\n",
              "  }\n",
              "\n",
              "  .colab-df-quickchart:hover {\n",
              "    background-color: var(--hover-bg-color);\n",
              "    box-shadow: 0 1px 2px rgba(60, 64, 67, 0.3), 0 1px 3px 1px rgba(60, 64, 67, 0.15);\n",
              "    fill: var(--button-hover-fill-color);\n",
              "  }\n",
              "\n",
              "  .colab-df-quickchart-complete:disabled,\n",
              "  .colab-df-quickchart-complete:disabled:hover {\n",
              "    background-color: var(--disabled-bg-color);\n",
              "    fill: var(--disabled-fill-color);\n",
              "    box-shadow: none;\n",
              "  }\n",
              "\n",
              "  .colab-df-spinner {\n",
              "    border: 2px solid var(--fill-color);\n",
              "    border-color: transparent;\n",
              "    border-bottom-color: var(--fill-color);\n",
              "    animation:\n",
              "      spin 1s steps(1) infinite;\n",
              "  }\n",
              "\n",
              "  @keyframes spin {\n",
              "    0% {\n",
              "      border-color: transparent;\n",
              "      border-bottom-color: var(--fill-color);\n",
              "      border-left-color: var(--fill-color);\n",
              "    }\n",
              "    20% {\n",
              "      border-color: transparent;\n",
              "      border-left-color: var(--fill-color);\n",
              "      border-top-color: var(--fill-color);\n",
              "    }\n",
              "    30% {\n",
              "      border-color: transparent;\n",
              "      border-left-color: var(--fill-color);\n",
              "      border-top-color: var(--fill-color);\n",
              "      border-right-color: var(--fill-color);\n",
              "    }\n",
              "    40% {\n",
              "      border-color: transparent;\n",
              "      border-right-color: var(--fill-color);\n",
              "      border-top-color: var(--fill-color);\n",
              "    }\n",
              "    60% {\n",
              "      border-color: transparent;\n",
              "      border-right-color: var(--fill-color);\n",
              "    }\n",
              "    80% {\n",
              "      border-color: transparent;\n",
              "      border-right-color: var(--fill-color);\n",
              "      border-bottom-color: var(--fill-color);\n",
              "    }\n",
              "    90% {\n",
              "      border-color: transparent;\n",
              "      border-bottom-color: var(--fill-color);\n",
              "    }\n",
              "  }\n",
              "</style>\n",
              "\n",
              "  <script>\n",
              "    async function quickchart(key) {\n",
              "      const quickchartButtonEl =\n",
              "        document.querySelector('#' + key + ' button');\n",
              "      quickchartButtonEl.disabled = true;  // To prevent multiple clicks.\n",
              "      quickchartButtonEl.classList.add('colab-df-spinner');\n",
              "      try {\n",
              "        const charts = await google.colab.kernel.invokeFunction(\n",
              "            'suggestCharts', [key], {});\n",
              "      } catch (error) {\n",
              "        console.error('Error during call to suggestCharts:', error);\n",
              "      }\n",
              "      quickchartButtonEl.classList.remove('colab-df-spinner');\n",
              "      quickchartButtonEl.classList.add('colab-df-quickchart-complete');\n",
              "    }\n",
              "    (() => {\n",
              "      let quickchartButtonEl =\n",
              "        document.querySelector('#df-ad96b77a-a83e-45c6-a5ca-745b56964557 button');\n",
              "      quickchartButtonEl.style.display =\n",
              "        google.colab.kernel.accessAllowed ? 'block' : 'none';\n",
              "    })();\n",
              "  </script>\n",
              "</div>\n",
              "    </div>\n",
              "  </div>\n"
            ],
            "application/vnd.google.colaboratory.intrinsic+json": {
              "type": "dataframe",
              "variable_name": "description",
              "repr_error": "'str' object has no attribute 'empty'"
            }
          },
          "metadata": {},
          "execution_count": 229
        }
      ],
      "source": [
        "# 2. Exploración de los Datos\n",
        "description = Accidente.describe(include='all')\n",
        "description"
      ]
    },
    {
      "cell_type": "code",
      "execution_count": null,
      "metadata": {
        "id": "1oMgHWNDYzXz",
        "colab": {
          "base_uri": "https://localhost:8080/"
        },
        "outputId": "4bd2f610-3b5b-4836-a05a-55efa0bf95b7"
      },
      "outputs": [
        {
          "output_type": "execute_result",
          "data": {
            "text/plain": [
              "                      Nulos  Registros % Nulos\n",
              "X                         0     472767   0.00%\n",
              "Y                         0     472767   0.00%\n",
              "OBJECTID                  0     472767   0.00%\n",
              "FORMULARIO                0     472767   0.00%\n",
              "CODIGO_ACCIDENTE          0     472767   0.00%\n",
              "FECHA_OCURRENCIA_ACC      0     472767   0.00%\n",
              "HORA_OCURRENCIA_ACC       0     472767   0.00%\n",
              "ANO_OCURRENCIA_ACC        0     472767   0.00%\n",
              "MES_OCURRENCIA_ACC        0     472767   0.00%\n",
              "DIA_OCURRENCIA_ACC        0     472767   0.00%\n",
              "DIRECCION                 0     472767   0.00%\n",
              "GRAVEDAD                  3     472767   0.00%\n",
              "CLASE_ACC               140     472767   0.03%\n",
              "LOCALIDAD                50     472767   0.01%\n",
              "MUNICIPIO                 0     472767   0.00%\n",
              "FECHA_HORA_ACC            0     472767   0.00%\n",
              "LATITUD                   0     472767   0.00%\n",
              "LONGITUD                  0     472767   0.00%\n",
              "CIV                    3734     472767   0.79%\n",
              "PK_CALZADA            92655     472767  19.60%"
            ],
            "text/html": [
              "\n",
              "  <div id=\"df-abcb0cf4-a75c-46c4-b507-7ab83c87f681\" class=\"colab-df-container\">\n",
              "    <div>\n",
              "<style scoped>\n",
              "    .dataframe tbody tr th:only-of-type {\n",
              "        vertical-align: middle;\n",
              "    }\n",
              "\n",
              "    .dataframe tbody tr th {\n",
              "        vertical-align: top;\n",
              "    }\n",
              "\n",
              "    .dataframe thead th {\n",
              "        text-align: right;\n",
              "    }\n",
              "</style>\n",
              "<table border=\"1\" class=\"dataframe\">\n",
              "  <thead>\n",
              "    <tr style=\"text-align: right;\">\n",
              "      <th></th>\n",
              "      <th>Nulos</th>\n",
              "      <th>Registros</th>\n",
              "      <th>% Nulos</th>\n",
              "    </tr>\n",
              "  </thead>\n",
              "  <tbody>\n",
              "    <tr>\n",
              "      <th>X</th>\n",
              "      <td>0</td>\n",
              "      <td>472767</td>\n",
              "      <td>0.00%</td>\n",
              "    </tr>\n",
              "    <tr>\n",
              "      <th>Y</th>\n",
              "      <td>0</td>\n",
              "      <td>472767</td>\n",
              "      <td>0.00%</td>\n",
              "    </tr>\n",
              "    <tr>\n",
              "      <th>OBJECTID</th>\n",
              "      <td>0</td>\n",
              "      <td>472767</td>\n",
              "      <td>0.00%</td>\n",
              "    </tr>\n",
              "    <tr>\n",
              "      <th>FORMULARIO</th>\n",
              "      <td>0</td>\n",
              "      <td>472767</td>\n",
              "      <td>0.00%</td>\n",
              "    </tr>\n",
              "    <tr>\n",
              "      <th>CODIGO_ACCIDENTE</th>\n",
              "      <td>0</td>\n",
              "      <td>472767</td>\n",
              "      <td>0.00%</td>\n",
              "    </tr>\n",
              "    <tr>\n",
              "      <th>FECHA_OCURRENCIA_ACC</th>\n",
              "      <td>0</td>\n",
              "      <td>472767</td>\n",
              "      <td>0.00%</td>\n",
              "    </tr>\n",
              "    <tr>\n",
              "      <th>HORA_OCURRENCIA_ACC</th>\n",
              "      <td>0</td>\n",
              "      <td>472767</td>\n",
              "      <td>0.00%</td>\n",
              "    </tr>\n",
              "    <tr>\n",
              "      <th>ANO_OCURRENCIA_ACC</th>\n",
              "      <td>0</td>\n",
              "      <td>472767</td>\n",
              "      <td>0.00%</td>\n",
              "    </tr>\n",
              "    <tr>\n",
              "      <th>MES_OCURRENCIA_ACC</th>\n",
              "      <td>0</td>\n",
              "      <td>472767</td>\n",
              "      <td>0.00%</td>\n",
              "    </tr>\n",
              "    <tr>\n",
              "      <th>DIA_OCURRENCIA_ACC</th>\n",
              "      <td>0</td>\n",
              "      <td>472767</td>\n",
              "      <td>0.00%</td>\n",
              "    </tr>\n",
              "    <tr>\n",
              "      <th>DIRECCION</th>\n",
              "      <td>0</td>\n",
              "      <td>472767</td>\n",
              "      <td>0.00%</td>\n",
              "    </tr>\n",
              "    <tr>\n",
              "      <th>GRAVEDAD</th>\n",
              "      <td>3</td>\n",
              "      <td>472767</td>\n",
              "      <td>0.00%</td>\n",
              "    </tr>\n",
              "    <tr>\n",
              "      <th>CLASE_ACC</th>\n",
              "      <td>140</td>\n",
              "      <td>472767</td>\n",
              "      <td>0.03%</td>\n",
              "    </tr>\n",
              "    <tr>\n",
              "      <th>LOCALIDAD</th>\n",
              "      <td>50</td>\n",
              "      <td>472767</td>\n",
              "      <td>0.01%</td>\n",
              "    </tr>\n",
              "    <tr>\n",
              "      <th>MUNICIPIO</th>\n",
              "      <td>0</td>\n",
              "      <td>472767</td>\n",
              "      <td>0.00%</td>\n",
              "    </tr>\n",
              "    <tr>\n",
              "      <th>FECHA_HORA_ACC</th>\n",
              "      <td>0</td>\n",
              "      <td>472767</td>\n",
              "      <td>0.00%</td>\n",
              "    </tr>\n",
              "    <tr>\n",
              "      <th>LATITUD</th>\n",
              "      <td>0</td>\n",
              "      <td>472767</td>\n",
              "      <td>0.00%</td>\n",
              "    </tr>\n",
              "    <tr>\n",
              "      <th>LONGITUD</th>\n",
              "      <td>0</td>\n",
              "      <td>472767</td>\n",
              "      <td>0.00%</td>\n",
              "    </tr>\n",
              "    <tr>\n",
              "      <th>CIV</th>\n",
              "      <td>3734</td>\n",
              "      <td>472767</td>\n",
              "      <td>0.79%</td>\n",
              "    </tr>\n",
              "    <tr>\n",
              "      <th>PK_CALZADA</th>\n",
              "      <td>92655</td>\n",
              "      <td>472767</td>\n",
              "      <td>19.60%</td>\n",
              "    </tr>\n",
              "  </tbody>\n",
              "</table>\n",
              "</div>\n",
              "    <div class=\"colab-df-buttons\">\n",
              "\n",
              "  <div class=\"colab-df-container\">\n",
              "    <button class=\"colab-df-convert\" onclick=\"convertToInteractive('df-abcb0cf4-a75c-46c4-b507-7ab83c87f681')\"\n",
              "            title=\"Convert this dataframe to an interactive table.\"\n",
              "            style=\"display:none;\">\n",
              "\n",
              "  <svg xmlns=\"http://www.w3.org/2000/svg\" height=\"24px\" viewBox=\"0 -960 960 960\">\n",
              "    <path d=\"M120-120v-720h720v720H120Zm60-500h600v-160H180v160Zm220 220h160v-160H400v160Zm0 220h160v-160H400v160ZM180-400h160v-160H180v160Zm440 0h160v-160H620v160ZM180-180h160v-160H180v160Zm440 0h160v-160H620v160Z\"/>\n",
              "  </svg>\n",
              "    </button>\n",
              "\n",
              "  <style>\n",
              "    .colab-df-container {\n",
              "      display:flex;\n",
              "      gap: 12px;\n",
              "    }\n",
              "\n",
              "    .colab-df-convert {\n",
              "      background-color: #E8F0FE;\n",
              "      border: none;\n",
              "      border-radius: 50%;\n",
              "      cursor: pointer;\n",
              "      display: none;\n",
              "      fill: #1967D2;\n",
              "      height: 32px;\n",
              "      padding: 0 0 0 0;\n",
              "      width: 32px;\n",
              "    }\n",
              "\n",
              "    .colab-df-convert:hover {\n",
              "      background-color: #E2EBFA;\n",
              "      box-shadow: 0px 1px 2px rgba(60, 64, 67, 0.3), 0px 1px 3px 1px rgba(60, 64, 67, 0.15);\n",
              "      fill: #174EA6;\n",
              "    }\n",
              "\n",
              "    .colab-df-buttons div {\n",
              "      margin-bottom: 4px;\n",
              "    }\n",
              "\n",
              "    [theme=dark] .colab-df-convert {\n",
              "      background-color: #3B4455;\n",
              "      fill: #D2E3FC;\n",
              "    }\n",
              "\n",
              "    [theme=dark] .colab-df-convert:hover {\n",
              "      background-color: #434B5C;\n",
              "      box-shadow: 0px 1px 3px 1px rgba(0, 0, 0, 0.15);\n",
              "      filter: drop-shadow(0px 1px 2px rgba(0, 0, 0, 0.3));\n",
              "      fill: #FFFFFF;\n",
              "    }\n",
              "  </style>\n",
              "\n",
              "    <script>\n",
              "      const buttonEl =\n",
              "        document.querySelector('#df-abcb0cf4-a75c-46c4-b507-7ab83c87f681 button.colab-df-convert');\n",
              "      buttonEl.style.display =\n",
              "        google.colab.kernel.accessAllowed ? 'block' : 'none';\n",
              "\n",
              "      async function convertToInteractive(key) {\n",
              "        const element = document.querySelector('#df-abcb0cf4-a75c-46c4-b507-7ab83c87f681');\n",
              "        const dataTable =\n",
              "          await google.colab.kernel.invokeFunction('convertToInteractive',\n",
              "                                                    [key], {});\n",
              "        if (!dataTable) return;\n",
              "\n",
              "        const docLinkHtml = 'Like what you see? Visit the ' +\n",
              "          '<a target=\"_blank\" href=https://colab.research.google.com/notebooks/data_table.ipynb>data table notebook</a>'\n",
              "          + ' to learn more about interactive tables.';\n",
              "        element.innerHTML = '';\n",
              "        dataTable['output_type'] = 'display_data';\n",
              "        await google.colab.output.renderOutput(dataTable, element);\n",
              "        const docLink = document.createElement('div');\n",
              "        docLink.innerHTML = docLinkHtml;\n",
              "        element.appendChild(docLink);\n",
              "      }\n",
              "    </script>\n",
              "  </div>\n",
              "\n",
              "\n",
              "<div id=\"df-f062d1ea-0d56-47eb-86bd-dec03ca3c020\">\n",
              "  <button class=\"colab-df-quickchart\" onclick=\"quickchart('df-f062d1ea-0d56-47eb-86bd-dec03ca3c020')\"\n",
              "            title=\"Suggest charts\"\n",
              "            style=\"display:none;\">\n",
              "\n",
              "<svg xmlns=\"http://www.w3.org/2000/svg\" height=\"24px\"viewBox=\"0 0 24 24\"\n",
              "     width=\"24px\">\n",
              "    <g>\n",
              "        <path d=\"M19 3H5c-1.1 0-2 .9-2 2v14c0 1.1.9 2 2 2h14c1.1 0 2-.9 2-2V5c0-1.1-.9-2-2-2zM9 17H7v-7h2v7zm4 0h-2V7h2v10zm4 0h-2v-4h2v4z\"/>\n",
              "    </g>\n",
              "</svg>\n",
              "  </button>\n",
              "\n",
              "<style>\n",
              "  .colab-df-quickchart {\n",
              "      --bg-color: #E8F0FE;\n",
              "      --fill-color: #1967D2;\n",
              "      --hover-bg-color: #E2EBFA;\n",
              "      --hover-fill-color: #174EA6;\n",
              "      --disabled-fill-color: #AAA;\n",
              "      --disabled-bg-color: #DDD;\n",
              "  }\n",
              "\n",
              "  [theme=dark] .colab-df-quickchart {\n",
              "      --bg-color: #3B4455;\n",
              "      --fill-color: #D2E3FC;\n",
              "      --hover-bg-color: #434B5C;\n",
              "      --hover-fill-color: #FFFFFF;\n",
              "      --disabled-bg-color: #3B4455;\n",
              "      --disabled-fill-color: #666;\n",
              "  }\n",
              "\n",
              "  .colab-df-quickchart {\n",
              "    background-color: var(--bg-color);\n",
              "    border: none;\n",
              "    border-radius: 50%;\n",
              "    cursor: pointer;\n",
              "    display: none;\n",
              "    fill: var(--fill-color);\n",
              "    height: 32px;\n",
              "    padding: 0;\n",
              "    width: 32px;\n",
              "  }\n",
              "\n",
              "  .colab-df-quickchart:hover {\n",
              "    background-color: var(--hover-bg-color);\n",
              "    box-shadow: 0 1px 2px rgba(60, 64, 67, 0.3), 0 1px 3px 1px rgba(60, 64, 67, 0.15);\n",
              "    fill: var(--button-hover-fill-color);\n",
              "  }\n",
              "\n",
              "  .colab-df-quickchart-complete:disabled,\n",
              "  .colab-df-quickchart-complete:disabled:hover {\n",
              "    background-color: var(--disabled-bg-color);\n",
              "    fill: var(--disabled-fill-color);\n",
              "    box-shadow: none;\n",
              "  }\n",
              "\n",
              "  .colab-df-spinner {\n",
              "    border: 2px solid var(--fill-color);\n",
              "    border-color: transparent;\n",
              "    border-bottom-color: var(--fill-color);\n",
              "    animation:\n",
              "      spin 1s steps(1) infinite;\n",
              "  }\n",
              "\n",
              "  @keyframes spin {\n",
              "    0% {\n",
              "      border-color: transparent;\n",
              "      border-bottom-color: var(--fill-color);\n",
              "      border-left-color: var(--fill-color);\n",
              "    }\n",
              "    20% {\n",
              "      border-color: transparent;\n",
              "      border-left-color: var(--fill-color);\n",
              "      border-top-color: var(--fill-color);\n",
              "    }\n",
              "    30% {\n",
              "      border-color: transparent;\n",
              "      border-left-color: var(--fill-color);\n",
              "      border-top-color: var(--fill-color);\n",
              "      border-right-color: var(--fill-color);\n",
              "    }\n",
              "    40% {\n",
              "      border-color: transparent;\n",
              "      border-right-color: var(--fill-color);\n",
              "      border-top-color: var(--fill-color);\n",
              "    }\n",
              "    60% {\n",
              "      border-color: transparent;\n",
              "      border-right-color: var(--fill-color);\n",
              "    }\n",
              "    80% {\n",
              "      border-color: transparent;\n",
              "      border-right-color: var(--fill-color);\n",
              "      border-bottom-color: var(--fill-color);\n",
              "    }\n",
              "    90% {\n",
              "      border-color: transparent;\n",
              "      border-bottom-color: var(--fill-color);\n",
              "    }\n",
              "  }\n",
              "</style>\n",
              "\n",
              "  <script>\n",
              "    async function quickchart(key) {\n",
              "      const quickchartButtonEl =\n",
              "        document.querySelector('#' + key + ' button');\n",
              "      quickchartButtonEl.disabled = true;  // To prevent multiple clicks.\n",
              "      quickchartButtonEl.classList.add('colab-df-spinner');\n",
              "      try {\n",
              "        const charts = await google.colab.kernel.invokeFunction(\n",
              "            'suggestCharts', [key], {});\n",
              "      } catch (error) {\n",
              "        console.error('Error during call to suggestCharts:', error);\n",
              "      }\n",
              "      quickchartButtonEl.classList.remove('colab-df-spinner');\n",
              "      quickchartButtonEl.classList.add('colab-df-quickchart-complete');\n",
              "    }\n",
              "    (() => {\n",
              "      let quickchartButtonEl =\n",
              "        document.querySelector('#df-f062d1ea-0d56-47eb-86bd-dec03ca3c020 button');\n",
              "      quickchartButtonEl.style.display =\n",
              "        google.colab.kernel.accessAllowed ? 'block' : 'none';\n",
              "    })();\n",
              "  </script>\n",
              "</div>\n",
              "    </div>\n",
              "  </div>\n"
            ],
            "application/vnd.google.colaboratory.intrinsic+json": {
              "type": "dataframe",
              "variable_name": "resumen_NaN_Accidente",
              "summary": "{\n  \"name\": \"resumen_NaN_Accidente\",\n  \"rows\": 20,\n  \"fields\": [\n    {\n      \"column\": \"Nulos\",\n      \"properties\": {\n        \"dtype\": \"number\",\n        \"std\": 20688,\n        \"min\": 0,\n        \"max\": 92655,\n        \"num_unique_values\": 6,\n        \"samples\": [\n          0,\n          3,\n          92655\n        ],\n        \"semantic_type\": \"\",\n        \"description\": \"\"\n      }\n    },\n    {\n      \"column\": \"Registros\",\n      \"properties\": {\n        \"dtype\": \"number\",\n        \"std\": 0,\n        \"min\": 472767,\n        \"max\": 472767,\n        \"num_unique_values\": 1,\n        \"samples\": [\n          472767\n        ],\n        \"semantic_type\": \"\",\n        \"description\": \"\"\n      }\n    },\n    {\n      \"column\": \"% Nulos\",\n      \"properties\": {\n        \"dtype\": \"category\",\n        \"num_unique_values\": 5,\n        \"samples\": [\n          \"0.03%\"\n        ],\n        \"semantic_type\": \"\",\n        \"description\": \"\"\n      }\n    }\n  ]\n}"
            }
          },
          "metadata": {},
          "execution_count": 230
        }
      ],
      "source": [
        "# 3. Contabilizamos valores nulos, e identificamos participación en el total de registros por columnas\n",
        "resumen_NaN_Accidente = pd.DataFrame(Accidente.isnull().sum())\n",
        "resumen_NaN_Accidente.columns=['Nulos']\n",
        "resumen_NaN_Accidente['Registros']=Accidente.shape[0]\n",
        "resumen_NaN_Accidente['% Nulos']=resumen_NaN_Accidente.Nulos/resumen_NaN_Accidente.Registros\n",
        "resumen_NaN_Accidente['% Nulos']=resumen_NaN_Accidente['% Nulos'].apply(\"{:.2%}\".format)\n",
        "resumen_NaN_Accidente"
      ]
    },
    {
      "cell_type": "code",
      "execution_count": null,
      "metadata": {
        "id": "o_7lZjN8-wQK"
      },
      "outputs": [],
      "source": [
        "# 4. Cambio formato de campo FECHA_OCURRENCIA_ACC\n",
        "Accidente.loc[:, 'FECHA_OCURRENCIA_ACC'] = pd.to_datetime(Accidente['FECHA_OCURRENCIA_ACC']).dt.strftime('%d/%m/%Y')\n",
        "Accidente[\"FECHA_OCURRENCIA_ACC\"]=pd.to_datetime(Accidente[\"FECHA_OCURRENCIA_ACC\"], format=\"%d/%m/%Y\")\n"
      ]
    },
    {
      "cell_type": "code",
      "execution_count": null,
      "metadata": {
        "id": "WC52vOUQ6umo"
      },
      "outputs": [],
      "source": [
        "# 5. Traemos los codigos de localidad, gravedad, clase_acc que corresponde al indice de su tabla\n",
        "Accidente = pd.merge(Accidente,Gravedad, how=\"left\", left_on=\"GRAVEDAD\", right_on=\"GRAVEDAD\")\n",
        "Accidente = pd.merge(Accidente,Clase_Accidente, how=\"left\", left_on=\"CLASE_ACC\", right_on=\"CLASE_ACC\")\n",
        "Accidente = pd.merge(Accidente,Localidad, how=\"left\", left_on=\"LOCALIDAD\", right_on=\"LOCALIDAD\")"
      ]
    },
    {
      "cell_type": "code",
      "execution_count": null,
      "metadata": {
        "id": "pzIg8k048NQ5",
        "colab": {
          "base_uri": "https://localhost:8080/"
        },
        "outputId": "af364ed8-e5b3-489d-d34a-f9354dfea5bf"
      },
      "outputs": [
        {
          "output_type": "stream",
          "name": "stdout",
          "text": [
            "           X         Y  OBJECTID  FORMULARIO  CODIGO_ACCIDENTE  \\\n",
            "0 -74.090924  4.693807         1  A000640275           4484660   \n",
            "1 -74.119697  4.717638         2  A001515603          10583520   \n",
            "2 -74.040677  4.669288         3    A1241594            449558   \n",
            "3 -74.066101  4.737015         4  A001516620          10583513   \n",
            "4 -74.087407  4.679568         5  A000035070            513150   \n",
            "\n",
            "  FECHA_OCURRENCIA_ACC HORA_OCURRENCIA_ACC  ANO_OCURRENCIA_ACC  \\\n",
            "0           2017-06-12            05:30:00                2017   \n",
            "1           2022-10-29            10:55:00                2022   \n",
            "2           2012-12-15            20:30:00                2012   \n",
            "3           2022-11-01            14:58:00                2022   \n",
            "4           2014-10-26            21:25:00                2014   \n",
            "\n",
            "  MES_OCURRENCIA_ACC DIA_OCURRENCIA_ACC  ...  LOCALIDAD  MUNICIPIO  \\\n",
            "0              JUNIO              LUNES  ...   ENGATIVA  BOGOTA DC   \n",
            "1            OCTUBRE             SABADO  ...   ENGATIVA  BOGOTA DC   \n",
            "2          DICIEMBRE             SABADO  ...  CHAPINERO  BOGOTA DC   \n",
            "3          NOVIEMBRE             MARTES  ...       SUBA  BOGOTA DC   \n",
            "4            OCTUBRE            DOMINGO  ...   ENGATIVA  BOGOTA DC   \n",
            "\n",
            "           FECHA_HORA_ACC   LATITUD   LONGITUD         CIV  PK_CALZADA  \\\n",
            "0  2017/06/12 05:30:00+00  4.693807 -74.090924  10006772.0    221236.0   \n",
            "1  2022/10/29 10:55:00+00  4.717638 -74.119697  10000591.0         NaN   \n",
            "2  2012/12/15 20:30:00+00  4.669288 -74.040677   2002328.0     35683.0   \n",
            "3  2022/11/01 14:58:00+00  4.737015 -74.066101  11005846.0         NaN   \n",
            "4  2014/10/26 21:25:00+00  4.679568 -74.087407  10008600.0     43287.0   \n",
            "\n",
            "   COD_GRAVEDAD  COD_CLASE_ACC  COD_LOCALIDAD  \n",
            "0           1.0            1.0            1.0  \n",
            "1           1.0            1.0            1.0  \n",
            "2           1.0            1.0            2.0  \n",
            "3           2.0            1.0            3.0  \n",
            "4           2.0            2.0            1.0  \n",
            "\n",
            "[5 rows x 23 columns]\n"
          ]
        }
      ],
      "source": [
        "print(Accidente.head())"
      ]
    },
    {
      "cell_type": "code",
      "execution_count": null,
      "metadata": {
        "id": "AT8fApwd8pb7"
      },
      "outputs": [],
      "source": [
        "# 6. Crear un nuevo DataFrame con las columnas seleccionadas\n",
        "selected_columns = ['CODIGO_ACCIDENTE', 'FECHA_OCURRENCIA_ACC', 'HORA_OCURRENCIA_ACC', 'DIRECCION', 'COD_GRAVEDAD', 'COD_CLASE_ACC', 'COD_LOCALIDAD', 'LATITUD', 'LONGITUD']\n",
        "\n",
        "# Asignar solo las columnas seleccionadas al nuevo DataFrame\n",
        "Accidente_df = Accidente[selected_columns]\n",
        "Accidente_df = pd.DataFrame(Accidente_df)"
      ]
    },
    {
      "cell_type": "code",
      "execution_count": null,
      "metadata": {
        "id": "MaKldbaQbHXu",
        "colab": {
          "base_uri": "https://localhost:8080/"
        },
        "outputId": "0d72ad83-06eb-4655-9c42-a2195b722ac3"
      },
      "outputs": [
        {
          "output_type": "stream",
          "name": "stdout",
          "text": [
            "Número de registros duplicados: 0\n",
            "Registros duplicados:\n",
            "Empty DataFrame\n",
            "Columns: [CODIGO_ACCIDENTE, FECHA_OCURRENCIA_ACC, HORA_OCURRENCIA_ACC, DIRECCION, COD_GRAVEDAD, COD_CLASE_ACC, COD_LOCALIDAD, LATITUD, LONGITUD]\n",
            "Index: []\n"
          ]
        }
      ],
      "source": [
        "# 7. Identificar registros duplicados\n",
        "duplicates = Accidente_df.duplicated()\n",
        "\n",
        "# Contar la cantidad de registros duplicados\n",
        "num_duplicates = sum(duplicates)\n",
        "\n",
        "print(\"Número de registros duplicados:\", num_duplicates)\n",
        "print(\"Registros duplicados:\")\n",
        "print(Accidente_df[duplicates])\n"
      ]
    },
    {
      "cell_type": "code",
      "execution_count": null,
      "metadata": {
        "id": "Y4J484lIx8YY"
      },
      "outputs": [],
      "source": [
        "# Almacenamos solo la fecha de ocurrencia\n",
        "Accidente_df['FECHA_OCURRENCIA_ACC'] = Accidente_df['FECHA_OCURRENCIA_ACC'].dt.date"
      ]
    },
    {
      "cell_type": "code",
      "execution_count": null,
      "metadata": {
        "id": "5t5MVc-QQ48n",
        "colab": {
          "base_uri": "https://localhost:8080/"
        },
        "outputId": "52c03167-bd4e-4c92-9d7a-b2443f836342"
      },
      "outputs": [
        {
          "output_type": "stream",
          "name": "stdout",
          "text": [
            "Las variables almacenan la información en el siguiente formato: CODIGO_ACCIDENTE          int64\n",
            "FECHA_OCURRENCIA_ACC     object\n",
            "HORA_OCURRENCIA_ACC      object\n",
            "DIRECCION                object\n",
            "COD_GRAVEDAD            float64\n",
            "COD_CLASE_ACC           float64\n",
            "COD_LOCALIDAD           float64\n",
            "LATITUD                 float64\n",
            "LONGITUD                float64\n",
            "dtype: object\n"
          ]
        }
      ],
      "source": [
        "print('Las variables almacenan la información en el siguiente formato:', Accidente_df.dtypes)"
      ]
    },
    {
      "cell_type": "code",
      "execution_count": null,
      "metadata": {
        "id": "yzbDcsC5SwRC",
        "colab": {
          "base_uri": "https://localhost:8080/"
        },
        "outputId": "7e2a6444-0df3-443f-92ac-1beec960e20d"
      },
      "outputs": [
        {
          "output_type": "stream",
          "name": "stdout",
          "text": [
            "   CODIGO_ACCIDENTE FECHA_OCURRENCIA_ACC HORA_OCURRENCIA_ACC  \\\n",
            "0           4484660           2017-06-12            05:30:00   \n",
            "1          10583520           2022-10-29            10:55:00   \n",
            "2            449558           2012-12-15            20:30:00   \n",
            "3          10583513           2022-11-01            14:58:00   \n",
            "4            513150           2014-10-26            21:25:00   \n",
            "\n",
            "                    DIRECCION  COD_GRAVEDAD  COD_CLASE_ACC  COD_LOCALIDAD  \\\n",
            "0  AV AVENIDA BOYACA-CL 79 02           1.0            1.0            1.0   \n",
            "1      KR 111 A  - CL 79   02           1.0            1.0            1.0   \n",
            "2               KR 4-CL 91 02           1.0            1.0            2.0   \n",
            "3        KR 72  - CL 148   02           2.0            1.0            3.0   \n",
            "4             AC 72-KR 68F 02           2.0            2.0            1.0   \n",
            "\n",
            "    LATITUD   LONGITUD  \n",
            "0  4.693807 -74.090924  \n",
            "1  4.717638 -74.119697  \n",
            "2  4.669288 -74.040677  \n",
            "3  4.737015 -74.066101  \n",
            "4  4.679568 -74.087407  \n"
          ]
        }
      ],
      "source": [
        "# Visualizar el nuevo DataFrame con las columnas seleccionadas\n",
        "print(Accidente_df.head())"
      ]
    },
    {
      "cell_type": "markdown",
      "metadata": {
        "id": "A5iUdQ8ZkrPY"
      },
      "source": [
        "### 3.24 Creación tabla Condición_Actor"
      ]
    },
    {
      "cell_type": "code",
      "execution_count": null,
      "metadata": {
        "id": "pHWgNFDNkrPY",
        "colab": {
          "base_uri": "https://localhost:8080/"
        },
        "outputId": "58443e7b-844c-40e1-9bc5-4250f54a463d"
      },
      "outputs": [
        {
          "output_type": "stream",
          "name": "stderr",
          "text": [
            "<ipython-input-239-5ca4f32fd44d>:2: DtypeWarning: Columns (1,8) have mixed types. Specify dtype option on import or set low_memory=False.\n",
            "  Condicion_Actor = pd.read_csv('/content/ActorVial.csv')\n"
          ]
        }
      ],
      "source": [
        "# 1. Crear la tabla de Condicion_Actor con los campos necesarios\n",
        "Condicion_Actor = pd.read_csv('/content/ActorVial.csv')\n",
        "Condicion_Actor = Condicion_Actor[['CONDICION']]"
      ]
    },
    {
      "cell_type": "code",
      "execution_count": null,
      "metadata": {
        "id": "SMyL7fpakrPZ",
        "colab": {
          "base_uri": "https://localhost:8080/"
        },
        "outputId": "2d652683-7551-445f-8038-d35f94c63a74"
      },
      "outputs": [
        {
          "output_type": "stream",
          "name": "stdout",
          "text": [
            "El DataFrame está compuesto por 1,676,598 filas y 1 columnas\n"
          ]
        }
      ],
      "source": [
        "# 2. Revisión de la Estructura del Dataset\n",
        "print('El DataFrame está compuesto por {:,}'.format(Condicion_Actor.shape[0]),'filas y',Condicion_Actor.shape[1],'columnas')"
      ]
    },
    {
      "cell_type": "code",
      "execution_count": null,
      "metadata": {
        "id": "STXqX-FkkrPZ"
      },
      "outputs": [],
      "source": [
        "# 3. Eliminamos los duplicados\n",
        "Condicion_Actor = Condicion_Actor.drop_duplicates()"
      ]
    },
    {
      "cell_type": "code",
      "execution_count": null,
      "metadata": {
        "id": "50_Q3HR8krPZ"
      },
      "outputs": [],
      "source": [
        "# 4. Eliminamos los valores vacíos\n",
        "Condicion_Actor = Condicion_Actor.dropna()"
      ]
    },
    {
      "cell_type": "code",
      "execution_count": null,
      "metadata": {
        "id": "XsPZMot1krPZ",
        "colab": {
          "base_uri": "https://localhost:8080/"
        },
        "outputId": "f9e79460-59cb-4fbb-bac6-be38f82db7b8"
      },
      "outputs": [
        {
          "output_type": "stream",
          "name": "stdout",
          "text": [
            "El DataFrame está compuesto por 6 filas y 1 columnas\n"
          ]
        }
      ],
      "source": [
        "# 5. Reseteamos el ínidce y confirmamos la Estructura del Dataset\n",
        "Condicion_Actor = Condicion_Actor.reset_index(drop=True)\n",
        "print('El DataFrame está compuesto por {:,}'.format(Condicion_Actor.shape[0]),'filas y',Condicion_Actor.shape[1],'columnas')"
      ]
    },
    {
      "cell_type": "code",
      "execution_count": null,
      "metadata": {
        "id": "9UCe4D8hkrPZ"
      },
      "outputs": [],
      "source": [
        "#6. Creamos codigo de condicion_actor\n",
        "Condicion_Actor['COD_CONDICION_ACTOR']=Condicion_Actor.index+1"
      ]
    },
    {
      "cell_type": "code",
      "execution_count": null,
      "metadata": {
        "id": "WgR3JNqNkrPa",
        "colab": {
          "base_uri": "https://localhost:8080/"
        },
        "outputId": "3fdc10d8-e91d-4d31-b9bc-888d46662079"
      },
      "outputs": [
        {
          "output_type": "stream",
          "name": "stdout",
          "text": [
            "         CONDICION  COD_CONDICION_ACTOR\n",
            "0        CONDUCTOR                    1\n",
            "1     MOTOCICLISTA                    2\n",
            "2         CICLISTA                    3\n",
            "3         PASAJERO                    4\n",
            "4           PEATON                    5\n",
            "5  SIN INFORMACION                    6\n"
          ]
        }
      ],
      "source": [
        "print(Condicion_Actor.head(6))"
      ]
    },
    {
      "cell_type": "code",
      "execution_count": null,
      "metadata": {
        "id": "lNOBMJPTkrPa"
      },
      "outputs": [],
      "source": [
        "Condicion_Actor[\"COD_CONDICION_ACTOR\"] = pd.to_numeric(Condicion_Actor[\"COD_CONDICION_ACTOR\"] , downcast=\"float\", errors=\"coerce\")\n",
        "Condicion_Actor[\"COD_CONDICION_ACTOR\"] = Condicion_Actor[\"COD_CONDICION_ACTOR\"].astype(float)"
      ]
    },
    {
      "cell_type": "code",
      "execution_count": null,
      "metadata": {
        "id": "52exa32ZkrPa",
        "colab": {
          "base_uri": "https://localhost:8080/"
        },
        "outputId": "14233464-0d90-4b01-e27d-7b2d7b06ea4d"
      },
      "outputs": [
        {
          "output_type": "stream",
          "name": "stdout",
          "text": [
            "Las variables almacenan la información en el siguiente formato: CONDICION               object\n",
            "COD_CONDICION_ACTOR    float64\n",
            "dtype: object\n"
          ]
        }
      ],
      "source": [
        "print('Las variables almacenan la información en el siguiente formato:', Condicion_Actor.dtypes)"
      ]
    },
    {
      "cell_type": "markdown",
      "metadata": {
        "id": "wqYa0eCNkvUH"
      },
      "source": [
        "### 3.25 Creación tabla Estado"
      ]
    },
    {
      "cell_type": "code",
      "execution_count": null,
      "metadata": {
        "id": "MDWn36hPkvUH",
        "colab": {
          "base_uri": "https://localhost:8080/"
        },
        "outputId": "d147b021-dc6d-40da-8cf2-70a511158505"
      },
      "outputs": [
        {
          "output_type": "stream",
          "name": "stderr",
          "text": [
            "<ipython-input-248-863d8ab0a836>:2: DtypeWarning: Columns (1,8) have mixed types. Specify dtype option on import or set low_memory=False.\n",
            "  Estado_ActorVial = pd.read_csv('/content/ActorVial.csv')\n"
          ]
        }
      ],
      "source": [
        "# 1. Crear la tabla de Estado con los campos necesarios\n",
        "Estado_ActorVial = pd.read_csv('/content/ActorVial.csv')\n",
        "Estado_ActorVial = Estado_ActorVial[['ESTADO']]"
      ]
    },
    {
      "cell_type": "code",
      "execution_count": null,
      "metadata": {
        "id": "-avUDDAckvUH",
        "colab": {
          "base_uri": "https://localhost:8080/"
        },
        "outputId": "d8c0cf14-5de5-4812-8578-c26f0290abba"
      },
      "outputs": [
        {
          "output_type": "stream",
          "name": "stdout",
          "text": [
            "El DataFrame está compuesto por 1,676,598 filas y 1 columnas\n"
          ]
        }
      ],
      "source": [
        "# 2. Revisión de la Estructura del Dataset\n",
        "print('El DataFrame está compuesto por {:,}'.format(Estado_ActorVial.shape[0]),'filas y',Estado_ActorVial.shape[1],'columnas')"
      ]
    },
    {
      "cell_type": "code",
      "execution_count": null,
      "metadata": {
        "id": "vktCifkOkvUH"
      },
      "outputs": [],
      "source": [
        "# 3. Eliminamos los duplicados\n",
        "Estado_ActorVial = Estado_ActorVial.drop_duplicates()"
      ]
    },
    {
      "cell_type": "code",
      "execution_count": null,
      "metadata": {
        "id": "72WW7fNwkvUH"
      },
      "outputs": [],
      "source": [
        "# 4. Eliminamos los valores vacíos\n",
        "Estado_ActorVial = Estado_ActorVial.dropna()"
      ]
    },
    {
      "cell_type": "code",
      "execution_count": null,
      "metadata": {
        "id": "OxaN59qJkvUH",
        "colab": {
          "base_uri": "https://localhost:8080/"
        },
        "outputId": "fd2649c6-3d4e-4895-fab3-16dc49c32a1a"
      },
      "outputs": [
        {
          "output_type": "stream",
          "name": "stdout",
          "text": [
            "El DataFrame está compuesto por 3 filas y 1 columnas\n"
          ]
        }
      ],
      "source": [
        "# 5. Reseteamos el ínidce y confirmamos la Estructura del Dataset\n",
        "Estado_ActorVial = Estado_ActorVial.reset_index(drop=True)\n",
        "print('El DataFrame está compuesto por {:,}'.format(Estado_ActorVial.shape[0]),'filas y',Estado_ActorVial.shape[1],'columnas')"
      ]
    },
    {
      "cell_type": "code",
      "execution_count": null,
      "metadata": {
        "id": "kRZcZ7AfkvUH"
      },
      "outputs": [],
      "source": [
        "#6. Creamos codigo de geometrica A\n",
        "Estado_ActorVial['COD_ESTADO']=Estado_ActorVial.index+1"
      ]
    },
    {
      "cell_type": "code",
      "execution_count": null,
      "metadata": {
        "id": "ODOJQeypkvUH",
        "colab": {
          "base_uri": "https://localhost:8080/"
        },
        "outputId": "9a097843-d1c5-4deb-a328-ddb374d19bfc"
      },
      "outputs": [
        {
          "output_type": "stream",
          "name": "stdout",
          "text": [
            "   ESTADO  COD_ESTADO\n",
            "0   ILESO           1\n",
            "1  HERIDO           2\n",
            "2  MUERTO           3\n"
          ]
        }
      ],
      "source": [
        "print(Estado_ActorVial.head())"
      ]
    },
    {
      "cell_type": "code",
      "execution_count": null,
      "metadata": {
        "id": "yI9NCH5ykvUH"
      },
      "outputs": [],
      "source": [
        "Estado_ActorVial[\"COD_ESTADO\"] = pd.to_numeric(Estado_ActorVial[\"COD_ESTADO\"] , downcast=\"float\", errors=\"coerce\")\n",
        "Estado_ActorVial[\"COD_ESTADO\"] = Estado_ActorVial[\"COD_ESTADO\"].astype(float)"
      ]
    },
    {
      "cell_type": "code",
      "execution_count": null,
      "metadata": {
        "id": "u5Q0BgNpkvUI",
        "colab": {
          "base_uri": "https://localhost:8080/"
        },
        "outputId": "b9dca017-f683-4955-c00e-dbaed7c87e45"
      },
      "outputs": [
        {
          "output_type": "stream",
          "name": "stdout",
          "text": [
            "Las variables almacenan la información en el siguiente formato: ESTADO         object\n",
            "COD_ESTADO    float64\n",
            "dtype: object\n"
          ]
        }
      ],
      "source": [
        "print('Las variables almacenan la información en el siguiente formato:', Estado_ActorVial.dtypes)"
      ]
    },
    {
      "cell_type": "markdown",
      "metadata": {
        "id": "_3n8kgaek4Cb"
      },
      "source": [
        "### 3.26 Creación tabla Genero"
      ]
    },
    {
      "cell_type": "code",
      "execution_count": null,
      "metadata": {
        "id": "iOtBxrGXk4Cc",
        "colab": {
          "base_uri": "https://localhost:8080/"
        },
        "outputId": "faab8643-532c-48af-8db5-3fef655b00c2"
      },
      "outputs": [
        {
          "output_type": "stream",
          "name": "stderr",
          "text": [
            "<ipython-input-257-718f8c3b76f9>:2: DtypeWarning: Columns (1,8) have mixed types. Specify dtype option on import or set low_memory=False.\n",
            "  Genero = pd.read_csv('/content/ActorVial.csv')\n"
          ]
        }
      ],
      "source": [
        "# 1. Crear la tabla de Genero con los campos necesarios\n",
        "Genero = pd.read_csv('/content/ActorVial.csv')\n",
        "Genero = Genero[['GENERO']]"
      ]
    },
    {
      "cell_type": "code",
      "execution_count": null,
      "metadata": {
        "id": "x-G-_LJvk4Cc",
        "colab": {
          "base_uri": "https://localhost:8080/"
        },
        "outputId": "ce56c3e0-42ca-4bde-bb68-40b2dbee0212"
      },
      "outputs": [
        {
          "output_type": "stream",
          "name": "stdout",
          "text": [
            "El DataFrame está compuesto por 1,676,598 filas y 1 columnas\n"
          ]
        }
      ],
      "source": [
        "# 2. Revisión de la Estructura del Dataset\n",
        "print('El DataFrame está compuesto por {:,}'.format(Genero.shape[0]),'filas y',Genero.shape[1],'columnas')"
      ]
    },
    {
      "cell_type": "code",
      "execution_count": null,
      "metadata": {
        "id": "DgwNvYzuk4Cd"
      },
      "outputs": [],
      "source": [
        "# 3. Eliminamos los duplicados\n",
        "Genero = Genero.drop_duplicates()"
      ]
    },
    {
      "cell_type": "code",
      "execution_count": null,
      "metadata": {
        "id": "a9d0_IWbk4Cd"
      },
      "outputs": [],
      "source": [
        "# 4. Eliminamos los valores vacíos\n",
        "Genero = Genero.dropna()"
      ]
    },
    {
      "cell_type": "code",
      "execution_count": null,
      "metadata": {
        "id": "cYy73HTBk4Cd",
        "colab": {
          "base_uri": "https://localhost:8080/"
        },
        "outputId": "1cc7fa7b-5da9-42c4-a4ca-6dcec757dd98"
      },
      "outputs": [
        {
          "output_type": "stream",
          "name": "stdout",
          "text": [
            "El DataFrame está compuesto por 3 filas y 1 columnas\n"
          ]
        }
      ],
      "source": [
        "# 5. Reseteamos el ínidce y confimamos  de la Estructura del Dataset\n",
        "Genero = Genero.reset_index(drop=True)\n",
        "print('El DataFrame está compuesto por {:,}'.format(Genero.shape[0]),'filas y',Genero.shape[1],'columnas')"
      ]
    },
    {
      "cell_type": "code",
      "execution_count": null,
      "metadata": {
        "id": "tx_H2Yl7k4Cd"
      },
      "outputs": [],
      "source": [
        "#6. Creamos codigo de genero\n",
        "Genero['COD_GENERO']=Genero.index+1"
      ]
    },
    {
      "cell_type": "code",
      "execution_count": null,
      "metadata": {
        "id": "2YPbX3JZk4Ce",
        "colab": {
          "base_uri": "https://localhost:8080/"
        },
        "outputId": "3facc170-2a52-4383-8076-152442d2d4f1"
      },
      "outputs": [
        {
          "output_type": "stream",
          "name": "stdout",
          "text": [
            "            GENERO  COD_GENERO\n",
            "0        MASCULINO           1\n",
            "1         FEMENINO           2\n",
            "2  SIN INFORMACION           3\n"
          ]
        }
      ],
      "source": [
        "print(Genero.head())"
      ]
    },
    {
      "cell_type": "code",
      "execution_count": null,
      "metadata": {
        "id": "ejVUS5edk4Ce"
      },
      "outputs": [],
      "source": [
        "Genero[\"COD_GENERO\"] = pd.to_numeric(Genero[\"COD_GENERO\"] , downcast=\"float\", errors=\"coerce\")\n",
        "Genero[\"COD_GENERO\"] = Genero[\"COD_GENERO\"].astype(float)"
      ]
    },
    {
      "cell_type": "code",
      "execution_count": null,
      "metadata": {
        "id": "bXSX3elHk4Ce",
        "colab": {
          "base_uri": "https://localhost:8080/"
        },
        "outputId": "465e8655-b67f-49a9-88e9-20a4a8d92ef1"
      },
      "outputs": [
        {
          "output_type": "stream",
          "name": "stdout",
          "text": [
            "Las variables almacenan la información en el siguiente formato: GENERO         object\n",
            "COD_GENERO    float64\n",
            "dtype: object\n"
          ]
        }
      ],
      "source": [
        "print('Las variables almacenan la información en el siguiente formato:', Genero.dtypes)"
      ]
    },
    {
      "cell_type": "markdown",
      "metadata": {
        "id": "3eTgrxdD4VSf"
      },
      "source": [
        "### 3.27 Creación tabla Actor Vial"
      ]
    },
    {
      "cell_type": "code",
      "execution_count": null,
      "metadata": {
        "id": "xlzOitQM4ZVP",
        "colab": {
          "base_uri": "https://localhost:8080/"
        },
        "outputId": "0c8fbeff-da6d-417e-e607-a2c054f76447"
      },
      "outputs": [
        {
          "output_type": "stream",
          "name": "stderr",
          "text": [
            "<ipython-input-266-bc8cf83b652a>:1: DtypeWarning: Columns (1,8) have mixed types. Specify dtype option on import or set low_memory=False.\n",
            "  Actor_Vial = pd.read_csv('/content/ActorVial.csv')\n"
          ]
        },
        {
          "output_type": "execute_result",
          "data": {
            "text/plain": [
              "   OBJECTID  FORMULARIO  CODIGO_ACCIDENTADO  CODIGO_VICTIMA  CODIGO_VEHICULO  \\\n",
              "0         1  A001234819          12725004.0               0              1.0   \n",
              "1         2  A001234819          12725005.0               0              2.0   \n",
              "2         3  A001234906          12725006.0               0              1.0   \n",
              "3         4  A001234906          12725007.0               0              2.0   \n",
              "4         5  A001232695          12725008.0               0              1.0   \n",
              "\n",
              "   CONDICION ESTADO MUERTE_POSTERIOR FECHA_POSTERIOR_MUERTE     GENERO  \\\n",
              "0  CONDUCTOR  ILESO              NaN                    NaN  MASCULINO   \n",
              "1  CONDUCTOR  ILESO              NaN                    NaN  MASCULINO   \n",
              "2  CONDUCTOR  ILESO              NaN                    NaN  MASCULINO   \n",
              "3  CONDUCTOR  ILESO              NaN                    NaN   FEMENINO   \n",
              "4  CONDUCTOR  ILESO              NaN                    NaN  MASCULINO   \n",
              "\n",
              "         FECHA_NACIMIENTO  EDAD      CODIGO CONDICION_VEHICULO  \n",
              "0  1991/04/28 00:00:00+00  29.0  10528705-1          CONDUCTOR  \n",
              "1  1956/04/01 00:00:01+00  64.0  10528705-2          CONDUCTOR  \n",
              "2  1997/06/23 00:00:00+00  23.0  10528709-1          CONDUCTOR  \n",
              "3  1985/05/25 00:00:00+00  35.0  10528709-2          CONDUCTOR  \n",
              "4  1979/10/04 00:00:00+00  41.0  10528708-1          CONDUCTOR  "
            ],
            "text/html": [
              "\n",
              "  <div id=\"df-8b4ee399-dca5-4ee0-9332-a14d7837ea1a\" class=\"colab-df-container\">\n",
              "    <div>\n",
              "<style scoped>\n",
              "    .dataframe tbody tr th:only-of-type {\n",
              "        vertical-align: middle;\n",
              "    }\n",
              "\n",
              "    .dataframe tbody tr th {\n",
              "        vertical-align: top;\n",
              "    }\n",
              "\n",
              "    .dataframe thead th {\n",
              "        text-align: right;\n",
              "    }\n",
              "</style>\n",
              "<table border=\"1\" class=\"dataframe\">\n",
              "  <thead>\n",
              "    <tr style=\"text-align: right;\">\n",
              "      <th></th>\n",
              "      <th>OBJECTID</th>\n",
              "      <th>FORMULARIO</th>\n",
              "      <th>CODIGO_ACCIDENTADO</th>\n",
              "      <th>CODIGO_VICTIMA</th>\n",
              "      <th>CODIGO_VEHICULO</th>\n",
              "      <th>CONDICION</th>\n",
              "      <th>ESTADO</th>\n",
              "      <th>MUERTE_POSTERIOR</th>\n",
              "      <th>FECHA_POSTERIOR_MUERTE</th>\n",
              "      <th>GENERO</th>\n",
              "      <th>FECHA_NACIMIENTO</th>\n",
              "      <th>EDAD</th>\n",
              "      <th>CODIGO</th>\n",
              "      <th>CONDICION_VEHICULO</th>\n",
              "    </tr>\n",
              "  </thead>\n",
              "  <tbody>\n",
              "    <tr>\n",
              "      <th>0</th>\n",
              "      <td>1</td>\n",
              "      <td>A001234819</td>\n",
              "      <td>12725004.0</td>\n",
              "      <td>0</td>\n",
              "      <td>1.0</td>\n",
              "      <td>CONDUCTOR</td>\n",
              "      <td>ILESO</td>\n",
              "      <td>NaN</td>\n",
              "      <td>NaN</td>\n",
              "      <td>MASCULINO</td>\n",
              "      <td>1991/04/28 00:00:00+00</td>\n",
              "      <td>29.0</td>\n",
              "      <td>10528705-1</td>\n",
              "      <td>CONDUCTOR</td>\n",
              "    </tr>\n",
              "    <tr>\n",
              "      <th>1</th>\n",
              "      <td>2</td>\n",
              "      <td>A001234819</td>\n",
              "      <td>12725005.0</td>\n",
              "      <td>0</td>\n",
              "      <td>2.0</td>\n",
              "      <td>CONDUCTOR</td>\n",
              "      <td>ILESO</td>\n",
              "      <td>NaN</td>\n",
              "      <td>NaN</td>\n",
              "      <td>MASCULINO</td>\n",
              "      <td>1956/04/01 00:00:01+00</td>\n",
              "      <td>64.0</td>\n",
              "      <td>10528705-2</td>\n",
              "      <td>CONDUCTOR</td>\n",
              "    </tr>\n",
              "    <tr>\n",
              "      <th>2</th>\n",
              "      <td>3</td>\n",
              "      <td>A001234906</td>\n",
              "      <td>12725006.0</td>\n",
              "      <td>0</td>\n",
              "      <td>1.0</td>\n",
              "      <td>CONDUCTOR</td>\n",
              "      <td>ILESO</td>\n",
              "      <td>NaN</td>\n",
              "      <td>NaN</td>\n",
              "      <td>MASCULINO</td>\n",
              "      <td>1997/06/23 00:00:00+00</td>\n",
              "      <td>23.0</td>\n",
              "      <td>10528709-1</td>\n",
              "      <td>CONDUCTOR</td>\n",
              "    </tr>\n",
              "    <tr>\n",
              "      <th>3</th>\n",
              "      <td>4</td>\n",
              "      <td>A001234906</td>\n",
              "      <td>12725007.0</td>\n",
              "      <td>0</td>\n",
              "      <td>2.0</td>\n",
              "      <td>CONDUCTOR</td>\n",
              "      <td>ILESO</td>\n",
              "      <td>NaN</td>\n",
              "      <td>NaN</td>\n",
              "      <td>FEMENINO</td>\n",
              "      <td>1985/05/25 00:00:00+00</td>\n",
              "      <td>35.0</td>\n",
              "      <td>10528709-2</td>\n",
              "      <td>CONDUCTOR</td>\n",
              "    </tr>\n",
              "    <tr>\n",
              "      <th>4</th>\n",
              "      <td>5</td>\n",
              "      <td>A001232695</td>\n",
              "      <td>12725008.0</td>\n",
              "      <td>0</td>\n",
              "      <td>1.0</td>\n",
              "      <td>CONDUCTOR</td>\n",
              "      <td>ILESO</td>\n",
              "      <td>NaN</td>\n",
              "      <td>NaN</td>\n",
              "      <td>MASCULINO</td>\n",
              "      <td>1979/10/04 00:00:00+00</td>\n",
              "      <td>41.0</td>\n",
              "      <td>10528708-1</td>\n",
              "      <td>CONDUCTOR</td>\n",
              "    </tr>\n",
              "  </tbody>\n",
              "</table>\n",
              "</div>\n",
              "    <div class=\"colab-df-buttons\">\n",
              "\n",
              "  <div class=\"colab-df-container\">\n",
              "    <button class=\"colab-df-convert\" onclick=\"convertToInteractive('df-8b4ee399-dca5-4ee0-9332-a14d7837ea1a')\"\n",
              "            title=\"Convert this dataframe to an interactive table.\"\n",
              "            style=\"display:none;\">\n",
              "\n",
              "  <svg xmlns=\"http://www.w3.org/2000/svg\" height=\"24px\" viewBox=\"0 -960 960 960\">\n",
              "    <path d=\"M120-120v-720h720v720H120Zm60-500h600v-160H180v160Zm220 220h160v-160H400v160Zm0 220h160v-160H400v160ZM180-400h160v-160H180v160Zm440 0h160v-160H620v160ZM180-180h160v-160H180v160Zm440 0h160v-160H620v160Z\"/>\n",
              "  </svg>\n",
              "    </button>\n",
              "\n",
              "  <style>\n",
              "    .colab-df-container {\n",
              "      display:flex;\n",
              "      gap: 12px;\n",
              "    }\n",
              "\n",
              "    .colab-df-convert {\n",
              "      background-color: #E8F0FE;\n",
              "      border: none;\n",
              "      border-radius: 50%;\n",
              "      cursor: pointer;\n",
              "      display: none;\n",
              "      fill: #1967D2;\n",
              "      height: 32px;\n",
              "      padding: 0 0 0 0;\n",
              "      width: 32px;\n",
              "    }\n",
              "\n",
              "    .colab-df-convert:hover {\n",
              "      background-color: #E2EBFA;\n",
              "      box-shadow: 0px 1px 2px rgba(60, 64, 67, 0.3), 0px 1px 3px 1px rgba(60, 64, 67, 0.15);\n",
              "      fill: #174EA6;\n",
              "    }\n",
              "\n",
              "    .colab-df-buttons div {\n",
              "      margin-bottom: 4px;\n",
              "    }\n",
              "\n",
              "    [theme=dark] .colab-df-convert {\n",
              "      background-color: #3B4455;\n",
              "      fill: #D2E3FC;\n",
              "    }\n",
              "\n",
              "    [theme=dark] .colab-df-convert:hover {\n",
              "      background-color: #434B5C;\n",
              "      box-shadow: 0px 1px 3px 1px rgba(0, 0, 0, 0.15);\n",
              "      filter: drop-shadow(0px 1px 2px rgba(0, 0, 0, 0.3));\n",
              "      fill: #FFFFFF;\n",
              "    }\n",
              "  </style>\n",
              "\n",
              "    <script>\n",
              "      const buttonEl =\n",
              "        document.querySelector('#df-8b4ee399-dca5-4ee0-9332-a14d7837ea1a button.colab-df-convert');\n",
              "      buttonEl.style.display =\n",
              "        google.colab.kernel.accessAllowed ? 'block' : 'none';\n",
              "\n",
              "      async function convertToInteractive(key) {\n",
              "        const element = document.querySelector('#df-8b4ee399-dca5-4ee0-9332-a14d7837ea1a');\n",
              "        const dataTable =\n",
              "          await google.colab.kernel.invokeFunction('convertToInteractive',\n",
              "                                                    [key], {});\n",
              "        if (!dataTable) return;\n",
              "\n",
              "        const docLinkHtml = 'Like what you see? Visit the ' +\n",
              "          '<a target=\"_blank\" href=https://colab.research.google.com/notebooks/data_table.ipynb>data table notebook</a>'\n",
              "          + ' to learn more about interactive tables.';\n",
              "        element.innerHTML = '';\n",
              "        dataTable['output_type'] = 'display_data';\n",
              "        await google.colab.output.renderOutput(dataTable, element);\n",
              "        const docLink = document.createElement('div');\n",
              "        docLink.innerHTML = docLinkHtml;\n",
              "        element.appendChild(docLink);\n",
              "      }\n",
              "    </script>\n",
              "  </div>\n",
              "\n",
              "\n",
              "<div id=\"df-27ce95e1-9bce-4641-8671-f192bbd6dcfd\">\n",
              "  <button class=\"colab-df-quickchart\" onclick=\"quickchart('df-27ce95e1-9bce-4641-8671-f192bbd6dcfd')\"\n",
              "            title=\"Suggest charts\"\n",
              "            style=\"display:none;\">\n",
              "\n",
              "<svg xmlns=\"http://www.w3.org/2000/svg\" height=\"24px\"viewBox=\"0 0 24 24\"\n",
              "     width=\"24px\">\n",
              "    <g>\n",
              "        <path d=\"M19 3H5c-1.1 0-2 .9-2 2v14c0 1.1.9 2 2 2h14c1.1 0 2-.9 2-2V5c0-1.1-.9-2-2-2zM9 17H7v-7h2v7zm4 0h-2V7h2v10zm4 0h-2v-4h2v4z\"/>\n",
              "    </g>\n",
              "</svg>\n",
              "  </button>\n",
              "\n",
              "<style>\n",
              "  .colab-df-quickchart {\n",
              "      --bg-color: #E8F0FE;\n",
              "      --fill-color: #1967D2;\n",
              "      --hover-bg-color: #E2EBFA;\n",
              "      --hover-fill-color: #174EA6;\n",
              "      --disabled-fill-color: #AAA;\n",
              "      --disabled-bg-color: #DDD;\n",
              "  }\n",
              "\n",
              "  [theme=dark] .colab-df-quickchart {\n",
              "      --bg-color: #3B4455;\n",
              "      --fill-color: #D2E3FC;\n",
              "      --hover-bg-color: #434B5C;\n",
              "      --hover-fill-color: #FFFFFF;\n",
              "      --disabled-bg-color: #3B4455;\n",
              "      --disabled-fill-color: #666;\n",
              "  }\n",
              "\n",
              "  .colab-df-quickchart {\n",
              "    background-color: var(--bg-color);\n",
              "    border: none;\n",
              "    border-radius: 50%;\n",
              "    cursor: pointer;\n",
              "    display: none;\n",
              "    fill: var(--fill-color);\n",
              "    height: 32px;\n",
              "    padding: 0;\n",
              "    width: 32px;\n",
              "  }\n",
              "\n",
              "  .colab-df-quickchart:hover {\n",
              "    background-color: var(--hover-bg-color);\n",
              "    box-shadow: 0 1px 2px rgba(60, 64, 67, 0.3), 0 1px 3px 1px rgba(60, 64, 67, 0.15);\n",
              "    fill: var(--button-hover-fill-color);\n",
              "  }\n",
              "\n",
              "  .colab-df-quickchart-complete:disabled,\n",
              "  .colab-df-quickchart-complete:disabled:hover {\n",
              "    background-color: var(--disabled-bg-color);\n",
              "    fill: var(--disabled-fill-color);\n",
              "    box-shadow: none;\n",
              "  }\n",
              "\n",
              "  .colab-df-spinner {\n",
              "    border: 2px solid var(--fill-color);\n",
              "    border-color: transparent;\n",
              "    border-bottom-color: var(--fill-color);\n",
              "    animation:\n",
              "      spin 1s steps(1) infinite;\n",
              "  }\n",
              "\n",
              "  @keyframes spin {\n",
              "    0% {\n",
              "      border-color: transparent;\n",
              "      border-bottom-color: var(--fill-color);\n",
              "      border-left-color: var(--fill-color);\n",
              "    }\n",
              "    20% {\n",
              "      border-color: transparent;\n",
              "      border-left-color: var(--fill-color);\n",
              "      border-top-color: var(--fill-color);\n",
              "    }\n",
              "    30% {\n",
              "      border-color: transparent;\n",
              "      border-left-color: var(--fill-color);\n",
              "      border-top-color: var(--fill-color);\n",
              "      border-right-color: var(--fill-color);\n",
              "    }\n",
              "    40% {\n",
              "      border-color: transparent;\n",
              "      border-right-color: var(--fill-color);\n",
              "      border-top-color: var(--fill-color);\n",
              "    }\n",
              "    60% {\n",
              "      border-color: transparent;\n",
              "      border-right-color: var(--fill-color);\n",
              "    }\n",
              "    80% {\n",
              "      border-color: transparent;\n",
              "      border-right-color: var(--fill-color);\n",
              "      border-bottom-color: var(--fill-color);\n",
              "    }\n",
              "    90% {\n",
              "      border-color: transparent;\n",
              "      border-bottom-color: var(--fill-color);\n",
              "    }\n",
              "  }\n",
              "</style>\n",
              "\n",
              "  <script>\n",
              "    async function quickchart(key) {\n",
              "      const quickchartButtonEl =\n",
              "        document.querySelector('#' + key + ' button');\n",
              "      quickchartButtonEl.disabled = true;  // To prevent multiple clicks.\n",
              "      quickchartButtonEl.classList.add('colab-df-spinner');\n",
              "      try {\n",
              "        const charts = await google.colab.kernel.invokeFunction(\n",
              "            'suggestCharts', [key], {});\n",
              "      } catch (error) {\n",
              "        console.error('Error during call to suggestCharts:', error);\n",
              "      }\n",
              "      quickchartButtonEl.classList.remove('colab-df-spinner');\n",
              "      quickchartButtonEl.classList.add('colab-df-quickchart-complete');\n",
              "    }\n",
              "    (() => {\n",
              "      let quickchartButtonEl =\n",
              "        document.querySelector('#df-27ce95e1-9bce-4641-8671-f192bbd6dcfd button');\n",
              "      quickchartButtonEl.style.display =\n",
              "        google.colab.kernel.accessAllowed ? 'block' : 'none';\n",
              "    })();\n",
              "  </script>\n",
              "</div>\n",
              "    </div>\n",
              "  </div>\n"
            ],
            "application/vnd.google.colaboratory.intrinsic+json": {
              "type": "dataframe",
              "variable_name": "Actor_Vial"
            }
          },
          "metadata": {},
          "execution_count": 266
        }
      ],
      "source": [
        "Actor_Vial = pd.read_csv('/content/ActorVial.csv')\n",
        "Actor_Vial.head()"
      ]
    },
    {
      "cell_type": "code",
      "execution_count": null,
      "metadata": {
        "id": "NnP8Ic6ha4MN",
        "colab": {
          "base_uri": "https://localhost:8080/"
        },
        "outputId": "c707dd37-a5e8-4531-920d-3edf3cd63e4a"
      },
      "outputs": [
        {
          "output_type": "stream",
          "name": "stdout",
          "text": [
            "El DataFrame está compuesto por 1,676,598 filas y 14 columnas\n",
            "Con información distribuida en las siguientes variables: Index(['OBJECTID', 'FORMULARIO', 'CODIGO_ACCIDENTADO', 'CODIGO_VICTIMA',\n",
            "       'CODIGO_VEHICULO', 'CONDICION', 'ESTADO', 'MUERTE_POSTERIOR',\n",
            "       'FECHA_POSTERIOR_MUERTE', 'GENERO', 'FECHA_NACIMIENTO', 'EDAD',\n",
            "       'CODIGO', 'CONDICION_VEHICULO'],\n",
            "      dtype='object')\n",
            "Las variables almacenan la información en el siguiente formato: OBJECTID                    int64\n",
            "FORMULARIO                 object\n",
            "CODIGO_ACCIDENTADO        float64\n",
            "CODIGO_VICTIMA              int64\n",
            "CODIGO_VEHICULO           float64\n",
            "CONDICION                  object\n",
            "ESTADO                     object\n",
            "MUERTE_POSTERIOR           object\n",
            "FECHA_POSTERIOR_MUERTE     object\n",
            "GENERO                     object\n",
            "FECHA_NACIMIENTO           object\n",
            "EDAD                      float64\n",
            "CODIGO                     object\n",
            "CONDICION_VEHICULO         object\n",
            "dtype: object\n"
          ]
        }
      ],
      "source": [
        "# 1. Revisión de la Estructura del Dataset\n",
        "print('El DataFrame está compuesto por {:,}'.format(Actor_Vial.shape[0]),'filas y',Actor_Vial.shape[1],'columnas')\n",
        "print('Con información distribuida en las siguientes variables:', Actor_Vial.columns)\n",
        "print('Las variables almacenan la información en el siguiente formato:', Actor_Vial.dtypes)"
      ]
    },
    {
      "cell_type": "code",
      "execution_count": null,
      "metadata": {
        "id": "y9TGIOmIa6P9",
        "colab": {
          "base_uri": "https://localhost:8080/"
        },
        "outputId": "57716b9e-b65d-4b49-de54-327578bafe20"
      },
      "outputs": [
        {
          "output_type": "execute_result",
          "data": {
            "text/plain": [
              "            OBJECTID  FORMULARIO  CODIGO_ACCIDENTADO  CODIGO_VICTIMA  \\\n",
              "count   1.676598e+06     1676598        1.676595e+06    1.676598e+06   \n",
              "unique           NaN      811646                 NaN             NaN   \n",
              "top              NaN  A000239725                 NaN             NaN   \n",
              "freq             NaN          75                 NaN             NaN   \n",
              "mean    8.382995e+05         NaN        3.705871e+06    2.859696e-01   \n",
              "std     4.839923e+05         NaN        4.562760e+06    1.222645e+00   \n",
              "min     1.000000e+00         NaN        1.648400e+04    0.000000e+00   \n",
              "25%     4.191502e+05         NaN        6.333675e+05    0.000000e+00   \n",
              "50%     8.382995e+05         NaN        2.188181e+06    0.000000e+00   \n",
              "75%     1.257449e+06         NaN        2.612886e+06    0.000000e+00   \n",
              "max     1.676598e+06         NaN        1.288613e+07    9.900000e+01   \n",
              "\n",
              "        CODIGO_VEHICULO  CONDICION   ESTADO MUERTE_POSTERIOR  \\\n",
              "count      1.557445e+06    1676569  1670941           496386   \n",
              "unique              NaN          6        3                2   \n",
              "top                 NaN  CONDUCTOR    ILESO                N   \n",
              "freq                NaN    1231628  1257506           492245   \n",
              "mean       1.493111e+00        NaN      NaN              NaN   \n",
              "std        6.376130e-01        NaN      NaN              NaN   \n",
              "min       -1.000000e+00        NaN      NaN              NaN   \n",
              "25%        1.000000e+00        NaN      NaN              NaN   \n",
              "50%        1.000000e+00        NaN      NaN              NaN   \n",
              "75%        2.000000e+00        NaN      NaN              NaN   \n",
              "max        5.200000e+01        NaN      NaN              NaN   \n",
              "\n",
              "        FECHA_POSTERIOR_MUERTE     GENERO        FECHA_NACIMIENTO  \\\n",
              "count                     4149    1672288                 1676309   \n",
              "unique                    2989          3                   80270   \n",
              "top     2006/12/16 00:00:00+00  MASCULINO  1900/01/01 00:00:01+00   \n",
              "freq                         8    1358171                  162247   \n",
              "mean                       NaN        NaN                     NaN   \n",
              "std                        NaN        NaN                     NaN   \n",
              "min                        NaN        NaN                     NaN   \n",
              "25%                        NaN        NaN                     NaN   \n",
              "50%                        NaN        NaN                     NaN   \n",
              "75%                        NaN        NaN                     NaN   \n",
              "max                        NaN        NaN                     NaN   \n",
              "\n",
              "                EDAD      CODIGO CONDICION_VEHICULO  \n",
              "count   1.514637e+06     1676598            1676569  \n",
              "unique           NaN     1549926                  7  \n",
              "top              NaN  10503205-3          CONDUCTOR  \n",
              "freq             NaN          59            1231628  \n",
              "mean    3.667145e+01         NaN                NaN  \n",
              "std     3.959473e+01         NaN                NaN  \n",
              "min    -7.624000e+03         NaN                NaN  \n",
              "25%     2.700000e+01         NaN                NaN  \n",
              "50%     3.500000e+01         NaN                NaN  \n",
              "75%     4.600000e+01         NaN                NaN  \n",
              "max     2.021000e+03         NaN                NaN  "
            ],
            "text/html": [
              "\n",
              "  <div id=\"df-792cb4f4-a98b-4691-b24b-b7d17a5379b0\" class=\"colab-df-container\">\n",
              "    <div>\n",
              "<style scoped>\n",
              "    .dataframe tbody tr th:only-of-type {\n",
              "        vertical-align: middle;\n",
              "    }\n",
              "\n",
              "    .dataframe tbody tr th {\n",
              "        vertical-align: top;\n",
              "    }\n",
              "\n",
              "    .dataframe thead th {\n",
              "        text-align: right;\n",
              "    }\n",
              "</style>\n",
              "<table border=\"1\" class=\"dataframe\">\n",
              "  <thead>\n",
              "    <tr style=\"text-align: right;\">\n",
              "      <th></th>\n",
              "      <th>OBJECTID</th>\n",
              "      <th>FORMULARIO</th>\n",
              "      <th>CODIGO_ACCIDENTADO</th>\n",
              "      <th>CODIGO_VICTIMA</th>\n",
              "      <th>CODIGO_VEHICULO</th>\n",
              "      <th>CONDICION</th>\n",
              "      <th>ESTADO</th>\n",
              "      <th>MUERTE_POSTERIOR</th>\n",
              "      <th>FECHA_POSTERIOR_MUERTE</th>\n",
              "      <th>GENERO</th>\n",
              "      <th>FECHA_NACIMIENTO</th>\n",
              "      <th>EDAD</th>\n",
              "      <th>CODIGO</th>\n",
              "      <th>CONDICION_VEHICULO</th>\n",
              "    </tr>\n",
              "  </thead>\n",
              "  <tbody>\n",
              "    <tr>\n",
              "      <th>count</th>\n",
              "      <td>1.676598e+06</td>\n",
              "      <td>1676598</td>\n",
              "      <td>1.676595e+06</td>\n",
              "      <td>1.676598e+06</td>\n",
              "      <td>1.557445e+06</td>\n",
              "      <td>1676569</td>\n",
              "      <td>1670941</td>\n",
              "      <td>496386</td>\n",
              "      <td>4149</td>\n",
              "      <td>1672288</td>\n",
              "      <td>1676309</td>\n",
              "      <td>1.514637e+06</td>\n",
              "      <td>1676598</td>\n",
              "      <td>1676569</td>\n",
              "    </tr>\n",
              "    <tr>\n",
              "      <th>unique</th>\n",
              "      <td>NaN</td>\n",
              "      <td>811646</td>\n",
              "      <td>NaN</td>\n",
              "      <td>NaN</td>\n",
              "      <td>NaN</td>\n",
              "      <td>6</td>\n",
              "      <td>3</td>\n",
              "      <td>2</td>\n",
              "      <td>2989</td>\n",
              "      <td>3</td>\n",
              "      <td>80270</td>\n",
              "      <td>NaN</td>\n",
              "      <td>1549926</td>\n",
              "      <td>7</td>\n",
              "    </tr>\n",
              "    <tr>\n",
              "      <th>top</th>\n",
              "      <td>NaN</td>\n",
              "      <td>A000239725</td>\n",
              "      <td>NaN</td>\n",
              "      <td>NaN</td>\n",
              "      <td>NaN</td>\n",
              "      <td>CONDUCTOR</td>\n",
              "      <td>ILESO</td>\n",
              "      <td>N</td>\n",
              "      <td>2006/12/16 00:00:00+00</td>\n",
              "      <td>MASCULINO</td>\n",
              "      <td>1900/01/01 00:00:01+00</td>\n",
              "      <td>NaN</td>\n",
              "      <td>10503205-3</td>\n",
              "      <td>CONDUCTOR</td>\n",
              "    </tr>\n",
              "    <tr>\n",
              "      <th>freq</th>\n",
              "      <td>NaN</td>\n",
              "      <td>75</td>\n",
              "      <td>NaN</td>\n",
              "      <td>NaN</td>\n",
              "      <td>NaN</td>\n",
              "      <td>1231628</td>\n",
              "      <td>1257506</td>\n",
              "      <td>492245</td>\n",
              "      <td>8</td>\n",
              "      <td>1358171</td>\n",
              "      <td>162247</td>\n",
              "      <td>NaN</td>\n",
              "      <td>59</td>\n",
              "      <td>1231628</td>\n",
              "    </tr>\n",
              "    <tr>\n",
              "      <th>mean</th>\n",
              "      <td>8.382995e+05</td>\n",
              "      <td>NaN</td>\n",
              "      <td>3.705871e+06</td>\n",
              "      <td>2.859696e-01</td>\n",
              "      <td>1.493111e+00</td>\n",
              "      <td>NaN</td>\n",
              "      <td>NaN</td>\n",
              "      <td>NaN</td>\n",
              "      <td>NaN</td>\n",
              "      <td>NaN</td>\n",
              "      <td>NaN</td>\n",
              "      <td>3.667145e+01</td>\n",
              "      <td>NaN</td>\n",
              "      <td>NaN</td>\n",
              "    </tr>\n",
              "    <tr>\n",
              "      <th>std</th>\n",
              "      <td>4.839923e+05</td>\n",
              "      <td>NaN</td>\n",
              "      <td>4.562760e+06</td>\n",
              "      <td>1.222645e+00</td>\n",
              "      <td>6.376130e-01</td>\n",
              "      <td>NaN</td>\n",
              "      <td>NaN</td>\n",
              "      <td>NaN</td>\n",
              "      <td>NaN</td>\n",
              "      <td>NaN</td>\n",
              "      <td>NaN</td>\n",
              "      <td>3.959473e+01</td>\n",
              "      <td>NaN</td>\n",
              "      <td>NaN</td>\n",
              "    </tr>\n",
              "    <tr>\n",
              "      <th>min</th>\n",
              "      <td>1.000000e+00</td>\n",
              "      <td>NaN</td>\n",
              "      <td>1.648400e+04</td>\n",
              "      <td>0.000000e+00</td>\n",
              "      <td>-1.000000e+00</td>\n",
              "      <td>NaN</td>\n",
              "      <td>NaN</td>\n",
              "      <td>NaN</td>\n",
              "      <td>NaN</td>\n",
              "      <td>NaN</td>\n",
              "      <td>NaN</td>\n",
              "      <td>-7.624000e+03</td>\n",
              "      <td>NaN</td>\n",
              "      <td>NaN</td>\n",
              "    </tr>\n",
              "    <tr>\n",
              "      <th>25%</th>\n",
              "      <td>4.191502e+05</td>\n",
              "      <td>NaN</td>\n",
              "      <td>6.333675e+05</td>\n",
              "      <td>0.000000e+00</td>\n",
              "      <td>1.000000e+00</td>\n",
              "      <td>NaN</td>\n",
              "      <td>NaN</td>\n",
              "      <td>NaN</td>\n",
              "      <td>NaN</td>\n",
              "      <td>NaN</td>\n",
              "      <td>NaN</td>\n",
              "      <td>2.700000e+01</td>\n",
              "      <td>NaN</td>\n",
              "      <td>NaN</td>\n",
              "    </tr>\n",
              "    <tr>\n",
              "      <th>50%</th>\n",
              "      <td>8.382995e+05</td>\n",
              "      <td>NaN</td>\n",
              "      <td>2.188181e+06</td>\n",
              "      <td>0.000000e+00</td>\n",
              "      <td>1.000000e+00</td>\n",
              "      <td>NaN</td>\n",
              "      <td>NaN</td>\n",
              "      <td>NaN</td>\n",
              "      <td>NaN</td>\n",
              "      <td>NaN</td>\n",
              "      <td>NaN</td>\n",
              "      <td>3.500000e+01</td>\n",
              "      <td>NaN</td>\n",
              "      <td>NaN</td>\n",
              "    </tr>\n",
              "    <tr>\n",
              "      <th>75%</th>\n",
              "      <td>1.257449e+06</td>\n",
              "      <td>NaN</td>\n",
              "      <td>2.612886e+06</td>\n",
              "      <td>0.000000e+00</td>\n",
              "      <td>2.000000e+00</td>\n",
              "      <td>NaN</td>\n",
              "      <td>NaN</td>\n",
              "      <td>NaN</td>\n",
              "      <td>NaN</td>\n",
              "      <td>NaN</td>\n",
              "      <td>NaN</td>\n",
              "      <td>4.600000e+01</td>\n",
              "      <td>NaN</td>\n",
              "      <td>NaN</td>\n",
              "    </tr>\n",
              "    <tr>\n",
              "      <th>max</th>\n",
              "      <td>1.676598e+06</td>\n",
              "      <td>NaN</td>\n",
              "      <td>1.288613e+07</td>\n",
              "      <td>9.900000e+01</td>\n",
              "      <td>5.200000e+01</td>\n",
              "      <td>NaN</td>\n",
              "      <td>NaN</td>\n",
              "      <td>NaN</td>\n",
              "      <td>NaN</td>\n",
              "      <td>NaN</td>\n",
              "      <td>NaN</td>\n",
              "      <td>2.021000e+03</td>\n",
              "      <td>NaN</td>\n",
              "      <td>NaN</td>\n",
              "    </tr>\n",
              "  </tbody>\n",
              "</table>\n",
              "</div>\n",
              "    <div class=\"colab-df-buttons\">\n",
              "\n",
              "  <div class=\"colab-df-container\">\n",
              "    <button class=\"colab-df-convert\" onclick=\"convertToInteractive('df-792cb4f4-a98b-4691-b24b-b7d17a5379b0')\"\n",
              "            title=\"Convert this dataframe to an interactive table.\"\n",
              "            style=\"display:none;\">\n",
              "\n",
              "  <svg xmlns=\"http://www.w3.org/2000/svg\" height=\"24px\" viewBox=\"0 -960 960 960\">\n",
              "    <path d=\"M120-120v-720h720v720H120Zm60-500h600v-160H180v160Zm220 220h160v-160H400v160Zm0 220h160v-160H400v160ZM180-400h160v-160H180v160Zm440 0h160v-160H620v160ZM180-180h160v-160H180v160Zm440 0h160v-160H620v160Z\"/>\n",
              "  </svg>\n",
              "    </button>\n",
              "\n",
              "  <style>\n",
              "    .colab-df-container {\n",
              "      display:flex;\n",
              "      gap: 12px;\n",
              "    }\n",
              "\n",
              "    .colab-df-convert {\n",
              "      background-color: #E8F0FE;\n",
              "      border: none;\n",
              "      border-radius: 50%;\n",
              "      cursor: pointer;\n",
              "      display: none;\n",
              "      fill: #1967D2;\n",
              "      height: 32px;\n",
              "      padding: 0 0 0 0;\n",
              "      width: 32px;\n",
              "    }\n",
              "\n",
              "    .colab-df-convert:hover {\n",
              "      background-color: #E2EBFA;\n",
              "      box-shadow: 0px 1px 2px rgba(60, 64, 67, 0.3), 0px 1px 3px 1px rgba(60, 64, 67, 0.15);\n",
              "      fill: #174EA6;\n",
              "    }\n",
              "\n",
              "    .colab-df-buttons div {\n",
              "      margin-bottom: 4px;\n",
              "    }\n",
              "\n",
              "    [theme=dark] .colab-df-convert {\n",
              "      background-color: #3B4455;\n",
              "      fill: #D2E3FC;\n",
              "    }\n",
              "\n",
              "    [theme=dark] .colab-df-convert:hover {\n",
              "      background-color: #434B5C;\n",
              "      box-shadow: 0px 1px 3px 1px rgba(0, 0, 0, 0.15);\n",
              "      filter: drop-shadow(0px 1px 2px rgba(0, 0, 0, 0.3));\n",
              "      fill: #FFFFFF;\n",
              "    }\n",
              "  </style>\n",
              "\n",
              "    <script>\n",
              "      const buttonEl =\n",
              "        document.querySelector('#df-792cb4f4-a98b-4691-b24b-b7d17a5379b0 button.colab-df-convert');\n",
              "      buttonEl.style.display =\n",
              "        google.colab.kernel.accessAllowed ? 'block' : 'none';\n",
              "\n",
              "      async function convertToInteractive(key) {\n",
              "        const element = document.querySelector('#df-792cb4f4-a98b-4691-b24b-b7d17a5379b0');\n",
              "        const dataTable =\n",
              "          await google.colab.kernel.invokeFunction('convertToInteractive',\n",
              "                                                    [key], {});\n",
              "        if (!dataTable) return;\n",
              "\n",
              "        const docLinkHtml = 'Like what you see? Visit the ' +\n",
              "          '<a target=\"_blank\" href=https://colab.research.google.com/notebooks/data_table.ipynb>data table notebook</a>'\n",
              "          + ' to learn more about interactive tables.';\n",
              "        element.innerHTML = '';\n",
              "        dataTable['output_type'] = 'display_data';\n",
              "        await google.colab.output.renderOutput(dataTable, element);\n",
              "        const docLink = document.createElement('div');\n",
              "        docLink.innerHTML = docLinkHtml;\n",
              "        element.appendChild(docLink);\n",
              "      }\n",
              "    </script>\n",
              "  </div>\n",
              "\n",
              "\n",
              "<div id=\"df-182c59c5-29b9-4e72-a98a-bf5f04bf5126\">\n",
              "  <button class=\"colab-df-quickchart\" onclick=\"quickchart('df-182c59c5-29b9-4e72-a98a-bf5f04bf5126')\"\n",
              "            title=\"Suggest charts\"\n",
              "            style=\"display:none;\">\n",
              "\n",
              "<svg xmlns=\"http://www.w3.org/2000/svg\" height=\"24px\"viewBox=\"0 0 24 24\"\n",
              "     width=\"24px\">\n",
              "    <g>\n",
              "        <path d=\"M19 3H5c-1.1 0-2 .9-2 2v14c0 1.1.9 2 2 2h14c1.1 0 2-.9 2-2V5c0-1.1-.9-2-2-2zM9 17H7v-7h2v7zm4 0h-2V7h2v10zm4 0h-2v-4h2v4z\"/>\n",
              "    </g>\n",
              "</svg>\n",
              "  </button>\n",
              "\n",
              "<style>\n",
              "  .colab-df-quickchart {\n",
              "      --bg-color: #E8F0FE;\n",
              "      --fill-color: #1967D2;\n",
              "      --hover-bg-color: #E2EBFA;\n",
              "      --hover-fill-color: #174EA6;\n",
              "      --disabled-fill-color: #AAA;\n",
              "      --disabled-bg-color: #DDD;\n",
              "  }\n",
              "\n",
              "  [theme=dark] .colab-df-quickchart {\n",
              "      --bg-color: #3B4455;\n",
              "      --fill-color: #D2E3FC;\n",
              "      --hover-bg-color: #434B5C;\n",
              "      --hover-fill-color: #FFFFFF;\n",
              "      --disabled-bg-color: #3B4455;\n",
              "      --disabled-fill-color: #666;\n",
              "  }\n",
              "\n",
              "  .colab-df-quickchart {\n",
              "    background-color: var(--bg-color);\n",
              "    border: none;\n",
              "    border-radius: 50%;\n",
              "    cursor: pointer;\n",
              "    display: none;\n",
              "    fill: var(--fill-color);\n",
              "    height: 32px;\n",
              "    padding: 0;\n",
              "    width: 32px;\n",
              "  }\n",
              "\n",
              "  .colab-df-quickchart:hover {\n",
              "    background-color: var(--hover-bg-color);\n",
              "    box-shadow: 0 1px 2px rgba(60, 64, 67, 0.3), 0 1px 3px 1px rgba(60, 64, 67, 0.15);\n",
              "    fill: var(--button-hover-fill-color);\n",
              "  }\n",
              "\n",
              "  .colab-df-quickchart-complete:disabled,\n",
              "  .colab-df-quickchart-complete:disabled:hover {\n",
              "    background-color: var(--disabled-bg-color);\n",
              "    fill: var(--disabled-fill-color);\n",
              "    box-shadow: none;\n",
              "  }\n",
              "\n",
              "  .colab-df-spinner {\n",
              "    border: 2px solid var(--fill-color);\n",
              "    border-color: transparent;\n",
              "    border-bottom-color: var(--fill-color);\n",
              "    animation:\n",
              "      spin 1s steps(1) infinite;\n",
              "  }\n",
              "\n",
              "  @keyframes spin {\n",
              "    0% {\n",
              "      border-color: transparent;\n",
              "      border-bottom-color: var(--fill-color);\n",
              "      border-left-color: var(--fill-color);\n",
              "    }\n",
              "    20% {\n",
              "      border-color: transparent;\n",
              "      border-left-color: var(--fill-color);\n",
              "      border-top-color: var(--fill-color);\n",
              "    }\n",
              "    30% {\n",
              "      border-color: transparent;\n",
              "      border-left-color: var(--fill-color);\n",
              "      border-top-color: var(--fill-color);\n",
              "      border-right-color: var(--fill-color);\n",
              "    }\n",
              "    40% {\n",
              "      border-color: transparent;\n",
              "      border-right-color: var(--fill-color);\n",
              "      border-top-color: var(--fill-color);\n",
              "    }\n",
              "    60% {\n",
              "      border-color: transparent;\n",
              "      border-right-color: var(--fill-color);\n",
              "    }\n",
              "    80% {\n",
              "      border-color: transparent;\n",
              "      border-right-color: var(--fill-color);\n",
              "      border-bottom-color: var(--fill-color);\n",
              "    }\n",
              "    90% {\n",
              "      border-color: transparent;\n",
              "      border-bottom-color: var(--fill-color);\n",
              "    }\n",
              "  }\n",
              "</style>\n",
              "\n",
              "  <script>\n",
              "    async function quickchart(key) {\n",
              "      const quickchartButtonEl =\n",
              "        document.querySelector('#' + key + ' button');\n",
              "      quickchartButtonEl.disabled = true;  // To prevent multiple clicks.\n",
              "      quickchartButtonEl.classList.add('colab-df-spinner');\n",
              "      try {\n",
              "        const charts = await google.colab.kernel.invokeFunction(\n",
              "            'suggestCharts', [key], {});\n",
              "      } catch (error) {\n",
              "        console.error('Error during call to suggestCharts:', error);\n",
              "      }\n",
              "      quickchartButtonEl.classList.remove('colab-df-spinner');\n",
              "      quickchartButtonEl.classList.add('colab-df-quickchart-complete');\n",
              "    }\n",
              "    (() => {\n",
              "      let quickchartButtonEl =\n",
              "        document.querySelector('#df-182c59c5-29b9-4e72-a98a-bf5f04bf5126 button');\n",
              "      quickchartButtonEl.style.display =\n",
              "        google.colab.kernel.accessAllowed ? 'block' : 'none';\n",
              "    })();\n",
              "  </script>\n",
              "</div>\n",
              "    </div>\n",
              "  </div>\n"
            ],
            "application/vnd.google.colaboratory.intrinsic+json": {
              "type": "dataframe",
              "variable_name": "description",
              "repr_error": "'str' object has no attribute 'empty'"
            }
          },
          "metadata": {},
          "execution_count": 268
        }
      ],
      "source": [
        "# 2. Exploración de los Datos\n",
        "description = Actor_Vial.describe(include='all')\n",
        "description"
      ]
    },
    {
      "cell_type": "code",
      "execution_count": null,
      "metadata": {
        "id": "4ajnAkU-ng5l"
      },
      "outputs": [],
      "source": [
        "# 3. Traemos los codigos de condicion_actor, estado y genero\n",
        "Actor_Vial = pd.merge(Actor_Vial,Condicion_Actor, how=\"left\", left_on=\"CONDICION\", right_on=\"CONDICION\")\n",
        "Actor_Vial = pd.merge(Actor_Vial,Estado_ActorVial, how=\"left\", left_on=\"ESTADO\", right_on=\"ESTADO\")\n",
        "Actor_Vial = pd.merge(Actor_Vial,Genero, how=\"left\", left_on=\"GENERO\", right_on=\"GENERO\")"
      ]
    },
    {
      "cell_type": "code",
      "execution_count": null,
      "metadata": {
        "id": "dC0vj82tqzk5"
      },
      "outputs": [],
      "source": [
        "# 4. Creamos columna Ano_Nacimiento\n",
        "Actor_Vial['Ano_Nacimiento'] = \"\""
      ]
    },
    {
      "cell_type": "code",
      "execution_count": null,
      "metadata": {
        "id": "28LH5NHXrIPb"
      },
      "outputs": [],
      "source": [
        "# 5. Transformamos fecha de nacimiento a texto y extraemos sus primeros 4 caracteres\n",
        "Actor_Vial['FECHA_NACIMIENTO'] = Actor_Vial['FECHA_NACIMIENTO'].astype(str)\n",
        "Actor_Vial[\"Ano_Nacimiento\"] = Actor_Vial['FECHA_NACIMIENTO'].apply(lambda x: x[:4])"
      ]
    },
    {
      "cell_type": "code",
      "execution_count": null,
      "metadata": {
        "id": "iU9cNU_QtkAh"
      },
      "outputs": [],
      "source": [
        "# 6. Convertimos el año a número entero\n",
        "Actor_Vial[\"Ano_Nacimiento\"] = pd.to_numeric(Actor_Vial[\"Ano_Nacimiento\"], downcast=\"integer\", errors=\"coerce\")"
      ]
    },
    {
      "cell_type": "code",
      "execution_count": null,
      "metadata": {
        "id": "n6CtrmI7wGrK"
      },
      "outputs": [],
      "source": [
        "# 7. Reemplazamos todas las fechas de 1900 por NaN\n",
        "Actor_Vial['FECHA_NACIMIENTO']=Actor_Vial['FECHA_NACIMIENTO'].replace(['1900/01/01 00:00:00+00'],[np.nan])"
      ]
    },
    {
      "cell_type": "code",
      "execution_count": null,
      "metadata": {
        "id": "6lVrrtzzyk7_"
      },
      "outputs": [],
      "source": [
        "# 8. Reemplazamos todas las fechas incongruentes por NaN\n",
        "fecha_actual = datetime.date.today()\n",
        "ano_actual = fecha_actual.year\n",
        "for i in range(len(Actor_Vial[\"OBJECTID\"])):\n",
        "  if Actor_Vial.loc[i,\"Ano_Nacimiento\"] > ano_actual:\n",
        "    Actor_Vial.loc[i, \"FECHA_NACIMIENTO\"] = np.nan"
      ]
    },
    {
      "cell_type": "code",
      "execution_count": null,
      "metadata": {
        "id": "yHms543zjfwO"
      },
      "outputs": [],
      "source": [
        "# 9. Cambio formato de campo FECHA_NACIMIENTO\n",
        "Actor_Vial.loc[:, 'FECHA_NACIMIENTO'] = pd.to_datetime(Actor_Vial['FECHA_NACIMIENTO']).dt.strftime('%d/%m/%Y')\n",
        "Actor_Vial[\"FECHA_NACIMIENTO\"]=pd.to_datetime(Actor_Vial[\"FECHA_NACIMIENTO\"], format=\"%d/%m/%Y\")"
      ]
    },
    {
      "cell_type": "code",
      "execution_count": null,
      "metadata": {
        "id": "lSiPqpf13lId"
      },
      "outputs": [],
      "source": [
        "# 10. Crear Columna Codigo Accidente\n",
        "Actor_Vial[\"CODIGO_ACCIDENTE\"] = \"\"\n",
        "Actor_Vial[\"CODIGO_ACCIDENTE\"] = Actor_Vial['CODIGO'].str.split('-').str[0]"
      ]
    },
    {
      "cell_type": "code",
      "execution_count": null,
      "metadata": {
        "id": "6_aWWo_edAl-"
      },
      "outputs": [],
      "source": [
        "# 11. Aseguramos el tipo de datos que almacenará la columna\n",
        "Actor_Vial[\"CODIGO_ACCIDENTADO\"].fillna(value=0, inplace=True)\n",
        "Actor_Vial[\"CODIGO_ACCIDENTADO\"] = pd.to_numeric(Actor_Vial[\"CODIGO_ACCIDENTADO\"] , downcast=\"integer\", errors=\"coerce\")\n",
        "Actor_Vial['CODIGO_ACCIDENTADO']=Actor_Vial['CODIGO_ACCIDENTADO'].replace([0],[np.nan])\n",
        "Actor_Vial[\"CODIGO_ACCIDENTE\"] = pd.to_numeric(Actor_Vial[\"CODIGO_ACCIDENTE\"] , downcast=\"integer\", errors=\"coerce\")\n",
        "Actor_Vial[\"CODIGO_ACCIDENTE\"] = Actor_Vial[\"CODIGO_ACCIDENTE\"].astype('int64')"
      ]
    },
    {
      "cell_type": "code",
      "execution_count": null,
      "metadata": {
        "id": "gQwTevNka_rV",
        "colab": {
          "base_uri": "https://localhost:8080/"
        },
        "outputId": "042c615a-b099-4112-e20f-0f16cd607ea7"
      },
      "outputs": [
        {
          "output_type": "execute_result",
          "data": {
            "text/plain": [
              "                          Nulos  Registros % Nulos\n",
              "OBJECTID                      0    1676598   0.00%\n",
              "FORMULARIO                    0    1676598   0.00%\n",
              "CODIGO_ACCIDENTADO            3    1676598   0.00%\n",
              "CODIGO_VICTIMA                0    1676598   0.00%\n",
              "CODIGO_VEHICULO          119153    1676598   7.11%\n",
              "CONDICION                    29    1676598   0.00%\n",
              "ESTADO                     5657    1676598   0.34%\n",
              "MUERTE_POSTERIOR        1180212    1676598  70.39%\n",
              "FECHA_POSTERIOR_MUERTE  1672449    1676598  99.75%\n",
              "GENERO                     4310    1676598   0.26%\n",
              "FECHA_NACIMIENTO           2419    1676598   0.14%\n",
              "EDAD                     161961    1676598   9.66%\n",
              "CODIGO                        0    1676598   0.00%\n",
              "CONDICION_VEHICULO           29    1676598   0.00%\n",
              "COD_CONDICION_ACTOR          29    1676598   0.00%\n",
              "COD_ESTADO                 5657    1676598   0.34%\n",
              "COD_GENERO                 4310    1676598   0.26%\n",
              "Ano_Nacimiento              289    1676598   0.02%\n",
              "CODIGO_ACCIDENTE              0    1676598   0.00%"
            ],
            "text/html": [
              "\n",
              "  <div id=\"df-d6bd7771-946c-429b-9ad3-fef2f04f2b4c\" class=\"colab-df-container\">\n",
              "    <div>\n",
              "<style scoped>\n",
              "    .dataframe tbody tr th:only-of-type {\n",
              "        vertical-align: middle;\n",
              "    }\n",
              "\n",
              "    .dataframe tbody tr th {\n",
              "        vertical-align: top;\n",
              "    }\n",
              "\n",
              "    .dataframe thead th {\n",
              "        text-align: right;\n",
              "    }\n",
              "</style>\n",
              "<table border=\"1\" class=\"dataframe\">\n",
              "  <thead>\n",
              "    <tr style=\"text-align: right;\">\n",
              "      <th></th>\n",
              "      <th>Nulos</th>\n",
              "      <th>Registros</th>\n",
              "      <th>% Nulos</th>\n",
              "    </tr>\n",
              "  </thead>\n",
              "  <tbody>\n",
              "    <tr>\n",
              "      <th>OBJECTID</th>\n",
              "      <td>0</td>\n",
              "      <td>1676598</td>\n",
              "      <td>0.00%</td>\n",
              "    </tr>\n",
              "    <tr>\n",
              "      <th>FORMULARIO</th>\n",
              "      <td>0</td>\n",
              "      <td>1676598</td>\n",
              "      <td>0.00%</td>\n",
              "    </tr>\n",
              "    <tr>\n",
              "      <th>CODIGO_ACCIDENTADO</th>\n",
              "      <td>3</td>\n",
              "      <td>1676598</td>\n",
              "      <td>0.00%</td>\n",
              "    </tr>\n",
              "    <tr>\n",
              "      <th>CODIGO_VICTIMA</th>\n",
              "      <td>0</td>\n",
              "      <td>1676598</td>\n",
              "      <td>0.00%</td>\n",
              "    </tr>\n",
              "    <tr>\n",
              "      <th>CODIGO_VEHICULO</th>\n",
              "      <td>119153</td>\n",
              "      <td>1676598</td>\n",
              "      <td>7.11%</td>\n",
              "    </tr>\n",
              "    <tr>\n",
              "      <th>CONDICION</th>\n",
              "      <td>29</td>\n",
              "      <td>1676598</td>\n",
              "      <td>0.00%</td>\n",
              "    </tr>\n",
              "    <tr>\n",
              "      <th>ESTADO</th>\n",
              "      <td>5657</td>\n",
              "      <td>1676598</td>\n",
              "      <td>0.34%</td>\n",
              "    </tr>\n",
              "    <tr>\n",
              "      <th>MUERTE_POSTERIOR</th>\n",
              "      <td>1180212</td>\n",
              "      <td>1676598</td>\n",
              "      <td>70.39%</td>\n",
              "    </tr>\n",
              "    <tr>\n",
              "      <th>FECHA_POSTERIOR_MUERTE</th>\n",
              "      <td>1672449</td>\n",
              "      <td>1676598</td>\n",
              "      <td>99.75%</td>\n",
              "    </tr>\n",
              "    <tr>\n",
              "      <th>GENERO</th>\n",
              "      <td>4310</td>\n",
              "      <td>1676598</td>\n",
              "      <td>0.26%</td>\n",
              "    </tr>\n",
              "    <tr>\n",
              "      <th>FECHA_NACIMIENTO</th>\n",
              "      <td>2419</td>\n",
              "      <td>1676598</td>\n",
              "      <td>0.14%</td>\n",
              "    </tr>\n",
              "    <tr>\n",
              "      <th>EDAD</th>\n",
              "      <td>161961</td>\n",
              "      <td>1676598</td>\n",
              "      <td>9.66%</td>\n",
              "    </tr>\n",
              "    <tr>\n",
              "      <th>CODIGO</th>\n",
              "      <td>0</td>\n",
              "      <td>1676598</td>\n",
              "      <td>0.00%</td>\n",
              "    </tr>\n",
              "    <tr>\n",
              "      <th>CONDICION_VEHICULO</th>\n",
              "      <td>29</td>\n",
              "      <td>1676598</td>\n",
              "      <td>0.00%</td>\n",
              "    </tr>\n",
              "    <tr>\n",
              "      <th>COD_CONDICION_ACTOR</th>\n",
              "      <td>29</td>\n",
              "      <td>1676598</td>\n",
              "      <td>0.00%</td>\n",
              "    </tr>\n",
              "    <tr>\n",
              "      <th>COD_ESTADO</th>\n",
              "      <td>5657</td>\n",
              "      <td>1676598</td>\n",
              "      <td>0.34%</td>\n",
              "    </tr>\n",
              "    <tr>\n",
              "      <th>COD_GENERO</th>\n",
              "      <td>4310</td>\n",
              "      <td>1676598</td>\n",
              "      <td>0.26%</td>\n",
              "    </tr>\n",
              "    <tr>\n",
              "      <th>Ano_Nacimiento</th>\n",
              "      <td>289</td>\n",
              "      <td>1676598</td>\n",
              "      <td>0.02%</td>\n",
              "    </tr>\n",
              "    <tr>\n",
              "      <th>CODIGO_ACCIDENTE</th>\n",
              "      <td>0</td>\n",
              "      <td>1676598</td>\n",
              "      <td>0.00%</td>\n",
              "    </tr>\n",
              "  </tbody>\n",
              "</table>\n",
              "</div>\n",
              "    <div class=\"colab-df-buttons\">\n",
              "\n",
              "  <div class=\"colab-df-container\">\n",
              "    <button class=\"colab-df-convert\" onclick=\"convertToInteractive('df-d6bd7771-946c-429b-9ad3-fef2f04f2b4c')\"\n",
              "            title=\"Convert this dataframe to an interactive table.\"\n",
              "            style=\"display:none;\">\n",
              "\n",
              "  <svg xmlns=\"http://www.w3.org/2000/svg\" height=\"24px\" viewBox=\"0 -960 960 960\">\n",
              "    <path d=\"M120-120v-720h720v720H120Zm60-500h600v-160H180v160Zm220 220h160v-160H400v160Zm0 220h160v-160H400v160ZM180-400h160v-160H180v160Zm440 0h160v-160H620v160ZM180-180h160v-160H180v160Zm440 0h160v-160H620v160Z\"/>\n",
              "  </svg>\n",
              "    </button>\n",
              "\n",
              "  <style>\n",
              "    .colab-df-container {\n",
              "      display:flex;\n",
              "      gap: 12px;\n",
              "    }\n",
              "\n",
              "    .colab-df-convert {\n",
              "      background-color: #E8F0FE;\n",
              "      border: none;\n",
              "      border-radius: 50%;\n",
              "      cursor: pointer;\n",
              "      display: none;\n",
              "      fill: #1967D2;\n",
              "      height: 32px;\n",
              "      padding: 0 0 0 0;\n",
              "      width: 32px;\n",
              "    }\n",
              "\n",
              "    .colab-df-convert:hover {\n",
              "      background-color: #E2EBFA;\n",
              "      box-shadow: 0px 1px 2px rgba(60, 64, 67, 0.3), 0px 1px 3px 1px rgba(60, 64, 67, 0.15);\n",
              "      fill: #174EA6;\n",
              "    }\n",
              "\n",
              "    .colab-df-buttons div {\n",
              "      margin-bottom: 4px;\n",
              "    }\n",
              "\n",
              "    [theme=dark] .colab-df-convert {\n",
              "      background-color: #3B4455;\n",
              "      fill: #D2E3FC;\n",
              "    }\n",
              "\n",
              "    [theme=dark] .colab-df-convert:hover {\n",
              "      background-color: #434B5C;\n",
              "      box-shadow: 0px 1px 3px 1px rgba(0, 0, 0, 0.15);\n",
              "      filter: drop-shadow(0px 1px 2px rgba(0, 0, 0, 0.3));\n",
              "      fill: #FFFFFF;\n",
              "    }\n",
              "  </style>\n",
              "\n",
              "    <script>\n",
              "      const buttonEl =\n",
              "        document.querySelector('#df-d6bd7771-946c-429b-9ad3-fef2f04f2b4c button.colab-df-convert');\n",
              "      buttonEl.style.display =\n",
              "        google.colab.kernel.accessAllowed ? 'block' : 'none';\n",
              "\n",
              "      async function convertToInteractive(key) {\n",
              "        const element = document.querySelector('#df-d6bd7771-946c-429b-9ad3-fef2f04f2b4c');\n",
              "        const dataTable =\n",
              "          await google.colab.kernel.invokeFunction('convertToInteractive',\n",
              "                                                    [key], {});\n",
              "        if (!dataTable) return;\n",
              "\n",
              "        const docLinkHtml = 'Like what you see? Visit the ' +\n",
              "          '<a target=\"_blank\" href=https://colab.research.google.com/notebooks/data_table.ipynb>data table notebook</a>'\n",
              "          + ' to learn more about interactive tables.';\n",
              "        element.innerHTML = '';\n",
              "        dataTable['output_type'] = 'display_data';\n",
              "        await google.colab.output.renderOutput(dataTable, element);\n",
              "        const docLink = document.createElement('div');\n",
              "        docLink.innerHTML = docLinkHtml;\n",
              "        element.appendChild(docLink);\n",
              "      }\n",
              "    </script>\n",
              "  </div>\n",
              "\n",
              "\n",
              "<div id=\"df-74895453-750d-4f68-a18d-4d3373701b1e\">\n",
              "  <button class=\"colab-df-quickchart\" onclick=\"quickchart('df-74895453-750d-4f68-a18d-4d3373701b1e')\"\n",
              "            title=\"Suggest charts\"\n",
              "            style=\"display:none;\">\n",
              "\n",
              "<svg xmlns=\"http://www.w3.org/2000/svg\" height=\"24px\"viewBox=\"0 0 24 24\"\n",
              "     width=\"24px\">\n",
              "    <g>\n",
              "        <path d=\"M19 3H5c-1.1 0-2 .9-2 2v14c0 1.1.9 2 2 2h14c1.1 0 2-.9 2-2V5c0-1.1-.9-2-2-2zM9 17H7v-7h2v7zm4 0h-2V7h2v10zm4 0h-2v-4h2v4z\"/>\n",
              "    </g>\n",
              "</svg>\n",
              "  </button>\n",
              "\n",
              "<style>\n",
              "  .colab-df-quickchart {\n",
              "      --bg-color: #E8F0FE;\n",
              "      --fill-color: #1967D2;\n",
              "      --hover-bg-color: #E2EBFA;\n",
              "      --hover-fill-color: #174EA6;\n",
              "      --disabled-fill-color: #AAA;\n",
              "      --disabled-bg-color: #DDD;\n",
              "  }\n",
              "\n",
              "  [theme=dark] .colab-df-quickchart {\n",
              "      --bg-color: #3B4455;\n",
              "      --fill-color: #D2E3FC;\n",
              "      --hover-bg-color: #434B5C;\n",
              "      --hover-fill-color: #FFFFFF;\n",
              "      --disabled-bg-color: #3B4455;\n",
              "      --disabled-fill-color: #666;\n",
              "  }\n",
              "\n",
              "  .colab-df-quickchart {\n",
              "    background-color: var(--bg-color);\n",
              "    border: none;\n",
              "    border-radius: 50%;\n",
              "    cursor: pointer;\n",
              "    display: none;\n",
              "    fill: var(--fill-color);\n",
              "    height: 32px;\n",
              "    padding: 0;\n",
              "    width: 32px;\n",
              "  }\n",
              "\n",
              "  .colab-df-quickchart:hover {\n",
              "    background-color: var(--hover-bg-color);\n",
              "    box-shadow: 0 1px 2px rgba(60, 64, 67, 0.3), 0 1px 3px 1px rgba(60, 64, 67, 0.15);\n",
              "    fill: var(--button-hover-fill-color);\n",
              "  }\n",
              "\n",
              "  .colab-df-quickchart-complete:disabled,\n",
              "  .colab-df-quickchart-complete:disabled:hover {\n",
              "    background-color: var(--disabled-bg-color);\n",
              "    fill: var(--disabled-fill-color);\n",
              "    box-shadow: none;\n",
              "  }\n",
              "\n",
              "  .colab-df-spinner {\n",
              "    border: 2px solid var(--fill-color);\n",
              "    border-color: transparent;\n",
              "    border-bottom-color: var(--fill-color);\n",
              "    animation:\n",
              "      spin 1s steps(1) infinite;\n",
              "  }\n",
              "\n",
              "  @keyframes spin {\n",
              "    0% {\n",
              "      border-color: transparent;\n",
              "      border-bottom-color: var(--fill-color);\n",
              "      border-left-color: var(--fill-color);\n",
              "    }\n",
              "    20% {\n",
              "      border-color: transparent;\n",
              "      border-left-color: var(--fill-color);\n",
              "      border-top-color: var(--fill-color);\n",
              "    }\n",
              "    30% {\n",
              "      border-color: transparent;\n",
              "      border-left-color: var(--fill-color);\n",
              "      border-top-color: var(--fill-color);\n",
              "      border-right-color: var(--fill-color);\n",
              "    }\n",
              "    40% {\n",
              "      border-color: transparent;\n",
              "      border-right-color: var(--fill-color);\n",
              "      border-top-color: var(--fill-color);\n",
              "    }\n",
              "    60% {\n",
              "      border-color: transparent;\n",
              "      border-right-color: var(--fill-color);\n",
              "    }\n",
              "    80% {\n",
              "      border-color: transparent;\n",
              "      border-right-color: var(--fill-color);\n",
              "      border-bottom-color: var(--fill-color);\n",
              "    }\n",
              "    90% {\n",
              "      border-color: transparent;\n",
              "      border-bottom-color: var(--fill-color);\n",
              "    }\n",
              "  }\n",
              "</style>\n",
              "\n",
              "  <script>\n",
              "    async function quickchart(key) {\n",
              "      const quickchartButtonEl =\n",
              "        document.querySelector('#' + key + ' button');\n",
              "      quickchartButtonEl.disabled = true;  // To prevent multiple clicks.\n",
              "      quickchartButtonEl.classList.add('colab-df-spinner');\n",
              "      try {\n",
              "        const charts = await google.colab.kernel.invokeFunction(\n",
              "            'suggestCharts', [key], {});\n",
              "      } catch (error) {\n",
              "        console.error('Error during call to suggestCharts:', error);\n",
              "      }\n",
              "      quickchartButtonEl.classList.remove('colab-df-spinner');\n",
              "      quickchartButtonEl.classList.add('colab-df-quickchart-complete');\n",
              "    }\n",
              "    (() => {\n",
              "      let quickchartButtonEl =\n",
              "        document.querySelector('#df-74895453-750d-4f68-a18d-4d3373701b1e button');\n",
              "      quickchartButtonEl.style.display =\n",
              "        google.colab.kernel.accessAllowed ? 'block' : 'none';\n",
              "    })();\n",
              "  </script>\n",
              "</div>\n",
              "    </div>\n",
              "  </div>\n"
            ],
            "application/vnd.google.colaboratory.intrinsic+json": {
              "type": "dataframe",
              "variable_name": "resumen_NaN_ActorVial",
              "summary": "{\n  \"name\": \"resumen_NaN_ActorVial\",\n  \"rows\": 19,\n  \"fields\": [\n    {\n      \"column\": \"Nulos\",\n      \"properties\": {\n        \"dtype\": \"number\",\n        \"std\": 453757,\n        \"min\": 0,\n        \"max\": 1672449,\n        \"num_unique_values\": 11,\n        \"samples\": [\n          1180212,\n          0,\n          161961\n        ],\n        \"semantic_type\": \"\",\n        \"description\": \"\"\n      }\n    },\n    {\n      \"column\": \"Registros\",\n      \"properties\": {\n        \"dtype\": \"number\",\n        \"std\": 0,\n        \"min\": 1676598,\n        \"max\": 1676598,\n        \"num_unique_values\": 1,\n        \"samples\": [\n          1676598\n        ],\n        \"semantic_type\": \"\",\n        \"description\": \"\"\n      }\n    },\n    {\n      \"column\": \"% Nulos\",\n      \"properties\": {\n        \"dtype\": \"category\",\n        \"num_unique_values\": 9,\n        \"samples\": [\n          \"9.66%\"\n        ],\n        \"semantic_type\": \"\",\n        \"description\": \"\"\n      }\n    }\n  ]\n}"
            }
          },
          "metadata": {},
          "execution_count": 278
        }
      ],
      "source": [
        "# 12. Contabilizamos valores nulos, e identificamos participación en el total de registros por columnas\n",
        "resumen_NaN_ActorVial = pd.DataFrame(Actor_Vial.isnull().sum())\n",
        "resumen_NaN_ActorVial.columns=['Nulos']\n",
        "resumen_NaN_ActorVial['Registros']=Actor_Vial.shape[0]\n",
        "resumen_NaN_ActorVial['% Nulos']=resumen_NaN_ActorVial.Nulos/resumen_NaN_ActorVial.Registros\n",
        "resumen_NaN_ActorVial['% Nulos']=resumen_NaN_ActorVial['% Nulos'].apply(\"{:.2%}\".format)\n",
        "resumen_NaN_ActorVial"
      ]
    },
    {
      "cell_type": "code",
      "execution_count": null,
      "metadata": {
        "id": "vO3QLFABH0SY"
      },
      "outputs": [],
      "source": [
        "# 13. Traemos los codigos de accidente para conservar solo los registros que coinciden con códigos de accidente\n",
        "Actor_Vial = pd.merge(Actor_Vial, Accidente_df, how='left', left_on='CODIGO_ACCIDENTE',\n",
        "                         right_on='CODIGO_ACCIDENTE')"
      ]
    },
    {
      "cell_type": "code",
      "execution_count": null,
      "metadata": {
        "id": "uRnlUw7LJH_S",
        "colab": {
          "base_uri": "https://localhost:8080/"
        },
        "outputId": "e25cd462-b59c-4dde-a9a7-a025af02c8c8"
      },
      "outputs": [
        {
          "output_type": "execute_result",
          "data": {
            "text/plain": [
              "                          Nulos  Registros % Nulos\n",
              "OBJECTID                      0    1676598   0.00%\n",
              "FORMULARIO                    0    1676598   0.00%\n",
              "CODIGO_ACCIDENTADO            3    1676598   0.00%\n",
              "CODIGO_VICTIMA                0    1676598   0.00%\n",
              "CODIGO_VEHICULO          119153    1676598   7.11%\n",
              "CONDICION                    29    1676598   0.00%\n",
              "ESTADO                     5657    1676598   0.34%\n",
              "MUERTE_POSTERIOR        1180212    1676598  70.39%\n",
              "FECHA_POSTERIOR_MUERTE  1672449    1676598  99.75%\n",
              "GENERO                     4310    1676598   0.26%\n",
              "FECHA_NACIMIENTO           2419    1676598   0.14%\n",
              "EDAD                     161961    1676598   9.66%\n",
              "CODIGO                        0    1676598   0.00%\n",
              "CONDICION_VEHICULO           29    1676598   0.00%\n",
              "COD_CONDICION_ACTOR          29    1676598   0.00%\n",
              "COD_ESTADO                 5657    1676598   0.34%\n",
              "COD_GENERO                 4310    1676598   0.26%\n",
              "Ano_Nacimiento              289    1676598   0.02%\n",
              "CODIGO_ACCIDENTE              0    1676598   0.00%\n",
              "FECHA_OCURRENCIA_ACC     659110    1676598  39.31%\n",
              "HORA_OCURRENCIA_ACC      659110    1676598  39.31%\n",
              "DIRECCION                659110    1676598  39.31%\n",
              "COD_GRAVEDAD             659117    1676598  39.31%\n",
              "COD_CLASE_ACC            659383    1676598  39.33%\n",
              "COD_LOCALIDAD            659218    1676598  39.32%\n",
              "LATITUD                  659110    1676598  39.31%\n",
              "LONGITUD                 659110    1676598  39.31%"
            ],
            "text/html": [
              "\n",
              "  <div id=\"df-7dca0fd8-02dc-4179-8729-f4d22fc0dd0a\" class=\"colab-df-container\">\n",
              "    <div>\n",
              "<style scoped>\n",
              "    .dataframe tbody tr th:only-of-type {\n",
              "        vertical-align: middle;\n",
              "    }\n",
              "\n",
              "    .dataframe tbody tr th {\n",
              "        vertical-align: top;\n",
              "    }\n",
              "\n",
              "    .dataframe thead th {\n",
              "        text-align: right;\n",
              "    }\n",
              "</style>\n",
              "<table border=\"1\" class=\"dataframe\">\n",
              "  <thead>\n",
              "    <tr style=\"text-align: right;\">\n",
              "      <th></th>\n",
              "      <th>Nulos</th>\n",
              "      <th>Registros</th>\n",
              "      <th>% Nulos</th>\n",
              "    </tr>\n",
              "  </thead>\n",
              "  <tbody>\n",
              "    <tr>\n",
              "      <th>OBJECTID</th>\n",
              "      <td>0</td>\n",
              "      <td>1676598</td>\n",
              "      <td>0.00%</td>\n",
              "    </tr>\n",
              "    <tr>\n",
              "      <th>FORMULARIO</th>\n",
              "      <td>0</td>\n",
              "      <td>1676598</td>\n",
              "      <td>0.00%</td>\n",
              "    </tr>\n",
              "    <tr>\n",
              "      <th>CODIGO_ACCIDENTADO</th>\n",
              "      <td>3</td>\n",
              "      <td>1676598</td>\n",
              "      <td>0.00%</td>\n",
              "    </tr>\n",
              "    <tr>\n",
              "      <th>CODIGO_VICTIMA</th>\n",
              "      <td>0</td>\n",
              "      <td>1676598</td>\n",
              "      <td>0.00%</td>\n",
              "    </tr>\n",
              "    <tr>\n",
              "      <th>CODIGO_VEHICULO</th>\n",
              "      <td>119153</td>\n",
              "      <td>1676598</td>\n",
              "      <td>7.11%</td>\n",
              "    </tr>\n",
              "    <tr>\n",
              "      <th>CONDICION</th>\n",
              "      <td>29</td>\n",
              "      <td>1676598</td>\n",
              "      <td>0.00%</td>\n",
              "    </tr>\n",
              "    <tr>\n",
              "      <th>ESTADO</th>\n",
              "      <td>5657</td>\n",
              "      <td>1676598</td>\n",
              "      <td>0.34%</td>\n",
              "    </tr>\n",
              "    <tr>\n",
              "      <th>MUERTE_POSTERIOR</th>\n",
              "      <td>1180212</td>\n",
              "      <td>1676598</td>\n",
              "      <td>70.39%</td>\n",
              "    </tr>\n",
              "    <tr>\n",
              "      <th>FECHA_POSTERIOR_MUERTE</th>\n",
              "      <td>1672449</td>\n",
              "      <td>1676598</td>\n",
              "      <td>99.75%</td>\n",
              "    </tr>\n",
              "    <tr>\n",
              "      <th>GENERO</th>\n",
              "      <td>4310</td>\n",
              "      <td>1676598</td>\n",
              "      <td>0.26%</td>\n",
              "    </tr>\n",
              "    <tr>\n",
              "      <th>FECHA_NACIMIENTO</th>\n",
              "      <td>2419</td>\n",
              "      <td>1676598</td>\n",
              "      <td>0.14%</td>\n",
              "    </tr>\n",
              "    <tr>\n",
              "      <th>EDAD</th>\n",
              "      <td>161961</td>\n",
              "      <td>1676598</td>\n",
              "      <td>9.66%</td>\n",
              "    </tr>\n",
              "    <tr>\n",
              "      <th>CODIGO</th>\n",
              "      <td>0</td>\n",
              "      <td>1676598</td>\n",
              "      <td>0.00%</td>\n",
              "    </tr>\n",
              "    <tr>\n",
              "      <th>CONDICION_VEHICULO</th>\n",
              "      <td>29</td>\n",
              "      <td>1676598</td>\n",
              "      <td>0.00%</td>\n",
              "    </tr>\n",
              "    <tr>\n",
              "      <th>COD_CONDICION_ACTOR</th>\n",
              "      <td>29</td>\n",
              "      <td>1676598</td>\n",
              "      <td>0.00%</td>\n",
              "    </tr>\n",
              "    <tr>\n",
              "      <th>COD_ESTADO</th>\n",
              "      <td>5657</td>\n",
              "      <td>1676598</td>\n",
              "      <td>0.34%</td>\n",
              "    </tr>\n",
              "    <tr>\n",
              "      <th>COD_GENERO</th>\n",
              "      <td>4310</td>\n",
              "      <td>1676598</td>\n",
              "      <td>0.26%</td>\n",
              "    </tr>\n",
              "    <tr>\n",
              "      <th>Ano_Nacimiento</th>\n",
              "      <td>289</td>\n",
              "      <td>1676598</td>\n",
              "      <td>0.02%</td>\n",
              "    </tr>\n",
              "    <tr>\n",
              "      <th>CODIGO_ACCIDENTE</th>\n",
              "      <td>0</td>\n",
              "      <td>1676598</td>\n",
              "      <td>0.00%</td>\n",
              "    </tr>\n",
              "    <tr>\n",
              "      <th>FECHA_OCURRENCIA_ACC</th>\n",
              "      <td>659110</td>\n",
              "      <td>1676598</td>\n",
              "      <td>39.31%</td>\n",
              "    </tr>\n",
              "    <tr>\n",
              "      <th>HORA_OCURRENCIA_ACC</th>\n",
              "      <td>659110</td>\n",
              "      <td>1676598</td>\n",
              "      <td>39.31%</td>\n",
              "    </tr>\n",
              "    <tr>\n",
              "      <th>DIRECCION</th>\n",
              "      <td>659110</td>\n",
              "      <td>1676598</td>\n",
              "      <td>39.31%</td>\n",
              "    </tr>\n",
              "    <tr>\n",
              "      <th>COD_GRAVEDAD</th>\n",
              "      <td>659117</td>\n",
              "      <td>1676598</td>\n",
              "      <td>39.31%</td>\n",
              "    </tr>\n",
              "    <tr>\n",
              "      <th>COD_CLASE_ACC</th>\n",
              "      <td>659383</td>\n",
              "      <td>1676598</td>\n",
              "      <td>39.33%</td>\n",
              "    </tr>\n",
              "    <tr>\n",
              "      <th>COD_LOCALIDAD</th>\n",
              "      <td>659218</td>\n",
              "      <td>1676598</td>\n",
              "      <td>39.32%</td>\n",
              "    </tr>\n",
              "    <tr>\n",
              "      <th>LATITUD</th>\n",
              "      <td>659110</td>\n",
              "      <td>1676598</td>\n",
              "      <td>39.31%</td>\n",
              "    </tr>\n",
              "    <tr>\n",
              "      <th>LONGITUD</th>\n",
              "      <td>659110</td>\n",
              "      <td>1676598</td>\n",
              "      <td>39.31%</td>\n",
              "    </tr>\n",
              "  </tbody>\n",
              "</table>\n",
              "</div>\n",
              "    <div class=\"colab-df-buttons\">\n",
              "\n",
              "  <div class=\"colab-df-container\">\n",
              "    <button class=\"colab-df-convert\" onclick=\"convertToInteractive('df-7dca0fd8-02dc-4179-8729-f4d22fc0dd0a')\"\n",
              "            title=\"Convert this dataframe to an interactive table.\"\n",
              "            style=\"display:none;\">\n",
              "\n",
              "  <svg xmlns=\"http://www.w3.org/2000/svg\" height=\"24px\" viewBox=\"0 -960 960 960\">\n",
              "    <path d=\"M120-120v-720h720v720H120Zm60-500h600v-160H180v160Zm220 220h160v-160H400v160Zm0 220h160v-160H400v160ZM180-400h160v-160H180v160Zm440 0h160v-160H620v160ZM180-180h160v-160H180v160Zm440 0h160v-160H620v160Z\"/>\n",
              "  </svg>\n",
              "    </button>\n",
              "\n",
              "  <style>\n",
              "    .colab-df-container {\n",
              "      display:flex;\n",
              "      gap: 12px;\n",
              "    }\n",
              "\n",
              "    .colab-df-convert {\n",
              "      background-color: #E8F0FE;\n",
              "      border: none;\n",
              "      border-radius: 50%;\n",
              "      cursor: pointer;\n",
              "      display: none;\n",
              "      fill: #1967D2;\n",
              "      height: 32px;\n",
              "      padding: 0 0 0 0;\n",
              "      width: 32px;\n",
              "    }\n",
              "\n",
              "    .colab-df-convert:hover {\n",
              "      background-color: #E2EBFA;\n",
              "      box-shadow: 0px 1px 2px rgba(60, 64, 67, 0.3), 0px 1px 3px 1px rgba(60, 64, 67, 0.15);\n",
              "      fill: #174EA6;\n",
              "    }\n",
              "\n",
              "    .colab-df-buttons div {\n",
              "      margin-bottom: 4px;\n",
              "    }\n",
              "\n",
              "    [theme=dark] .colab-df-convert {\n",
              "      background-color: #3B4455;\n",
              "      fill: #D2E3FC;\n",
              "    }\n",
              "\n",
              "    [theme=dark] .colab-df-convert:hover {\n",
              "      background-color: #434B5C;\n",
              "      box-shadow: 0px 1px 3px 1px rgba(0, 0, 0, 0.15);\n",
              "      filter: drop-shadow(0px 1px 2px rgba(0, 0, 0, 0.3));\n",
              "      fill: #FFFFFF;\n",
              "    }\n",
              "  </style>\n",
              "\n",
              "    <script>\n",
              "      const buttonEl =\n",
              "        document.querySelector('#df-7dca0fd8-02dc-4179-8729-f4d22fc0dd0a button.colab-df-convert');\n",
              "      buttonEl.style.display =\n",
              "        google.colab.kernel.accessAllowed ? 'block' : 'none';\n",
              "\n",
              "      async function convertToInteractive(key) {\n",
              "        const element = document.querySelector('#df-7dca0fd8-02dc-4179-8729-f4d22fc0dd0a');\n",
              "        const dataTable =\n",
              "          await google.colab.kernel.invokeFunction('convertToInteractive',\n",
              "                                                    [key], {});\n",
              "        if (!dataTable) return;\n",
              "\n",
              "        const docLinkHtml = 'Like what you see? Visit the ' +\n",
              "          '<a target=\"_blank\" href=https://colab.research.google.com/notebooks/data_table.ipynb>data table notebook</a>'\n",
              "          + ' to learn more about interactive tables.';\n",
              "        element.innerHTML = '';\n",
              "        dataTable['output_type'] = 'display_data';\n",
              "        await google.colab.output.renderOutput(dataTable, element);\n",
              "        const docLink = document.createElement('div');\n",
              "        docLink.innerHTML = docLinkHtml;\n",
              "        element.appendChild(docLink);\n",
              "      }\n",
              "    </script>\n",
              "  </div>\n",
              "\n",
              "\n",
              "<div id=\"df-06415a45-9120-4853-a10e-2fdc728d6f24\">\n",
              "  <button class=\"colab-df-quickchart\" onclick=\"quickchart('df-06415a45-9120-4853-a10e-2fdc728d6f24')\"\n",
              "            title=\"Suggest charts\"\n",
              "            style=\"display:none;\">\n",
              "\n",
              "<svg xmlns=\"http://www.w3.org/2000/svg\" height=\"24px\"viewBox=\"0 0 24 24\"\n",
              "     width=\"24px\">\n",
              "    <g>\n",
              "        <path d=\"M19 3H5c-1.1 0-2 .9-2 2v14c0 1.1.9 2 2 2h14c1.1 0 2-.9 2-2V5c0-1.1-.9-2-2-2zM9 17H7v-7h2v7zm4 0h-2V7h2v10zm4 0h-2v-4h2v4z\"/>\n",
              "    </g>\n",
              "</svg>\n",
              "  </button>\n",
              "\n",
              "<style>\n",
              "  .colab-df-quickchart {\n",
              "      --bg-color: #E8F0FE;\n",
              "      --fill-color: #1967D2;\n",
              "      --hover-bg-color: #E2EBFA;\n",
              "      --hover-fill-color: #174EA6;\n",
              "      --disabled-fill-color: #AAA;\n",
              "      --disabled-bg-color: #DDD;\n",
              "  }\n",
              "\n",
              "  [theme=dark] .colab-df-quickchart {\n",
              "      --bg-color: #3B4455;\n",
              "      --fill-color: #D2E3FC;\n",
              "      --hover-bg-color: #434B5C;\n",
              "      --hover-fill-color: #FFFFFF;\n",
              "      --disabled-bg-color: #3B4455;\n",
              "      --disabled-fill-color: #666;\n",
              "  }\n",
              "\n",
              "  .colab-df-quickchart {\n",
              "    background-color: var(--bg-color);\n",
              "    border: none;\n",
              "    border-radius: 50%;\n",
              "    cursor: pointer;\n",
              "    display: none;\n",
              "    fill: var(--fill-color);\n",
              "    height: 32px;\n",
              "    padding: 0;\n",
              "    width: 32px;\n",
              "  }\n",
              "\n",
              "  .colab-df-quickchart:hover {\n",
              "    background-color: var(--hover-bg-color);\n",
              "    box-shadow: 0 1px 2px rgba(60, 64, 67, 0.3), 0 1px 3px 1px rgba(60, 64, 67, 0.15);\n",
              "    fill: var(--button-hover-fill-color);\n",
              "  }\n",
              "\n",
              "  .colab-df-quickchart-complete:disabled,\n",
              "  .colab-df-quickchart-complete:disabled:hover {\n",
              "    background-color: var(--disabled-bg-color);\n",
              "    fill: var(--disabled-fill-color);\n",
              "    box-shadow: none;\n",
              "  }\n",
              "\n",
              "  .colab-df-spinner {\n",
              "    border: 2px solid var(--fill-color);\n",
              "    border-color: transparent;\n",
              "    border-bottom-color: var(--fill-color);\n",
              "    animation:\n",
              "      spin 1s steps(1) infinite;\n",
              "  }\n",
              "\n",
              "  @keyframes spin {\n",
              "    0% {\n",
              "      border-color: transparent;\n",
              "      border-bottom-color: var(--fill-color);\n",
              "      border-left-color: var(--fill-color);\n",
              "    }\n",
              "    20% {\n",
              "      border-color: transparent;\n",
              "      border-left-color: var(--fill-color);\n",
              "      border-top-color: var(--fill-color);\n",
              "    }\n",
              "    30% {\n",
              "      border-color: transparent;\n",
              "      border-left-color: var(--fill-color);\n",
              "      border-top-color: var(--fill-color);\n",
              "      border-right-color: var(--fill-color);\n",
              "    }\n",
              "    40% {\n",
              "      border-color: transparent;\n",
              "      border-right-color: var(--fill-color);\n",
              "      border-top-color: var(--fill-color);\n",
              "    }\n",
              "    60% {\n",
              "      border-color: transparent;\n",
              "      border-right-color: var(--fill-color);\n",
              "    }\n",
              "    80% {\n",
              "      border-color: transparent;\n",
              "      border-right-color: var(--fill-color);\n",
              "      border-bottom-color: var(--fill-color);\n",
              "    }\n",
              "    90% {\n",
              "      border-color: transparent;\n",
              "      border-bottom-color: var(--fill-color);\n",
              "    }\n",
              "  }\n",
              "</style>\n",
              "\n",
              "  <script>\n",
              "    async function quickchart(key) {\n",
              "      const quickchartButtonEl =\n",
              "        document.querySelector('#' + key + ' button');\n",
              "      quickchartButtonEl.disabled = true;  // To prevent multiple clicks.\n",
              "      quickchartButtonEl.classList.add('colab-df-spinner');\n",
              "      try {\n",
              "        const charts = await google.colab.kernel.invokeFunction(\n",
              "            'suggestCharts', [key], {});\n",
              "      } catch (error) {\n",
              "        console.error('Error during call to suggestCharts:', error);\n",
              "      }\n",
              "      quickchartButtonEl.classList.remove('colab-df-spinner');\n",
              "      quickchartButtonEl.classList.add('colab-df-quickchart-complete');\n",
              "    }\n",
              "    (() => {\n",
              "      let quickchartButtonEl =\n",
              "        document.querySelector('#df-06415a45-9120-4853-a10e-2fdc728d6f24 button');\n",
              "      quickchartButtonEl.style.display =\n",
              "        google.colab.kernel.accessAllowed ? 'block' : 'none';\n",
              "    })();\n",
              "  </script>\n",
              "</div>\n",
              "    </div>\n",
              "  </div>\n"
            ],
            "application/vnd.google.colaboratory.intrinsic+json": {
              "type": "dataframe",
              "variable_name": "resumen_NaN_Actor_Vial2",
              "summary": "{\n  \"name\": \"resumen_NaN_Actor_Vial2\",\n  \"rows\": 27,\n  \"fields\": [\n    {\n      \"column\": \"Nulos\",\n      \"properties\": {\n        \"dtype\": \"number\",\n        \"std\": 441786,\n        \"min\": 0,\n        \"max\": 1672449,\n        \"num_unique_values\": 15,\n        \"samples\": [\n          161961,\n          659110,\n          0\n        ],\n        \"semantic_type\": \"\",\n        \"description\": \"\"\n      }\n    },\n    {\n      \"column\": \"Registros\",\n      \"properties\": {\n        \"dtype\": \"number\",\n        \"std\": 0,\n        \"min\": 1676598,\n        \"max\": 1676598,\n        \"num_unique_values\": 1,\n        \"samples\": [\n          1676598\n        ],\n        \"semantic_type\": \"\",\n        \"description\": \"\"\n      }\n    },\n    {\n      \"column\": \"% Nulos\",\n      \"properties\": {\n        \"dtype\": \"category\",\n        \"num_unique_values\": 12,\n        \"samples\": [\n          \"39.33%\"\n        ],\n        \"semantic_type\": \"\",\n        \"description\": \"\"\n      }\n    }\n  ]\n}"
            }
          },
          "metadata": {},
          "execution_count": 280
        }
      ],
      "source": [
        "# 14. Contabilizamos valores nulos, e identificamos participación en el total de registros por columnas\n",
        "resumen_NaN_Actor_Vial2 = pd.DataFrame(Actor_Vial.isnull().sum())\n",
        "resumen_NaN_Actor_Vial2.columns=['Nulos']\n",
        "resumen_NaN_Actor_Vial2['Registros']=Actor_Vial.shape[0]\n",
        "resumen_NaN_Actor_Vial2['% Nulos']=resumen_NaN_Actor_Vial2.Nulos/resumen_NaN_Actor_Vial2.Registros\n",
        "resumen_NaN_Actor_Vial2['% Nulos']=resumen_NaN_Actor_Vial2['% Nulos'].apply(\"{:.2%}\".format)\n",
        "resumen_NaN_Actor_Vial2"
      ]
    },
    {
      "cell_type": "code",
      "execution_count": null,
      "metadata": {
        "id": "AJ9LGirhb5Vd"
      },
      "outputs": [],
      "source": [
        "# 15. Se eliminan todas las filas en las que la fecha de accidente está vacía,\n",
        "# pues indica que es un codigo de accidente inexistente en la tabla accidente\n",
        "Actor_Vial = Actor_Vial.dropna(subset=['FECHA_OCURRENCIA_ACC'])"
      ]
    },
    {
      "cell_type": "code",
      "execution_count": null,
      "metadata": {
        "id": "SD5Zy1SIGtyx"
      },
      "outputs": [],
      "source": [
        "# 16. Crear un nuevo DataFrame con las columnas seleccionadas\n",
        "selected_columns = [\n",
        "    'CODIGO_ACCIDENTADO',\n",
        "    'COD_CONDICION_ACTOR',\n",
        "    'COD_ESTADO',\n",
        "    'COD_GENERO',\n",
        "    'FECHA_NACIMIENTO',\n",
        "    'CODIGO',\n",
        "    'CODIGO_ACCIDENTE'\n",
        "]\n",
        "\n",
        "Actor_Vial_df= Actor_Vial[selected_columns]\n",
        "Actor_Vial_df = pd.DataFrame(Actor_Vial_df)\n"
      ]
    },
    {
      "cell_type": "code",
      "execution_count": null,
      "metadata": {
        "id": "-1X2q6Zfbipa",
        "colab": {
          "base_uri": "https://localhost:8080/"
        },
        "outputId": "097f47fa-4c98-48c3-daf0-37318258f7dc"
      },
      "outputs": [
        {
          "output_type": "stream",
          "name": "stdout",
          "text": [
            "Número de registros duplicados: 0\n",
            "Registros duplicados:\n",
            "Empty DataFrame\n",
            "Columns: [CODIGO_ACCIDENTADO, COD_CONDICION_ACTOR, COD_ESTADO, COD_GENERO, FECHA_NACIMIENTO, CODIGO, CODIGO_ACCIDENTE]\n",
            "Index: []\n"
          ]
        }
      ],
      "source": [
        "# 17. Identificar registros duplicados\n",
        "duplicates = Actor_Vial_df.duplicated()\n",
        "\n",
        "# Contar la cantidad de registros duplicados\n",
        "num_duplicates = sum(duplicates)\n",
        "\n",
        "print(\"Número de registros duplicados:\", num_duplicates)\n",
        "print(\"Registros duplicados:\")\n",
        "print(Actor_Vial_df[duplicates])"
      ]
    },
    {
      "cell_type": "code",
      "execution_count": null,
      "metadata": {
        "id": "BzbFedIB4ho6",
        "colab": {
          "base_uri": "https://localhost:8080/"
        },
        "outputId": "9d4df35d-cdc2-42a6-d9e3-f00ff9ea50be"
      },
      "outputs": [
        {
          "output_type": "stream",
          "name": "stdout",
          "text": [
            "   CODIGO_ACCIDENTADO  COD_CONDICION_ACTOR  COD_ESTADO  COD_GENERO  \\\n",
            "0          12725004.0                  1.0         1.0         1.0   \n",
            "1          12725005.0                  1.0         1.0         1.0   \n",
            "2          12725006.0                  1.0         1.0         1.0   \n",
            "3          12725007.0                  1.0         1.0         2.0   \n",
            "4          12725008.0                  1.0         1.0         1.0   \n",
            "\n",
            "  FECHA_NACIMIENTO      CODIGO  CODIGO_ACCIDENTE  \n",
            "0       1991-04-28  10528705-1          10528705  \n",
            "1       1956-04-01  10528705-2          10528705  \n",
            "2       1997-06-23  10528709-1          10528709  \n",
            "3       1985-05-25  10528709-2          10528709  \n",
            "4       1979-10-04  10528708-1          10528708  \n"
          ]
        }
      ],
      "source": [
        "# 18. Visualizar el nuevo DataFrame con las columnas seleccionadas\n",
        "print(Actor_Vial_df.head())"
      ]
    },
    {
      "cell_type": "code",
      "execution_count": null,
      "metadata": {
        "id": "0tw-vKwkozTB"
      },
      "outputs": [],
      "source": [
        "# 19. Almacenamos solo la fecha de fecha nacimiento y muerte posterior\n",
        "Actor_Vial_df['FECHA_NACIMIENTO'] = Actor_Vial_df['FECHA_NACIMIENTO'].dt.date"
      ]
    },
    {
      "cell_type": "code",
      "execution_count": null,
      "metadata": {
        "id": "-yixCGROJK0L",
        "colab": {
          "base_uri": "https://localhost:8080/"
        },
        "outputId": "9e03c38a-fddf-4f17-e8fe-b229a08f5b2e"
      },
      "outputs": [
        {
          "output_type": "stream",
          "name": "stdout",
          "text": [
            "Las variables almacenan la información en el siguiente formato: CODIGO_ACCIDENTADO     float64\n",
            "COD_CONDICION_ACTOR    float64\n",
            "COD_ESTADO             float64\n",
            "COD_GENERO             float64\n",
            "FECHA_NACIMIENTO        object\n",
            "CODIGO                  object\n",
            "CODIGO_ACCIDENTE         int64\n",
            "dtype: object\n"
          ]
        }
      ],
      "source": [
        "print('Las variables almacenan la información en el siguiente formato:', Actor_Vial_df.dtypes)"
      ]
    },
    {
      "cell_type": "markdown",
      "metadata": {
        "id": "ckjB-zhi3gNp"
      },
      "source": [
        "### 3.28  Creación tabla Via"
      ]
    },
    {
      "cell_type": "code",
      "execution_count": null,
      "metadata": {
        "id": "uAq-ARg6oIYf",
        "colab": {
          "base_uri": "https://localhost:8080/"
        },
        "outputId": "9d64ecf4-afce-47ee-dabc-aad35ff43e79"
      },
      "outputs": [
        {
          "output_type": "stream",
          "name": "stderr",
          "text": [
            "<ipython-input-287-6cd40d78cfbd>:1: DtypeWarning: Columns (17) have mixed types. Specify dtype option on import or set low_memory=False.\n",
            "  Via = pd.read_csv('/content/Via.csv')\n"
          ]
        }
      ],
      "source": [
        "Via = pd.read_csv('/content/Via.csv')"
      ]
    },
    {
      "cell_type": "code",
      "execution_count": null,
      "metadata": {
        "id": "cjIzoXpEME64",
        "colab": {
          "base_uri": "https://localhost:8080/"
        },
        "outputId": "2d9f0d62-5b02-4735-c724-1cf982865043"
      },
      "outputs": [
        {
          "output_type": "execute_result",
          "data": {
            "text/plain": [
              "        OBJECTID  FORMULARIO  CODIGO_ACCIDENTE  CODIGO_VIA GEOMETRICA_A  \\\n",
              "483947  11391602  A001232983          10530494           1        RECTA   \n",
              "483948  11391603  A001236189          10530495           1        RECTA   \n",
              "483949  11391604  A001236189          10530495           2        RECTA   \n",
              "483950  11391605  A001234696          10530496           1        RECTA   \n",
              "483951  11391607  A001236124          10530498           1        RECTA   \n",
              "\n",
              "       GEOMETRICA_B GEOMETRICA_C    UTILIZACION CALZADAS    CARRILES MATERIAL  \\\n",
              "483947        PLANO   CON BERMAS     UN SENTIDO      UNA  TRES O MAS  ASFALTO   \n",
              "483948        PLANO    CON ANDEN     UN SENTIDO      UNA         DOS  ASFALTO   \n",
              "483949        PLANO    CON ANDEN  DOBLE SENTIDO      UNA         DOS  ASFALTO   \n",
              "483950        PLANO    CON ANDEN  DOBLE SENTIDO      DOS  TRES O MAS  ASFALTO   \n",
              "483951        PLANO    CON ANDEN  DOBLE SENTIDO      UNA         DOS  ASFALTO   \n",
              "\n",
              "       ESTADO CONDICIONES ILUMINACION_A ILUMINACION_B AGENTE_TRANSITO  \\\n",
              "483947  BUENO      HUMEDA           SIN           NaN              NO   \n",
              "483948  BUENO        SECA           SIN           NaN              NO   \n",
              "483949  BUENO        SECA           SIN           NaN              NO   \n",
              "483950  BUENO      HUMEDA           CON         BUENA              NO   \n",
              "483951  BUENO        SECA           SIN           NaN              NO   \n",
              "\n",
              "        SEMAFORO VISUAL               CODIGO  \n",
              "483947  OPERANDO    NaN  11391602-10530494-1  \n",
              "483948  OPERANDO    NaN  11391603-10530495-1  \n",
              "483949  OPERANDO    NaN  11391604-10530495-2  \n",
              "483950  OPERANDO    NaN  11391605-10530496-1  \n",
              "483951  OPERANDO    NaN  11391607-10530498-1  "
            ],
            "text/html": [
              "\n",
              "  <div id=\"df-b4ce2ad6-3550-4f3a-bf11-19d7b3114c86\" class=\"colab-df-container\">\n",
              "    <div>\n",
              "<style scoped>\n",
              "    .dataframe tbody tr th:only-of-type {\n",
              "        vertical-align: middle;\n",
              "    }\n",
              "\n",
              "    .dataframe tbody tr th {\n",
              "        vertical-align: top;\n",
              "    }\n",
              "\n",
              "    .dataframe thead th {\n",
              "        text-align: right;\n",
              "    }\n",
              "</style>\n",
              "<table border=\"1\" class=\"dataframe\">\n",
              "  <thead>\n",
              "    <tr style=\"text-align: right;\">\n",
              "      <th></th>\n",
              "      <th>OBJECTID</th>\n",
              "      <th>FORMULARIO</th>\n",
              "      <th>CODIGO_ACCIDENTE</th>\n",
              "      <th>CODIGO_VIA</th>\n",
              "      <th>GEOMETRICA_A</th>\n",
              "      <th>GEOMETRICA_B</th>\n",
              "      <th>GEOMETRICA_C</th>\n",
              "      <th>UTILIZACION</th>\n",
              "      <th>CALZADAS</th>\n",
              "      <th>CARRILES</th>\n",
              "      <th>MATERIAL</th>\n",
              "      <th>ESTADO</th>\n",
              "      <th>CONDICIONES</th>\n",
              "      <th>ILUMINACION_A</th>\n",
              "      <th>ILUMINACION_B</th>\n",
              "      <th>AGENTE_TRANSITO</th>\n",
              "      <th>SEMAFORO</th>\n",
              "      <th>VISUAL</th>\n",
              "      <th>CODIGO</th>\n",
              "    </tr>\n",
              "  </thead>\n",
              "  <tbody>\n",
              "    <tr>\n",
              "      <th>483947</th>\n",
              "      <td>11391602</td>\n",
              "      <td>A001232983</td>\n",
              "      <td>10530494</td>\n",
              "      <td>1</td>\n",
              "      <td>RECTA</td>\n",
              "      <td>PLANO</td>\n",
              "      <td>CON BERMAS</td>\n",
              "      <td>UN SENTIDO</td>\n",
              "      <td>UNA</td>\n",
              "      <td>TRES O MAS</td>\n",
              "      <td>ASFALTO</td>\n",
              "      <td>BUENO</td>\n",
              "      <td>HUMEDA</td>\n",
              "      <td>SIN</td>\n",
              "      <td>NaN</td>\n",
              "      <td>NO</td>\n",
              "      <td>OPERANDO</td>\n",
              "      <td>NaN</td>\n",
              "      <td>11391602-10530494-1</td>\n",
              "    </tr>\n",
              "    <tr>\n",
              "      <th>483948</th>\n",
              "      <td>11391603</td>\n",
              "      <td>A001236189</td>\n",
              "      <td>10530495</td>\n",
              "      <td>1</td>\n",
              "      <td>RECTA</td>\n",
              "      <td>PLANO</td>\n",
              "      <td>CON ANDEN</td>\n",
              "      <td>UN SENTIDO</td>\n",
              "      <td>UNA</td>\n",
              "      <td>DOS</td>\n",
              "      <td>ASFALTO</td>\n",
              "      <td>BUENO</td>\n",
              "      <td>SECA</td>\n",
              "      <td>SIN</td>\n",
              "      <td>NaN</td>\n",
              "      <td>NO</td>\n",
              "      <td>OPERANDO</td>\n",
              "      <td>NaN</td>\n",
              "      <td>11391603-10530495-1</td>\n",
              "    </tr>\n",
              "    <tr>\n",
              "      <th>483949</th>\n",
              "      <td>11391604</td>\n",
              "      <td>A001236189</td>\n",
              "      <td>10530495</td>\n",
              "      <td>2</td>\n",
              "      <td>RECTA</td>\n",
              "      <td>PLANO</td>\n",
              "      <td>CON ANDEN</td>\n",
              "      <td>DOBLE SENTIDO</td>\n",
              "      <td>UNA</td>\n",
              "      <td>DOS</td>\n",
              "      <td>ASFALTO</td>\n",
              "      <td>BUENO</td>\n",
              "      <td>SECA</td>\n",
              "      <td>SIN</td>\n",
              "      <td>NaN</td>\n",
              "      <td>NO</td>\n",
              "      <td>OPERANDO</td>\n",
              "      <td>NaN</td>\n",
              "      <td>11391604-10530495-2</td>\n",
              "    </tr>\n",
              "    <tr>\n",
              "      <th>483950</th>\n",
              "      <td>11391605</td>\n",
              "      <td>A001234696</td>\n",
              "      <td>10530496</td>\n",
              "      <td>1</td>\n",
              "      <td>RECTA</td>\n",
              "      <td>PLANO</td>\n",
              "      <td>CON ANDEN</td>\n",
              "      <td>DOBLE SENTIDO</td>\n",
              "      <td>DOS</td>\n",
              "      <td>TRES O MAS</td>\n",
              "      <td>ASFALTO</td>\n",
              "      <td>BUENO</td>\n",
              "      <td>HUMEDA</td>\n",
              "      <td>CON</td>\n",
              "      <td>BUENA</td>\n",
              "      <td>NO</td>\n",
              "      <td>OPERANDO</td>\n",
              "      <td>NaN</td>\n",
              "      <td>11391605-10530496-1</td>\n",
              "    </tr>\n",
              "    <tr>\n",
              "      <th>483951</th>\n",
              "      <td>11391607</td>\n",
              "      <td>A001236124</td>\n",
              "      <td>10530498</td>\n",
              "      <td>1</td>\n",
              "      <td>RECTA</td>\n",
              "      <td>PLANO</td>\n",
              "      <td>CON ANDEN</td>\n",
              "      <td>DOBLE SENTIDO</td>\n",
              "      <td>UNA</td>\n",
              "      <td>DOS</td>\n",
              "      <td>ASFALTO</td>\n",
              "      <td>BUENO</td>\n",
              "      <td>SECA</td>\n",
              "      <td>SIN</td>\n",
              "      <td>NaN</td>\n",
              "      <td>NO</td>\n",
              "      <td>OPERANDO</td>\n",
              "      <td>NaN</td>\n",
              "      <td>11391607-10530498-1</td>\n",
              "    </tr>\n",
              "  </tbody>\n",
              "</table>\n",
              "</div>\n",
              "    <div class=\"colab-df-buttons\">\n",
              "\n",
              "  <div class=\"colab-df-container\">\n",
              "    <button class=\"colab-df-convert\" onclick=\"convertToInteractive('df-b4ce2ad6-3550-4f3a-bf11-19d7b3114c86')\"\n",
              "            title=\"Convert this dataframe to an interactive table.\"\n",
              "            style=\"display:none;\">\n",
              "\n",
              "  <svg xmlns=\"http://www.w3.org/2000/svg\" height=\"24px\" viewBox=\"0 -960 960 960\">\n",
              "    <path d=\"M120-120v-720h720v720H120Zm60-500h600v-160H180v160Zm220 220h160v-160H400v160Zm0 220h160v-160H400v160ZM180-400h160v-160H180v160Zm440 0h160v-160H620v160ZM180-180h160v-160H180v160Zm440 0h160v-160H620v160Z\"/>\n",
              "  </svg>\n",
              "    </button>\n",
              "\n",
              "  <style>\n",
              "    .colab-df-container {\n",
              "      display:flex;\n",
              "      gap: 12px;\n",
              "    }\n",
              "\n",
              "    .colab-df-convert {\n",
              "      background-color: #E8F0FE;\n",
              "      border: none;\n",
              "      border-radius: 50%;\n",
              "      cursor: pointer;\n",
              "      display: none;\n",
              "      fill: #1967D2;\n",
              "      height: 32px;\n",
              "      padding: 0 0 0 0;\n",
              "      width: 32px;\n",
              "    }\n",
              "\n",
              "    .colab-df-convert:hover {\n",
              "      background-color: #E2EBFA;\n",
              "      box-shadow: 0px 1px 2px rgba(60, 64, 67, 0.3), 0px 1px 3px 1px rgba(60, 64, 67, 0.15);\n",
              "      fill: #174EA6;\n",
              "    }\n",
              "\n",
              "    .colab-df-buttons div {\n",
              "      margin-bottom: 4px;\n",
              "    }\n",
              "\n",
              "    [theme=dark] .colab-df-convert {\n",
              "      background-color: #3B4455;\n",
              "      fill: #D2E3FC;\n",
              "    }\n",
              "\n",
              "    [theme=dark] .colab-df-convert:hover {\n",
              "      background-color: #434B5C;\n",
              "      box-shadow: 0px 1px 3px 1px rgba(0, 0, 0, 0.15);\n",
              "      filter: drop-shadow(0px 1px 2px rgba(0, 0, 0, 0.3));\n",
              "      fill: #FFFFFF;\n",
              "    }\n",
              "  </style>\n",
              "\n",
              "    <script>\n",
              "      const buttonEl =\n",
              "        document.querySelector('#df-b4ce2ad6-3550-4f3a-bf11-19d7b3114c86 button.colab-df-convert');\n",
              "      buttonEl.style.display =\n",
              "        google.colab.kernel.accessAllowed ? 'block' : 'none';\n",
              "\n",
              "      async function convertToInteractive(key) {\n",
              "        const element = document.querySelector('#df-b4ce2ad6-3550-4f3a-bf11-19d7b3114c86');\n",
              "        const dataTable =\n",
              "          await google.colab.kernel.invokeFunction('convertToInteractive',\n",
              "                                                    [key], {});\n",
              "        if (!dataTable) return;\n",
              "\n",
              "        const docLinkHtml = 'Like what you see? Visit the ' +\n",
              "          '<a target=\"_blank\" href=https://colab.research.google.com/notebooks/data_table.ipynb>data table notebook</a>'\n",
              "          + ' to learn more about interactive tables.';\n",
              "        element.innerHTML = '';\n",
              "        dataTable['output_type'] = 'display_data';\n",
              "        await google.colab.output.renderOutput(dataTable, element);\n",
              "        const docLink = document.createElement('div');\n",
              "        docLink.innerHTML = docLinkHtml;\n",
              "        element.appendChild(docLink);\n",
              "      }\n",
              "    </script>\n",
              "  </div>\n",
              "\n",
              "\n",
              "<div id=\"df-b163d9e4-85de-4cc2-8895-7d7a5b622773\">\n",
              "  <button class=\"colab-df-quickchart\" onclick=\"quickchart('df-b163d9e4-85de-4cc2-8895-7d7a5b622773')\"\n",
              "            title=\"Suggest charts\"\n",
              "            style=\"display:none;\">\n",
              "\n",
              "<svg xmlns=\"http://www.w3.org/2000/svg\" height=\"24px\"viewBox=\"0 0 24 24\"\n",
              "     width=\"24px\">\n",
              "    <g>\n",
              "        <path d=\"M19 3H5c-1.1 0-2 .9-2 2v14c0 1.1.9 2 2 2h14c1.1 0 2-.9 2-2V5c0-1.1-.9-2-2-2zM9 17H7v-7h2v7zm4 0h-2V7h2v10zm4 0h-2v-4h2v4z\"/>\n",
              "    </g>\n",
              "</svg>\n",
              "  </button>\n",
              "\n",
              "<style>\n",
              "  .colab-df-quickchart {\n",
              "      --bg-color: #E8F0FE;\n",
              "      --fill-color: #1967D2;\n",
              "      --hover-bg-color: #E2EBFA;\n",
              "      --hover-fill-color: #174EA6;\n",
              "      --disabled-fill-color: #AAA;\n",
              "      --disabled-bg-color: #DDD;\n",
              "  }\n",
              "\n",
              "  [theme=dark] .colab-df-quickchart {\n",
              "      --bg-color: #3B4455;\n",
              "      --fill-color: #D2E3FC;\n",
              "      --hover-bg-color: #434B5C;\n",
              "      --hover-fill-color: #FFFFFF;\n",
              "      --disabled-bg-color: #3B4455;\n",
              "      --disabled-fill-color: #666;\n",
              "  }\n",
              "\n",
              "  .colab-df-quickchart {\n",
              "    background-color: var(--bg-color);\n",
              "    border: none;\n",
              "    border-radius: 50%;\n",
              "    cursor: pointer;\n",
              "    display: none;\n",
              "    fill: var(--fill-color);\n",
              "    height: 32px;\n",
              "    padding: 0;\n",
              "    width: 32px;\n",
              "  }\n",
              "\n",
              "  .colab-df-quickchart:hover {\n",
              "    background-color: var(--hover-bg-color);\n",
              "    box-shadow: 0 1px 2px rgba(60, 64, 67, 0.3), 0 1px 3px 1px rgba(60, 64, 67, 0.15);\n",
              "    fill: var(--button-hover-fill-color);\n",
              "  }\n",
              "\n",
              "  .colab-df-quickchart-complete:disabled,\n",
              "  .colab-df-quickchart-complete:disabled:hover {\n",
              "    background-color: var(--disabled-bg-color);\n",
              "    fill: var(--disabled-fill-color);\n",
              "    box-shadow: none;\n",
              "  }\n",
              "\n",
              "  .colab-df-spinner {\n",
              "    border: 2px solid var(--fill-color);\n",
              "    border-color: transparent;\n",
              "    border-bottom-color: var(--fill-color);\n",
              "    animation:\n",
              "      spin 1s steps(1) infinite;\n",
              "  }\n",
              "\n",
              "  @keyframes spin {\n",
              "    0% {\n",
              "      border-color: transparent;\n",
              "      border-bottom-color: var(--fill-color);\n",
              "      border-left-color: var(--fill-color);\n",
              "    }\n",
              "    20% {\n",
              "      border-color: transparent;\n",
              "      border-left-color: var(--fill-color);\n",
              "      border-top-color: var(--fill-color);\n",
              "    }\n",
              "    30% {\n",
              "      border-color: transparent;\n",
              "      border-left-color: var(--fill-color);\n",
              "      border-top-color: var(--fill-color);\n",
              "      border-right-color: var(--fill-color);\n",
              "    }\n",
              "    40% {\n",
              "      border-color: transparent;\n",
              "      border-right-color: var(--fill-color);\n",
              "      border-top-color: var(--fill-color);\n",
              "    }\n",
              "    60% {\n",
              "      border-color: transparent;\n",
              "      border-right-color: var(--fill-color);\n",
              "    }\n",
              "    80% {\n",
              "      border-color: transparent;\n",
              "      border-right-color: var(--fill-color);\n",
              "      border-bottom-color: var(--fill-color);\n",
              "    }\n",
              "    90% {\n",
              "      border-color: transparent;\n",
              "      border-bottom-color: var(--fill-color);\n",
              "    }\n",
              "  }\n",
              "</style>\n",
              "\n",
              "  <script>\n",
              "    async function quickchart(key) {\n",
              "      const quickchartButtonEl =\n",
              "        document.querySelector('#' + key + ' button');\n",
              "      quickchartButtonEl.disabled = true;  // To prevent multiple clicks.\n",
              "      quickchartButtonEl.classList.add('colab-df-spinner');\n",
              "      try {\n",
              "        const charts = await google.colab.kernel.invokeFunction(\n",
              "            'suggestCharts', [key], {});\n",
              "      } catch (error) {\n",
              "        console.error('Error during call to suggestCharts:', error);\n",
              "      }\n",
              "      quickchartButtonEl.classList.remove('colab-df-spinner');\n",
              "      quickchartButtonEl.classList.add('colab-df-quickchart-complete');\n",
              "    }\n",
              "    (() => {\n",
              "      let quickchartButtonEl =\n",
              "        document.querySelector('#df-b163d9e4-85de-4cc2-8895-7d7a5b622773 button');\n",
              "      quickchartButtonEl.style.display =\n",
              "        google.colab.kernel.accessAllowed ? 'block' : 'none';\n",
              "    })();\n",
              "  </script>\n",
              "</div>\n",
              "    </div>\n",
              "  </div>\n"
            ],
            "application/vnd.google.colaboratory.intrinsic+json": {
              "type": "dataframe",
              "repr_error": "'str' object has no attribute 'empty'"
            }
          },
          "metadata": {},
          "execution_count": 288
        }
      ],
      "source": [
        "Via.tail(5)"
      ]
    },
    {
      "cell_type": "code",
      "execution_count": null,
      "metadata": {
        "id": "nmyJiHGFWTLY",
        "colab": {
          "base_uri": "https://localhost:8080/"
        },
        "outputId": "b41b0380-9f73-403f-de9f-6a95dfd20aba"
      },
      "outputs": [
        {
          "output_type": "stream",
          "name": "stdout",
          "text": [
            "El DataFrame está compuesto por 483,952 filas y 19 columnas\n",
            "Con información distribuida en las siguientes variables: Index(['OBJECTID', 'FORMULARIO', 'CODIGO_ACCIDENTE', 'CODIGO_VIA',\n",
            "       'GEOMETRICA_A', 'GEOMETRICA_B', 'GEOMETRICA_C', 'UTILIZACION',\n",
            "       'CALZADAS', 'CARRILES', 'MATERIAL', 'ESTADO', 'CONDICIONES',\n",
            "       'ILUMINACION_A', 'ILUMINACION_B', 'AGENTE_TRANSITO', 'SEMAFORO',\n",
            "       'VISUAL', 'CODIGO'],\n",
            "      dtype='object')\n",
            "Las variables almacenan la información en el siguiente formato: OBJECTID             int64\n",
            "FORMULARIO          object\n",
            "CODIGO_ACCIDENTE     int64\n",
            "CODIGO_VIA           int64\n",
            "GEOMETRICA_A        object\n",
            "GEOMETRICA_B        object\n",
            "GEOMETRICA_C        object\n",
            "UTILIZACION         object\n",
            "CALZADAS            object\n",
            "CARRILES            object\n",
            "MATERIAL            object\n",
            "ESTADO              object\n",
            "CONDICIONES         object\n",
            "ILUMINACION_A       object\n",
            "ILUMINACION_B       object\n",
            "AGENTE_TRANSITO     object\n",
            "SEMAFORO            object\n",
            "VISUAL              object\n",
            "CODIGO              object\n",
            "dtype: object\n"
          ]
        }
      ],
      "source": [
        "# 1. Revisión de la Estructura del Dataset\n",
        "print('El DataFrame está compuesto por {:,}'.format(Via.shape[0]),'filas y',Via.shape[1],'columnas')\n",
        "print('Con información distribuida en las siguientes variables:', Via.columns)\n",
        "print('Las variables almacenan la información en el siguiente formato:', Via.dtypes)"
      ]
    },
    {
      "cell_type": "code",
      "execution_count": null,
      "metadata": {
        "id": "lxLl5KXaWbF_",
        "colab": {
          "base_uri": "https://localhost:8080/"
        },
        "outputId": "dd2b2f68-35fe-4e51-9438-e8cd3542c562"
      },
      "outputs": [
        {
          "output_type": "execute_result",
          "data": {
            "text/plain": [
              "            OBJECTID  FORMULARIO  CODIGO_ACCIDENTE     CODIGO_VIA  \\\n",
              "count   4.839520e+05      483952      4.839520e+05  483952.000000   \n",
              "unique           NaN      392620               NaN            NaN   \n",
              "top              NaN  A000758222               NaN            NaN   \n",
              "freq             NaN         102               NaN            NaN   \n",
              "mean    4.752536e+06         NaN      3.331932e+06       1.182152   \n",
              "std     3.655194e+06         NaN      3.880704e+06       0.385970   \n",
              "min     5.260000e+02         NaN      1.040000e+02       1.000000   \n",
              "25%     2.052829e+06         NaN      3.704858e+05       1.000000   \n",
              "50%     4.489721e+06         NaN      4.888085e+05       1.000000   \n",
              "75%     5.343975e+06         NaN      4.489740e+06       1.000000   \n",
              "max     1.139161e+07         NaN      1.053050e+07       2.000000   \n",
              "\n",
              "       GEOMETRICA_A GEOMETRICA_B GEOMETRICA_C UTILIZACION CALZADAS CARRILES  \\\n",
              "count        482328       477523       473775      480598   479607   480908   \n",
              "unique            2            2            3           5        5        5   \n",
              "top           RECTA        PLANO    CON ANDEN  UN SENTIDO      UNA      DOS   \n",
              "freq         466677       456910       335800      285020   342679   241070   \n",
              "mean            NaN          NaN          NaN         NaN      NaN      NaN   \n",
              "std             NaN          NaN          NaN         NaN      NaN      NaN   \n",
              "min             NaN          NaN          NaN         NaN      NaN      NaN   \n",
              "25%             NaN          NaN          NaN         NaN      NaN      NaN   \n",
              "50%             NaN          NaN          NaN         NaN      NaN      NaN   \n",
              "75%             NaN          NaN          NaN         NaN      NaN      NaN   \n",
              "max             NaN          NaN          NaN         NaN      NaN      NaN   \n",
              "\n",
              "       MATERIAL  ESTADO CONDICIONES ILUMINACION_A ILUMINACION_B  \\\n",
              "count    480233  479239      481109        463782        205161   \n",
              "unique        7       9           8             2             2   \n",
              "top     ASFALTO   BUENO        SECA           SIN         BUENA   \n",
              "freq     432202  461780      438656        259884        202335   \n",
              "mean        NaN     NaN         NaN           NaN           NaN   \n",
              "std         NaN     NaN         NaN           NaN           NaN   \n",
              "min         NaN     NaN         NaN           NaN           NaN   \n",
              "25%         NaN     NaN         NaN           NaN           NaN   \n",
              "50%         NaN     NaN         NaN           NaN           NaN   \n",
              "75%         NaN     NaN         NaN           NaN           NaN   \n",
              "max         NaN     NaN         NaN           NaN           NaN   \n",
              "\n",
              "       AGENTE_TRANSITO  SEMAFORO                VISUAL        CODIGO  \n",
              "count           440178    284638                   717        483952  \n",
              "unique               2         6                     6        483952  \n",
              "top                 NO  OPERANDO  VEHICULO ESTACIONADO  526-511950-1  \n",
              "freq            434599    234897                   430             1  \n",
              "mean               NaN       NaN                   NaN           NaN  \n",
              "std                NaN       NaN                   NaN           NaN  \n",
              "min                NaN       NaN                   NaN           NaN  \n",
              "25%                NaN       NaN                   NaN           NaN  \n",
              "50%                NaN       NaN                   NaN           NaN  \n",
              "75%                NaN       NaN                   NaN           NaN  \n",
              "max                NaN       NaN                   NaN           NaN  "
            ],
            "text/html": [
              "\n",
              "  <div id=\"df-857ac93d-c144-46b8-91fa-6bbd1b7a4530\" class=\"colab-df-container\">\n",
              "    <div>\n",
              "<style scoped>\n",
              "    .dataframe tbody tr th:only-of-type {\n",
              "        vertical-align: middle;\n",
              "    }\n",
              "\n",
              "    .dataframe tbody tr th {\n",
              "        vertical-align: top;\n",
              "    }\n",
              "\n",
              "    .dataframe thead th {\n",
              "        text-align: right;\n",
              "    }\n",
              "</style>\n",
              "<table border=\"1\" class=\"dataframe\">\n",
              "  <thead>\n",
              "    <tr style=\"text-align: right;\">\n",
              "      <th></th>\n",
              "      <th>OBJECTID</th>\n",
              "      <th>FORMULARIO</th>\n",
              "      <th>CODIGO_ACCIDENTE</th>\n",
              "      <th>CODIGO_VIA</th>\n",
              "      <th>GEOMETRICA_A</th>\n",
              "      <th>GEOMETRICA_B</th>\n",
              "      <th>GEOMETRICA_C</th>\n",
              "      <th>UTILIZACION</th>\n",
              "      <th>CALZADAS</th>\n",
              "      <th>CARRILES</th>\n",
              "      <th>MATERIAL</th>\n",
              "      <th>ESTADO</th>\n",
              "      <th>CONDICIONES</th>\n",
              "      <th>ILUMINACION_A</th>\n",
              "      <th>ILUMINACION_B</th>\n",
              "      <th>AGENTE_TRANSITO</th>\n",
              "      <th>SEMAFORO</th>\n",
              "      <th>VISUAL</th>\n",
              "      <th>CODIGO</th>\n",
              "    </tr>\n",
              "  </thead>\n",
              "  <tbody>\n",
              "    <tr>\n",
              "      <th>count</th>\n",
              "      <td>4.839520e+05</td>\n",
              "      <td>483952</td>\n",
              "      <td>4.839520e+05</td>\n",
              "      <td>483952.000000</td>\n",
              "      <td>482328</td>\n",
              "      <td>477523</td>\n",
              "      <td>473775</td>\n",
              "      <td>480598</td>\n",
              "      <td>479607</td>\n",
              "      <td>480908</td>\n",
              "      <td>480233</td>\n",
              "      <td>479239</td>\n",
              "      <td>481109</td>\n",
              "      <td>463782</td>\n",
              "      <td>205161</td>\n",
              "      <td>440178</td>\n",
              "      <td>284638</td>\n",
              "      <td>717</td>\n",
              "      <td>483952</td>\n",
              "    </tr>\n",
              "    <tr>\n",
              "      <th>unique</th>\n",
              "      <td>NaN</td>\n",
              "      <td>392620</td>\n",
              "      <td>NaN</td>\n",
              "      <td>NaN</td>\n",
              "      <td>2</td>\n",
              "      <td>2</td>\n",
              "      <td>3</td>\n",
              "      <td>5</td>\n",
              "      <td>5</td>\n",
              "      <td>5</td>\n",
              "      <td>7</td>\n",
              "      <td>9</td>\n",
              "      <td>8</td>\n",
              "      <td>2</td>\n",
              "      <td>2</td>\n",
              "      <td>2</td>\n",
              "      <td>6</td>\n",
              "      <td>6</td>\n",
              "      <td>483952</td>\n",
              "    </tr>\n",
              "    <tr>\n",
              "      <th>top</th>\n",
              "      <td>NaN</td>\n",
              "      <td>A000758222</td>\n",
              "      <td>NaN</td>\n",
              "      <td>NaN</td>\n",
              "      <td>RECTA</td>\n",
              "      <td>PLANO</td>\n",
              "      <td>CON ANDEN</td>\n",
              "      <td>UN SENTIDO</td>\n",
              "      <td>UNA</td>\n",
              "      <td>DOS</td>\n",
              "      <td>ASFALTO</td>\n",
              "      <td>BUENO</td>\n",
              "      <td>SECA</td>\n",
              "      <td>SIN</td>\n",
              "      <td>BUENA</td>\n",
              "      <td>NO</td>\n",
              "      <td>OPERANDO</td>\n",
              "      <td>VEHICULO ESTACIONADO</td>\n",
              "      <td>526-511950-1</td>\n",
              "    </tr>\n",
              "    <tr>\n",
              "      <th>freq</th>\n",
              "      <td>NaN</td>\n",
              "      <td>102</td>\n",
              "      <td>NaN</td>\n",
              "      <td>NaN</td>\n",
              "      <td>466677</td>\n",
              "      <td>456910</td>\n",
              "      <td>335800</td>\n",
              "      <td>285020</td>\n",
              "      <td>342679</td>\n",
              "      <td>241070</td>\n",
              "      <td>432202</td>\n",
              "      <td>461780</td>\n",
              "      <td>438656</td>\n",
              "      <td>259884</td>\n",
              "      <td>202335</td>\n",
              "      <td>434599</td>\n",
              "      <td>234897</td>\n",
              "      <td>430</td>\n",
              "      <td>1</td>\n",
              "    </tr>\n",
              "    <tr>\n",
              "      <th>mean</th>\n",
              "      <td>4.752536e+06</td>\n",
              "      <td>NaN</td>\n",
              "      <td>3.331932e+06</td>\n",
              "      <td>1.182152</td>\n",
              "      <td>NaN</td>\n",
              "      <td>NaN</td>\n",
              "      <td>NaN</td>\n",
              "      <td>NaN</td>\n",
              "      <td>NaN</td>\n",
              "      <td>NaN</td>\n",
              "      <td>NaN</td>\n",
              "      <td>NaN</td>\n",
              "      <td>NaN</td>\n",
              "      <td>NaN</td>\n",
              "      <td>NaN</td>\n",
              "      <td>NaN</td>\n",
              "      <td>NaN</td>\n",
              "      <td>NaN</td>\n",
              "      <td>NaN</td>\n",
              "    </tr>\n",
              "    <tr>\n",
              "      <th>std</th>\n",
              "      <td>3.655194e+06</td>\n",
              "      <td>NaN</td>\n",
              "      <td>3.880704e+06</td>\n",
              "      <td>0.385970</td>\n",
              "      <td>NaN</td>\n",
              "      <td>NaN</td>\n",
              "      <td>NaN</td>\n",
              "      <td>NaN</td>\n",
              "      <td>NaN</td>\n",
              "      <td>NaN</td>\n",
              "      <td>NaN</td>\n",
              "      <td>NaN</td>\n",
              "      <td>NaN</td>\n",
              "      <td>NaN</td>\n",
              "      <td>NaN</td>\n",
              "      <td>NaN</td>\n",
              "      <td>NaN</td>\n",
              "      <td>NaN</td>\n",
              "      <td>NaN</td>\n",
              "    </tr>\n",
              "    <tr>\n",
              "      <th>min</th>\n",
              "      <td>5.260000e+02</td>\n",
              "      <td>NaN</td>\n",
              "      <td>1.040000e+02</td>\n",
              "      <td>1.000000</td>\n",
              "      <td>NaN</td>\n",
              "      <td>NaN</td>\n",
              "      <td>NaN</td>\n",
              "      <td>NaN</td>\n",
              "      <td>NaN</td>\n",
              "      <td>NaN</td>\n",
              "      <td>NaN</td>\n",
              "      <td>NaN</td>\n",
              "      <td>NaN</td>\n",
              "      <td>NaN</td>\n",
              "      <td>NaN</td>\n",
              "      <td>NaN</td>\n",
              "      <td>NaN</td>\n",
              "      <td>NaN</td>\n",
              "      <td>NaN</td>\n",
              "    </tr>\n",
              "    <tr>\n",
              "      <th>25%</th>\n",
              "      <td>2.052829e+06</td>\n",
              "      <td>NaN</td>\n",
              "      <td>3.704858e+05</td>\n",
              "      <td>1.000000</td>\n",
              "      <td>NaN</td>\n",
              "      <td>NaN</td>\n",
              "      <td>NaN</td>\n",
              "      <td>NaN</td>\n",
              "      <td>NaN</td>\n",
              "      <td>NaN</td>\n",
              "      <td>NaN</td>\n",
              "      <td>NaN</td>\n",
              "      <td>NaN</td>\n",
              "      <td>NaN</td>\n",
              "      <td>NaN</td>\n",
              "      <td>NaN</td>\n",
              "      <td>NaN</td>\n",
              "      <td>NaN</td>\n",
              "      <td>NaN</td>\n",
              "    </tr>\n",
              "    <tr>\n",
              "      <th>50%</th>\n",
              "      <td>4.489721e+06</td>\n",
              "      <td>NaN</td>\n",
              "      <td>4.888085e+05</td>\n",
              "      <td>1.000000</td>\n",
              "      <td>NaN</td>\n",
              "      <td>NaN</td>\n",
              "      <td>NaN</td>\n",
              "      <td>NaN</td>\n",
              "      <td>NaN</td>\n",
              "      <td>NaN</td>\n",
              "      <td>NaN</td>\n",
              "      <td>NaN</td>\n",
              "      <td>NaN</td>\n",
              "      <td>NaN</td>\n",
              "      <td>NaN</td>\n",
              "      <td>NaN</td>\n",
              "      <td>NaN</td>\n",
              "      <td>NaN</td>\n",
              "      <td>NaN</td>\n",
              "    </tr>\n",
              "    <tr>\n",
              "      <th>75%</th>\n",
              "      <td>5.343975e+06</td>\n",
              "      <td>NaN</td>\n",
              "      <td>4.489740e+06</td>\n",
              "      <td>1.000000</td>\n",
              "      <td>NaN</td>\n",
              "      <td>NaN</td>\n",
              "      <td>NaN</td>\n",
              "      <td>NaN</td>\n",
              "      <td>NaN</td>\n",
              "      <td>NaN</td>\n",
              "      <td>NaN</td>\n",
              "      <td>NaN</td>\n",
              "      <td>NaN</td>\n",
              "      <td>NaN</td>\n",
              "      <td>NaN</td>\n",
              "      <td>NaN</td>\n",
              "      <td>NaN</td>\n",
              "      <td>NaN</td>\n",
              "      <td>NaN</td>\n",
              "    </tr>\n",
              "    <tr>\n",
              "      <th>max</th>\n",
              "      <td>1.139161e+07</td>\n",
              "      <td>NaN</td>\n",
              "      <td>1.053050e+07</td>\n",
              "      <td>2.000000</td>\n",
              "      <td>NaN</td>\n",
              "      <td>NaN</td>\n",
              "      <td>NaN</td>\n",
              "      <td>NaN</td>\n",
              "      <td>NaN</td>\n",
              "      <td>NaN</td>\n",
              "      <td>NaN</td>\n",
              "      <td>NaN</td>\n",
              "      <td>NaN</td>\n",
              "      <td>NaN</td>\n",
              "      <td>NaN</td>\n",
              "      <td>NaN</td>\n",
              "      <td>NaN</td>\n",
              "      <td>NaN</td>\n",
              "      <td>NaN</td>\n",
              "    </tr>\n",
              "  </tbody>\n",
              "</table>\n",
              "</div>\n",
              "    <div class=\"colab-df-buttons\">\n",
              "\n",
              "  <div class=\"colab-df-container\">\n",
              "    <button class=\"colab-df-convert\" onclick=\"convertToInteractive('df-857ac93d-c144-46b8-91fa-6bbd1b7a4530')\"\n",
              "            title=\"Convert this dataframe to an interactive table.\"\n",
              "            style=\"display:none;\">\n",
              "\n",
              "  <svg xmlns=\"http://www.w3.org/2000/svg\" height=\"24px\" viewBox=\"0 -960 960 960\">\n",
              "    <path d=\"M120-120v-720h720v720H120Zm60-500h600v-160H180v160Zm220 220h160v-160H400v160Zm0 220h160v-160H400v160ZM180-400h160v-160H180v160Zm440 0h160v-160H620v160ZM180-180h160v-160H180v160Zm440 0h160v-160H620v160Z\"/>\n",
              "  </svg>\n",
              "    </button>\n",
              "\n",
              "  <style>\n",
              "    .colab-df-container {\n",
              "      display:flex;\n",
              "      gap: 12px;\n",
              "    }\n",
              "\n",
              "    .colab-df-convert {\n",
              "      background-color: #E8F0FE;\n",
              "      border: none;\n",
              "      border-radius: 50%;\n",
              "      cursor: pointer;\n",
              "      display: none;\n",
              "      fill: #1967D2;\n",
              "      height: 32px;\n",
              "      padding: 0 0 0 0;\n",
              "      width: 32px;\n",
              "    }\n",
              "\n",
              "    .colab-df-convert:hover {\n",
              "      background-color: #E2EBFA;\n",
              "      box-shadow: 0px 1px 2px rgba(60, 64, 67, 0.3), 0px 1px 3px 1px rgba(60, 64, 67, 0.15);\n",
              "      fill: #174EA6;\n",
              "    }\n",
              "\n",
              "    .colab-df-buttons div {\n",
              "      margin-bottom: 4px;\n",
              "    }\n",
              "\n",
              "    [theme=dark] .colab-df-convert {\n",
              "      background-color: #3B4455;\n",
              "      fill: #D2E3FC;\n",
              "    }\n",
              "\n",
              "    [theme=dark] .colab-df-convert:hover {\n",
              "      background-color: #434B5C;\n",
              "      box-shadow: 0px 1px 3px 1px rgba(0, 0, 0, 0.15);\n",
              "      filter: drop-shadow(0px 1px 2px rgba(0, 0, 0, 0.3));\n",
              "      fill: #FFFFFF;\n",
              "    }\n",
              "  </style>\n",
              "\n",
              "    <script>\n",
              "      const buttonEl =\n",
              "        document.querySelector('#df-857ac93d-c144-46b8-91fa-6bbd1b7a4530 button.colab-df-convert');\n",
              "      buttonEl.style.display =\n",
              "        google.colab.kernel.accessAllowed ? 'block' : 'none';\n",
              "\n",
              "      async function convertToInteractive(key) {\n",
              "        const element = document.querySelector('#df-857ac93d-c144-46b8-91fa-6bbd1b7a4530');\n",
              "        const dataTable =\n",
              "          await google.colab.kernel.invokeFunction('convertToInteractive',\n",
              "                                                    [key], {});\n",
              "        if (!dataTable) return;\n",
              "\n",
              "        const docLinkHtml = 'Like what you see? Visit the ' +\n",
              "          '<a target=\"_blank\" href=https://colab.research.google.com/notebooks/data_table.ipynb>data table notebook</a>'\n",
              "          + ' to learn more about interactive tables.';\n",
              "        element.innerHTML = '';\n",
              "        dataTable['output_type'] = 'display_data';\n",
              "        await google.colab.output.renderOutput(dataTable, element);\n",
              "        const docLink = document.createElement('div');\n",
              "        docLink.innerHTML = docLinkHtml;\n",
              "        element.appendChild(docLink);\n",
              "      }\n",
              "    </script>\n",
              "  </div>\n",
              "\n",
              "\n",
              "<div id=\"df-a24d6172-675f-4fb6-8a1c-92ab23efb648\">\n",
              "  <button class=\"colab-df-quickchart\" onclick=\"quickchart('df-a24d6172-675f-4fb6-8a1c-92ab23efb648')\"\n",
              "            title=\"Suggest charts\"\n",
              "            style=\"display:none;\">\n",
              "\n",
              "<svg xmlns=\"http://www.w3.org/2000/svg\" height=\"24px\"viewBox=\"0 0 24 24\"\n",
              "     width=\"24px\">\n",
              "    <g>\n",
              "        <path d=\"M19 3H5c-1.1 0-2 .9-2 2v14c0 1.1.9 2 2 2h14c1.1 0 2-.9 2-2V5c0-1.1-.9-2-2-2zM9 17H7v-7h2v7zm4 0h-2V7h2v10zm4 0h-2v-4h2v4z\"/>\n",
              "    </g>\n",
              "</svg>\n",
              "  </button>\n",
              "\n",
              "<style>\n",
              "  .colab-df-quickchart {\n",
              "      --bg-color: #E8F0FE;\n",
              "      --fill-color: #1967D2;\n",
              "      --hover-bg-color: #E2EBFA;\n",
              "      --hover-fill-color: #174EA6;\n",
              "      --disabled-fill-color: #AAA;\n",
              "      --disabled-bg-color: #DDD;\n",
              "  }\n",
              "\n",
              "  [theme=dark] .colab-df-quickchart {\n",
              "      --bg-color: #3B4455;\n",
              "      --fill-color: #D2E3FC;\n",
              "      --hover-bg-color: #434B5C;\n",
              "      --hover-fill-color: #FFFFFF;\n",
              "      --disabled-bg-color: #3B4455;\n",
              "      --disabled-fill-color: #666;\n",
              "  }\n",
              "\n",
              "  .colab-df-quickchart {\n",
              "    background-color: var(--bg-color);\n",
              "    border: none;\n",
              "    border-radius: 50%;\n",
              "    cursor: pointer;\n",
              "    display: none;\n",
              "    fill: var(--fill-color);\n",
              "    height: 32px;\n",
              "    padding: 0;\n",
              "    width: 32px;\n",
              "  }\n",
              "\n",
              "  .colab-df-quickchart:hover {\n",
              "    background-color: var(--hover-bg-color);\n",
              "    box-shadow: 0 1px 2px rgba(60, 64, 67, 0.3), 0 1px 3px 1px rgba(60, 64, 67, 0.15);\n",
              "    fill: var(--button-hover-fill-color);\n",
              "  }\n",
              "\n",
              "  .colab-df-quickchart-complete:disabled,\n",
              "  .colab-df-quickchart-complete:disabled:hover {\n",
              "    background-color: var(--disabled-bg-color);\n",
              "    fill: var(--disabled-fill-color);\n",
              "    box-shadow: none;\n",
              "  }\n",
              "\n",
              "  .colab-df-spinner {\n",
              "    border: 2px solid var(--fill-color);\n",
              "    border-color: transparent;\n",
              "    border-bottom-color: var(--fill-color);\n",
              "    animation:\n",
              "      spin 1s steps(1) infinite;\n",
              "  }\n",
              "\n",
              "  @keyframes spin {\n",
              "    0% {\n",
              "      border-color: transparent;\n",
              "      border-bottom-color: var(--fill-color);\n",
              "      border-left-color: var(--fill-color);\n",
              "    }\n",
              "    20% {\n",
              "      border-color: transparent;\n",
              "      border-left-color: var(--fill-color);\n",
              "      border-top-color: var(--fill-color);\n",
              "    }\n",
              "    30% {\n",
              "      border-color: transparent;\n",
              "      border-left-color: var(--fill-color);\n",
              "      border-top-color: var(--fill-color);\n",
              "      border-right-color: var(--fill-color);\n",
              "    }\n",
              "    40% {\n",
              "      border-color: transparent;\n",
              "      border-right-color: var(--fill-color);\n",
              "      border-top-color: var(--fill-color);\n",
              "    }\n",
              "    60% {\n",
              "      border-color: transparent;\n",
              "      border-right-color: var(--fill-color);\n",
              "    }\n",
              "    80% {\n",
              "      border-color: transparent;\n",
              "      border-right-color: var(--fill-color);\n",
              "      border-bottom-color: var(--fill-color);\n",
              "    }\n",
              "    90% {\n",
              "      border-color: transparent;\n",
              "      border-bottom-color: var(--fill-color);\n",
              "    }\n",
              "  }\n",
              "</style>\n",
              "\n",
              "  <script>\n",
              "    async function quickchart(key) {\n",
              "      const quickchartButtonEl =\n",
              "        document.querySelector('#' + key + ' button');\n",
              "      quickchartButtonEl.disabled = true;  // To prevent multiple clicks.\n",
              "      quickchartButtonEl.classList.add('colab-df-spinner');\n",
              "      try {\n",
              "        const charts = await google.colab.kernel.invokeFunction(\n",
              "            'suggestCharts', [key], {});\n",
              "      } catch (error) {\n",
              "        console.error('Error during call to suggestCharts:', error);\n",
              "      }\n",
              "      quickchartButtonEl.classList.remove('colab-df-spinner');\n",
              "      quickchartButtonEl.classList.add('colab-df-quickchart-complete');\n",
              "    }\n",
              "    (() => {\n",
              "      let quickchartButtonEl =\n",
              "        document.querySelector('#df-a24d6172-675f-4fb6-8a1c-92ab23efb648 button');\n",
              "      quickchartButtonEl.style.display =\n",
              "        google.colab.kernel.accessAllowed ? 'block' : 'none';\n",
              "    })();\n",
              "  </script>\n",
              "</div>\n",
              "    </div>\n",
              "  </div>\n"
            ],
            "application/vnd.google.colaboratory.intrinsic+json": {
              "type": "dataframe",
              "variable_name": "description",
              "summary": "{\n  \"name\": \"description\",\n  \"rows\": 11,\n  \"fields\": [\n    {\n      \"column\": \"OBJECTID\",\n      \"properties\": {\n        \"dtype\": \"number\",\n        \"std\": 3575979.107031739,\n        \"min\": 526.0,\n        \"max\": 11391607.0,\n        \"num_unique_values\": 8,\n        \"samples\": [\n          4752536.333764506,\n          4489721.0,\n          483952.0\n        ],\n        \"semantic_type\": \"\",\n        \"description\": \"\"\n      }\n    },\n    {\n      \"column\": \"FORMULARIO\",\n      \"properties\": {\n        \"dtype\": \"category\",\n        \"num_unique_values\": 4,\n        \"samples\": [\n          392620,\n          \"102\",\n          \"483952\"\n        ],\n        \"semantic_type\": \"\",\n        \"description\": \"\"\n      }\n    },\n    {\n      \"column\": \"CODIGO_ACCIDENTE\",\n      \"properties\": {\n        \"dtype\": \"number\",\n        \"std\": 3552492.00744884,\n        \"min\": 104.0,\n        \"max\": 10530498.0,\n        \"num_unique_values\": 8,\n        \"samples\": [\n          3331931.5671781497,\n          488808.5,\n          483952.0\n        ],\n        \"semantic_type\": \"\",\n        \"description\": \"\"\n      }\n    },\n    {\n      \"column\": \"CODIGO_VIA\",\n      \"properties\": {\n        \"dtype\": \"number\",\n        \"std\": 171102.48823703977,\n        \"min\": 0.3859704483281157,\n        \"max\": 483952.0,\n        \"num_unique_values\": 5,\n        \"samples\": [\n          1.1821523622177406,\n          2.0,\n          0.3859704483281157\n        ],\n        \"semantic_type\": \"\",\n        \"description\": \"\"\n      }\n    },\n    {\n      \"column\": \"GEOMETRICA_A\",\n      \"properties\": {\n        \"dtype\": \"category\",\n        \"num_unique_values\": 4,\n        \"samples\": [\n          2,\n          \"466677\",\n          \"482328\"\n        ],\n        \"semantic_type\": \"\",\n        \"description\": \"\"\n      }\n    },\n    {\n      \"column\": \"GEOMETRICA_B\",\n      \"properties\": {\n        \"dtype\": \"category\",\n        \"num_unique_values\": 4,\n        \"samples\": [\n          2,\n          \"456910\",\n          \"477523\"\n        ],\n        \"semantic_type\": \"\",\n        \"description\": \"\"\n      }\n    },\n    {\n      \"column\": \"GEOMETRICA_C\",\n      \"properties\": {\n        \"dtype\": \"category\",\n        \"num_unique_values\": 4,\n        \"samples\": [\n          3,\n          \"335800\",\n          \"473775\"\n        ],\n        \"semantic_type\": \"\",\n        \"description\": \"\"\n      }\n    },\n    {\n      \"column\": \"UTILIZACION\",\n      \"properties\": {\n        \"dtype\": \"category\",\n        \"num_unique_values\": 4,\n        \"samples\": [\n          5,\n          \"285020\",\n          \"480598\"\n        ],\n        \"semantic_type\": \"\",\n        \"description\": \"\"\n      }\n    },\n    {\n      \"column\": \"CALZADAS\",\n      \"properties\": {\n        \"dtype\": \"category\",\n        \"num_unique_values\": 4,\n        \"samples\": [\n          5,\n          \"342679\",\n          \"479607\"\n        ],\n        \"semantic_type\": \"\",\n        \"description\": \"\"\n      }\n    },\n    {\n      \"column\": \"CARRILES\",\n      \"properties\": {\n        \"dtype\": \"category\",\n        \"num_unique_values\": 4,\n        \"samples\": [\n          5,\n          \"241070\",\n          \"480908\"\n        ],\n        \"semantic_type\": \"\",\n        \"description\": \"\"\n      }\n    },\n    {\n      \"column\": \"MATERIAL\",\n      \"properties\": {\n        \"dtype\": \"category\",\n        \"num_unique_values\": 4,\n        \"samples\": [\n          7,\n          \"432202\",\n          \"480233\"\n        ],\n        \"semantic_type\": \"\",\n        \"description\": \"\"\n      }\n    },\n    {\n      \"column\": \"ESTADO\",\n      \"properties\": {\n        \"dtype\": \"category\",\n        \"num_unique_values\": 4,\n        \"samples\": [\n          9,\n          \"461780\",\n          \"479239\"\n        ],\n        \"semantic_type\": \"\",\n        \"description\": \"\"\n      }\n    },\n    {\n      \"column\": \"CONDICIONES\",\n      \"properties\": {\n        \"dtype\": \"category\",\n        \"num_unique_values\": 4,\n        \"samples\": [\n          8,\n          \"438656\",\n          \"481109\"\n        ],\n        \"semantic_type\": \"\",\n        \"description\": \"\"\n      }\n    },\n    {\n      \"column\": \"ILUMINACION_A\",\n      \"properties\": {\n        \"dtype\": \"category\",\n        \"num_unique_values\": 4,\n        \"samples\": [\n          2,\n          \"259884\",\n          \"463782\"\n        ],\n        \"semantic_type\": \"\",\n        \"description\": \"\"\n      }\n    },\n    {\n      \"column\": \"ILUMINACION_B\",\n      \"properties\": {\n        \"dtype\": \"category\",\n        \"num_unique_values\": 4,\n        \"samples\": [\n          2,\n          \"202335\",\n          \"205161\"\n        ],\n        \"semantic_type\": \"\",\n        \"description\": \"\"\n      }\n    },\n    {\n      \"column\": \"AGENTE_TRANSITO\",\n      \"properties\": {\n        \"dtype\": \"category\",\n        \"num_unique_values\": 4,\n        \"samples\": [\n          2,\n          \"434599\",\n          \"440178\"\n        ],\n        \"semantic_type\": \"\",\n        \"description\": \"\"\n      }\n    },\n    {\n      \"column\": \"SEMAFORO\",\n      \"properties\": {\n        \"dtype\": \"category\",\n        \"num_unique_values\": 4,\n        \"samples\": [\n          6,\n          \"234897\",\n          \"284638\"\n        ],\n        \"semantic_type\": \"\",\n        \"description\": \"\"\n      }\n    },\n    {\n      \"column\": \"VISUAL\",\n      \"properties\": {\n        \"dtype\": \"category\",\n        \"num_unique_values\": 4,\n        \"samples\": [\n          6,\n          \"430\",\n          \"717\"\n        ],\n        \"semantic_type\": \"\",\n        \"description\": \"\"\n      }\n    },\n    {\n      \"column\": \"CODIGO\",\n      \"properties\": {\n        \"dtype\": \"category\",\n        \"num_unique_values\": 3,\n        \"samples\": [\n          \"483952\",\n          \"526-511950-1\",\n          \"1\"\n        ],\n        \"semantic_type\": \"\",\n        \"description\": \"\"\n      }\n    }\n  ]\n}"
            }
          },
          "metadata": {},
          "execution_count": 290
        }
      ],
      "source": [
        "# 2. Exploración de los Datos\n",
        "description = Via.describe(include='all')\n",
        "description"
      ]
    },
    {
      "cell_type": "code",
      "execution_count": null,
      "metadata": {
        "id": "QcjUydQSXefc",
        "colab": {
          "base_uri": "https://localhost:8080/"
        },
        "outputId": "e3a3bc96-9f22-4766-89b3-c44a829f626a"
      },
      "outputs": [
        {
          "output_type": "execute_result",
          "data": {
            "text/plain": [
              "                   Nulos  Registros % Nulos\n",
              "OBJECTID               0     483952   0.00%\n",
              "FORMULARIO             0     483952   0.00%\n",
              "CODIGO_ACCIDENTE       0     483952   0.00%\n",
              "CODIGO_VIA             0     483952   0.00%\n",
              "GEOMETRICA_A        1624     483952   0.34%\n",
              "GEOMETRICA_B        6429     483952   1.33%\n",
              "GEOMETRICA_C       10177     483952   2.10%\n",
              "UTILIZACION         3354     483952   0.69%\n",
              "CALZADAS            4345     483952   0.90%\n",
              "CARRILES            3044     483952   0.63%\n",
              "MATERIAL            3719     483952   0.77%\n",
              "ESTADO              4713     483952   0.97%\n",
              "CONDICIONES         2843     483952   0.59%\n",
              "ILUMINACION_A      20170     483952   4.17%\n",
              "ILUMINACION_B     278791     483952  57.61%\n",
              "AGENTE_TRANSITO    43774     483952   9.05%\n",
              "SEMAFORO          199314     483952  41.18%\n",
              "VISUAL            483235     483952  99.85%\n",
              "CODIGO                 0     483952   0.00%"
            ],
            "text/html": [
              "\n",
              "  <div id=\"df-a2474a98-9934-4e90-bceb-4e83e2b50690\" class=\"colab-df-container\">\n",
              "    <div>\n",
              "<style scoped>\n",
              "    .dataframe tbody tr th:only-of-type {\n",
              "        vertical-align: middle;\n",
              "    }\n",
              "\n",
              "    .dataframe tbody tr th {\n",
              "        vertical-align: top;\n",
              "    }\n",
              "\n",
              "    .dataframe thead th {\n",
              "        text-align: right;\n",
              "    }\n",
              "</style>\n",
              "<table border=\"1\" class=\"dataframe\">\n",
              "  <thead>\n",
              "    <tr style=\"text-align: right;\">\n",
              "      <th></th>\n",
              "      <th>Nulos</th>\n",
              "      <th>Registros</th>\n",
              "      <th>% Nulos</th>\n",
              "    </tr>\n",
              "  </thead>\n",
              "  <tbody>\n",
              "    <tr>\n",
              "      <th>OBJECTID</th>\n",
              "      <td>0</td>\n",
              "      <td>483952</td>\n",
              "      <td>0.00%</td>\n",
              "    </tr>\n",
              "    <tr>\n",
              "      <th>FORMULARIO</th>\n",
              "      <td>0</td>\n",
              "      <td>483952</td>\n",
              "      <td>0.00%</td>\n",
              "    </tr>\n",
              "    <tr>\n",
              "      <th>CODIGO_ACCIDENTE</th>\n",
              "      <td>0</td>\n",
              "      <td>483952</td>\n",
              "      <td>0.00%</td>\n",
              "    </tr>\n",
              "    <tr>\n",
              "      <th>CODIGO_VIA</th>\n",
              "      <td>0</td>\n",
              "      <td>483952</td>\n",
              "      <td>0.00%</td>\n",
              "    </tr>\n",
              "    <tr>\n",
              "      <th>GEOMETRICA_A</th>\n",
              "      <td>1624</td>\n",
              "      <td>483952</td>\n",
              "      <td>0.34%</td>\n",
              "    </tr>\n",
              "    <tr>\n",
              "      <th>GEOMETRICA_B</th>\n",
              "      <td>6429</td>\n",
              "      <td>483952</td>\n",
              "      <td>1.33%</td>\n",
              "    </tr>\n",
              "    <tr>\n",
              "      <th>GEOMETRICA_C</th>\n",
              "      <td>10177</td>\n",
              "      <td>483952</td>\n",
              "      <td>2.10%</td>\n",
              "    </tr>\n",
              "    <tr>\n",
              "      <th>UTILIZACION</th>\n",
              "      <td>3354</td>\n",
              "      <td>483952</td>\n",
              "      <td>0.69%</td>\n",
              "    </tr>\n",
              "    <tr>\n",
              "      <th>CALZADAS</th>\n",
              "      <td>4345</td>\n",
              "      <td>483952</td>\n",
              "      <td>0.90%</td>\n",
              "    </tr>\n",
              "    <tr>\n",
              "      <th>CARRILES</th>\n",
              "      <td>3044</td>\n",
              "      <td>483952</td>\n",
              "      <td>0.63%</td>\n",
              "    </tr>\n",
              "    <tr>\n",
              "      <th>MATERIAL</th>\n",
              "      <td>3719</td>\n",
              "      <td>483952</td>\n",
              "      <td>0.77%</td>\n",
              "    </tr>\n",
              "    <tr>\n",
              "      <th>ESTADO</th>\n",
              "      <td>4713</td>\n",
              "      <td>483952</td>\n",
              "      <td>0.97%</td>\n",
              "    </tr>\n",
              "    <tr>\n",
              "      <th>CONDICIONES</th>\n",
              "      <td>2843</td>\n",
              "      <td>483952</td>\n",
              "      <td>0.59%</td>\n",
              "    </tr>\n",
              "    <tr>\n",
              "      <th>ILUMINACION_A</th>\n",
              "      <td>20170</td>\n",
              "      <td>483952</td>\n",
              "      <td>4.17%</td>\n",
              "    </tr>\n",
              "    <tr>\n",
              "      <th>ILUMINACION_B</th>\n",
              "      <td>278791</td>\n",
              "      <td>483952</td>\n",
              "      <td>57.61%</td>\n",
              "    </tr>\n",
              "    <tr>\n",
              "      <th>AGENTE_TRANSITO</th>\n",
              "      <td>43774</td>\n",
              "      <td>483952</td>\n",
              "      <td>9.05%</td>\n",
              "    </tr>\n",
              "    <tr>\n",
              "      <th>SEMAFORO</th>\n",
              "      <td>199314</td>\n",
              "      <td>483952</td>\n",
              "      <td>41.18%</td>\n",
              "    </tr>\n",
              "    <tr>\n",
              "      <th>VISUAL</th>\n",
              "      <td>483235</td>\n",
              "      <td>483952</td>\n",
              "      <td>99.85%</td>\n",
              "    </tr>\n",
              "    <tr>\n",
              "      <th>CODIGO</th>\n",
              "      <td>0</td>\n",
              "      <td>483952</td>\n",
              "      <td>0.00%</td>\n",
              "    </tr>\n",
              "  </tbody>\n",
              "</table>\n",
              "</div>\n",
              "    <div class=\"colab-df-buttons\">\n",
              "\n",
              "  <div class=\"colab-df-container\">\n",
              "    <button class=\"colab-df-convert\" onclick=\"convertToInteractive('df-a2474a98-9934-4e90-bceb-4e83e2b50690')\"\n",
              "            title=\"Convert this dataframe to an interactive table.\"\n",
              "            style=\"display:none;\">\n",
              "\n",
              "  <svg xmlns=\"http://www.w3.org/2000/svg\" height=\"24px\" viewBox=\"0 -960 960 960\">\n",
              "    <path d=\"M120-120v-720h720v720H120Zm60-500h600v-160H180v160Zm220 220h160v-160H400v160Zm0 220h160v-160H400v160ZM180-400h160v-160H180v160Zm440 0h160v-160H620v160ZM180-180h160v-160H180v160Zm440 0h160v-160H620v160Z\"/>\n",
              "  </svg>\n",
              "    </button>\n",
              "\n",
              "  <style>\n",
              "    .colab-df-container {\n",
              "      display:flex;\n",
              "      gap: 12px;\n",
              "    }\n",
              "\n",
              "    .colab-df-convert {\n",
              "      background-color: #E8F0FE;\n",
              "      border: none;\n",
              "      border-radius: 50%;\n",
              "      cursor: pointer;\n",
              "      display: none;\n",
              "      fill: #1967D2;\n",
              "      height: 32px;\n",
              "      padding: 0 0 0 0;\n",
              "      width: 32px;\n",
              "    }\n",
              "\n",
              "    .colab-df-convert:hover {\n",
              "      background-color: #E2EBFA;\n",
              "      box-shadow: 0px 1px 2px rgba(60, 64, 67, 0.3), 0px 1px 3px 1px rgba(60, 64, 67, 0.15);\n",
              "      fill: #174EA6;\n",
              "    }\n",
              "\n",
              "    .colab-df-buttons div {\n",
              "      margin-bottom: 4px;\n",
              "    }\n",
              "\n",
              "    [theme=dark] .colab-df-convert {\n",
              "      background-color: #3B4455;\n",
              "      fill: #D2E3FC;\n",
              "    }\n",
              "\n",
              "    [theme=dark] .colab-df-convert:hover {\n",
              "      background-color: #434B5C;\n",
              "      box-shadow: 0px 1px 3px 1px rgba(0, 0, 0, 0.15);\n",
              "      filter: drop-shadow(0px 1px 2px rgba(0, 0, 0, 0.3));\n",
              "      fill: #FFFFFF;\n",
              "    }\n",
              "  </style>\n",
              "\n",
              "    <script>\n",
              "      const buttonEl =\n",
              "        document.querySelector('#df-a2474a98-9934-4e90-bceb-4e83e2b50690 button.colab-df-convert');\n",
              "      buttonEl.style.display =\n",
              "        google.colab.kernel.accessAllowed ? 'block' : 'none';\n",
              "\n",
              "      async function convertToInteractive(key) {\n",
              "        const element = document.querySelector('#df-a2474a98-9934-4e90-bceb-4e83e2b50690');\n",
              "        const dataTable =\n",
              "          await google.colab.kernel.invokeFunction('convertToInteractive',\n",
              "                                                    [key], {});\n",
              "        if (!dataTable) return;\n",
              "\n",
              "        const docLinkHtml = 'Like what you see? Visit the ' +\n",
              "          '<a target=\"_blank\" href=https://colab.research.google.com/notebooks/data_table.ipynb>data table notebook</a>'\n",
              "          + ' to learn more about interactive tables.';\n",
              "        element.innerHTML = '';\n",
              "        dataTable['output_type'] = 'display_data';\n",
              "        await google.colab.output.renderOutput(dataTable, element);\n",
              "        const docLink = document.createElement('div');\n",
              "        docLink.innerHTML = docLinkHtml;\n",
              "        element.appendChild(docLink);\n",
              "      }\n",
              "    </script>\n",
              "  </div>\n",
              "\n",
              "\n",
              "<div id=\"df-3579d30f-42f5-4f0f-a4f8-c66bf6c58bee\">\n",
              "  <button class=\"colab-df-quickchart\" onclick=\"quickchart('df-3579d30f-42f5-4f0f-a4f8-c66bf6c58bee')\"\n",
              "            title=\"Suggest charts\"\n",
              "            style=\"display:none;\">\n",
              "\n",
              "<svg xmlns=\"http://www.w3.org/2000/svg\" height=\"24px\"viewBox=\"0 0 24 24\"\n",
              "     width=\"24px\">\n",
              "    <g>\n",
              "        <path d=\"M19 3H5c-1.1 0-2 .9-2 2v14c0 1.1.9 2 2 2h14c1.1 0 2-.9 2-2V5c0-1.1-.9-2-2-2zM9 17H7v-7h2v7zm4 0h-2V7h2v10zm4 0h-2v-4h2v4z\"/>\n",
              "    </g>\n",
              "</svg>\n",
              "  </button>\n",
              "\n",
              "<style>\n",
              "  .colab-df-quickchart {\n",
              "      --bg-color: #E8F0FE;\n",
              "      --fill-color: #1967D2;\n",
              "      --hover-bg-color: #E2EBFA;\n",
              "      --hover-fill-color: #174EA6;\n",
              "      --disabled-fill-color: #AAA;\n",
              "      --disabled-bg-color: #DDD;\n",
              "  }\n",
              "\n",
              "  [theme=dark] .colab-df-quickchart {\n",
              "      --bg-color: #3B4455;\n",
              "      --fill-color: #D2E3FC;\n",
              "      --hover-bg-color: #434B5C;\n",
              "      --hover-fill-color: #FFFFFF;\n",
              "      --disabled-bg-color: #3B4455;\n",
              "      --disabled-fill-color: #666;\n",
              "  }\n",
              "\n",
              "  .colab-df-quickchart {\n",
              "    background-color: var(--bg-color);\n",
              "    border: none;\n",
              "    border-radius: 50%;\n",
              "    cursor: pointer;\n",
              "    display: none;\n",
              "    fill: var(--fill-color);\n",
              "    height: 32px;\n",
              "    padding: 0;\n",
              "    width: 32px;\n",
              "  }\n",
              "\n",
              "  .colab-df-quickchart:hover {\n",
              "    background-color: var(--hover-bg-color);\n",
              "    box-shadow: 0 1px 2px rgba(60, 64, 67, 0.3), 0 1px 3px 1px rgba(60, 64, 67, 0.15);\n",
              "    fill: var(--button-hover-fill-color);\n",
              "  }\n",
              "\n",
              "  .colab-df-quickchart-complete:disabled,\n",
              "  .colab-df-quickchart-complete:disabled:hover {\n",
              "    background-color: var(--disabled-bg-color);\n",
              "    fill: var(--disabled-fill-color);\n",
              "    box-shadow: none;\n",
              "  }\n",
              "\n",
              "  .colab-df-spinner {\n",
              "    border: 2px solid var(--fill-color);\n",
              "    border-color: transparent;\n",
              "    border-bottom-color: var(--fill-color);\n",
              "    animation:\n",
              "      spin 1s steps(1) infinite;\n",
              "  }\n",
              "\n",
              "  @keyframes spin {\n",
              "    0% {\n",
              "      border-color: transparent;\n",
              "      border-bottom-color: var(--fill-color);\n",
              "      border-left-color: var(--fill-color);\n",
              "    }\n",
              "    20% {\n",
              "      border-color: transparent;\n",
              "      border-left-color: var(--fill-color);\n",
              "      border-top-color: var(--fill-color);\n",
              "    }\n",
              "    30% {\n",
              "      border-color: transparent;\n",
              "      border-left-color: var(--fill-color);\n",
              "      border-top-color: var(--fill-color);\n",
              "      border-right-color: var(--fill-color);\n",
              "    }\n",
              "    40% {\n",
              "      border-color: transparent;\n",
              "      border-right-color: var(--fill-color);\n",
              "      border-top-color: var(--fill-color);\n",
              "    }\n",
              "    60% {\n",
              "      border-color: transparent;\n",
              "      border-right-color: var(--fill-color);\n",
              "    }\n",
              "    80% {\n",
              "      border-color: transparent;\n",
              "      border-right-color: var(--fill-color);\n",
              "      border-bottom-color: var(--fill-color);\n",
              "    }\n",
              "    90% {\n",
              "      border-color: transparent;\n",
              "      border-bottom-color: var(--fill-color);\n",
              "    }\n",
              "  }\n",
              "</style>\n",
              "\n",
              "  <script>\n",
              "    async function quickchart(key) {\n",
              "      const quickchartButtonEl =\n",
              "        document.querySelector('#' + key + ' button');\n",
              "      quickchartButtonEl.disabled = true;  // To prevent multiple clicks.\n",
              "      quickchartButtonEl.classList.add('colab-df-spinner');\n",
              "      try {\n",
              "        const charts = await google.colab.kernel.invokeFunction(\n",
              "            'suggestCharts', [key], {});\n",
              "      } catch (error) {\n",
              "        console.error('Error during call to suggestCharts:', error);\n",
              "      }\n",
              "      quickchartButtonEl.classList.remove('colab-df-spinner');\n",
              "      quickchartButtonEl.classList.add('colab-df-quickchart-complete');\n",
              "    }\n",
              "    (() => {\n",
              "      let quickchartButtonEl =\n",
              "        document.querySelector('#df-3579d30f-42f5-4f0f-a4f8-c66bf6c58bee button');\n",
              "      quickchartButtonEl.style.display =\n",
              "        google.colab.kernel.accessAllowed ? 'block' : 'none';\n",
              "    })();\n",
              "  </script>\n",
              "</div>\n",
              "    </div>\n",
              "  </div>\n"
            ],
            "application/vnd.google.colaboratory.intrinsic+json": {
              "type": "dataframe",
              "variable_name": "resumen_NaN_Via",
              "summary": "{\n  \"name\": \"resumen_NaN_Via\",\n  \"rows\": 19,\n  \"fields\": [\n    {\n      \"column\": \"Nulos\",\n      \"properties\": {\n        \"dtype\": \"number\",\n        \"std\": 127750,\n        \"min\": 0,\n        \"max\": 483235,\n        \"num_unique_values\": 15,\n        \"samples\": [\n          2843,\n          278791,\n          0\n        ],\n        \"semantic_type\": \"\",\n        \"description\": \"\"\n      }\n    },\n    {\n      \"column\": \"Registros\",\n      \"properties\": {\n        \"dtype\": \"number\",\n        \"std\": 0,\n        \"min\": 483952,\n        \"max\": 483952,\n        \"num_unique_values\": 1,\n        \"samples\": [\n          483952\n        ],\n        \"semantic_type\": \"\",\n        \"description\": \"\"\n      }\n    },\n    {\n      \"column\": \"% Nulos\",\n      \"properties\": {\n        \"dtype\": \"string\",\n        \"num_unique_values\": 15,\n        \"samples\": [\n          \"0.59%\"\n        ],\n        \"semantic_type\": \"\",\n        \"description\": \"\"\n      }\n    }\n  ]\n}"
            }
          },
          "metadata": {},
          "execution_count": 291
        }
      ],
      "source": [
        "# 3. Contabilizamos valores nulos, e identificamos participación en el total de registros por columnas\n",
        "resumen_NaN_Via = pd.DataFrame(Via.isnull().sum())\n",
        "resumen_NaN_Via.columns=['Nulos']\n",
        "resumen_NaN_Via['Registros']=Via.shape[0]\n",
        "resumen_NaN_Via['% Nulos']=resumen_NaN_Via.Nulos/resumen_NaN_Via.Registros\n",
        "resumen_NaN_Via['% Nulos']=resumen_NaN_Via['% Nulos'].apply(\"{:.2%}\".format)\n",
        "resumen_NaN_Via"
      ]
    },
    {
      "cell_type": "markdown",
      "metadata": {
        "id": "Irn_u354u2Og"
      },
      "source": [
        "Se podría presumir la eliminación de las varibles visual e Iluminación B si para el 99,9% y 57,6%, respectivamente, de sus registros no está aportando información adicional"
      ]
    },
    {
      "cell_type": "code",
      "execution_count": null,
      "metadata": {
        "id": "89BwJjvjkAah"
      },
      "outputs": [],
      "source": [
        "# 4. Traemos los codigos de geometrica A-B-C, utilizacion, carriles,material, estado, condiciones, iluminacionA,\n",
        "# agente_transito y semaforo que corresponde al indice de su dimensión\n",
        "Via = pd.merge(Via,Geometrica_A, how=\"left\", left_on=\"GEOMETRICA_A\", right_on=\"GEOMETRICA_A\")\n",
        "Via = pd.merge(Via,Geometrica_B, how=\"left\", left_on=\"GEOMETRICA_B\", right_on=\"GEOMETRICA_B\")\n",
        "Via = pd.merge(Via,Geometrica_C, how=\"left\", left_on=\"GEOMETRICA_C\", right_on=\"GEOMETRICA_C\")\n",
        "Via = pd.merge(Via,Utilizacion, how=\"left\", left_on=\"UTILIZACION\", right_on=\"UTILIZACION\")\n",
        "Via = pd.merge(Via,Calzadas, how=\"left\", left_on=\"CALZADAS\", right_on=\"CALZADAS\")\n",
        "Via = pd.merge(Via,Carriles, how=\"left\", left_on=\"CARRILES\", right_on=\"CARRILES\")\n",
        "Via = pd.merge(Via,Material, how=\"left\", left_on=\"MATERIAL\", right_on=\"MATERIAL\")\n",
        "Via = pd.merge(Via,Estado_Via, how=\"left\", left_on=\"ESTADO\", right_on=\"ESTADO\")\n",
        "Via = pd.merge(Via,Condiciones, how=\"left\", left_on=\"CONDICIONES\", right_on=\"CONDICIONES\")\n",
        "Via = pd.merge(Via,Iluminacion_A, how=\"left\", left_on=\"ILUMINACION_A\", right_on=\"ILUMINACION_A\")\n",
        "Via = pd.merge(Via,Agente_Transito, how=\"left\", left_on=\"AGENTE_TRANSITO\", right_on=\"AGENTE_TRANSITO\")\n",
        "Via = pd.merge(Via,Semaforo, how=\"left\", left_on=\"SEMAFORO\", right_on=\"SEMAFORO\")"
      ]
    },
    {
      "cell_type": "code",
      "execution_count": null,
      "metadata": {
        "id": "UquUuee74961"
      },
      "outputs": [],
      "source": [
        "# 5. Traemos los codigos de accidente para conservar solo los registros que coinciden con códigos de accidente\n",
        "Via = pd.merge(Via, Accidente_df, how='left', left_on='CODIGO_ACCIDENTE',\n",
        "                         right_on='CODIGO_ACCIDENTE')"
      ]
    },
    {
      "cell_type": "code",
      "execution_count": null,
      "metadata": {
        "id": "QQlxaV8V5ltd",
        "colab": {
          "base_uri": "https://localhost:8080/"
        },
        "outputId": "09589a3c-7f7d-44ce-d436-ea1252577bee"
      },
      "outputs": [
        {
          "output_type": "execute_result",
          "data": {
            "text/plain": [
              "                       Nulos  Registros % Nulos\n",
              "OBJECTID                   0     483952   0.00%\n",
              "FORMULARIO                 0     483952   0.00%\n",
              "CODIGO_ACCIDENTE           0     483952   0.00%\n",
              "CODIGO_VIA                 0     483952   0.00%\n",
              "GEOMETRICA_A            1624     483952   0.34%\n",
              "GEOMETRICA_B            6429     483952   1.33%\n",
              "GEOMETRICA_C           10177     483952   2.10%\n",
              "UTILIZACION             3354     483952   0.69%\n",
              "CALZADAS                4345     483952   0.90%\n",
              "CARRILES                3044     483952   0.63%\n",
              "MATERIAL                3719     483952   0.77%\n",
              "ESTADO                  4713     483952   0.97%\n",
              "CONDICIONES             2843     483952   0.59%\n",
              "ILUMINACION_A          20170     483952   4.17%\n",
              "ILUMINACION_B         278791     483952  57.61%\n",
              "AGENTE_TRANSITO        43774     483952   9.05%\n",
              "SEMAFORO              199314     483952  41.18%\n",
              "VISUAL                483235     483952  99.85%\n",
              "CODIGO                     0     483952   0.00%\n",
              "COD_GEOMETRICA_A        1624     483952   0.34%\n",
              "COD_GEOMETRICA_B        6429     483952   1.33%\n",
              "COD_GEOMETRICA_C       10177     483952   2.10%\n",
              "COD_UTILIZACION         3354     483952   0.69%\n",
              "COD_CALZADAS            4345     483952   0.90%\n",
              "COD_CARRILES            3044     483952   0.63%\n",
              "COD_MATERIAL            3719     483952   0.77%\n",
              "COD_ESTADO              4713     483952   0.97%\n",
              "COD_CONDICION           2843     483952   0.59%\n",
              "COD_ILUMINACION_A      20170     483952   4.17%\n",
              "COD_AGENTE_TRANSITO    43774     483952   9.05%\n",
              "COD_SEMAFORO          199314     483952  41.18%\n",
              "FECHA_OCURRENCIA_ACC       0     483952   0.00%\n",
              "HORA_OCURRENCIA_ACC        0     483952   0.00%\n",
              "DIRECCION                  0     483952   0.00%\n",
              "COD_GRAVEDAD               5     483952   0.00%\n",
              "COD_CLASE_ACC            175     483952   0.04%\n",
              "COD_LOCALIDAD             45     483952   0.01%\n",
              "LATITUD                    0     483952   0.00%\n",
              "LONGITUD                   0     483952   0.00%"
            ],
            "text/html": [
              "\n",
              "  <div id=\"df-237d6fdb-1a3e-4f32-9ea7-9b108de8e1f7\" class=\"colab-df-container\">\n",
              "    <div>\n",
              "<style scoped>\n",
              "    .dataframe tbody tr th:only-of-type {\n",
              "        vertical-align: middle;\n",
              "    }\n",
              "\n",
              "    .dataframe tbody tr th {\n",
              "        vertical-align: top;\n",
              "    }\n",
              "\n",
              "    .dataframe thead th {\n",
              "        text-align: right;\n",
              "    }\n",
              "</style>\n",
              "<table border=\"1\" class=\"dataframe\">\n",
              "  <thead>\n",
              "    <tr style=\"text-align: right;\">\n",
              "      <th></th>\n",
              "      <th>Nulos</th>\n",
              "      <th>Registros</th>\n",
              "      <th>% Nulos</th>\n",
              "    </tr>\n",
              "  </thead>\n",
              "  <tbody>\n",
              "    <tr>\n",
              "      <th>OBJECTID</th>\n",
              "      <td>0</td>\n",
              "      <td>483952</td>\n",
              "      <td>0.00%</td>\n",
              "    </tr>\n",
              "    <tr>\n",
              "      <th>FORMULARIO</th>\n",
              "      <td>0</td>\n",
              "      <td>483952</td>\n",
              "      <td>0.00%</td>\n",
              "    </tr>\n",
              "    <tr>\n",
              "      <th>CODIGO_ACCIDENTE</th>\n",
              "      <td>0</td>\n",
              "      <td>483952</td>\n",
              "      <td>0.00%</td>\n",
              "    </tr>\n",
              "    <tr>\n",
              "      <th>CODIGO_VIA</th>\n",
              "      <td>0</td>\n",
              "      <td>483952</td>\n",
              "      <td>0.00%</td>\n",
              "    </tr>\n",
              "    <tr>\n",
              "      <th>GEOMETRICA_A</th>\n",
              "      <td>1624</td>\n",
              "      <td>483952</td>\n",
              "      <td>0.34%</td>\n",
              "    </tr>\n",
              "    <tr>\n",
              "      <th>GEOMETRICA_B</th>\n",
              "      <td>6429</td>\n",
              "      <td>483952</td>\n",
              "      <td>1.33%</td>\n",
              "    </tr>\n",
              "    <tr>\n",
              "      <th>GEOMETRICA_C</th>\n",
              "      <td>10177</td>\n",
              "      <td>483952</td>\n",
              "      <td>2.10%</td>\n",
              "    </tr>\n",
              "    <tr>\n",
              "      <th>UTILIZACION</th>\n",
              "      <td>3354</td>\n",
              "      <td>483952</td>\n",
              "      <td>0.69%</td>\n",
              "    </tr>\n",
              "    <tr>\n",
              "      <th>CALZADAS</th>\n",
              "      <td>4345</td>\n",
              "      <td>483952</td>\n",
              "      <td>0.90%</td>\n",
              "    </tr>\n",
              "    <tr>\n",
              "      <th>CARRILES</th>\n",
              "      <td>3044</td>\n",
              "      <td>483952</td>\n",
              "      <td>0.63%</td>\n",
              "    </tr>\n",
              "    <tr>\n",
              "      <th>MATERIAL</th>\n",
              "      <td>3719</td>\n",
              "      <td>483952</td>\n",
              "      <td>0.77%</td>\n",
              "    </tr>\n",
              "    <tr>\n",
              "      <th>ESTADO</th>\n",
              "      <td>4713</td>\n",
              "      <td>483952</td>\n",
              "      <td>0.97%</td>\n",
              "    </tr>\n",
              "    <tr>\n",
              "      <th>CONDICIONES</th>\n",
              "      <td>2843</td>\n",
              "      <td>483952</td>\n",
              "      <td>0.59%</td>\n",
              "    </tr>\n",
              "    <tr>\n",
              "      <th>ILUMINACION_A</th>\n",
              "      <td>20170</td>\n",
              "      <td>483952</td>\n",
              "      <td>4.17%</td>\n",
              "    </tr>\n",
              "    <tr>\n",
              "      <th>ILUMINACION_B</th>\n",
              "      <td>278791</td>\n",
              "      <td>483952</td>\n",
              "      <td>57.61%</td>\n",
              "    </tr>\n",
              "    <tr>\n",
              "      <th>AGENTE_TRANSITO</th>\n",
              "      <td>43774</td>\n",
              "      <td>483952</td>\n",
              "      <td>9.05%</td>\n",
              "    </tr>\n",
              "    <tr>\n",
              "      <th>SEMAFORO</th>\n",
              "      <td>199314</td>\n",
              "      <td>483952</td>\n",
              "      <td>41.18%</td>\n",
              "    </tr>\n",
              "    <tr>\n",
              "      <th>VISUAL</th>\n",
              "      <td>483235</td>\n",
              "      <td>483952</td>\n",
              "      <td>99.85%</td>\n",
              "    </tr>\n",
              "    <tr>\n",
              "      <th>CODIGO</th>\n",
              "      <td>0</td>\n",
              "      <td>483952</td>\n",
              "      <td>0.00%</td>\n",
              "    </tr>\n",
              "    <tr>\n",
              "      <th>COD_GEOMETRICA_A</th>\n",
              "      <td>1624</td>\n",
              "      <td>483952</td>\n",
              "      <td>0.34%</td>\n",
              "    </tr>\n",
              "    <tr>\n",
              "      <th>COD_GEOMETRICA_B</th>\n",
              "      <td>6429</td>\n",
              "      <td>483952</td>\n",
              "      <td>1.33%</td>\n",
              "    </tr>\n",
              "    <tr>\n",
              "      <th>COD_GEOMETRICA_C</th>\n",
              "      <td>10177</td>\n",
              "      <td>483952</td>\n",
              "      <td>2.10%</td>\n",
              "    </tr>\n",
              "    <tr>\n",
              "      <th>COD_UTILIZACION</th>\n",
              "      <td>3354</td>\n",
              "      <td>483952</td>\n",
              "      <td>0.69%</td>\n",
              "    </tr>\n",
              "    <tr>\n",
              "      <th>COD_CALZADAS</th>\n",
              "      <td>4345</td>\n",
              "      <td>483952</td>\n",
              "      <td>0.90%</td>\n",
              "    </tr>\n",
              "    <tr>\n",
              "      <th>COD_CARRILES</th>\n",
              "      <td>3044</td>\n",
              "      <td>483952</td>\n",
              "      <td>0.63%</td>\n",
              "    </tr>\n",
              "    <tr>\n",
              "      <th>COD_MATERIAL</th>\n",
              "      <td>3719</td>\n",
              "      <td>483952</td>\n",
              "      <td>0.77%</td>\n",
              "    </tr>\n",
              "    <tr>\n",
              "      <th>COD_ESTADO</th>\n",
              "      <td>4713</td>\n",
              "      <td>483952</td>\n",
              "      <td>0.97%</td>\n",
              "    </tr>\n",
              "    <tr>\n",
              "      <th>COD_CONDICION</th>\n",
              "      <td>2843</td>\n",
              "      <td>483952</td>\n",
              "      <td>0.59%</td>\n",
              "    </tr>\n",
              "    <tr>\n",
              "      <th>COD_ILUMINACION_A</th>\n",
              "      <td>20170</td>\n",
              "      <td>483952</td>\n",
              "      <td>4.17%</td>\n",
              "    </tr>\n",
              "    <tr>\n",
              "      <th>COD_AGENTE_TRANSITO</th>\n",
              "      <td>43774</td>\n",
              "      <td>483952</td>\n",
              "      <td>9.05%</td>\n",
              "    </tr>\n",
              "    <tr>\n",
              "      <th>COD_SEMAFORO</th>\n",
              "      <td>199314</td>\n",
              "      <td>483952</td>\n",
              "      <td>41.18%</td>\n",
              "    </tr>\n",
              "    <tr>\n",
              "      <th>FECHA_OCURRENCIA_ACC</th>\n",
              "      <td>0</td>\n",
              "      <td>483952</td>\n",
              "      <td>0.00%</td>\n",
              "    </tr>\n",
              "    <tr>\n",
              "      <th>HORA_OCURRENCIA_ACC</th>\n",
              "      <td>0</td>\n",
              "      <td>483952</td>\n",
              "      <td>0.00%</td>\n",
              "    </tr>\n",
              "    <tr>\n",
              "      <th>DIRECCION</th>\n",
              "      <td>0</td>\n",
              "      <td>483952</td>\n",
              "      <td>0.00%</td>\n",
              "    </tr>\n",
              "    <tr>\n",
              "      <th>COD_GRAVEDAD</th>\n",
              "      <td>5</td>\n",
              "      <td>483952</td>\n",
              "      <td>0.00%</td>\n",
              "    </tr>\n",
              "    <tr>\n",
              "      <th>COD_CLASE_ACC</th>\n",
              "      <td>175</td>\n",
              "      <td>483952</td>\n",
              "      <td>0.04%</td>\n",
              "    </tr>\n",
              "    <tr>\n",
              "      <th>COD_LOCALIDAD</th>\n",
              "      <td>45</td>\n",
              "      <td>483952</td>\n",
              "      <td>0.01%</td>\n",
              "    </tr>\n",
              "    <tr>\n",
              "      <th>LATITUD</th>\n",
              "      <td>0</td>\n",
              "      <td>483952</td>\n",
              "      <td>0.00%</td>\n",
              "    </tr>\n",
              "    <tr>\n",
              "      <th>LONGITUD</th>\n",
              "      <td>0</td>\n",
              "      <td>483952</td>\n",
              "      <td>0.00%</td>\n",
              "    </tr>\n",
              "  </tbody>\n",
              "</table>\n",
              "</div>\n",
              "    <div class=\"colab-df-buttons\">\n",
              "\n",
              "  <div class=\"colab-df-container\">\n",
              "    <button class=\"colab-df-convert\" onclick=\"convertToInteractive('df-237d6fdb-1a3e-4f32-9ea7-9b108de8e1f7')\"\n",
              "            title=\"Convert this dataframe to an interactive table.\"\n",
              "            style=\"display:none;\">\n",
              "\n",
              "  <svg xmlns=\"http://www.w3.org/2000/svg\" height=\"24px\" viewBox=\"0 -960 960 960\">\n",
              "    <path d=\"M120-120v-720h720v720H120Zm60-500h600v-160H180v160Zm220 220h160v-160H400v160Zm0 220h160v-160H400v160ZM180-400h160v-160H180v160Zm440 0h160v-160H620v160ZM180-180h160v-160H180v160Zm440 0h160v-160H620v160Z\"/>\n",
              "  </svg>\n",
              "    </button>\n",
              "\n",
              "  <style>\n",
              "    .colab-df-container {\n",
              "      display:flex;\n",
              "      gap: 12px;\n",
              "    }\n",
              "\n",
              "    .colab-df-convert {\n",
              "      background-color: #E8F0FE;\n",
              "      border: none;\n",
              "      border-radius: 50%;\n",
              "      cursor: pointer;\n",
              "      display: none;\n",
              "      fill: #1967D2;\n",
              "      height: 32px;\n",
              "      padding: 0 0 0 0;\n",
              "      width: 32px;\n",
              "    }\n",
              "\n",
              "    .colab-df-convert:hover {\n",
              "      background-color: #E2EBFA;\n",
              "      box-shadow: 0px 1px 2px rgba(60, 64, 67, 0.3), 0px 1px 3px 1px rgba(60, 64, 67, 0.15);\n",
              "      fill: #174EA6;\n",
              "    }\n",
              "\n",
              "    .colab-df-buttons div {\n",
              "      margin-bottom: 4px;\n",
              "    }\n",
              "\n",
              "    [theme=dark] .colab-df-convert {\n",
              "      background-color: #3B4455;\n",
              "      fill: #D2E3FC;\n",
              "    }\n",
              "\n",
              "    [theme=dark] .colab-df-convert:hover {\n",
              "      background-color: #434B5C;\n",
              "      box-shadow: 0px 1px 3px 1px rgba(0, 0, 0, 0.15);\n",
              "      filter: drop-shadow(0px 1px 2px rgba(0, 0, 0, 0.3));\n",
              "      fill: #FFFFFF;\n",
              "    }\n",
              "  </style>\n",
              "\n",
              "    <script>\n",
              "      const buttonEl =\n",
              "        document.querySelector('#df-237d6fdb-1a3e-4f32-9ea7-9b108de8e1f7 button.colab-df-convert');\n",
              "      buttonEl.style.display =\n",
              "        google.colab.kernel.accessAllowed ? 'block' : 'none';\n",
              "\n",
              "      async function convertToInteractive(key) {\n",
              "        const element = document.querySelector('#df-237d6fdb-1a3e-4f32-9ea7-9b108de8e1f7');\n",
              "        const dataTable =\n",
              "          await google.colab.kernel.invokeFunction('convertToInteractive',\n",
              "                                                    [key], {});\n",
              "        if (!dataTable) return;\n",
              "\n",
              "        const docLinkHtml = 'Like what you see? Visit the ' +\n",
              "          '<a target=\"_blank\" href=https://colab.research.google.com/notebooks/data_table.ipynb>data table notebook</a>'\n",
              "          + ' to learn more about interactive tables.';\n",
              "        element.innerHTML = '';\n",
              "        dataTable['output_type'] = 'display_data';\n",
              "        await google.colab.output.renderOutput(dataTable, element);\n",
              "        const docLink = document.createElement('div');\n",
              "        docLink.innerHTML = docLinkHtml;\n",
              "        element.appendChild(docLink);\n",
              "      }\n",
              "    </script>\n",
              "  </div>\n",
              "\n",
              "\n",
              "<div id=\"df-2e2e8d6e-dfff-4730-9d33-81a60d80b0ae\">\n",
              "  <button class=\"colab-df-quickchart\" onclick=\"quickchart('df-2e2e8d6e-dfff-4730-9d33-81a60d80b0ae')\"\n",
              "            title=\"Suggest charts\"\n",
              "            style=\"display:none;\">\n",
              "\n",
              "<svg xmlns=\"http://www.w3.org/2000/svg\" height=\"24px\"viewBox=\"0 0 24 24\"\n",
              "     width=\"24px\">\n",
              "    <g>\n",
              "        <path d=\"M19 3H5c-1.1 0-2 .9-2 2v14c0 1.1.9 2 2 2h14c1.1 0 2-.9 2-2V5c0-1.1-.9-2-2-2zM9 17H7v-7h2v7zm4 0h-2V7h2v10zm4 0h-2v-4h2v4z\"/>\n",
              "    </g>\n",
              "</svg>\n",
              "  </button>\n",
              "\n",
              "<style>\n",
              "  .colab-df-quickchart {\n",
              "      --bg-color: #E8F0FE;\n",
              "      --fill-color: #1967D2;\n",
              "      --hover-bg-color: #E2EBFA;\n",
              "      --hover-fill-color: #174EA6;\n",
              "      --disabled-fill-color: #AAA;\n",
              "      --disabled-bg-color: #DDD;\n",
              "  }\n",
              "\n",
              "  [theme=dark] .colab-df-quickchart {\n",
              "      --bg-color: #3B4455;\n",
              "      --fill-color: #D2E3FC;\n",
              "      --hover-bg-color: #434B5C;\n",
              "      --hover-fill-color: #FFFFFF;\n",
              "      --disabled-bg-color: #3B4455;\n",
              "      --disabled-fill-color: #666;\n",
              "  }\n",
              "\n",
              "  .colab-df-quickchart {\n",
              "    background-color: var(--bg-color);\n",
              "    border: none;\n",
              "    border-radius: 50%;\n",
              "    cursor: pointer;\n",
              "    display: none;\n",
              "    fill: var(--fill-color);\n",
              "    height: 32px;\n",
              "    padding: 0;\n",
              "    width: 32px;\n",
              "  }\n",
              "\n",
              "  .colab-df-quickchart:hover {\n",
              "    background-color: var(--hover-bg-color);\n",
              "    box-shadow: 0 1px 2px rgba(60, 64, 67, 0.3), 0 1px 3px 1px rgba(60, 64, 67, 0.15);\n",
              "    fill: var(--button-hover-fill-color);\n",
              "  }\n",
              "\n",
              "  .colab-df-quickchart-complete:disabled,\n",
              "  .colab-df-quickchart-complete:disabled:hover {\n",
              "    background-color: var(--disabled-bg-color);\n",
              "    fill: var(--disabled-fill-color);\n",
              "    box-shadow: none;\n",
              "  }\n",
              "\n",
              "  .colab-df-spinner {\n",
              "    border: 2px solid var(--fill-color);\n",
              "    border-color: transparent;\n",
              "    border-bottom-color: var(--fill-color);\n",
              "    animation:\n",
              "      spin 1s steps(1) infinite;\n",
              "  }\n",
              "\n",
              "  @keyframes spin {\n",
              "    0% {\n",
              "      border-color: transparent;\n",
              "      border-bottom-color: var(--fill-color);\n",
              "      border-left-color: var(--fill-color);\n",
              "    }\n",
              "    20% {\n",
              "      border-color: transparent;\n",
              "      border-left-color: var(--fill-color);\n",
              "      border-top-color: var(--fill-color);\n",
              "    }\n",
              "    30% {\n",
              "      border-color: transparent;\n",
              "      border-left-color: var(--fill-color);\n",
              "      border-top-color: var(--fill-color);\n",
              "      border-right-color: var(--fill-color);\n",
              "    }\n",
              "    40% {\n",
              "      border-color: transparent;\n",
              "      border-right-color: var(--fill-color);\n",
              "      border-top-color: var(--fill-color);\n",
              "    }\n",
              "    60% {\n",
              "      border-color: transparent;\n",
              "      border-right-color: var(--fill-color);\n",
              "    }\n",
              "    80% {\n",
              "      border-color: transparent;\n",
              "      border-right-color: var(--fill-color);\n",
              "      border-bottom-color: var(--fill-color);\n",
              "    }\n",
              "    90% {\n",
              "      border-color: transparent;\n",
              "      border-bottom-color: var(--fill-color);\n",
              "    }\n",
              "  }\n",
              "</style>\n",
              "\n",
              "  <script>\n",
              "    async function quickchart(key) {\n",
              "      const quickchartButtonEl =\n",
              "        document.querySelector('#' + key + ' button');\n",
              "      quickchartButtonEl.disabled = true;  // To prevent multiple clicks.\n",
              "      quickchartButtonEl.classList.add('colab-df-spinner');\n",
              "      try {\n",
              "        const charts = await google.colab.kernel.invokeFunction(\n",
              "            'suggestCharts', [key], {});\n",
              "      } catch (error) {\n",
              "        console.error('Error during call to suggestCharts:', error);\n",
              "      }\n",
              "      quickchartButtonEl.classList.remove('colab-df-spinner');\n",
              "      quickchartButtonEl.classList.add('colab-df-quickchart-complete');\n",
              "    }\n",
              "    (() => {\n",
              "      let quickchartButtonEl =\n",
              "        document.querySelector('#df-2e2e8d6e-dfff-4730-9d33-81a60d80b0ae button');\n",
              "      quickchartButtonEl.style.display =\n",
              "        google.colab.kernel.accessAllowed ? 'block' : 'none';\n",
              "    })();\n",
              "  </script>\n",
              "</div>\n",
              "    </div>\n",
              "  </div>\n"
            ],
            "application/vnd.google.colaboratory.intrinsic+json": {
              "type": "dataframe",
              "variable_name": "resumen_NaN_Via2",
              "summary": "{\n  \"name\": \"resumen_NaN_Via2\",\n  \"rows\": 39,\n  \"fields\": [\n    {\n      \"column\": \"Nulos\",\n      \"properties\": {\n        \"dtype\": \"number\",\n        \"std\": 95659,\n        \"min\": 0,\n        \"max\": 483235,\n        \"num_unique_values\": 18,\n        \"samples\": [\n          0,\n          1624,\n          4713\n        ],\n        \"semantic_type\": \"\",\n        \"description\": \"\"\n      }\n    },\n    {\n      \"column\": \"Registros\",\n      \"properties\": {\n        \"dtype\": \"number\",\n        \"std\": 0,\n        \"min\": 483952,\n        \"max\": 483952,\n        \"num_unique_values\": 1,\n        \"samples\": [\n          483952\n        ],\n        \"semantic_type\": \"\",\n        \"description\": \"\"\n      }\n    },\n    {\n      \"column\": \"% Nulos\",\n      \"properties\": {\n        \"dtype\": \"category\",\n        \"num_unique_values\": 17,\n        \"samples\": [\n          \"0.00%\"\n        ],\n        \"semantic_type\": \"\",\n        \"description\": \"\"\n      }\n    }\n  ]\n}"
            }
          },
          "metadata": {},
          "execution_count": 294
        }
      ],
      "source": [
        "# 6. Contabilizamos valores nulos, e identificamos participación en el total de registros por columnas\n",
        "resumen_NaN_Via2 = pd.DataFrame(Via.isnull().sum())\n",
        "resumen_NaN_Via2.columns=['Nulos']\n",
        "resumen_NaN_Via2['Registros']=Via.shape[0]\n",
        "resumen_NaN_Via2['% Nulos']=resumen_NaN_Via2.Nulos/resumen_NaN_Via2.Registros\n",
        "resumen_NaN_Via2['% Nulos']=resumen_NaN_Via2['% Nulos'].apply(\"{:.2%}\".format)\n",
        "resumen_NaN_Via2\n"
      ]
    },
    {
      "cell_type": "code",
      "execution_count": null,
      "metadata": {
        "id": "17RjuR9WAo_o"
      },
      "outputs": [],
      "source": [
        "# 7. Se eliminan todas las filas en las que la fecha de accidente está vacía,\n",
        "# pues indica que es un codigo de accidente inexistente en la tabla accidente\n",
        "Via = Via.dropna(subset=['FECHA_OCURRENCIA_ACC'])"
      ]
    },
    {
      "cell_type": "code",
      "execution_count": null,
      "metadata": {
        "id": "8KOK2qFE5WZp"
      },
      "outputs": [],
      "source": [
        "# 8. Seleccionar solo las columnas deseadas\n",
        "selected_columns = [\n",
        "    'CODIGO_ACCIDENTE', 'COD_GEOMETRICA_A', 'COD_GEOMETRICA_B', 'COD_GEOMETRICA_C',\n",
        "    'COD_UTILIZACION', 'COD_CALZADAS', 'COD_CARRILES', 'COD_MATERIAL', 'COD_ESTADO', 'COD_CONDICION',\n",
        "    'COD_ILUMINACION_A', 'COD_AGENTE_TRANSITO', 'COD_SEMAFORO', 'CODIGO'\n",
        "]\n",
        "Via_df = Via[selected_columns]\n",
        "Via_df = pd.DataFrame(Via_df)"
      ]
    },
    {
      "cell_type": "code",
      "execution_count": null,
      "metadata": {
        "id": "PHSH8fAvX2Gr",
        "colab": {
          "base_uri": "https://localhost:8080/"
        },
        "outputId": "c3a84ceb-2748-4f35-da34-09ee20d476a9"
      },
      "outputs": [
        {
          "output_type": "stream",
          "name": "stdout",
          "text": [
            "Número de registros duplicados: 0\n",
            "Empty DataFrame\n",
            "Columns: [CODIGO_ACCIDENTE, COD_GEOMETRICA_A, COD_GEOMETRICA_B, COD_GEOMETRICA_C, COD_UTILIZACION, COD_CALZADAS, COD_CARRILES, COD_MATERIAL, COD_ESTADO, COD_CONDICION, COD_ILUMINACION_A, COD_AGENTE_TRANSITO, COD_SEMAFORO, CODIGO]\n",
            "Index: []\n"
          ]
        }
      ],
      "source": [
        "# 9. Identificar registros duplicados\n",
        "duplicates = Via_df.duplicated()\n",
        "\n",
        "# 10. Contar la cantidad de registros duplicados\n",
        "num_duplicates = sum(duplicates)\n",
        "\n",
        "print(\"Número de registros duplicados:\", num_duplicates)\n",
        "print(Via_df[duplicates])"
      ]
    },
    {
      "cell_type": "code",
      "execution_count": null,
      "metadata": {
        "id": "v11cueWbEd5R"
      },
      "outputs": [],
      "source": [
        "# 11. Asegurar tipo de datos\n",
        "Via_df[\"CODIGO_ACCIDENTE\"] = pd.to_numeric(Via_df[\"CODIGO_ACCIDENTE\"], downcast=\"integer\", errors=\"coerce\")\n",
        "Via_df[\"CODIGO_ACCIDENTE\"] = Via_df[\"CODIGO_ACCIDENTE\"].astype('int64')\n",
        "Via_df[\"CODIGO_ACCIDENTE\"] = round(Via_df[\"CODIGO_ACCIDENTE\"].astype(int),0)\n",
        "Via_df[\"COD_GEOMETRICA_A\"] = round(pd.to_numeric(Via_df[\"COD_GEOMETRICA_A\"], downcast=\"integer\", errors=\"coerce\"),0)\n",
        "Via_df[\"COD_GEOMETRICA_B\"] = pd.to_numeric(Via_df[\"COD_GEOMETRICA_B\"], downcast=\"integer\", errors=\"coerce\")\n",
        "Via_df[\"COD_GEOMETRICA_C\"] = pd.to_numeric(Via_df[\"COD_GEOMETRICA_C\"], downcast=\"integer\", errors=\"coerce\")\n",
        "Via_df[\"COD_UTILIZACION\"] = pd.to_numeric(Via_df[\"COD_UTILIZACION\"], downcast=\"integer\", errors=\"coerce\")\n",
        "Via_df[\"COD_CALZADAS\"] = pd.to_numeric(Via_df[\"COD_CALZADAS\"], downcast=\"integer\", errors=\"coerce\")\n",
        "Via_df[\"COD_CARRILES\"] = pd.to_numeric(Via_df[\"COD_CARRILES\"], downcast=\"integer\", errors=\"coerce\")\n",
        "Via_df[\"COD_MATERIAL\"] = pd.to_numeric(Via_df[\"COD_MATERIAL\"], downcast=\"integer\", errors=\"coerce\")\n",
        "Via_df[\"COD_ESTADO\"] = pd.to_numeric(Via_df[\"COD_ESTADO\"], downcast=\"integer\", errors=\"coerce\")\n",
        "Via_df[\"COD_CONDICION\"] = pd.to_numeric(Via_df[\"COD_CONDICION\"], downcast=\"integer\", errors=\"coerce\")\n",
        "Via_df[\"COD_ILUMINACION_A\"] = pd.to_numeric(Via_df[\"COD_ILUMINACION_A\"], downcast=\"integer\", errors=\"coerce\")\n",
        "Via_df[\"COD_AGENTE_TRANSITO\"] = pd.to_numeric(Via_df[\"COD_AGENTE_TRANSITO\"], downcast=\"integer\", errors=\"coerce\")\n",
        "Via_df[\"COD_SEMAFORO\"] = pd.to_numeric(Via_df[\"COD_SEMAFORO\"], downcast=\"integer\", errors=\"coerce\")"
      ]
    },
    {
      "cell_type": "code",
      "execution_count": null,
      "metadata": {
        "id": "wKDW_ly8FALD",
        "colab": {
          "base_uri": "https://localhost:8080/"
        },
        "outputId": "baad56ce-d8ee-4ac6-f645-2316578ab10e"
      },
      "outputs": [
        {
          "output_type": "stream",
          "name": "stdout",
          "text": [
            "Las variables almacenan la información en el siguiente formato: CODIGO_ACCIDENTE         int64\n",
            "COD_GEOMETRICA_A       float64\n",
            "COD_GEOMETRICA_B       float64\n",
            "COD_GEOMETRICA_C       float64\n",
            "COD_UTILIZACION        float64\n",
            "COD_CALZADAS           float64\n",
            "COD_CARRILES           float64\n",
            "COD_MATERIAL           float64\n",
            "COD_ESTADO             float64\n",
            "COD_CONDICION          float64\n",
            "COD_ILUMINACION_A      float64\n",
            "COD_AGENTE_TRANSITO    float64\n",
            "COD_SEMAFORO           float64\n",
            "CODIGO                  object\n",
            "dtype: object\n"
          ]
        }
      ],
      "source": [
        "# 12. Visualizar el tipo de las columnas seleccionadas\n",
        "print('Las variables almacenan la información en el siguiente formato:', Via_df.dtypes)"
      ]
    },
    {
      "cell_type": "markdown",
      "metadata": {
        "id": "hG6OBssH4l-q"
      },
      "source": [
        "### 3.29 Creación tabla Causa"
      ]
    },
    {
      "cell_type": "code",
      "execution_count": null,
      "metadata": {
        "id": "kqio7yhb4oIg",
        "colab": {
          "base_uri": "https://localhost:8080/"
        },
        "outputId": "b4fcf8ec-5164-4181-ceb5-916ee5c6f425"
      },
      "outputs": [
        {
          "output_type": "stream",
          "name": "stderr",
          "text": [
            "<ipython-input-300-96e993aba28a>:1: DtypeWarning: Columns (4) have mixed types. Specify dtype option on import or set low_memory=False.\n",
            "  Causa = pd.read_csv('/content/Causa.csv')\n"
          ]
        },
        {
          "output_type": "execute_result",
          "data": {
            "text/plain": [
              "   OBJECTID  FORMULARIO  CODIGO_ACCIDENTE  CODIGO_VEHICULO CODIGO_CAUSA  \\\n",
              "0         1  A001387863          10558992                1          157   \n",
              "1         2  A001387863          10558992                2          157   \n",
              "2         3  A001388525          10558993                2          121   \n",
              "3         4  A001388525          10558993                2          157   \n",
              "4         5  A001387465          10558994                1          143   \n",
              "\n",
              "                                         NOMBRE TIPO TIPO_CAUSA  \\\n",
              "0                                          OTRA   CG  CONDUCTOR   \n",
              "1                                          OTRA   CG  CONDUCTOR   \n",
              "2            NO MANTENER DISTANCIA DE SEGURIDAD   CG  CONDUCTOR   \n",
              "3                                          OTRA   CG  CONDUCTOR   \n",
              "4  PONER EN MARCHA UN VEHICULO SIN PRECAUCIONES   CG  CONDUCTOR   \n",
              "\n",
              "           CODIGO CODIGO_AC_VH  \n",
              "0  10558992-1-157   10558992-1  \n",
              "1  10558992-2-157   10558992-2  \n",
              "2  10558993-2-121   10558993-2  \n",
              "3  10558993-2-157   10558993-2  \n",
              "4  10558994-1-143   10558994-1  "
            ],
            "text/html": [
              "\n",
              "  <div id=\"df-440ae00b-65d2-42dd-a3a4-cdc2468b51c6\" class=\"colab-df-container\">\n",
              "    <div>\n",
              "<style scoped>\n",
              "    .dataframe tbody tr th:only-of-type {\n",
              "        vertical-align: middle;\n",
              "    }\n",
              "\n",
              "    .dataframe tbody tr th {\n",
              "        vertical-align: top;\n",
              "    }\n",
              "\n",
              "    .dataframe thead th {\n",
              "        text-align: right;\n",
              "    }\n",
              "</style>\n",
              "<table border=\"1\" class=\"dataframe\">\n",
              "  <thead>\n",
              "    <tr style=\"text-align: right;\">\n",
              "      <th></th>\n",
              "      <th>OBJECTID</th>\n",
              "      <th>FORMULARIO</th>\n",
              "      <th>CODIGO_ACCIDENTE</th>\n",
              "      <th>CODIGO_VEHICULO</th>\n",
              "      <th>CODIGO_CAUSA</th>\n",
              "      <th>NOMBRE</th>\n",
              "      <th>TIPO</th>\n",
              "      <th>TIPO_CAUSA</th>\n",
              "      <th>CODIGO</th>\n",
              "      <th>CODIGO_AC_VH</th>\n",
              "    </tr>\n",
              "  </thead>\n",
              "  <tbody>\n",
              "    <tr>\n",
              "      <th>0</th>\n",
              "      <td>1</td>\n",
              "      <td>A001387863</td>\n",
              "      <td>10558992</td>\n",
              "      <td>1</td>\n",
              "      <td>157</td>\n",
              "      <td>OTRA</td>\n",
              "      <td>CG</td>\n",
              "      <td>CONDUCTOR</td>\n",
              "      <td>10558992-1-157</td>\n",
              "      <td>10558992-1</td>\n",
              "    </tr>\n",
              "    <tr>\n",
              "      <th>1</th>\n",
              "      <td>2</td>\n",
              "      <td>A001387863</td>\n",
              "      <td>10558992</td>\n",
              "      <td>2</td>\n",
              "      <td>157</td>\n",
              "      <td>OTRA</td>\n",
              "      <td>CG</td>\n",
              "      <td>CONDUCTOR</td>\n",
              "      <td>10558992-2-157</td>\n",
              "      <td>10558992-2</td>\n",
              "    </tr>\n",
              "    <tr>\n",
              "      <th>2</th>\n",
              "      <td>3</td>\n",
              "      <td>A001388525</td>\n",
              "      <td>10558993</td>\n",
              "      <td>2</td>\n",
              "      <td>121</td>\n",
              "      <td>NO MANTENER DISTANCIA DE SEGURIDAD</td>\n",
              "      <td>CG</td>\n",
              "      <td>CONDUCTOR</td>\n",
              "      <td>10558993-2-121</td>\n",
              "      <td>10558993-2</td>\n",
              "    </tr>\n",
              "    <tr>\n",
              "      <th>3</th>\n",
              "      <td>4</td>\n",
              "      <td>A001388525</td>\n",
              "      <td>10558993</td>\n",
              "      <td>2</td>\n",
              "      <td>157</td>\n",
              "      <td>OTRA</td>\n",
              "      <td>CG</td>\n",
              "      <td>CONDUCTOR</td>\n",
              "      <td>10558993-2-157</td>\n",
              "      <td>10558993-2</td>\n",
              "    </tr>\n",
              "    <tr>\n",
              "      <th>4</th>\n",
              "      <td>5</td>\n",
              "      <td>A001387465</td>\n",
              "      <td>10558994</td>\n",
              "      <td>1</td>\n",
              "      <td>143</td>\n",
              "      <td>PONER EN MARCHA UN VEHICULO SIN PRECAUCIONES</td>\n",
              "      <td>CG</td>\n",
              "      <td>CONDUCTOR</td>\n",
              "      <td>10558994-1-143</td>\n",
              "      <td>10558994-1</td>\n",
              "    </tr>\n",
              "  </tbody>\n",
              "</table>\n",
              "</div>\n",
              "    <div class=\"colab-df-buttons\">\n",
              "\n",
              "  <div class=\"colab-df-container\">\n",
              "    <button class=\"colab-df-convert\" onclick=\"convertToInteractive('df-440ae00b-65d2-42dd-a3a4-cdc2468b51c6')\"\n",
              "            title=\"Convert this dataframe to an interactive table.\"\n",
              "            style=\"display:none;\">\n",
              "\n",
              "  <svg xmlns=\"http://www.w3.org/2000/svg\" height=\"24px\" viewBox=\"0 -960 960 960\">\n",
              "    <path d=\"M120-120v-720h720v720H120Zm60-500h600v-160H180v160Zm220 220h160v-160H400v160Zm0 220h160v-160H400v160ZM180-400h160v-160H180v160Zm440 0h160v-160H620v160ZM180-180h160v-160H180v160Zm440 0h160v-160H620v160Z\"/>\n",
              "  </svg>\n",
              "    </button>\n",
              "\n",
              "  <style>\n",
              "    .colab-df-container {\n",
              "      display:flex;\n",
              "      gap: 12px;\n",
              "    }\n",
              "\n",
              "    .colab-df-convert {\n",
              "      background-color: #E8F0FE;\n",
              "      border: none;\n",
              "      border-radius: 50%;\n",
              "      cursor: pointer;\n",
              "      display: none;\n",
              "      fill: #1967D2;\n",
              "      height: 32px;\n",
              "      padding: 0 0 0 0;\n",
              "      width: 32px;\n",
              "    }\n",
              "\n",
              "    .colab-df-convert:hover {\n",
              "      background-color: #E2EBFA;\n",
              "      box-shadow: 0px 1px 2px rgba(60, 64, 67, 0.3), 0px 1px 3px 1px rgba(60, 64, 67, 0.15);\n",
              "      fill: #174EA6;\n",
              "    }\n",
              "\n",
              "    .colab-df-buttons div {\n",
              "      margin-bottom: 4px;\n",
              "    }\n",
              "\n",
              "    [theme=dark] .colab-df-convert {\n",
              "      background-color: #3B4455;\n",
              "      fill: #D2E3FC;\n",
              "    }\n",
              "\n",
              "    [theme=dark] .colab-df-convert:hover {\n",
              "      background-color: #434B5C;\n",
              "      box-shadow: 0px 1px 3px 1px rgba(0, 0, 0, 0.15);\n",
              "      filter: drop-shadow(0px 1px 2px rgba(0, 0, 0, 0.3));\n",
              "      fill: #FFFFFF;\n",
              "    }\n",
              "  </style>\n",
              "\n",
              "    <script>\n",
              "      const buttonEl =\n",
              "        document.querySelector('#df-440ae00b-65d2-42dd-a3a4-cdc2468b51c6 button.colab-df-convert');\n",
              "      buttonEl.style.display =\n",
              "        google.colab.kernel.accessAllowed ? 'block' : 'none';\n",
              "\n",
              "      async function convertToInteractive(key) {\n",
              "        const element = document.querySelector('#df-440ae00b-65d2-42dd-a3a4-cdc2468b51c6');\n",
              "        const dataTable =\n",
              "          await google.colab.kernel.invokeFunction('convertToInteractive',\n",
              "                                                    [key], {});\n",
              "        if (!dataTable) return;\n",
              "\n",
              "        const docLinkHtml = 'Like what you see? Visit the ' +\n",
              "          '<a target=\"_blank\" href=https://colab.research.google.com/notebooks/data_table.ipynb>data table notebook</a>'\n",
              "          + ' to learn more about interactive tables.';\n",
              "        element.innerHTML = '';\n",
              "        dataTable['output_type'] = 'display_data';\n",
              "        await google.colab.output.renderOutput(dataTable, element);\n",
              "        const docLink = document.createElement('div');\n",
              "        docLink.innerHTML = docLinkHtml;\n",
              "        element.appendChild(docLink);\n",
              "      }\n",
              "    </script>\n",
              "  </div>\n",
              "\n",
              "\n",
              "<div id=\"df-6b48195b-0723-478a-9e56-a2e7b572e2de\">\n",
              "  <button class=\"colab-df-quickchart\" onclick=\"quickchart('df-6b48195b-0723-478a-9e56-a2e7b572e2de')\"\n",
              "            title=\"Suggest charts\"\n",
              "            style=\"display:none;\">\n",
              "\n",
              "<svg xmlns=\"http://www.w3.org/2000/svg\" height=\"24px\"viewBox=\"0 0 24 24\"\n",
              "     width=\"24px\">\n",
              "    <g>\n",
              "        <path d=\"M19 3H5c-1.1 0-2 .9-2 2v14c0 1.1.9 2 2 2h14c1.1 0 2-.9 2-2V5c0-1.1-.9-2-2-2zM9 17H7v-7h2v7zm4 0h-2V7h2v10zm4 0h-2v-4h2v4z\"/>\n",
              "    </g>\n",
              "</svg>\n",
              "  </button>\n",
              "\n",
              "<style>\n",
              "  .colab-df-quickchart {\n",
              "      --bg-color: #E8F0FE;\n",
              "      --fill-color: #1967D2;\n",
              "      --hover-bg-color: #E2EBFA;\n",
              "      --hover-fill-color: #174EA6;\n",
              "      --disabled-fill-color: #AAA;\n",
              "      --disabled-bg-color: #DDD;\n",
              "  }\n",
              "\n",
              "  [theme=dark] .colab-df-quickchart {\n",
              "      --bg-color: #3B4455;\n",
              "      --fill-color: #D2E3FC;\n",
              "      --hover-bg-color: #434B5C;\n",
              "      --hover-fill-color: #FFFFFF;\n",
              "      --disabled-bg-color: #3B4455;\n",
              "      --disabled-fill-color: #666;\n",
              "  }\n",
              "\n",
              "  .colab-df-quickchart {\n",
              "    background-color: var(--bg-color);\n",
              "    border: none;\n",
              "    border-radius: 50%;\n",
              "    cursor: pointer;\n",
              "    display: none;\n",
              "    fill: var(--fill-color);\n",
              "    height: 32px;\n",
              "    padding: 0;\n",
              "    width: 32px;\n",
              "  }\n",
              "\n",
              "  .colab-df-quickchart:hover {\n",
              "    background-color: var(--hover-bg-color);\n",
              "    box-shadow: 0 1px 2px rgba(60, 64, 67, 0.3), 0 1px 3px 1px rgba(60, 64, 67, 0.15);\n",
              "    fill: var(--button-hover-fill-color);\n",
              "  }\n",
              "\n",
              "  .colab-df-quickchart-complete:disabled,\n",
              "  .colab-df-quickchart-complete:disabled:hover {\n",
              "    background-color: var(--disabled-bg-color);\n",
              "    fill: var(--disabled-fill-color);\n",
              "    box-shadow: none;\n",
              "  }\n",
              "\n",
              "  .colab-df-spinner {\n",
              "    border: 2px solid var(--fill-color);\n",
              "    border-color: transparent;\n",
              "    border-bottom-color: var(--fill-color);\n",
              "    animation:\n",
              "      spin 1s steps(1) infinite;\n",
              "  }\n",
              "\n",
              "  @keyframes spin {\n",
              "    0% {\n",
              "      border-color: transparent;\n",
              "      border-bottom-color: var(--fill-color);\n",
              "      border-left-color: var(--fill-color);\n",
              "    }\n",
              "    20% {\n",
              "      border-color: transparent;\n",
              "      border-left-color: var(--fill-color);\n",
              "      border-top-color: var(--fill-color);\n",
              "    }\n",
              "    30% {\n",
              "      border-color: transparent;\n",
              "      border-left-color: var(--fill-color);\n",
              "      border-top-color: var(--fill-color);\n",
              "      border-right-color: var(--fill-color);\n",
              "    }\n",
              "    40% {\n",
              "      border-color: transparent;\n",
              "      border-right-color: var(--fill-color);\n",
              "      border-top-color: var(--fill-color);\n",
              "    }\n",
              "    60% {\n",
              "      border-color: transparent;\n",
              "      border-right-color: var(--fill-color);\n",
              "    }\n",
              "    80% {\n",
              "      border-color: transparent;\n",
              "      border-right-color: var(--fill-color);\n",
              "      border-bottom-color: var(--fill-color);\n",
              "    }\n",
              "    90% {\n",
              "      border-color: transparent;\n",
              "      border-bottom-color: var(--fill-color);\n",
              "    }\n",
              "  }\n",
              "</style>\n",
              "\n",
              "  <script>\n",
              "    async function quickchart(key) {\n",
              "      const quickchartButtonEl =\n",
              "        document.querySelector('#' + key + ' button');\n",
              "      quickchartButtonEl.disabled = true;  // To prevent multiple clicks.\n",
              "      quickchartButtonEl.classList.add('colab-df-spinner');\n",
              "      try {\n",
              "        const charts = await google.colab.kernel.invokeFunction(\n",
              "            'suggestCharts', [key], {});\n",
              "      } catch (error) {\n",
              "        console.error('Error during call to suggestCharts:', error);\n",
              "      }\n",
              "      quickchartButtonEl.classList.remove('colab-df-spinner');\n",
              "      quickchartButtonEl.classList.add('colab-df-quickchart-complete');\n",
              "    }\n",
              "    (() => {\n",
              "      let quickchartButtonEl =\n",
              "        document.querySelector('#df-6b48195b-0723-478a-9e56-a2e7b572e2de button');\n",
              "      quickchartButtonEl.style.display =\n",
              "        google.colab.kernel.accessAllowed ? 'block' : 'none';\n",
              "    })();\n",
              "  </script>\n",
              "</div>\n",
              "    </div>\n",
              "  </div>\n"
            ],
            "application/vnd.google.colaboratory.intrinsic+json": {
              "type": "dataframe",
              "variable_name": "Causa"
            }
          },
          "metadata": {},
          "execution_count": 300
        }
      ],
      "source": [
        "Causa = pd.read_csv('/content/Causa.csv')\n",
        "Causa.head()"
      ]
    },
    {
      "cell_type": "code",
      "execution_count": null,
      "metadata": {
        "id": "_yaOjvNwa0Tu",
        "colab": {
          "base_uri": "https://localhost:8080/"
        },
        "outputId": "6d58116a-4daa-4e8f-e5f1-9e0fcdd82714"
      },
      "outputs": [
        {
          "output_type": "stream",
          "name": "stdout",
          "text": [
            "El DataFrame está compuesto por 682,392 filas y 10 columnas\n",
            "Con información distribuida en las siguientes variables: Index(['OBJECTID', 'FORMULARIO', 'CODIGO_ACCIDENTE', 'CODIGO_VEHICULO',\n",
            "       'CODIGO_CAUSA', 'NOMBRE', 'TIPO', 'TIPO_CAUSA', 'CODIGO',\n",
            "       'CODIGO_AC_VH'],\n",
            "      dtype='object')\n",
            "Las variables almacenan la información en el siguiente formato: OBJECTID             int64\n",
            "FORMULARIO          object\n",
            "CODIGO_ACCIDENTE     int64\n",
            "CODIGO_VEHICULO      int64\n",
            "CODIGO_CAUSA        object\n",
            "NOMBRE              object\n",
            "TIPO                object\n",
            "TIPO_CAUSA          object\n",
            "CODIGO              object\n",
            "CODIGO_AC_VH        object\n",
            "dtype: object\n"
          ]
        }
      ],
      "source": [
        "# 1. Revisión de la Estructura del Dataset\n",
        "print('El DataFrame está compuesto por {:,}'.format(Causa.shape[0]),'filas y',Causa.shape[1],'columnas')\n",
        "print('Con información distribuida en las siguientes variables:', Causa.columns)\n",
        "print('Las variables almacenan la información en el siguiente formato:', Causa.dtypes)"
      ]
    },
    {
      "cell_type": "code",
      "execution_count": null,
      "metadata": {
        "id": "ItYvBZO4bv-7",
        "colab": {
          "base_uri": "https://localhost:8080/"
        },
        "outputId": "501183ab-dc99-448e-d4ab-21dfac92eb58"
      },
      "outputs": [
        {
          "output_type": "execute_result",
          "data": {
            "text/plain": [
              "             OBJECTID FORMULARIO  CODIGO_ACCIDENTE  CODIGO_VEHICULO  \\\n",
              "count   682392.000000     682392      6.823920e+05     682392.00000   \n",
              "unique            NaN     468112               NaN              NaN   \n",
              "top               NaN  A00728644               NaN              NaN   \n",
              "freq              NaN         11               NaN              NaN   \n",
              "mean    341196.500000        NaN      3.696610e+06          1.37990   \n",
              "std     196989.746784        NaN      4.278107e+06          0.60393   \n",
              "min          1.000000        NaN      1.040000e+02          0.00000   \n",
              "25%     170598.750000        NaN      3.818358e+05          1.00000   \n",
              "50%     341196.500000        NaN      4.865860e+05          1.00000   \n",
              "75%     511794.250000        NaN      1.045033e+07          2.00000   \n",
              "max     682392.000000        NaN      1.060127e+07         11.00000   \n",
              "\n",
              "       CODIGO_CAUSA  NOMBRE    TIPO TIPO_CAUSA          CODIGO CODIGO_AC_VH  \n",
              "count        682392  680746  677059     677059          682392       682392  \n",
              "unique          234     119       6          5          682212       672043  \n",
              "top             157    OTRA      CG  CONDUCTOR  10543594-2-121   10543594-2  \n",
              "freq         223865  244798  614393     623368               6            6  \n",
              "mean            NaN     NaN     NaN        NaN             NaN          NaN  \n",
              "std             NaN     NaN     NaN        NaN             NaN          NaN  \n",
              "min             NaN     NaN     NaN        NaN             NaN          NaN  \n",
              "25%             NaN     NaN     NaN        NaN             NaN          NaN  \n",
              "50%             NaN     NaN     NaN        NaN             NaN          NaN  \n",
              "75%             NaN     NaN     NaN        NaN             NaN          NaN  \n",
              "max             NaN     NaN     NaN        NaN             NaN          NaN  "
            ],
            "text/html": [
              "\n",
              "  <div id=\"df-1999610d-b50d-48e3-846f-c93c54f891ef\" class=\"colab-df-container\">\n",
              "    <div>\n",
              "<style scoped>\n",
              "    .dataframe tbody tr th:only-of-type {\n",
              "        vertical-align: middle;\n",
              "    }\n",
              "\n",
              "    .dataframe tbody tr th {\n",
              "        vertical-align: top;\n",
              "    }\n",
              "\n",
              "    .dataframe thead th {\n",
              "        text-align: right;\n",
              "    }\n",
              "</style>\n",
              "<table border=\"1\" class=\"dataframe\">\n",
              "  <thead>\n",
              "    <tr style=\"text-align: right;\">\n",
              "      <th></th>\n",
              "      <th>OBJECTID</th>\n",
              "      <th>FORMULARIO</th>\n",
              "      <th>CODIGO_ACCIDENTE</th>\n",
              "      <th>CODIGO_VEHICULO</th>\n",
              "      <th>CODIGO_CAUSA</th>\n",
              "      <th>NOMBRE</th>\n",
              "      <th>TIPO</th>\n",
              "      <th>TIPO_CAUSA</th>\n",
              "      <th>CODIGO</th>\n",
              "      <th>CODIGO_AC_VH</th>\n",
              "    </tr>\n",
              "  </thead>\n",
              "  <tbody>\n",
              "    <tr>\n",
              "      <th>count</th>\n",
              "      <td>682392.000000</td>\n",
              "      <td>682392</td>\n",
              "      <td>6.823920e+05</td>\n",
              "      <td>682392.00000</td>\n",
              "      <td>682392</td>\n",
              "      <td>680746</td>\n",
              "      <td>677059</td>\n",
              "      <td>677059</td>\n",
              "      <td>682392</td>\n",
              "      <td>682392</td>\n",
              "    </tr>\n",
              "    <tr>\n",
              "      <th>unique</th>\n",
              "      <td>NaN</td>\n",
              "      <td>468112</td>\n",
              "      <td>NaN</td>\n",
              "      <td>NaN</td>\n",
              "      <td>234</td>\n",
              "      <td>119</td>\n",
              "      <td>6</td>\n",
              "      <td>5</td>\n",
              "      <td>682212</td>\n",
              "      <td>672043</td>\n",
              "    </tr>\n",
              "    <tr>\n",
              "      <th>top</th>\n",
              "      <td>NaN</td>\n",
              "      <td>A00728644</td>\n",
              "      <td>NaN</td>\n",
              "      <td>NaN</td>\n",
              "      <td>157</td>\n",
              "      <td>OTRA</td>\n",
              "      <td>CG</td>\n",
              "      <td>CONDUCTOR</td>\n",
              "      <td>10543594-2-121</td>\n",
              "      <td>10543594-2</td>\n",
              "    </tr>\n",
              "    <tr>\n",
              "      <th>freq</th>\n",
              "      <td>NaN</td>\n",
              "      <td>11</td>\n",
              "      <td>NaN</td>\n",
              "      <td>NaN</td>\n",
              "      <td>223865</td>\n",
              "      <td>244798</td>\n",
              "      <td>614393</td>\n",
              "      <td>623368</td>\n",
              "      <td>6</td>\n",
              "      <td>6</td>\n",
              "    </tr>\n",
              "    <tr>\n",
              "      <th>mean</th>\n",
              "      <td>341196.500000</td>\n",
              "      <td>NaN</td>\n",
              "      <td>3.696610e+06</td>\n",
              "      <td>1.37990</td>\n",
              "      <td>NaN</td>\n",
              "      <td>NaN</td>\n",
              "      <td>NaN</td>\n",
              "      <td>NaN</td>\n",
              "      <td>NaN</td>\n",
              "      <td>NaN</td>\n",
              "    </tr>\n",
              "    <tr>\n",
              "      <th>std</th>\n",
              "      <td>196989.746784</td>\n",
              "      <td>NaN</td>\n",
              "      <td>4.278107e+06</td>\n",
              "      <td>0.60393</td>\n",
              "      <td>NaN</td>\n",
              "      <td>NaN</td>\n",
              "      <td>NaN</td>\n",
              "      <td>NaN</td>\n",
              "      <td>NaN</td>\n",
              "      <td>NaN</td>\n",
              "    </tr>\n",
              "    <tr>\n",
              "      <th>min</th>\n",
              "      <td>1.000000</td>\n",
              "      <td>NaN</td>\n",
              "      <td>1.040000e+02</td>\n",
              "      <td>0.00000</td>\n",
              "      <td>NaN</td>\n",
              "      <td>NaN</td>\n",
              "      <td>NaN</td>\n",
              "      <td>NaN</td>\n",
              "      <td>NaN</td>\n",
              "      <td>NaN</td>\n",
              "    </tr>\n",
              "    <tr>\n",
              "      <th>25%</th>\n",
              "      <td>170598.750000</td>\n",
              "      <td>NaN</td>\n",
              "      <td>3.818358e+05</td>\n",
              "      <td>1.00000</td>\n",
              "      <td>NaN</td>\n",
              "      <td>NaN</td>\n",
              "      <td>NaN</td>\n",
              "      <td>NaN</td>\n",
              "      <td>NaN</td>\n",
              "      <td>NaN</td>\n",
              "    </tr>\n",
              "    <tr>\n",
              "      <th>50%</th>\n",
              "      <td>341196.500000</td>\n",
              "      <td>NaN</td>\n",
              "      <td>4.865860e+05</td>\n",
              "      <td>1.00000</td>\n",
              "      <td>NaN</td>\n",
              "      <td>NaN</td>\n",
              "      <td>NaN</td>\n",
              "      <td>NaN</td>\n",
              "      <td>NaN</td>\n",
              "      <td>NaN</td>\n",
              "    </tr>\n",
              "    <tr>\n",
              "      <th>75%</th>\n",
              "      <td>511794.250000</td>\n",
              "      <td>NaN</td>\n",
              "      <td>1.045033e+07</td>\n",
              "      <td>2.00000</td>\n",
              "      <td>NaN</td>\n",
              "      <td>NaN</td>\n",
              "      <td>NaN</td>\n",
              "      <td>NaN</td>\n",
              "      <td>NaN</td>\n",
              "      <td>NaN</td>\n",
              "    </tr>\n",
              "    <tr>\n",
              "      <th>max</th>\n",
              "      <td>682392.000000</td>\n",
              "      <td>NaN</td>\n",
              "      <td>1.060127e+07</td>\n",
              "      <td>11.00000</td>\n",
              "      <td>NaN</td>\n",
              "      <td>NaN</td>\n",
              "      <td>NaN</td>\n",
              "      <td>NaN</td>\n",
              "      <td>NaN</td>\n",
              "      <td>NaN</td>\n",
              "    </tr>\n",
              "  </tbody>\n",
              "</table>\n",
              "</div>\n",
              "    <div class=\"colab-df-buttons\">\n",
              "\n",
              "  <div class=\"colab-df-container\">\n",
              "    <button class=\"colab-df-convert\" onclick=\"convertToInteractive('df-1999610d-b50d-48e3-846f-c93c54f891ef')\"\n",
              "            title=\"Convert this dataframe to an interactive table.\"\n",
              "            style=\"display:none;\">\n",
              "\n",
              "  <svg xmlns=\"http://www.w3.org/2000/svg\" height=\"24px\" viewBox=\"0 -960 960 960\">\n",
              "    <path d=\"M120-120v-720h720v720H120Zm60-500h600v-160H180v160Zm220 220h160v-160H400v160Zm0 220h160v-160H400v160ZM180-400h160v-160H180v160Zm440 0h160v-160H620v160ZM180-180h160v-160H180v160Zm440 0h160v-160H620v160Z\"/>\n",
              "  </svg>\n",
              "    </button>\n",
              "\n",
              "  <style>\n",
              "    .colab-df-container {\n",
              "      display:flex;\n",
              "      gap: 12px;\n",
              "    }\n",
              "\n",
              "    .colab-df-convert {\n",
              "      background-color: #E8F0FE;\n",
              "      border: none;\n",
              "      border-radius: 50%;\n",
              "      cursor: pointer;\n",
              "      display: none;\n",
              "      fill: #1967D2;\n",
              "      height: 32px;\n",
              "      padding: 0 0 0 0;\n",
              "      width: 32px;\n",
              "    }\n",
              "\n",
              "    .colab-df-convert:hover {\n",
              "      background-color: #E2EBFA;\n",
              "      box-shadow: 0px 1px 2px rgba(60, 64, 67, 0.3), 0px 1px 3px 1px rgba(60, 64, 67, 0.15);\n",
              "      fill: #174EA6;\n",
              "    }\n",
              "\n",
              "    .colab-df-buttons div {\n",
              "      margin-bottom: 4px;\n",
              "    }\n",
              "\n",
              "    [theme=dark] .colab-df-convert {\n",
              "      background-color: #3B4455;\n",
              "      fill: #D2E3FC;\n",
              "    }\n",
              "\n",
              "    [theme=dark] .colab-df-convert:hover {\n",
              "      background-color: #434B5C;\n",
              "      box-shadow: 0px 1px 3px 1px rgba(0, 0, 0, 0.15);\n",
              "      filter: drop-shadow(0px 1px 2px rgba(0, 0, 0, 0.3));\n",
              "      fill: #FFFFFF;\n",
              "    }\n",
              "  </style>\n",
              "\n",
              "    <script>\n",
              "      const buttonEl =\n",
              "        document.querySelector('#df-1999610d-b50d-48e3-846f-c93c54f891ef button.colab-df-convert');\n",
              "      buttonEl.style.display =\n",
              "        google.colab.kernel.accessAllowed ? 'block' : 'none';\n",
              "\n",
              "      async function convertToInteractive(key) {\n",
              "        const element = document.querySelector('#df-1999610d-b50d-48e3-846f-c93c54f891ef');\n",
              "        const dataTable =\n",
              "          await google.colab.kernel.invokeFunction('convertToInteractive',\n",
              "                                                    [key], {});\n",
              "        if (!dataTable) return;\n",
              "\n",
              "        const docLinkHtml = 'Like what you see? Visit the ' +\n",
              "          '<a target=\"_blank\" href=https://colab.research.google.com/notebooks/data_table.ipynb>data table notebook</a>'\n",
              "          + ' to learn more about interactive tables.';\n",
              "        element.innerHTML = '';\n",
              "        dataTable['output_type'] = 'display_data';\n",
              "        await google.colab.output.renderOutput(dataTable, element);\n",
              "        const docLink = document.createElement('div');\n",
              "        docLink.innerHTML = docLinkHtml;\n",
              "        element.appendChild(docLink);\n",
              "      }\n",
              "    </script>\n",
              "  </div>\n",
              "\n",
              "\n",
              "<div id=\"df-f94dbdb2-cc94-4870-b31b-52e883405321\">\n",
              "  <button class=\"colab-df-quickchart\" onclick=\"quickchart('df-f94dbdb2-cc94-4870-b31b-52e883405321')\"\n",
              "            title=\"Suggest charts\"\n",
              "            style=\"display:none;\">\n",
              "\n",
              "<svg xmlns=\"http://www.w3.org/2000/svg\" height=\"24px\"viewBox=\"0 0 24 24\"\n",
              "     width=\"24px\">\n",
              "    <g>\n",
              "        <path d=\"M19 3H5c-1.1 0-2 .9-2 2v14c0 1.1.9 2 2 2h14c1.1 0 2-.9 2-2V5c0-1.1-.9-2-2-2zM9 17H7v-7h2v7zm4 0h-2V7h2v10zm4 0h-2v-4h2v4z\"/>\n",
              "    </g>\n",
              "</svg>\n",
              "  </button>\n",
              "\n",
              "<style>\n",
              "  .colab-df-quickchart {\n",
              "      --bg-color: #E8F0FE;\n",
              "      --fill-color: #1967D2;\n",
              "      --hover-bg-color: #E2EBFA;\n",
              "      --hover-fill-color: #174EA6;\n",
              "      --disabled-fill-color: #AAA;\n",
              "      --disabled-bg-color: #DDD;\n",
              "  }\n",
              "\n",
              "  [theme=dark] .colab-df-quickchart {\n",
              "      --bg-color: #3B4455;\n",
              "      --fill-color: #D2E3FC;\n",
              "      --hover-bg-color: #434B5C;\n",
              "      --hover-fill-color: #FFFFFF;\n",
              "      --disabled-bg-color: #3B4455;\n",
              "      --disabled-fill-color: #666;\n",
              "  }\n",
              "\n",
              "  .colab-df-quickchart {\n",
              "    background-color: var(--bg-color);\n",
              "    border: none;\n",
              "    border-radius: 50%;\n",
              "    cursor: pointer;\n",
              "    display: none;\n",
              "    fill: var(--fill-color);\n",
              "    height: 32px;\n",
              "    padding: 0;\n",
              "    width: 32px;\n",
              "  }\n",
              "\n",
              "  .colab-df-quickchart:hover {\n",
              "    background-color: var(--hover-bg-color);\n",
              "    box-shadow: 0 1px 2px rgba(60, 64, 67, 0.3), 0 1px 3px 1px rgba(60, 64, 67, 0.15);\n",
              "    fill: var(--button-hover-fill-color);\n",
              "  }\n",
              "\n",
              "  .colab-df-quickchart-complete:disabled,\n",
              "  .colab-df-quickchart-complete:disabled:hover {\n",
              "    background-color: var(--disabled-bg-color);\n",
              "    fill: var(--disabled-fill-color);\n",
              "    box-shadow: none;\n",
              "  }\n",
              "\n",
              "  .colab-df-spinner {\n",
              "    border: 2px solid var(--fill-color);\n",
              "    border-color: transparent;\n",
              "    border-bottom-color: var(--fill-color);\n",
              "    animation:\n",
              "      spin 1s steps(1) infinite;\n",
              "  }\n",
              "\n",
              "  @keyframes spin {\n",
              "    0% {\n",
              "      border-color: transparent;\n",
              "      border-bottom-color: var(--fill-color);\n",
              "      border-left-color: var(--fill-color);\n",
              "    }\n",
              "    20% {\n",
              "      border-color: transparent;\n",
              "      border-left-color: var(--fill-color);\n",
              "      border-top-color: var(--fill-color);\n",
              "    }\n",
              "    30% {\n",
              "      border-color: transparent;\n",
              "      border-left-color: var(--fill-color);\n",
              "      border-top-color: var(--fill-color);\n",
              "      border-right-color: var(--fill-color);\n",
              "    }\n",
              "    40% {\n",
              "      border-color: transparent;\n",
              "      border-right-color: var(--fill-color);\n",
              "      border-top-color: var(--fill-color);\n",
              "    }\n",
              "    60% {\n",
              "      border-color: transparent;\n",
              "      border-right-color: var(--fill-color);\n",
              "    }\n",
              "    80% {\n",
              "      border-color: transparent;\n",
              "      border-right-color: var(--fill-color);\n",
              "      border-bottom-color: var(--fill-color);\n",
              "    }\n",
              "    90% {\n",
              "      border-color: transparent;\n",
              "      border-bottom-color: var(--fill-color);\n",
              "    }\n",
              "  }\n",
              "</style>\n",
              "\n",
              "  <script>\n",
              "    async function quickchart(key) {\n",
              "      const quickchartButtonEl =\n",
              "        document.querySelector('#' + key + ' button');\n",
              "      quickchartButtonEl.disabled = true;  // To prevent multiple clicks.\n",
              "      quickchartButtonEl.classList.add('colab-df-spinner');\n",
              "      try {\n",
              "        const charts = await google.colab.kernel.invokeFunction(\n",
              "            'suggestCharts', [key], {});\n",
              "      } catch (error) {\n",
              "        console.error('Error during call to suggestCharts:', error);\n",
              "      }\n",
              "      quickchartButtonEl.classList.remove('colab-df-spinner');\n",
              "      quickchartButtonEl.classList.add('colab-df-quickchart-complete');\n",
              "    }\n",
              "    (() => {\n",
              "      let quickchartButtonEl =\n",
              "        document.querySelector('#df-f94dbdb2-cc94-4870-b31b-52e883405321 button');\n",
              "      quickchartButtonEl.style.display =\n",
              "        google.colab.kernel.accessAllowed ? 'block' : 'none';\n",
              "    })();\n",
              "  </script>\n",
              "</div>\n",
              "    </div>\n",
              "  </div>\n"
            ],
            "application/vnd.google.colaboratory.intrinsic+json": {
              "type": "dataframe",
              "variable_name": "description",
              "summary": "{\n  \"name\": \"description\",\n  \"rows\": 11,\n  \"fields\": [\n    {\n      \"column\": \"OBJECTID\",\n      \"properties\": {\n        \"dtype\": \"number\",\n        \"std\": 245937.07358621372,\n        \"min\": 1.0,\n        \"max\": 682392.0,\n        \"num_unique_values\": 6,\n        \"samples\": [\n          682392.0,\n          341196.5,\n          511794.25\n        ],\n        \"semantic_type\": \"\",\n        \"description\": \"\"\n      }\n    },\n    {\n      \"column\": \"FORMULARIO\",\n      \"properties\": {\n        \"dtype\": \"category\",\n        \"num_unique_values\": 4,\n        \"samples\": [\n          468112,\n          \"11\",\n          \"682392\"\n        ],\n        \"semantic_type\": \"\",\n        \"description\": \"\"\n      }\n    },\n    {\n      \"column\": \"CODIGO_ACCIDENTE\",\n      \"properties\": {\n        \"dtype\": \"number\",\n        \"std\": 4432683.155761422,\n        \"min\": 104.0,\n        \"max\": 10601269.0,\n        \"num_unique_values\": 8,\n        \"samples\": [\n          3696610.018972966,\n          486586.0,\n          682392.0\n        ],\n        \"semantic_type\": \"\",\n        \"description\": \"\"\n      }\n    },\n    {\n      \"column\": \"CODIGO_VEHICULO\",\n      \"properties\": {\n        \"dtype\": \"number\",\n        \"std\": 241261.1475268352,\n        \"min\": 0.0,\n        \"max\": 682392.0,\n        \"num_unique_values\": 7,\n        \"samples\": [\n          682392.0,\n          1.3799004091489935,\n          2.0\n        ],\n        \"semantic_type\": \"\",\n        \"description\": \"\"\n      }\n    },\n    {\n      \"column\": \"CODIGO_CAUSA\",\n      \"properties\": {\n        \"dtype\": \"category\",\n        \"num_unique_values\": 4,\n        \"samples\": [\n          234,\n          \"223865\",\n          \"682392\"\n        ],\n        \"semantic_type\": \"\",\n        \"description\": \"\"\n      }\n    },\n    {\n      \"column\": \"NOMBRE\",\n      \"properties\": {\n        \"dtype\": \"category\",\n        \"num_unique_values\": 4,\n        \"samples\": [\n          119,\n          \"244798\",\n          \"680746\"\n        ],\n        \"semantic_type\": \"\",\n        \"description\": \"\"\n      }\n    },\n    {\n      \"column\": \"TIPO\",\n      \"properties\": {\n        \"dtype\": \"category\",\n        \"num_unique_values\": 4,\n        \"samples\": [\n          6,\n          \"614393\",\n          \"677059\"\n        ],\n        \"semantic_type\": \"\",\n        \"description\": \"\"\n      }\n    },\n    {\n      \"column\": \"TIPO_CAUSA\",\n      \"properties\": {\n        \"dtype\": \"category\",\n        \"num_unique_values\": 4,\n        \"samples\": [\n          5,\n          \"623368\",\n          \"677059\"\n        ],\n        \"semantic_type\": \"\",\n        \"description\": \"\"\n      }\n    },\n    {\n      \"column\": \"CODIGO\",\n      \"properties\": {\n        \"dtype\": \"category\",\n        \"num_unique_values\": 4,\n        \"samples\": [\n          682212,\n          \"6\",\n          \"682392\"\n        ],\n        \"semantic_type\": \"\",\n        \"description\": \"\"\n      }\n    },\n    {\n      \"column\": \"CODIGO_AC_VH\",\n      \"properties\": {\n        \"dtype\": \"category\",\n        \"num_unique_values\": 4,\n        \"samples\": [\n          672043,\n          \"6\",\n          \"682392\"\n        ],\n        \"semantic_type\": \"\",\n        \"description\": \"\"\n      }\n    }\n  ]\n}"
            }
          },
          "metadata": {},
          "execution_count": 302
        }
      ],
      "source": [
        "# 2. Exploración de los Datos\n",
        "description = Causa.describe(include='all')\n",
        "description"
      ]
    },
    {
      "cell_type": "code",
      "execution_count": null,
      "metadata": {
        "id": "BBX2U0B8kmkX",
        "colab": {
          "base_uri": "https://localhost:8080/"
        },
        "outputId": "e2959565-8400-46bb-e16d-88b679ad23c2"
      },
      "outputs": [
        {
          "output_type": "execute_result",
          "data": {
            "text/plain": [
              "                  Nulos  Registros % Nulos\n",
              "OBJECTID              0     682392   0.00%\n",
              "FORMULARIO            0     682392   0.00%\n",
              "CODIGO_ACCIDENTE      0     682392   0.00%\n",
              "CODIGO_VEHICULO       0     682392   0.00%\n",
              "CODIGO_CAUSA          0     682392   0.00%\n",
              "NOMBRE             1646     682392   0.24%\n",
              "TIPO               5333     682392   0.78%\n",
              "TIPO_CAUSA         5333     682392   0.78%\n",
              "CODIGO                0     682392   0.00%\n",
              "CODIGO_AC_VH          0     682392   0.00%"
            ],
            "text/html": [
              "\n",
              "  <div id=\"df-a59fc2e8-c5f8-4d6f-95f0-b2bbb215e265\" class=\"colab-df-container\">\n",
              "    <div>\n",
              "<style scoped>\n",
              "    .dataframe tbody tr th:only-of-type {\n",
              "        vertical-align: middle;\n",
              "    }\n",
              "\n",
              "    .dataframe tbody tr th {\n",
              "        vertical-align: top;\n",
              "    }\n",
              "\n",
              "    .dataframe thead th {\n",
              "        text-align: right;\n",
              "    }\n",
              "</style>\n",
              "<table border=\"1\" class=\"dataframe\">\n",
              "  <thead>\n",
              "    <tr style=\"text-align: right;\">\n",
              "      <th></th>\n",
              "      <th>Nulos</th>\n",
              "      <th>Registros</th>\n",
              "      <th>% Nulos</th>\n",
              "    </tr>\n",
              "  </thead>\n",
              "  <tbody>\n",
              "    <tr>\n",
              "      <th>OBJECTID</th>\n",
              "      <td>0</td>\n",
              "      <td>682392</td>\n",
              "      <td>0.00%</td>\n",
              "    </tr>\n",
              "    <tr>\n",
              "      <th>FORMULARIO</th>\n",
              "      <td>0</td>\n",
              "      <td>682392</td>\n",
              "      <td>0.00%</td>\n",
              "    </tr>\n",
              "    <tr>\n",
              "      <th>CODIGO_ACCIDENTE</th>\n",
              "      <td>0</td>\n",
              "      <td>682392</td>\n",
              "      <td>0.00%</td>\n",
              "    </tr>\n",
              "    <tr>\n",
              "      <th>CODIGO_VEHICULO</th>\n",
              "      <td>0</td>\n",
              "      <td>682392</td>\n",
              "      <td>0.00%</td>\n",
              "    </tr>\n",
              "    <tr>\n",
              "      <th>CODIGO_CAUSA</th>\n",
              "      <td>0</td>\n",
              "      <td>682392</td>\n",
              "      <td>0.00%</td>\n",
              "    </tr>\n",
              "    <tr>\n",
              "      <th>NOMBRE</th>\n",
              "      <td>1646</td>\n",
              "      <td>682392</td>\n",
              "      <td>0.24%</td>\n",
              "    </tr>\n",
              "    <tr>\n",
              "      <th>TIPO</th>\n",
              "      <td>5333</td>\n",
              "      <td>682392</td>\n",
              "      <td>0.78%</td>\n",
              "    </tr>\n",
              "    <tr>\n",
              "      <th>TIPO_CAUSA</th>\n",
              "      <td>5333</td>\n",
              "      <td>682392</td>\n",
              "      <td>0.78%</td>\n",
              "    </tr>\n",
              "    <tr>\n",
              "      <th>CODIGO</th>\n",
              "      <td>0</td>\n",
              "      <td>682392</td>\n",
              "      <td>0.00%</td>\n",
              "    </tr>\n",
              "    <tr>\n",
              "      <th>CODIGO_AC_VH</th>\n",
              "      <td>0</td>\n",
              "      <td>682392</td>\n",
              "      <td>0.00%</td>\n",
              "    </tr>\n",
              "  </tbody>\n",
              "</table>\n",
              "</div>\n",
              "    <div class=\"colab-df-buttons\">\n",
              "\n",
              "  <div class=\"colab-df-container\">\n",
              "    <button class=\"colab-df-convert\" onclick=\"convertToInteractive('df-a59fc2e8-c5f8-4d6f-95f0-b2bbb215e265')\"\n",
              "            title=\"Convert this dataframe to an interactive table.\"\n",
              "            style=\"display:none;\">\n",
              "\n",
              "  <svg xmlns=\"http://www.w3.org/2000/svg\" height=\"24px\" viewBox=\"0 -960 960 960\">\n",
              "    <path d=\"M120-120v-720h720v720H120Zm60-500h600v-160H180v160Zm220 220h160v-160H400v160Zm0 220h160v-160H400v160ZM180-400h160v-160H180v160Zm440 0h160v-160H620v160ZM180-180h160v-160H180v160Zm440 0h160v-160H620v160Z\"/>\n",
              "  </svg>\n",
              "    </button>\n",
              "\n",
              "  <style>\n",
              "    .colab-df-container {\n",
              "      display:flex;\n",
              "      gap: 12px;\n",
              "    }\n",
              "\n",
              "    .colab-df-convert {\n",
              "      background-color: #E8F0FE;\n",
              "      border: none;\n",
              "      border-radius: 50%;\n",
              "      cursor: pointer;\n",
              "      display: none;\n",
              "      fill: #1967D2;\n",
              "      height: 32px;\n",
              "      padding: 0 0 0 0;\n",
              "      width: 32px;\n",
              "    }\n",
              "\n",
              "    .colab-df-convert:hover {\n",
              "      background-color: #E2EBFA;\n",
              "      box-shadow: 0px 1px 2px rgba(60, 64, 67, 0.3), 0px 1px 3px 1px rgba(60, 64, 67, 0.15);\n",
              "      fill: #174EA6;\n",
              "    }\n",
              "\n",
              "    .colab-df-buttons div {\n",
              "      margin-bottom: 4px;\n",
              "    }\n",
              "\n",
              "    [theme=dark] .colab-df-convert {\n",
              "      background-color: #3B4455;\n",
              "      fill: #D2E3FC;\n",
              "    }\n",
              "\n",
              "    [theme=dark] .colab-df-convert:hover {\n",
              "      background-color: #434B5C;\n",
              "      box-shadow: 0px 1px 3px 1px rgba(0, 0, 0, 0.15);\n",
              "      filter: drop-shadow(0px 1px 2px rgba(0, 0, 0, 0.3));\n",
              "      fill: #FFFFFF;\n",
              "    }\n",
              "  </style>\n",
              "\n",
              "    <script>\n",
              "      const buttonEl =\n",
              "        document.querySelector('#df-a59fc2e8-c5f8-4d6f-95f0-b2bbb215e265 button.colab-df-convert');\n",
              "      buttonEl.style.display =\n",
              "        google.colab.kernel.accessAllowed ? 'block' : 'none';\n",
              "\n",
              "      async function convertToInteractive(key) {\n",
              "        const element = document.querySelector('#df-a59fc2e8-c5f8-4d6f-95f0-b2bbb215e265');\n",
              "        const dataTable =\n",
              "          await google.colab.kernel.invokeFunction('convertToInteractive',\n",
              "                                                    [key], {});\n",
              "        if (!dataTable) return;\n",
              "\n",
              "        const docLinkHtml = 'Like what you see? Visit the ' +\n",
              "          '<a target=\"_blank\" href=https://colab.research.google.com/notebooks/data_table.ipynb>data table notebook</a>'\n",
              "          + ' to learn more about interactive tables.';\n",
              "        element.innerHTML = '';\n",
              "        dataTable['output_type'] = 'display_data';\n",
              "        await google.colab.output.renderOutput(dataTable, element);\n",
              "        const docLink = document.createElement('div');\n",
              "        docLink.innerHTML = docLinkHtml;\n",
              "        element.appendChild(docLink);\n",
              "      }\n",
              "    </script>\n",
              "  </div>\n",
              "\n",
              "\n",
              "<div id=\"df-c0ba9783-b812-47d7-9f27-7b0cae6ccf28\">\n",
              "  <button class=\"colab-df-quickchart\" onclick=\"quickchart('df-c0ba9783-b812-47d7-9f27-7b0cae6ccf28')\"\n",
              "            title=\"Suggest charts\"\n",
              "            style=\"display:none;\">\n",
              "\n",
              "<svg xmlns=\"http://www.w3.org/2000/svg\" height=\"24px\"viewBox=\"0 0 24 24\"\n",
              "     width=\"24px\">\n",
              "    <g>\n",
              "        <path d=\"M19 3H5c-1.1 0-2 .9-2 2v14c0 1.1.9 2 2 2h14c1.1 0 2-.9 2-2V5c0-1.1-.9-2-2-2zM9 17H7v-7h2v7zm4 0h-2V7h2v10zm4 0h-2v-4h2v4z\"/>\n",
              "    </g>\n",
              "</svg>\n",
              "  </button>\n",
              "\n",
              "<style>\n",
              "  .colab-df-quickchart {\n",
              "      --bg-color: #E8F0FE;\n",
              "      --fill-color: #1967D2;\n",
              "      --hover-bg-color: #E2EBFA;\n",
              "      --hover-fill-color: #174EA6;\n",
              "      --disabled-fill-color: #AAA;\n",
              "      --disabled-bg-color: #DDD;\n",
              "  }\n",
              "\n",
              "  [theme=dark] .colab-df-quickchart {\n",
              "      --bg-color: #3B4455;\n",
              "      --fill-color: #D2E3FC;\n",
              "      --hover-bg-color: #434B5C;\n",
              "      --hover-fill-color: #FFFFFF;\n",
              "      --disabled-bg-color: #3B4455;\n",
              "      --disabled-fill-color: #666;\n",
              "  }\n",
              "\n",
              "  .colab-df-quickchart {\n",
              "    background-color: var(--bg-color);\n",
              "    border: none;\n",
              "    border-radius: 50%;\n",
              "    cursor: pointer;\n",
              "    display: none;\n",
              "    fill: var(--fill-color);\n",
              "    height: 32px;\n",
              "    padding: 0;\n",
              "    width: 32px;\n",
              "  }\n",
              "\n",
              "  .colab-df-quickchart:hover {\n",
              "    background-color: var(--hover-bg-color);\n",
              "    box-shadow: 0 1px 2px rgba(60, 64, 67, 0.3), 0 1px 3px 1px rgba(60, 64, 67, 0.15);\n",
              "    fill: var(--button-hover-fill-color);\n",
              "  }\n",
              "\n",
              "  .colab-df-quickchart-complete:disabled,\n",
              "  .colab-df-quickchart-complete:disabled:hover {\n",
              "    background-color: var(--disabled-bg-color);\n",
              "    fill: var(--disabled-fill-color);\n",
              "    box-shadow: none;\n",
              "  }\n",
              "\n",
              "  .colab-df-spinner {\n",
              "    border: 2px solid var(--fill-color);\n",
              "    border-color: transparent;\n",
              "    border-bottom-color: var(--fill-color);\n",
              "    animation:\n",
              "      spin 1s steps(1) infinite;\n",
              "  }\n",
              "\n",
              "  @keyframes spin {\n",
              "    0% {\n",
              "      border-color: transparent;\n",
              "      border-bottom-color: var(--fill-color);\n",
              "      border-left-color: var(--fill-color);\n",
              "    }\n",
              "    20% {\n",
              "      border-color: transparent;\n",
              "      border-left-color: var(--fill-color);\n",
              "      border-top-color: var(--fill-color);\n",
              "    }\n",
              "    30% {\n",
              "      border-color: transparent;\n",
              "      border-left-color: var(--fill-color);\n",
              "      border-top-color: var(--fill-color);\n",
              "      border-right-color: var(--fill-color);\n",
              "    }\n",
              "    40% {\n",
              "      border-color: transparent;\n",
              "      border-right-color: var(--fill-color);\n",
              "      border-top-color: var(--fill-color);\n",
              "    }\n",
              "    60% {\n",
              "      border-color: transparent;\n",
              "      border-right-color: var(--fill-color);\n",
              "    }\n",
              "    80% {\n",
              "      border-color: transparent;\n",
              "      border-right-color: var(--fill-color);\n",
              "      border-bottom-color: var(--fill-color);\n",
              "    }\n",
              "    90% {\n",
              "      border-color: transparent;\n",
              "      border-bottom-color: var(--fill-color);\n",
              "    }\n",
              "  }\n",
              "</style>\n",
              "\n",
              "  <script>\n",
              "    async function quickchart(key) {\n",
              "      const quickchartButtonEl =\n",
              "        document.querySelector('#' + key + ' button');\n",
              "      quickchartButtonEl.disabled = true;  // To prevent multiple clicks.\n",
              "      quickchartButtonEl.classList.add('colab-df-spinner');\n",
              "      try {\n",
              "        const charts = await google.colab.kernel.invokeFunction(\n",
              "            'suggestCharts', [key], {});\n",
              "      } catch (error) {\n",
              "        console.error('Error during call to suggestCharts:', error);\n",
              "      }\n",
              "      quickchartButtonEl.classList.remove('colab-df-spinner');\n",
              "      quickchartButtonEl.classList.add('colab-df-quickchart-complete');\n",
              "    }\n",
              "    (() => {\n",
              "      let quickchartButtonEl =\n",
              "        document.querySelector('#df-c0ba9783-b812-47d7-9f27-7b0cae6ccf28 button');\n",
              "      quickchartButtonEl.style.display =\n",
              "        google.colab.kernel.accessAllowed ? 'block' : 'none';\n",
              "    })();\n",
              "  </script>\n",
              "</div>\n",
              "    </div>\n",
              "  </div>\n"
            ],
            "application/vnd.google.colaboratory.intrinsic+json": {
              "type": "dataframe",
              "variable_name": "resumen_NaN_Causa",
              "summary": "{\n  \"name\": \"resumen_NaN_Causa\",\n  \"rows\": 10,\n  \"fields\": [\n    {\n      \"column\": \"Nulos\",\n      \"properties\": {\n        \"dtype\": \"number\",\n        \"std\": 2221,\n        \"min\": 0,\n        \"max\": 5333,\n        \"num_unique_values\": 3,\n        \"samples\": [\n          0,\n          1646,\n          5333\n        ],\n        \"semantic_type\": \"\",\n        \"description\": \"\"\n      }\n    },\n    {\n      \"column\": \"Registros\",\n      \"properties\": {\n        \"dtype\": \"number\",\n        \"std\": 0,\n        \"min\": 682392,\n        \"max\": 682392,\n        \"num_unique_values\": 1,\n        \"samples\": [\n          682392\n        ],\n        \"semantic_type\": \"\",\n        \"description\": \"\"\n      }\n    },\n    {\n      \"column\": \"% Nulos\",\n      \"properties\": {\n        \"dtype\": \"category\",\n        \"num_unique_values\": 3,\n        \"samples\": [\n          \"0.00%\"\n        ],\n        \"semantic_type\": \"\",\n        \"description\": \"\"\n      }\n    }\n  ]\n}"
            }
          },
          "metadata": {},
          "execution_count": 303
        }
      ],
      "source": [
        "# 3. Contabilizamos valores nulos, e identificamos participación en el total de registros por columnas\n",
        "resumen_NaN_Causa = pd.DataFrame(Causa.isnull().sum())\n",
        "resumen_NaN_Causa.columns=['Nulos']\n",
        "resumen_NaN_Causa['Registros']=Causa.shape[0]\n",
        "resumen_NaN_Causa['% Nulos']=resumen_NaN_Causa.Nulos/resumen_NaN_Causa.Registros\n",
        "resumen_NaN_Causa['% Nulos']=resumen_NaN_Causa['% Nulos'].apply(\"{:.2%}\".format)\n",
        "resumen_NaN_Causa"
      ]
    },
    {
      "cell_type": "code",
      "execution_count": null,
      "metadata": {
        "id": "_POGjplcU2a5",
        "colab": {
          "base_uri": "https://localhost:8080/"
        },
        "outputId": "1fc8a512-cf04-4751-b6e3-b9e67865a8fb"
      },
      "outputs": [
        {
          "output_type": "stream",
          "name": "stdout",
          "text": [
            "Número de registros duplicados: 0\n",
            "Empty DataFrame\n",
            "Columns: [OBJECTID, FORMULARIO, CODIGO_ACCIDENTE, CODIGO_VEHICULO, CODIGO_CAUSA, NOMBRE, TIPO, TIPO_CAUSA, CODIGO, CODIGO_AC_VH]\n",
            "Index: []\n"
          ]
        }
      ],
      "source": [
        "# 4. Identificar registros duplicados\n",
        "duplicates = Causa.duplicated()\n",
        "\n",
        "# Contar la cantidad de registros duplicados\n",
        "num_duplicates = sum(duplicates)\n",
        "\n",
        "print(\"Número de registros duplicados:\", num_duplicates)\n",
        "print(Causa[duplicates])\n"
      ]
    },
    {
      "cell_type": "code",
      "execution_count": null,
      "metadata": {
        "id": "ZYaGpHYmup4t"
      },
      "outputs": [],
      "source": [
        "# 5. Traemos los codigos de descripción y tipo de causa\n",
        "Causa[\"CODIGO_CAUSA\"] = pd.to_numeric(Causa[\"CODIGO_CAUSA\"] , downcast=\"float\", errors=\"coerce\")\n",
        "Causa[\"CODIGO_CAUSA\"] = Causa[\"CODIGO_CAUSA\"].astype(float)\n",
        "Causa[\"CODIGO_ACCIDENTE\"] = pd.to_numeric(Causa[\"CODIGO_ACCIDENTE\"] , downcast=\"integer\", errors=\"coerce\")\n",
        "Causa[\"CODIGO_ACCIDENTE\"] = Causa[\"CODIGO_ACCIDENTE\"].astype('int64')\n",
        "Causa = pd.merge(Causa,Describe_Causa, how=\"left\", left_on=\"CODIGO_CAUSA\", right_on=\"CODIGO_CAUSA\")\n",
        "Causa = pd.merge(Causa,Tipo_Causa, how=\"left\", left_on=\"TIPO\", right_on=\"TIPO\")"
      ]
    },
    {
      "cell_type": "code",
      "execution_count": null,
      "metadata": {
        "id": "lZg-AgrzN8D_"
      },
      "outputs": [],
      "source": [
        "# 6. Traemos los codigos de accidente para conservar solo los registros que coinciden con códigos de accidente\n",
        "Causa = pd.merge(Causa, Accidente_df, how='left', left_on='CODIGO_ACCIDENTE',\n",
        "                         right_on='CODIGO_ACCIDENTE')"
      ]
    },
    {
      "cell_type": "code",
      "execution_count": null,
      "metadata": {
        "id": "ZHzFbjDfF236",
        "colab": {
          "base_uri": "https://localhost:8080/"
        },
        "outputId": "8ca4d74a-7d6a-417c-b15a-33e2856eb2e8"
      },
      "outputs": [
        {
          "output_type": "execute_result",
          "data": {
            "text/plain": [
              "                      Nulos  Registros % Nulos\n",
              "OBJECTID                  0     682392   0.00%\n",
              "FORMULARIO                0     682392   0.00%\n",
              "CODIGO_ACCIDENTE          0     682392   0.00%\n",
              "CODIGO_VEHICULO           0     682392   0.00%\n",
              "CODIGO_CAUSA           9765     682392   1.43%\n",
              "NOMBRE_x               1646     682392   0.24%\n",
              "TIPO                   5333     682392   0.78%\n",
              "TIPO_CAUSA_x           5333     682392   0.78%\n",
              "CODIGO                    0     682392   0.00%\n",
              "CODIGO_AC_VH              0     682392   0.00%\n",
              "NOMBRE_y               9765     682392   1.43%\n",
              "TIPO_CAUSA_y           5333     682392   0.78%\n",
              "FECHA_OCURRENCIA_ACC      0     682392   0.00%\n",
              "HORA_OCURRENCIA_ACC       0     682392   0.00%\n",
              "DIRECCION                 0     682392   0.00%\n",
              "COD_GRAVEDAD              5     682392   0.00%\n",
              "COD_CLASE_ACC           157     682392   0.02%\n",
              "COD_LOCALIDAD            57     682392   0.01%\n",
              "LATITUD                   0     682392   0.00%\n",
              "LONGITUD                  0     682392   0.00%"
            ],
            "text/html": [
              "\n",
              "  <div id=\"df-e0062171-c0b2-44c2-93f5-7e966b727377\" class=\"colab-df-container\">\n",
              "    <div>\n",
              "<style scoped>\n",
              "    .dataframe tbody tr th:only-of-type {\n",
              "        vertical-align: middle;\n",
              "    }\n",
              "\n",
              "    .dataframe tbody tr th {\n",
              "        vertical-align: top;\n",
              "    }\n",
              "\n",
              "    .dataframe thead th {\n",
              "        text-align: right;\n",
              "    }\n",
              "</style>\n",
              "<table border=\"1\" class=\"dataframe\">\n",
              "  <thead>\n",
              "    <tr style=\"text-align: right;\">\n",
              "      <th></th>\n",
              "      <th>Nulos</th>\n",
              "      <th>Registros</th>\n",
              "      <th>% Nulos</th>\n",
              "    </tr>\n",
              "  </thead>\n",
              "  <tbody>\n",
              "    <tr>\n",
              "      <th>OBJECTID</th>\n",
              "      <td>0</td>\n",
              "      <td>682392</td>\n",
              "      <td>0.00%</td>\n",
              "    </tr>\n",
              "    <tr>\n",
              "      <th>FORMULARIO</th>\n",
              "      <td>0</td>\n",
              "      <td>682392</td>\n",
              "      <td>0.00%</td>\n",
              "    </tr>\n",
              "    <tr>\n",
              "      <th>CODIGO_ACCIDENTE</th>\n",
              "      <td>0</td>\n",
              "      <td>682392</td>\n",
              "      <td>0.00%</td>\n",
              "    </tr>\n",
              "    <tr>\n",
              "      <th>CODIGO_VEHICULO</th>\n",
              "      <td>0</td>\n",
              "      <td>682392</td>\n",
              "      <td>0.00%</td>\n",
              "    </tr>\n",
              "    <tr>\n",
              "      <th>CODIGO_CAUSA</th>\n",
              "      <td>9765</td>\n",
              "      <td>682392</td>\n",
              "      <td>1.43%</td>\n",
              "    </tr>\n",
              "    <tr>\n",
              "      <th>NOMBRE_x</th>\n",
              "      <td>1646</td>\n",
              "      <td>682392</td>\n",
              "      <td>0.24%</td>\n",
              "    </tr>\n",
              "    <tr>\n",
              "      <th>TIPO</th>\n",
              "      <td>5333</td>\n",
              "      <td>682392</td>\n",
              "      <td>0.78%</td>\n",
              "    </tr>\n",
              "    <tr>\n",
              "      <th>TIPO_CAUSA_x</th>\n",
              "      <td>5333</td>\n",
              "      <td>682392</td>\n",
              "      <td>0.78%</td>\n",
              "    </tr>\n",
              "    <tr>\n",
              "      <th>CODIGO</th>\n",
              "      <td>0</td>\n",
              "      <td>682392</td>\n",
              "      <td>0.00%</td>\n",
              "    </tr>\n",
              "    <tr>\n",
              "      <th>CODIGO_AC_VH</th>\n",
              "      <td>0</td>\n",
              "      <td>682392</td>\n",
              "      <td>0.00%</td>\n",
              "    </tr>\n",
              "    <tr>\n",
              "      <th>NOMBRE_y</th>\n",
              "      <td>9765</td>\n",
              "      <td>682392</td>\n",
              "      <td>1.43%</td>\n",
              "    </tr>\n",
              "    <tr>\n",
              "      <th>TIPO_CAUSA_y</th>\n",
              "      <td>5333</td>\n",
              "      <td>682392</td>\n",
              "      <td>0.78%</td>\n",
              "    </tr>\n",
              "    <tr>\n",
              "      <th>FECHA_OCURRENCIA_ACC</th>\n",
              "      <td>0</td>\n",
              "      <td>682392</td>\n",
              "      <td>0.00%</td>\n",
              "    </tr>\n",
              "    <tr>\n",
              "      <th>HORA_OCURRENCIA_ACC</th>\n",
              "      <td>0</td>\n",
              "      <td>682392</td>\n",
              "      <td>0.00%</td>\n",
              "    </tr>\n",
              "    <tr>\n",
              "      <th>DIRECCION</th>\n",
              "      <td>0</td>\n",
              "      <td>682392</td>\n",
              "      <td>0.00%</td>\n",
              "    </tr>\n",
              "    <tr>\n",
              "      <th>COD_GRAVEDAD</th>\n",
              "      <td>5</td>\n",
              "      <td>682392</td>\n",
              "      <td>0.00%</td>\n",
              "    </tr>\n",
              "    <tr>\n",
              "      <th>COD_CLASE_ACC</th>\n",
              "      <td>157</td>\n",
              "      <td>682392</td>\n",
              "      <td>0.02%</td>\n",
              "    </tr>\n",
              "    <tr>\n",
              "      <th>COD_LOCALIDAD</th>\n",
              "      <td>57</td>\n",
              "      <td>682392</td>\n",
              "      <td>0.01%</td>\n",
              "    </tr>\n",
              "    <tr>\n",
              "      <th>LATITUD</th>\n",
              "      <td>0</td>\n",
              "      <td>682392</td>\n",
              "      <td>0.00%</td>\n",
              "    </tr>\n",
              "    <tr>\n",
              "      <th>LONGITUD</th>\n",
              "      <td>0</td>\n",
              "      <td>682392</td>\n",
              "      <td>0.00%</td>\n",
              "    </tr>\n",
              "  </tbody>\n",
              "</table>\n",
              "</div>\n",
              "    <div class=\"colab-df-buttons\">\n",
              "\n",
              "  <div class=\"colab-df-container\">\n",
              "    <button class=\"colab-df-convert\" onclick=\"convertToInteractive('df-e0062171-c0b2-44c2-93f5-7e966b727377')\"\n",
              "            title=\"Convert this dataframe to an interactive table.\"\n",
              "            style=\"display:none;\">\n",
              "\n",
              "  <svg xmlns=\"http://www.w3.org/2000/svg\" height=\"24px\" viewBox=\"0 -960 960 960\">\n",
              "    <path d=\"M120-120v-720h720v720H120Zm60-500h600v-160H180v160Zm220 220h160v-160H400v160Zm0 220h160v-160H400v160ZM180-400h160v-160H180v160Zm440 0h160v-160H620v160ZM180-180h160v-160H180v160Zm440 0h160v-160H620v160Z\"/>\n",
              "  </svg>\n",
              "    </button>\n",
              "\n",
              "  <style>\n",
              "    .colab-df-container {\n",
              "      display:flex;\n",
              "      gap: 12px;\n",
              "    }\n",
              "\n",
              "    .colab-df-convert {\n",
              "      background-color: #E8F0FE;\n",
              "      border: none;\n",
              "      border-radius: 50%;\n",
              "      cursor: pointer;\n",
              "      display: none;\n",
              "      fill: #1967D2;\n",
              "      height: 32px;\n",
              "      padding: 0 0 0 0;\n",
              "      width: 32px;\n",
              "    }\n",
              "\n",
              "    .colab-df-convert:hover {\n",
              "      background-color: #E2EBFA;\n",
              "      box-shadow: 0px 1px 2px rgba(60, 64, 67, 0.3), 0px 1px 3px 1px rgba(60, 64, 67, 0.15);\n",
              "      fill: #174EA6;\n",
              "    }\n",
              "\n",
              "    .colab-df-buttons div {\n",
              "      margin-bottom: 4px;\n",
              "    }\n",
              "\n",
              "    [theme=dark] .colab-df-convert {\n",
              "      background-color: #3B4455;\n",
              "      fill: #D2E3FC;\n",
              "    }\n",
              "\n",
              "    [theme=dark] .colab-df-convert:hover {\n",
              "      background-color: #434B5C;\n",
              "      box-shadow: 0px 1px 3px 1px rgba(0, 0, 0, 0.15);\n",
              "      filter: drop-shadow(0px 1px 2px rgba(0, 0, 0, 0.3));\n",
              "      fill: #FFFFFF;\n",
              "    }\n",
              "  </style>\n",
              "\n",
              "    <script>\n",
              "      const buttonEl =\n",
              "        document.querySelector('#df-e0062171-c0b2-44c2-93f5-7e966b727377 button.colab-df-convert');\n",
              "      buttonEl.style.display =\n",
              "        google.colab.kernel.accessAllowed ? 'block' : 'none';\n",
              "\n",
              "      async function convertToInteractive(key) {\n",
              "        const element = document.querySelector('#df-e0062171-c0b2-44c2-93f5-7e966b727377');\n",
              "        const dataTable =\n",
              "          await google.colab.kernel.invokeFunction('convertToInteractive',\n",
              "                                                    [key], {});\n",
              "        if (!dataTable) return;\n",
              "\n",
              "        const docLinkHtml = 'Like what you see? Visit the ' +\n",
              "          '<a target=\"_blank\" href=https://colab.research.google.com/notebooks/data_table.ipynb>data table notebook</a>'\n",
              "          + ' to learn more about interactive tables.';\n",
              "        element.innerHTML = '';\n",
              "        dataTable['output_type'] = 'display_data';\n",
              "        await google.colab.output.renderOutput(dataTable, element);\n",
              "        const docLink = document.createElement('div');\n",
              "        docLink.innerHTML = docLinkHtml;\n",
              "        element.appendChild(docLink);\n",
              "      }\n",
              "    </script>\n",
              "  </div>\n",
              "\n",
              "\n",
              "<div id=\"df-3b2d80f4-5255-4e67-822e-6481a53492fe\">\n",
              "  <button class=\"colab-df-quickchart\" onclick=\"quickchart('df-3b2d80f4-5255-4e67-822e-6481a53492fe')\"\n",
              "            title=\"Suggest charts\"\n",
              "            style=\"display:none;\">\n",
              "\n",
              "<svg xmlns=\"http://www.w3.org/2000/svg\" height=\"24px\"viewBox=\"0 0 24 24\"\n",
              "     width=\"24px\">\n",
              "    <g>\n",
              "        <path d=\"M19 3H5c-1.1 0-2 .9-2 2v14c0 1.1.9 2 2 2h14c1.1 0 2-.9 2-2V5c0-1.1-.9-2-2-2zM9 17H7v-7h2v7zm4 0h-2V7h2v10zm4 0h-2v-4h2v4z\"/>\n",
              "    </g>\n",
              "</svg>\n",
              "  </button>\n",
              "\n",
              "<style>\n",
              "  .colab-df-quickchart {\n",
              "      --bg-color: #E8F0FE;\n",
              "      --fill-color: #1967D2;\n",
              "      --hover-bg-color: #E2EBFA;\n",
              "      --hover-fill-color: #174EA6;\n",
              "      --disabled-fill-color: #AAA;\n",
              "      --disabled-bg-color: #DDD;\n",
              "  }\n",
              "\n",
              "  [theme=dark] .colab-df-quickchart {\n",
              "      --bg-color: #3B4455;\n",
              "      --fill-color: #D2E3FC;\n",
              "      --hover-bg-color: #434B5C;\n",
              "      --hover-fill-color: #FFFFFF;\n",
              "      --disabled-bg-color: #3B4455;\n",
              "      --disabled-fill-color: #666;\n",
              "  }\n",
              "\n",
              "  .colab-df-quickchart {\n",
              "    background-color: var(--bg-color);\n",
              "    border: none;\n",
              "    border-radius: 50%;\n",
              "    cursor: pointer;\n",
              "    display: none;\n",
              "    fill: var(--fill-color);\n",
              "    height: 32px;\n",
              "    padding: 0;\n",
              "    width: 32px;\n",
              "  }\n",
              "\n",
              "  .colab-df-quickchart:hover {\n",
              "    background-color: var(--hover-bg-color);\n",
              "    box-shadow: 0 1px 2px rgba(60, 64, 67, 0.3), 0 1px 3px 1px rgba(60, 64, 67, 0.15);\n",
              "    fill: var(--button-hover-fill-color);\n",
              "  }\n",
              "\n",
              "  .colab-df-quickchart-complete:disabled,\n",
              "  .colab-df-quickchart-complete:disabled:hover {\n",
              "    background-color: var(--disabled-bg-color);\n",
              "    fill: var(--disabled-fill-color);\n",
              "    box-shadow: none;\n",
              "  }\n",
              "\n",
              "  .colab-df-spinner {\n",
              "    border: 2px solid var(--fill-color);\n",
              "    border-color: transparent;\n",
              "    border-bottom-color: var(--fill-color);\n",
              "    animation:\n",
              "      spin 1s steps(1) infinite;\n",
              "  }\n",
              "\n",
              "  @keyframes spin {\n",
              "    0% {\n",
              "      border-color: transparent;\n",
              "      border-bottom-color: var(--fill-color);\n",
              "      border-left-color: var(--fill-color);\n",
              "    }\n",
              "    20% {\n",
              "      border-color: transparent;\n",
              "      border-left-color: var(--fill-color);\n",
              "      border-top-color: var(--fill-color);\n",
              "    }\n",
              "    30% {\n",
              "      border-color: transparent;\n",
              "      border-left-color: var(--fill-color);\n",
              "      border-top-color: var(--fill-color);\n",
              "      border-right-color: var(--fill-color);\n",
              "    }\n",
              "    40% {\n",
              "      border-color: transparent;\n",
              "      border-right-color: var(--fill-color);\n",
              "      border-top-color: var(--fill-color);\n",
              "    }\n",
              "    60% {\n",
              "      border-color: transparent;\n",
              "      border-right-color: var(--fill-color);\n",
              "    }\n",
              "    80% {\n",
              "      border-color: transparent;\n",
              "      border-right-color: var(--fill-color);\n",
              "      border-bottom-color: var(--fill-color);\n",
              "    }\n",
              "    90% {\n",
              "      border-color: transparent;\n",
              "      border-bottom-color: var(--fill-color);\n",
              "    }\n",
              "  }\n",
              "</style>\n",
              "\n",
              "  <script>\n",
              "    async function quickchart(key) {\n",
              "      const quickchartButtonEl =\n",
              "        document.querySelector('#' + key + ' button');\n",
              "      quickchartButtonEl.disabled = true;  // To prevent multiple clicks.\n",
              "      quickchartButtonEl.classList.add('colab-df-spinner');\n",
              "      try {\n",
              "        const charts = await google.colab.kernel.invokeFunction(\n",
              "            'suggestCharts', [key], {});\n",
              "      } catch (error) {\n",
              "        console.error('Error during call to suggestCharts:', error);\n",
              "      }\n",
              "      quickchartButtonEl.classList.remove('colab-df-spinner');\n",
              "      quickchartButtonEl.classList.add('colab-df-quickchart-complete');\n",
              "    }\n",
              "    (() => {\n",
              "      let quickchartButtonEl =\n",
              "        document.querySelector('#df-3b2d80f4-5255-4e67-822e-6481a53492fe button');\n",
              "      quickchartButtonEl.style.display =\n",
              "        google.colab.kernel.accessAllowed ? 'block' : 'none';\n",
              "    })();\n",
              "  </script>\n",
              "</div>\n",
              "    </div>\n",
              "  </div>\n"
            ],
            "application/vnd.google.colaboratory.intrinsic+json": {
              "type": "dataframe",
              "variable_name": "resumen_NaN_Causa2",
              "summary": "{\n  \"name\": \"resumen_NaN_Causa2\",\n  \"rows\": 20,\n  \"fields\": [\n    {\n      \"column\": \"Nulos\",\n      \"properties\": {\n        \"dtype\": \"number\",\n        \"std\": 3315,\n        \"min\": 0,\n        \"max\": 9765,\n        \"num_unique_values\": 7,\n        \"samples\": [\n          0,\n          9765,\n          157\n        ],\n        \"semantic_type\": \"\",\n        \"description\": \"\"\n      }\n    },\n    {\n      \"column\": \"Registros\",\n      \"properties\": {\n        \"dtype\": \"number\",\n        \"std\": 0,\n        \"min\": 682392,\n        \"max\": 682392,\n        \"num_unique_values\": 1,\n        \"samples\": [\n          682392\n        ],\n        \"semantic_type\": \"\",\n        \"description\": \"\"\n      }\n    },\n    {\n      \"column\": \"% Nulos\",\n      \"properties\": {\n        \"dtype\": \"category\",\n        \"num_unique_values\": 6,\n        \"samples\": [\n          \"0.00%\"\n        ],\n        \"semantic_type\": \"\",\n        \"description\": \"\"\n      }\n    }\n  ]\n}"
            }
          },
          "metadata": {},
          "execution_count": 307
        }
      ],
      "source": [
        "# 7. Contabilizamos valores nulos, e identificamos participación en el total de registros por columnas\n",
        "resumen_NaN_Causa2 = pd.DataFrame(Causa.isnull().sum())\n",
        "resumen_NaN_Causa2.columns=['Nulos']\n",
        "resumen_NaN_Causa2['Registros']=Causa.shape[0]\n",
        "resumen_NaN_Causa2['% Nulos']=resumen_NaN_Causa2.Nulos/resumen_NaN_Causa2.Registros\n",
        "resumen_NaN_Causa2['% Nulos']=resumen_NaN_Causa2['% Nulos'].apply(\"{:.2%}\".format)\n",
        "resumen_NaN_Causa2"
      ]
    },
    {
      "cell_type": "code",
      "execution_count": null,
      "metadata": {
        "id": "JmEKg6_oHIYb"
      },
      "outputs": [],
      "source": [
        "# 8. Se eliminan todas las filas en las que la fecha de accidente está vacía,\n",
        "# pues indica que es un codigo de accidente inexistente en la tabla accidente\n",
        "Causa = Causa.dropna(subset=['FECHA_OCURRENCIA_ACC'])"
      ]
    },
    {
      "cell_type": "code",
      "execution_count": null,
      "metadata": {
        "id": "rTUWl1OBk9X4"
      },
      "outputs": [],
      "source": [
        "# 9. Crear un nuevo DataFrame con las columnas seleccionadas\n",
        "selected_columns =[\n",
        "    'CODIGO_ACCIDENTE','CODIGO_CAUSA', 'TIPO', 'CODIGO_AC_VH'\n",
        "]\n",
        "\n",
        "Causa_df= Causa[selected_columns]\n",
        "Causa_df = pd.DataFrame(Causa_df)\n"
      ]
    },
    {
      "cell_type": "code",
      "execution_count": null,
      "metadata": {
        "id": "4lNOliNNtaEb",
        "colab": {
          "base_uri": "https://localhost:8080/"
        },
        "outputId": "8e8fa9bf-8a1c-4cff-d1f0-d90dcab985c7"
      },
      "outputs": [
        {
          "output_type": "execute_result",
          "data": {
            "text/plain": [
              "   CODIGO_ACCIDENTE  CODIGO_CAUSA TIPO CODIGO_AC_VH\n",
              "0          10558992         157.0   CG   10558992-1\n",
              "1          10558992         157.0   CG   10558992-2\n",
              "2          10558993         121.0   CG   10558993-2\n",
              "3          10558993         157.0   CG   10558993-2\n",
              "4          10558994         143.0   CG   10558994-1"
            ],
            "text/html": [
              "\n",
              "  <div id=\"df-98c55314-a411-4eef-a29d-acc62d55ef71\" class=\"colab-df-container\">\n",
              "    <div>\n",
              "<style scoped>\n",
              "    .dataframe tbody tr th:only-of-type {\n",
              "        vertical-align: middle;\n",
              "    }\n",
              "\n",
              "    .dataframe tbody tr th {\n",
              "        vertical-align: top;\n",
              "    }\n",
              "\n",
              "    .dataframe thead th {\n",
              "        text-align: right;\n",
              "    }\n",
              "</style>\n",
              "<table border=\"1\" class=\"dataframe\">\n",
              "  <thead>\n",
              "    <tr style=\"text-align: right;\">\n",
              "      <th></th>\n",
              "      <th>CODIGO_ACCIDENTE</th>\n",
              "      <th>CODIGO_CAUSA</th>\n",
              "      <th>TIPO</th>\n",
              "      <th>CODIGO_AC_VH</th>\n",
              "    </tr>\n",
              "  </thead>\n",
              "  <tbody>\n",
              "    <tr>\n",
              "      <th>0</th>\n",
              "      <td>10558992</td>\n",
              "      <td>157.0</td>\n",
              "      <td>CG</td>\n",
              "      <td>10558992-1</td>\n",
              "    </tr>\n",
              "    <tr>\n",
              "      <th>1</th>\n",
              "      <td>10558992</td>\n",
              "      <td>157.0</td>\n",
              "      <td>CG</td>\n",
              "      <td>10558992-2</td>\n",
              "    </tr>\n",
              "    <tr>\n",
              "      <th>2</th>\n",
              "      <td>10558993</td>\n",
              "      <td>121.0</td>\n",
              "      <td>CG</td>\n",
              "      <td>10558993-2</td>\n",
              "    </tr>\n",
              "    <tr>\n",
              "      <th>3</th>\n",
              "      <td>10558993</td>\n",
              "      <td>157.0</td>\n",
              "      <td>CG</td>\n",
              "      <td>10558993-2</td>\n",
              "    </tr>\n",
              "    <tr>\n",
              "      <th>4</th>\n",
              "      <td>10558994</td>\n",
              "      <td>143.0</td>\n",
              "      <td>CG</td>\n",
              "      <td>10558994-1</td>\n",
              "    </tr>\n",
              "  </tbody>\n",
              "</table>\n",
              "</div>\n",
              "    <div class=\"colab-df-buttons\">\n",
              "\n",
              "  <div class=\"colab-df-container\">\n",
              "    <button class=\"colab-df-convert\" onclick=\"convertToInteractive('df-98c55314-a411-4eef-a29d-acc62d55ef71')\"\n",
              "            title=\"Convert this dataframe to an interactive table.\"\n",
              "            style=\"display:none;\">\n",
              "\n",
              "  <svg xmlns=\"http://www.w3.org/2000/svg\" height=\"24px\" viewBox=\"0 -960 960 960\">\n",
              "    <path d=\"M120-120v-720h720v720H120Zm60-500h600v-160H180v160Zm220 220h160v-160H400v160Zm0 220h160v-160H400v160ZM180-400h160v-160H180v160Zm440 0h160v-160H620v160ZM180-180h160v-160H180v160Zm440 0h160v-160H620v160Z\"/>\n",
              "  </svg>\n",
              "    </button>\n",
              "\n",
              "  <style>\n",
              "    .colab-df-container {\n",
              "      display:flex;\n",
              "      gap: 12px;\n",
              "    }\n",
              "\n",
              "    .colab-df-convert {\n",
              "      background-color: #E8F0FE;\n",
              "      border: none;\n",
              "      border-radius: 50%;\n",
              "      cursor: pointer;\n",
              "      display: none;\n",
              "      fill: #1967D2;\n",
              "      height: 32px;\n",
              "      padding: 0 0 0 0;\n",
              "      width: 32px;\n",
              "    }\n",
              "\n",
              "    .colab-df-convert:hover {\n",
              "      background-color: #E2EBFA;\n",
              "      box-shadow: 0px 1px 2px rgba(60, 64, 67, 0.3), 0px 1px 3px 1px rgba(60, 64, 67, 0.15);\n",
              "      fill: #174EA6;\n",
              "    }\n",
              "\n",
              "    .colab-df-buttons div {\n",
              "      margin-bottom: 4px;\n",
              "    }\n",
              "\n",
              "    [theme=dark] .colab-df-convert {\n",
              "      background-color: #3B4455;\n",
              "      fill: #D2E3FC;\n",
              "    }\n",
              "\n",
              "    [theme=dark] .colab-df-convert:hover {\n",
              "      background-color: #434B5C;\n",
              "      box-shadow: 0px 1px 3px 1px rgba(0, 0, 0, 0.15);\n",
              "      filter: drop-shadow(0px 1px 2px rgba(0, 0, 0, 0.3));\n",
              "      fill: #FFFFFF;\n",
              "    }\n",
              "  </style>\n",
              "\n",
              "    <script>\n",
              "      const buttonEl =\n",
              "        document.querySelector('#df-98c55314-a411-4eef-a29d-acc62d55ef71 button.colab-df-convert');\n",
              "      buttonEl.style.display =\n",
              "        google.colab.kernel.accessAllowed ? 'block' : 'none';\n",
              "\n",
              "      async function convertToInteractive(key) {\n",
              "        const element = document.querySelector('#df-98c55314-a411-4eef-a29d-acc62d55ef71');\n",
              "        const dataTable =\n",
              "          await google.colab.kernel.invokeFunction('convertToInteractive',\n",
              "                                                    [key], {});\n",
              "        if (!dataTable) return;\n",
              "\n",
              "        const docLinkHtml = 'Like what you see? Visit the ' +\n",
              "          '<a target=\"_blank\" href=https://colab.research.google.com/notebooks/data_table.ipynb>data table notebook</a>'\n",
              "          + ' to learn more about interactive tables.';\n",
              "        element.innerHTML = '';\n",
              "        dataTable['output_type'] = 'display_data';\n",
              "        await google.colab.output.renderOutput(dataTable, element);\n",
              "        const docLink = document.createElement('div');\n",
              "        docLink.innerHTML = docLinkHtml;\n",
              "        element.appendChild(docLink);\n",
              "      }\n",
              "    </script>\n",
              "  </div>\n",
              "\n",
              "\n",
              "<div id=\"df-01a65287-c021-4e03-8496-63a08d50947e\">\n",
              "  <button class=\"colab-df-quickchart\" onclick=\"quickchart('df-01a65287-c021-4e03-8496-63a08d50947e')\"\n",
              "            title=\"Suggest charts\"\n",
              "            style=\"display:none;\">\n",
              "\n",
              "<svg xmlns=\"http://www.w3.org/2000/svg\" height=\"24px\"viewBox=\"0 0 24 24\"\n",
              "     width=\"24px\">\n",
              "    <g>\n",
              "        <path d=\"M19 3H5c-1.1 0-2 .9-2 2v14c0 1.1.9 2 2 2h14c1.1 0 2-.9 2-2V5c0-1.1-.9-2-2-2zM9 17H7v-7h2v7zm4 0h-2V7h2v10zm4 0h-2v-4h2v4z\"/>\n",
              "    </g>\n",
              "</svg>\n",
              "  </button>\n",
              "\n",
              "<style>\n",
              "  .colab-df-quickchart {\n",
              "      --bg-color: #E8F0FE;\n",
              "      --fill-color: #1967D2;\n",
              "      --hover-bg-color: #E2EBFA;\n",
              "      --hover-fill-color: #174EA6;\n",
              "      --disabled-fill-color: #AAA;\n",
              "      --disabled-bg-color: #DDD;\n",
              "  }\n",
              "\n",
              "  [theme=dark] .colab-df-quickchart {\n",
              "      --bg-color: #3B4455;\n",
              "      --fill-color: #D2E3FC;\n",
              "      --hover-bg-color: #434B5C;\n",
              "      --hover-fill-color: #FFFFFF;\n",
              "      --disabled-bg-color: #3B4455;\n",
              "      --disabled-fill-color: #666;\n",
              "  }\n",
              "\n",
              "  .colab-df-quickchart {\n",
              "    background-color: var(--bg-color);\n",
              "    border: none;\n",
              "    border-radius: 50%;\n",
              "    cursor: pointer;\n",
              "    display: none;\n",
              "    fill: var(--fill-color);\n",
              "    height: 32px;\n",
              "    padding: 0;\n",
              "    width: 32px;\n",
              "  }\n",
              "\n",
              "  .colab-df-quickchart:hover {\n",
              "    background-color: var(--hover-bg-color);\n",
              "    box-shadow: 0 1px 2px rgba(60, 64, 67, 0.3), 0 1px 3px 1px rgba(60, 64, 67, 0.15);\n",
              "    fill: var(--button-hover-fill-color);\n",
              "  }\n",
              "\n",
              "  .colab-df-quickchart-complete:disabled,\n",
              "  .colab-df-quickchart-complete:disabled:hover {\n",
              "    background-color: var(--disabled-bg-color);\n",
              "    fill: var(--disabled-fill-color);\n",
              "    box-shadow: none;\n",
              "  }\n",
              "\n",
              "  .colab-df-spinner {\n",
              "    border: 2px solid var(--fill-color);\n",
              "    border-color: transparent;\n",
              "    border-bottom-color: var(--fill-color);\n",
              "    animation:\n",
              "      spin 1s steps(1) infinite;\n",
              "  }\n",
              "\n",
              "  @keyframes spin {\n",
              "    0% {\n",
              "      border-color: transparent;\n",
              "      border-bottom-color: var(--fill-color);\n",
              "      border-left-color: var(--fill-color);\n",
              "    }\n",
              "    20% {\n",
              "      border-color: transparent;\n",
              "      border-left-color: var(--fill-color);\n",
              "      border-top-color: var(--fill-color);\n",
              "    }\n",
              "    30% {\n",
              "      border-color: transparent;\n",
              "      border-left-color: var(--fill-color);\n",
              "      border-top-color: var(--fill-color);\n",
              "      border-right-color: var(--fill-color);\n",
              "    }\n",
              "    40% {\n",
              "      border-color: transparent;\n",
              "      border-right-color: var(--fill-color);\n",
              "      border-top-color: var(--fill-color);\n",
              "    }\n",
              "    60% {\n",
              "      border-color: transparent;\n",
              "      border-right-color: var(--fill-color);\n",
              "    }\n",
              "    80% {\n",
              "      border-color: transparent;\n",
              "      border-right-color: var(--fill-color);\n",
              "      border-bottom-color: var(--fill-color);\n",
              "    }\n",
              "    90% {\n",
              "      border-color: transparent;\n",
              "      border-bottom-color: var(--fill-color);\n",
              "    }\n",
              "  }\n",
              "</style>\n",
              "\n",
              "  <script>\n",
              "    async function quickchart(key) {\n",
              "      const quickchartButtonEl =\n",
              "        document.querySelector('#' + key + ' button');\n",
              "      quickchartButtonEl.disabled = true;  // To prevent multiple clicks.\n",
              "      quickchartButtonEl.classList.add('colab-df-spinner');\n",
              "      try {\n",
              "        const charts = await google.colab.kernel.invokeFunction(\n",
              "            'suggestCharts', [key], {});\n",
              "      } catch (error) {\n",
              "        console.error('Error during call to suggestCharts:', error);\n",
              "      }\n",
              "      quickchartButtonEl.classList.remove('colab-df-spinner');\n",
              "      quickchartButtonEl.classList.add('colab-df-quickchart-complete');\n",
              "    }\n",
              "    (() => {\n",
              "      let quickchartButtonEl =\n",
              "        document.querySelector('#df-01a65287-c021-4e03-8496-63a08d50947e button');\n",
              "      quickchartButtonEl.style.display =\n",
              "        google.colab.kernel.accessAllowed ? 'block' : 'none';\n",
              "    })();\n",
              "  </script>\n",
              "</div>\n",
              "    </div>\n",
              "  </div>\n"
            ],
            "application/vnd.google.colaboratory.intrinsic+json": {
              "type": "dataframe",
              "variable_name": "Causa_df"
            }
          },
          "metadata": {},
          "execution_count": 310
        }
      ],
      "source": [
        "Causa_df.head()"
      ]
    },
    {
      "cell_type": "code",
      "execution_count": null,
      "metadata": {
        "id": "c3Ad_4szKOLs",
        "colab": {
          "base_uri": "https://localhost:8080/"
        },
        "outputId": "e9c62ce5-cc00-49a8-e093-df78ef7c6afe"
      },
      "outputs": [
        {
          "output_type": "execute_result",
          "data": {
            "text/plain": [
              "                  Nulos  Registros % Nulos\n",
              "CODIGO_ACCIDENTE      0     682392   0.00%\n",
              "CODIGO_CAUSA       9765     682392   1.43%\n",
              "TIPO               5333     682392   0.78%\n",
              "CODIGO_AC_VH          0     682392   0.00%"
            ],
            "text/html": [
              "\n",
              "  <div id=\"df-e1af0e04-64a4-41ab-8a5e-2ea68706dadc\" class=\"colab-df-container\">\n",
              "    <div>\n",
              "<style scoped>\n",
              "    .dataframe tbody tr th:only-of-type {\n",
              "        vertical-align: middle;\n",
              "    }\n",
              "\n",
              "    .dataframe tbody tr th {\n",
              "        vertical-align: top;\n",
              "    }\n",
              "\n",
              "    .dataframe thead th {\n",
              "        text-align: right;\n",
              "    }\n",
              "</style>\n",
              "<table border=\"1\" class=\"dataframe\">\n",
              "  <thead>\n",
              "    <tr style=\"text-align: right;\">\n",
              "      <th></th>\n",
              "      <th>Nulos</th>\n",
              "      <th>Registros</th>\n",
              "      <th>% Nulos</th>\n",
              "    </tr>\n",
              "  </thead>\n",
              "  <tbody>\n",
              "    <tr>\n",
              "      <th>CODIGO_ACCIDENTE</th>\n",
              "      <td>0</td>\n",
              "      <td>682392</td>\n",
              "      <td>0.00%</td>\n",
              "    </tr>\n",
              "    <tr>\n",
              "      <th>CODIGO_CAUSA</th>\n",
              "      <td>9765</td>\n",
              "      <td>682392</td>\n",
              "      <td>1.43%</td>\n",
              "    </tr>\n",
              "    <tr>\n",
              "      <th>TIPO</th>\n",
              "      <td>5333</td>\n",
              "      <td>682392</td>\n",
              "      <td>0.78%</td>\n",
              "    </tr>\n",
              "    <tr>\n",
              "      <th>CODIGO_AC_VH</th>\n",
              "      <td>0</td>\n",
              "      <td>682392</td>\n",
              "      <td>0.00%</td>\n",
              "    </tr>\n",
              "  </tbody>\n",
              "</table>\n",
              "</div>\n",
              "    <div class=\"colab-df-buttons\">\n",
              "\n",
              "  <div class=\"colab-df-container\">\n",
              "    <button class=\"colab-df-convert\" onclick=\"convertToInteractive('df-e1af0e04-64a4-41ab-8a5e-2ea68706dadc')\"\n",
              "            title=\"Convert this dataframe to an interactive table.\"\n",
              "            style=\"display:none;\">\n",
              "\n",
              "  <svg xmlns=\"http://www.w3.org/2000/svg\" height=\"24px\" viewBox=\"0 -960 960 960\">\n",
              "    <path d=\"M120-120v-720h720v720H120Zm60-500h600v-160H180v160Zm220 220h160v-160H400v160Zm0 220h160v-160H400v160ZM180-400h160v-160H180v160Zm440 0h160v-160H620v160ZM180-180h160v-160H180v160Zm440 0h160v-160H620v160Z\"/>\n",
              "  </svg>\n",
              "    </button>\n",
              "\n",
              "  <style>\n",
              "    .colab-df-container {\n",
              "      display:flex;\n",
              "      gap: 12px;\n",
              "    }\n",
              "\n",
              "    .colab-df-convert {\n",
              "      background-color: #E8F0FE;\n",
              "      border: none;\n",
              "      border-radius: 50%;\n",
              "      cursor: pointer;\n",
              "      display: none;\n",
              "      fill: #1967D2;\n",
              "      height: 32px;\n",
              "      padding: 0 0 0 0;\n",
              "      width: 32px;\n",
              "    }\n",
              "\n",
              "    .colab-df-convert:hover {\n",
              "      background-color: #E2EBFA;\n",
              "      box-shadow: 0px 1px 2px rgba(60, 64, 67, 0.3), 0px 1px 3px 1px rgba(60, 64, 67, 0.15);\n",
              "      fill: #174EA6;\n",
              "    }\n",
              "\n",
              "    .colab-df-buttons div {\n",
              "      margin-bottom: 4px;\n",
              "    }\n",
              "\n",
              "    [theme=dark] .colab-df-convert {\n",
              "      background-color: #3B4455;\n",
              "      fill: #D2E3FC;\n",
              "    }\n",
              "\n",
              "    [theme=dark] .colab-df-convert:hover {\n",
              "      background-color: #434B5C;\n",
              "      box-shadow: 0px 1px 3px 1px rgba(0, 0, 0, 0.15);\n",
              "      filter: drop-shadow(0px 1px 2px rgba(0, 0, 0, 0.3));\n",
              "      fill: #FFFFFF;\n",
              "    }\n",
              "  </style>\n",
              "\n",
              "    <script>\n",
              "      const buttonEl =\n",
              "        document.querySelector('#df-e1af0e04-64a4-41ab-8a5e-2ea68706dadc button.colab-df-convert');\n",
              "      buttonEl.style.display =\n",
              "        google.colab.kernel.accessAllowed ? 'block' : 'none';\n",
              "\n",
              "      async function convertToInteractive(key) {\n",
              "        const element = document.querySelector('#df-e1af0e04-64a4-41ab-8a5e-2ea68706dadc');\n",
              "        const dataTable =\n",
              "          await google.colab.kernel.invokeFunction('convertToInteractive',\n",
              "                                                    [key], {});\n",
              "        if (!dataTable) return;\n",
              "\n",
              "        const docLinkHtml = 'Like what you see? Visit the ' +\n",
              "          '<a target=\"_blank\" href=https://colab.research.google.com/notebooks/data_table.ipynb>data table notebook</a>'\n",
              "          + ' to learn more about interactive tables.';\n",
              "        element.innerHTML = '';\n",
              "        dataTable['output_type'] = 'display_data';\n",
              "        await google.colab.output.renderOutput(dataTable, element);\n",
              "        const docLink = document.createElement('div');\n",
              "        docLink.innerHTML = docLinkHtml;\n",
              "        element.appendChild(docLink);\n",
              "      }\n",
              "    </script>\n",
              "  </div>\n",
              "\n",
              "\n",
              "<div id=\"df-ab6054da-7bb7-4dfc-af6c-74b46db4f966\">\n",
              "  <button class=\"colab-df-quickchart\" onclick=\"quickchart('df-ab6054da-7bb7-4dfc-af6c-74b46db4f966')\"\n",
              "            title=\"Suggest charts\"\n",
              "            style=\"display:none;\">\n",
              "\n",
              "<svg xmlns=\"http://www.w3.org/2000/svg\" height=\"24px\"viewBox=\"0 0 24 24\"\n",
              "     width=\"24px\">\n",
              "    <g>\n",
              "        <path d=\"M19 3H5c-1.1 0-2 .9-2 2v14c0 1.1.9 2 2 2h14c1.1 0 2-.9 2-2V5c0-1.1-.9-2-2-2zM9 17H7v-7h2v7zm4 0h-2V7h2v10zm4 0h-2v-4h2v4z\"/>\n",
              "    </g>\n",
              "</svg>\n",
              "  </button>\n",
              "\n",
              "<style>\n",
              "  .colab-df-quickchart {\n",
              "      --bg-color: #E8F0FE;\n",
              "      --fill-color: #1967D2;\n",
              "      --hover-bg-color: #E2EBFA;\n",
              "      --hover-fill-color: #174EA6;\n",
              "      --disabled-fill-color: #AAA;\n",
              "      --disabled-bg-color: #DDD;\n",
              "  }\n",
              "\n",
              "  [theme=dark] .colab-df-quickchart {\n",
              "      --bg-color: #3B4455;\n",
              "      --fill-color: #D2E3FC;\n",
              "      --hover-bg-color: #434B5C;\n",
              "      --hover-fill-color: #FFFFFF;\n",
              "      --disabled-bg-color: #3B4455;\n",
              "      --disabled-fill-color: #666;\n",
              "  }\n",
              "\n",
              "  .colab-df-quickchart {\n",
              "    background-color: var(--bg-color);\n",
              "    border: none;\n",
              "    border-radius: 50%;\n",
              "    cursor: pointer;\n",
              "    display: none;\n",
              "    fill: var(--fill-color);\n",
              "    height: 32px;\n",
              "    padding: 0;\n",
              "    width: 32px;\n",
              "  }\n",
              "\n",
              "  .colab-df-quickchart:hover {\n",
              "    background-color: var(--hover-bg-color);\n",
              "    box-shadow: 0 1px 2px rgba(60, 64, 67, 0.3), 0 1px 3px 1px rgba(60, 64, 67, 0.15);\n",
              "    fill: var(--button-hover-fill-color);\n",
              "  }\n",
              "\n",
              "  .colab-df-quickchart-complete:disabled,\n",
              "  .colab-df-quickchart-complete:disabled:hover {\n",
              "    background-color: var(--disabled-bg-color);\n",
              "    fill: var(--disabled-fill-color);\n",
              "    box-shadow: none;\n",
              "  }\n",
              "\n",
              "  .colab-df-spinner {\n",
              "    border: 2px solid var(--fill-color);\n",
              "    border-color: transparent;\n",
              "    border-bottom-color: var(--fill-color);\n",
              "    animation:\n",
              "      spin 1s steps(1) infinite;\n",
              "  }\n",
              "\n",
              "  @keyframes spin {\n",
              "    0% {\n",
              "      border-color: transparent;\n",
              "      border-bottom-color: var(--fill-color);\n",
              "      border-left-color: var(--fill-color);\n",
              "    }\n",
              "    20% {\n",
              "      border-color: transparent;\n",
              "      border-left-color: var(--fill-color);\n",
              "      border-top-color: var(--fill-color);\n",
              "    }\n",
              "    30% {\n",
              "      border-color: transparent;\n",
              "      border-left-color: var(--fill-color);\n",
              "      border-top-color: var(--fill-color);\n",
              "      border-right-color: var(--fill-color);\n",
              "    }\n",
              "    40% {\n",
              "      border-color: transparent;\n",
              "      border-right-color: var(--fill-color);\n",
              "      border-top-color: var(--fill-color);\n",
              "    }\n",
              "    60% {\n",
              "      border-color: transparent;\n",
              "      border-right-color: var(--fill-color);\n",
              "    }\n",
              "    80% {\n",
              "      border-color: transparent;\n",
              "      border-right-color: var(--fill-color);\n",
              "      border-bottom-color: var(--fill-color);\n",
              "    }\n",
              "    90% {\n",
              "      border-color: transparent;\n",
              "      border-bottom-color: var(--fill-color);\n",
              "    }\n",
              "  }\n",
              "</style>\n",
              "\n",
              "  <script>\n",
              "    async function quickchart(key) {\n",
              "      const quickchartButtonEl =\n",
              "        document.querySelector('#' + key + ' button');\n",
              "      quickchartButtonEl.disabled = true;  // To prevent multiple clicks.\n",
              "      quickchartButtonEl.classList.add('colab-df-spinner');\n",
              "      try {\n",
              "        const charts = await google.colab.kernel.invokeFunction(\n",
              "            'suggestCharts', [key], {});\n",
              "      } catch (error) {\n",
              "        console.error('Error during call to suggestCharts:', error);\n",
              "      }\n",
              "      quickchartButtonEl.classList.remove('colab-df-spinner');\n",
              "      quickchartButtonEl.classList.add('colab-df-quickchart-complete');\n",
              "    }\n",
              "    (() => {\n",
              "      let quickchartButtonEl =\n",
              "        document.querySelector('#df-ab6054da-7bb7-4dfc-af6c-74b46db4f966 button');\n",
              "      quickchartButtonEl.style.display =\n",
              "        google.colab.kernel.accessAllowed ? 'block' : 'none';\n",
              "    })();\n",
              "  </script>\n",
              "</div>\n",
              "    </div>\n",
              "  </div>\n"
            ],
            "application/vnd.google.colaboratory.intrinsic+json": {
              "type": "dataframe",
              "variable_name": "resumen_NaN_Causa_df",
              "summary": "{\n  \"name\": \"resumen_NaN_Causa_df\",\n  \"rows\": 4,\n  \"fields\": [\n    {\n      \"column\": \"Nulos\",\n      \"properties\": {\n        \"dtype\": \"number\",\n        \"std\": 4719,\n        \"min\": 0,\n        \"max\": 9765,\n        \"num_unique_values\": 3,\n        \"samples\": [\n          0,\n          9765,\n          5333\n        ],\n        \"semantic_type\": \"\",\n        \"description\": \"\"\n      }\n    },\n    {\n      \"column\": \"Registros\",\n      \"properties\": {\n        \"dtype\": \"number\",\n        \"std\": 0,\n        \"min\": 682392,\n        \"max\": 682392,\n        \"num_unique_values\": 1,\n        \"samples\": [\n          682392\n        ],\n        \"semantic_type\": \"\",\n        \"description\": \"\"\n      }\n    },\n    {\n      \"column\": \"% Nulos\",\n      \"properties\": {\n        \"dtype\": \"string\",\n        \"num_unique_values\": 3,\n        \"samples\": [\n          \"0.00%\"\n        ],\n        \"semantic_type\": \"\",\n        \"description\": \"\"\n      }\n    }\n  ]\n}"
            }
          },
          "metadata": {},
          "execution_count": 311
        }
      ],
      "source": [
        "# 10. Contabilizamos valores nulos, e identificamos participación en el total de registros por columnas\n",
        "resumen_NaN_Causa_df = pd.DataFrame(Causa_df.isnull().sum())\n",
        "resumen_NaN_Causa_df.columns=['Nulos']\n",
        "resumen_NaN_Causa_df['Registros']=Causa_df.shape[0]\n",
        "resumen_NaN_Causa_df['% Nulos']=resumen_NaN_Causa_df.Nulos/resumen_NaN_Causa_df.Registros\n",
        "resumen_NaN_Causa_df['% Nulos']=resumen_NaN_Causa_df['% Nulos'].apply(\"{:.2%}\".format)\n",
        "resumen_NaN_Causa_df"
      ]
    },
    {
      "cell_type": "code",
      "execution_count": null,
      "metadata": {
        "id": "Ry1GHJVcOq2b",
        "colab": {
          "base_uri": "https://localhost:8080/"
        },
        "outputId": "534eb3d8-1dd6-4f1c-f0a0-3dea2eebeee5"
      },
      "outputs": [
        {
          "output_type": "stream",
          "name": "stdout",
          "text": [
            "Las variables almacenan la información en el siguiente formato: CODIGO_ACCIDENTE      int64\n",
            "CODIGO_CAUSA        float64\n",
            "TIPO                 object\n",
            "CODIGO_AC_VH         object\n",
            "dtype: object\n"
          ]
        }
      ],
      "source": [
        "print('Las variables almacenan la información en el siguiente formato:', Causa_df.dtypes)"
      ]
    },
    {
      "cell_type": "markdown",
      "metadata": {
        "id": "NiahzHC-4YPX"
      },
      "source": [
        "### 3.30 Creación de tabla Vehículo"
      ]
    },
    {
      "cell_type": "code",
      "execution_count": null,
      "metadata": {
        "id": "CuXkOxeZ4dVX",
        "colab": {
          "base_uri": "https://localhost:8080/"
        },
        "outputId": "2dd705b3-3f97-47da-df8d-6ab7b0c27d33"
      },
      "outputs": [
        {
          "output_type": "stream",
          "name": "stderr",
          "text": [
            "<ipython-input-313-a31382f0b9d1>:1: DtypeWarning: Columns (1,6,7) have mixed types. Specify dtype option on import or set low_memory=False.\n",
            "  Vehiculo = pd.read_csv('/content/Vehiculo.csv')\n"
          ]
        },
        {
          "output_type": "execute_result",
          "data": {
            "text/plain": [
              "   OBJECTID  FORMULARIO   PLACA  CODIGO_VEHICULO        CLASE    SERVICIO  \\\n",
              "0       530  A000032685  BWH61C              1.0  MOTOCICLETA  PARTICULAR   \n",
              "1       533  A000032986  BSU084              1.0    AUTOMOVIL  PARTICULAR   \n",
              "2       541  A000032708  CUW805              1.0    AUTOMOVIL  PARTICULAR   \n",
              "3       542  A000032708  YHV59C              2.0  MOTOCICLETA  PARTICULAR   \n",
              "4       546  A000033456  WGG324              1.0          BUS     PUBLICO   \n",
              "\n",
              "            MODALIDAD ENFUGA    CODIGO  \n",
              "0                 NaN      N  511951-1  \n",
              "1                 NaN      N  511950-1  \n",
              "2                 NaN      N  511947-1  \n",
              "3                 NaN      N  511947-2  \n",
              "4  PASAJEROS - MASIVO      N  511955-1  "
            ],
            "text/html": [
              "\n",
              "  <div id=\"df-70fb48ca-d019-49a5-8543-cbdce1025360\" class=\"colab-df-container\">\n",
              "    <div>\n",
              "<style scoped>\n",
              "    .dataframe tbody tr th:only-of-type {\n",
              "        vertical-align: middle;\n",
              "    }\n",
              "\n",
              "    .dataframe tbody tr th {\n",
              "        vertical-align: top;\n",
              "    }\n",
              "\n",
              "    .dataframe thead th {\n",
              "        text-align: right;\n",
              "    }\n",
              "</style>\n",
              "<table border=\"1\" class=\"dataframe\">\n",
              "  <thead>\n",
              "    <tr style=\"text-align: right;\">\n",
              "      <th></th>\n",
              "      <th>OBJECTID</th>\n",
              "      <th>FORMULARIO</th>\n",
              "      <th>PLACA</th>\n",
              "      <th>CODIGO_VEHICULO</th>\n",
              "      <th>CLASE</th>\n",
              "      <th>SERVICIO</th>\n",
              "      <th>MODALIDAD</th>\n",
              "      <th>ENFUGA</th>\n",
              "      <th>CODIGO</th>\n",
              "    </tr>\n",
              "  </thead>\n",
              "  <tbody>\n",
              "    <tr>\n",
              "      <th>0</th>\n",
              "      <td>530</td>\n",
              "      <td>A000032685</td>\n",
              "      <td>BWH61C</td>\n",
              "      <td>1.0</td>\n",
              "      <td>MOTOCICLETA</td>\n",
              "      <td>PARTICULAR</td>\n",
              "      <td>NaN</td>\n",
              "      <td>N</td>\n",
              "      <td>511951-1</td>\n",
              "    </tr>\n",
              "    <tr>\n",
              "      <th>1</th>\n",
              "      <td>533</td>\n",
              "      <td>A000032986</td>\n",
              "      <td>BSU084</td>\n",
              "      <td>1.0</td>\n",
              "      <td>AUTOMOVIL</td>\n",
              "      <td>PARTICULAR</td>\n",
              "      <td>NaN</td>\n",
              "      <td>N</td>\n",
              "      <td>511950-1</td>\n",
              "    </tr>\n",
              "    <tr>\n",
              "      <th>2</th>\n",
              "      <td>541</td>\n",
              "      <td>A000032708</td>\n",
              "      <td>CUW805</td>\n",
              "      <td>1.0</td>\n",
              "      <td>AUTOMOVIL</td>\n",
              "      <td>PARTICULAR</td>\n",
              "      <td>NaN</td>\n",
              "      <td>N</td>\n",
              "      <td>511947-1</td>\n",
              "    </tr>\n",
              "    <tr>\n",
              "      <th>3</th>\n",
              "      <td>542</td>\n",
              "      <td>A000032708</td>\n",
              "      <td>YHV59C</td>\n",
              "      <td>2.0</td>\n",
              "      <td>MOTOCICLETA</td>\n",
              "      <td>PARTICULAR</td>\n",
              "      <td>NaN</td>\n",
              "      <td>N</td>\n",
              "      <td>511947-2</td>\n",
              "    </tr>\n",
              "    <tr>\n",
              "      <th>4</th>\n",
              "      <td>546</td>\n",
              "      <td>A000033456</td>\n",
              "      <td>WGG324</td>\n",
              "      <td>1.0</td>\n",
              "      <td>BUS</td>\n",
              "      <td>PUBLICO</td>\n",
              "      <td>PASAJEROS - MASIVO</td>\n",
              "      <td>N</td>\n",
              "      <td>511955-1</td>\n",
              "    </tr>\n",
              "  </tbody>\n",
              "</table>\n",
              "</div>\n",
              "    <div class=\"colab-df-buttons\">\n",
              "\n",
              "  <div class=\"colab-df-container\">\n",
              "    <button class=\"colab-df-convert\" onclick=\"convertToInteractive('df-70fb48ca-d019-49a5-8543-cbdce1025360')\"\n",
              "            title=\"Convert this dataframe to an interactive table.\"\n",
              "            style=\"display:none;\">\n",
              "\n",
              "  <svg xmlns=\"http://www.w3.org/2000/svg\" height=\"24px\" viewBox=\"0 -960 960 960\">\n",
              "    <path d=\"M120-120v-720h720v720H120Zm60-500h600v-160H180v160Zm220 220h160v-160H400v160Zm0 220h160v-160H400v160ZM180-400h160v-160H180v160Zm440 0h160v-160H620v160ZM180-180h160v-160H180v160Zm440 0h160v-160H620v160Z\"/>\n",
              "  </svg>\n",
              "    </button>\n",
              "\n",
              "  <style>\n",
              "    .colab-df-container {\n",
              "      display:flex;\n",
              "      gap: 12px;\n",
              "    }\n",
              "\n",
              "    .colab-df-convert {\n",
              "      background-color: #E8F0FE;\n",
              "      border: none;\n",
              "      border-radius: 50%;\n",
              "      cursor: pointer;\n",
              "      display: none;\n",
              "      fill: #1967D2;\n",
              "      height: 32px;\n",
              "      padding: 0 0 0 0;\n",
              "      width: 32px;\n",
              "    }\n",
              "\n",
              "    .colab-df-convert:hover {\n",
              "      background-color: #E2EBFA;\n",
              "      box-shadow: 0px 1px 2px rgba(60, 64, 67, 0.3), 0px 1px 3px 1px rgba(60, 64, 67, 0.15);\n",
              "      fill: #174EA6;\n",
              "    }\n",
              "\n",
              "    .colab-df-buttons div {\n",
              "      margin-bottom: 4px;\n",
              "    }\n",
              "\n",
              "    [theme=dark] .colab-df-convert {\n",
              "      background-color: #3B4455;\n",
              "      fill: #D2E3FC;\n",
              "    }\n",
              "\n",
              "    [theme=dark] .colab-df-convert:hover {\n",
              "      background-color: #434B5C;\n",
              "      box-shadow: 0px 1px 3px 1px rgba(0, 0, 0, 0.15);\n",
              "      filter: drop-shadow(0px 1px 2px rgba(0, 0, 0, 0.3));\n",
              "      fill: #FFFFFF;\n",
              "    }\n",
              "  </style>\n",
              "\n",
              "    <script>\n",
              "      const buttonEl =\n",
              "        document.querySelector('#df-70fb48ca-d019-49a5-8543-cbdce1025360 button.colab-df-convert');\n",
              "      buttonEl.style.display =\n",
              "        google.colab.kernel.accessAllowed ? 'block' : 'none';\n",
              "\n",
              "      async function convertToInteractive(key) {\n",
              "        const element = document.querySelector('#df-70fb48ca-d019-49a5-8543-cbdce1025360');\n",
              "        const dataTable =\n",
              "          await google.colab.kernel.invokeFunction('convertToInteractive',\n",
              "                                                    [key], {});\n",
              "        if (!dataTable) return;\n",
              "\n",
              "        const docLinkHtml = 'Like what you see? Visit the ' +\n",
              "          '<a target=\"_blank\" href=https://colab.research.google.com/notebooks/data_table.ipynb>data table notebook</a>'\n",
              "          + ' to learn more about interactive tables.';\n",
              "        element.innerHTML = '';\n",
              "        dataTable['output_type'] = 'display_data';\n",
              "        await google.colab.output.renderOutput(dataTable, element);\n",
              "        const docLink = document.createElement('div');\n",
              "        docLink.innerHTML = docLinkHtml;\n",
              "        element.appendChild(docLink);\n",
              "      }\n",
              "    </script>\n",
              "  </div>\n",
              "\n",
              "\n",
              "<div id=\"df-8913ff61-5380-4da0-a0fb-10f490f1cd1e\">\n",
              "  <button class=\"colab-df-quickchart\" onclick=\"quickchart('df-8913ff61-5380-4da0-a0fb-10f490f1cd1e')\"\n",
              "            title=\"Suggest charts\"\n",
              "            style=\"display:none;\">\n",
              "\n",
              "<svg xmlns=\"http://www.w3.org/2000/svg\" height=\"24px\"viewBox=\"0 0 24 24\"\n",
              "     width=\"24px\">\n",
              "    <g>\n",
              "        <path d=\"M19 3H5c-1.1 0-2 .9-2 2v14c0 1.1.9 2 2 2h14c1.1 0 2-.9 2-2V5c0-1.1-.9-2-2-2zM9 17H7v-7h2v7zm4 0h-2V7h2v10zm4 0h-2v-4h2v4z\"/>\n",
              "    </g>\n",
              "</svg>\n",
              "  </button>\n",
              "\n",
              "<style>\n",
              "  .colab-df-quickchart {\n",
              "      --bg-color: #E8F0FE;\n",
              "      --fill-color: #1967D2;\n",
              "      --hover-bg-color: #E2EBFA;\n",
              "      --hover-fill-color: #174EA6;\n",
              "      --disabled-fill-color: #AAA;\n",
              "      --disabled-bg-color: #DDD;\n",
              "  }\n",
              "\n",
              "  [theme=dark] .colab-df-quickchart {\n",
              "      --bg-color: #3B4455;\n",
              "      --fill-color: #D2E3FC;\n",
              "      --hover-bg-color: #434B5C;\n",
              "      --hover-fill-color: #FFFFFF;\n",
              "      --disabled-bg-color: #3B4455;\n",
              "      --disabled-fill-color: #666;\n",
              "  }\n",
              "\n",
              "  .colab-df-quickchart {\n",
              "    background-color: var(--bg-color);\n",
              "    border: none;\n",
              "    border-radius: 50%;\n",
              "    cursor: pointer;\n",
              "    display: none;\n",
              "    fill: var(--fill-color);\n",
              "    height: 32px;\n",
              "    padding: 0;\n",
              "    width: 32px;\n",
              "  }\n",
              "\n",
              "  .colab-df-quickchart:hover {\n",
              "    background-color: var(--hover-bg-color);\n",
              "    box-shadow: 0 1px 2px rgba(60, 64, 67, 0.3), 0 1px 3px 1px rgba(60, 64, 67, 0.15);\n",
              "    fill: var(--button-hover-fill-color);\n",
              "  }\n",
              "\n",
              "  .colab-df-quickchart-complete:disabled,\n",
              "  .colab-df-quickchart-complete:disabled:hover {\n",
              "    background-color: var(--disabled-bg-color);\n",
              "    fill: var(--disabled-fill-color);\n",
              "    box-shadow: none;\n",
              "  }\n",
              "\n",
              "  .colab-df-spinner {\n",
              "    border: 2px solid var(--fill-color);\n",
              "    border-color: transparent;\n",
              "    border-bottom-color: var(--fill-color);\n",
              "    animation:\n",
              "      spin 1s steps(1) infinite;\n",
              "  }\n",
              "\n",
              "  @keyframes spin {\n",
              "    0% {\n",
              "      border-color: transparent;\n",
              "      border-bottom-color: var(--fill-color);\n",
              "      border-left-color: var(--fill-color);\n",
              "    }\n",
              "    20% {\n",
              "      border-color: transparent;\n",
              "      border-left-color: var(--fill-color);\n",
              "      border-top-color: var(--fill-color);\n",
              "    }\n",
              "    30% {\n",
              "      border-color: transparent;\n",
              "      border-left-color: var(--fill-color);\n",
              "      border-top-color: var(--fill-color);\n",
              "      border-right-color: var(--fill-color);\n",
              "    }\n",
              "    40% {\n",
              "      border-color: transparent;\n",
              "      border-right-color: var(--fill-color);\n",
              "      border-top-color: var(--fill-color);\n",
              "    }\n",
              "    60% {\n",
              "      border-color: transparent;\n",
              "      border-right-color: var(--fill-color);\n",
              "    }\n",
              "    80% {\n",
              "      border-color: transparent;\n",
              "      border-right-color: var(--fill-color);\n",
              "      border-bottom-color: var(--fill-color);\n",
              "    }\n",
              "    90% {\n",
              "      border-color: transparent;\n",
              "      border-bottom-color: var(--fill-color);\n",
              "    }\n",
              "  }\n",
              "</style>\n",
              "\n",
              "  <script>\n",
              "    async function quickchart(key) {\n",
              "      const quickchartButtonEl =\n",
              "        document.querySelector('#' + key + ' button');\n",
              "      quickchartButtonEl.disabled = true;  // To prevent multiple clicks.\n",
              "      quickchartButtonEl.classList.add('colab-df-spinner');\n",
              "      try {\n",
              "        const charts = await google.colab.kernel.invokeFunction(\n",
              "            'suggestCharts', [key], {});\n",
              "      } catch (error) {\n",
              "        console.error('Error during call to suggestCharts:', error);\n",
              "      }\n",
              "      quickchartButtonEl.classList.remove('colab-df-spinner');\n",
              "      quickchartButtonEl.classList.add('colab-df-quickchart-complete');\n",
              "    }\n",
              "    (() => {\n",
              "      let quickchartButtonEl =\n",
              "        document.querySelector('#df-8913ff61-5380-4da0-a0fb-10f490f1cd1e button');\n",
              "      quickchartButtonEl.style.display =\n",
              "        google.colab.kernel.accessAllowed ? 'block' : 'none';\n",
              "    })();\n",
              "  </script>\n",
              "</div>\n",
              "    </div>\n",
              "  </div>\n"
            ],
            "application/vnd.google.colaboratory.intrinsic+json": {
              "type": "dataframe",
              "variable_name": "Vehiculo"
            }
          },
          "metadata": {},
          "execution_count": 313
        }
      ],
      "source": [
        "Vehiculo = pd.read_csv('/content/Vehiculo.csv')\n",
        "Vehiculo.head()"
      ]
    },
    {
      "cell_type": "code",
      "execution_count": null,
      "metadata": {
        "id": "g31qyFySlZ_q",
        "colab": {
          "base_uri": "https://localhost:8080/"
        },
        "outputId": "d12e2052-fa80-4851-baf3-54b4869bdde4"
      },
      "outputs": [
        {
          "output_type": "stream",
          "name": "stdout",
          "text": [
            "El DataFrame está compuesto por 1,441,024 filas y 9 columnas\n",
            "Con información distribuida en las siguientes variables: Index(['OBJECTID', 'FORMULARIO', 'PLACA', 'CODIGO_VEHICULO', 'CLASE',\n",
            "       'SERVICIO', 'MODALIDAD', 'ENFUGA', 'CODIGO'],\n",
            "      dtype='object')\n",
            "Las variables almacenan la información en el siguiente formato: OBJECTID             int64\n",
            "FORMULARIO          object\n",
            "PLACA               object\n",
            "CODIGO_VEHICULO    float64\n",
            "CLASE               object\n",
            "SERVICIO            object\n",
            "MODALIDAD           object\n",
            "ENFUGA              object\n",
            "CODIGO              object\n",
            "dtype: object\n"
          ]
        }
      ],
      "source": [
        "# 1. Revisión de la Estructura del Dataset\n",
        "print('El DataFrame está compuesto por {:,}'.format(Vehiculo.shape[0]),'filas y',Vehiculo.shape[1],'columnas')\n",
        "print('Con información distribuida en las siguientes variables:', Vehiculo.columns)\n",
        "print('Las variables almacenan la información en el siguiente formato:', Vehiculo.dtypes)"
      ]
    },
    {
      "cell_type": "code",
      "execution_count": null,
      "metadata": {
        "id": "sybWrVt4liuF",
        "colab": {
          "base_uri": "https://localhost:8080/"
        },
        "outputId": "60d83afa-7de3-48c8-f6e0-7fdf4baa08a3"
      },
      "outputs": [
        {
          "output_type": "execute_result",
          "data": {
            "text/plain": [
              "            OBJECTID   FORMULARIO    PLACA  CODIGO_VEHICULO      CLASE  \\\n",
              "count   1.441024e+06    1441024.0  1393918     1.441020e+06    1427389   \n",
              "unique           NaN     780176.0   915542              NaN         27   \n",
              "top              NaN  513283600.0      P/E              NaN  AUTOMOVIL   \n",
              "freq             NaN         54.0    16040              NaN     626460   \n",
              "mean    5.461994e+06          NaN      NaN     1.502388e+00        NaN   \n",
              "std     5.148519e+06          NaN      NaN     6.446302e-01        NaN   \n",
              "min     5.300000e+02          NaN      NaN    -1.000000e+00        NaN   \n",
              "25%     6.676688e+05          NaN      NaN     1.000000e+00        NaN   \n",
              "50%     4.256345e+06          NaN      NaN     1.000000e+00        NaN   \n",
              "75%     8.078992e+06          NaN      NaN     2.000000e+00        NaN   \n",
              "max     1.430873e+07          NaN      NaN     5.300000e+01        NaN   \n",
              "\n",
              "          SERVICIO               MODALIDAD  ENFUGA    CODIGO  \n",
              "count      1405407                  339198  907565   1441024  \n",
              "unique           5                      12       2   1441024  \n",
              "top     PARTICULAR  PASAJEROS - INDIVIDUAL       N  511951-1  \n",
              "freq        772189                   70712  892815         1  \n",
              "mean           NaN                     NaN     NaN       NaN  \n",
              "std            NaN                     NaN     NaN       NaN  \n",
              "min            NaN                     NaN     NaN       NaN  \n",
              "25%            NaN                     NaN     NaN       NaN  \n",
              "50%            NaN                     NaN     NaN       NaN  \n",
              "75%            NaN                     NaN     NaN       NaN  \n",
              "max            NaN                     NaN     NaN       NaN  "
            ],
            "text/html": [
              "\n",
              "  <div id=\"df-541b37fd-0b17-4d70-80ca-f52009d9e485\" class=\"colab-df-container\">\n",
              "    <div>\n",
              "<style scoped>\n",
              "    .dataframe tbody tr th:only-of-type {\n",
              "        vertical-align: middle;\n",
              "    }\n",
              "\n",
              "    .dataframe tbody tr th {\n",
              "        vertical-align: top;\n",
              "    }\n",
              "\n",
              "    .dataframe thead th {\n",
              "        text-align: right;\n",
              "    }\n",
              "</style>\n",
              "<table border=\"1\" class=\"dataframe\">\n",
              "  <thead>\n",
              "    <tr style=\"text-align: right;\">\n",
              "      <th></th>\n",
              "      <th>OBJECTID</th>\n",
              "      <th>FORMULARIO</th>\n",
              "      <th>PLACA</th>\n",
              "      <th>CODIGO_VEHICULO</th>\n",
              "      <th>CLASE</th>\n",
              "      <th>SERVICIO</th>\n",
              "      <th>MODALIDAD</th>\n",
              "      <th>ENFUGA</th>\n",
              "      <th>CODIGO</th>\n",
              "    </tr>\n",
              "  </thead>\n",
              "  <tbody>\n",
              "    <tr>\n",
              "      <th>count</th>\n",
              "      <td>1.441024e+06</td>\n",
              "      <td>1441024.0</td>\n",
              "      <td>1393918</td>\n",
              "      <td>1.441020e+06</td>\n",
              "      <td>1427389</td>\n",
              "      <td>1405407</td>\n",
              "      <td>339198</td>\n",
              "      <td>907565</td>\n",
              "      <td>1441024</td>\n",
              "    </tr>\n",
              "    <tr>\n",
              "      <th>unique</th>\n",
              "      <td>NaN</td>\n",
              "      <td>780176.0</td>\n",
              "      <td>915542</td>\n",
              "      <td>NaN</td>\n",
              "      <td>27</td>\n",
              "      <td>5</td>\n",
              "      <td>12</td>\n",
              "      <td>2</td>\n",
              "      <td>1441024</td>\n",
              "    </tr>\n",
              "    <tr>\n",
              "      <th>top</th>\n",
              "      <td>NaN</td>\n",
              "      <td>513283600.0</td>\n",
              "      <td>P/E</td>\n",
              "      <td>NaN</td>\n",
              "      <td>AUTOMOVIL</td>\n",
              "      <td>PARTICULAR</td>\n",
              "      <td>PASAJEROS - INDIVIDUAL</td>\n",
              "      <td>N</td>\n",
              "      <td>511951-1</td>\n",
              "    </tr>\n",
              "    <tr>\n",
              "      <th>freq</th>\n",
              "      <td>NaN</td>\n",
              "      <td>54.0</td>\n",
              "      <td>16040</td>\n",
              "      <td>NaN</td>\n",
              "      <td>626460</td>\n",
              "      <td>772189</td>\n",
              "      <td>70712</td>\n",
              "      <td>892815</td>\n",
              "      <td>1</td>\n",
              "    </tr>\n",
              "    <tr>\n",
              "      <th>mean</th>\n",
              "      <td>5.461994e+06</td>\n",
              "      <td>NaN</td>\n",
              "      <td>NaN</td>\n",
              "      <td>1.502388e+00</td>\n",
              "      <td>NaN</td>\n",
              "      <td>NaN</td>\n",
              "      <td>NaN</td>\n",
              "      <td>NaN</td>\n",
              "      <td>NaN</td>\n",
              "    </tr>\n",
              "    <tr>\n",
              "      <th>std</th>\n",
              "      <td>5.148519e+06</td>\n",
              "      <td>NaN</td>\n",
              "      <td>NaN</td>\n",
              "      <td>6.446302e-01</td>\n",
              "      <td>NaN</td>\n",
              "      <td>NaN</td>\n",
              "      <td>NaN</td>\n",
              "      <td>NaN</td>\n",
              "      <td>NaN</td>\n",
              "    </tr>\n",
              "    <tr>\n",
              "      <th>min</th>\n",
              "      <td>5.300000e+02</td>\n",
              "      <td>NaN</td>\n",
              "      <td>NaN</td>\n",
              "      <td>-1.000000e+00</td>\n",
              "      <td>NaN</td>\n",
              "      <td>NaN</td>\n",
              "      <td>NaN</td>\n",
              "      <td>NaN</td>\n",
              "      <td>NaN</td>\n",
              "    </tr>\n",
              "    <tr>\n",
              "      <th>25%</th>\n",
              "      <td>6.676688e+05</td>\n",
              "      <td>NaN</td>\n",
              "      <td>NaN</td>\n",
              "      <td>1.000000e+00</td>\n",
              "      <td>NaN</td>\n",
              "      <td>NaN</td>\n",
              "      <td>NaN</td>\n",
              "      <td>NaN</td>\n",
              "      <td>NaN</td>\n",
              "    </tr>\n",
              "    <tr>\n",
              "      <th>50%</th>\n",
              "      <td>4.256345e+06</td>\n",
              "      <td>NaN</td>\n",
              "      <td>NaN</td>\n",
              "      <td>1.000000e+00</td>\n",
              "      <td>NaN</td>\n",
              "      <td>NaN</td>\n",
              "      <td>NaN</td>\n",
              "      <td>NaN</td>\n",
              "      <td>NaN</td>\n",
              "    </tr>\n",
              "    <tr>\n",
              "      <th>75%</th>\n",
              "      <td>8.078992e+06</td>\n",
              "      <td>NaN</td>\n",
              "      <td>NaN</td>\n",
              "      <td>2.000000e+00</td>\n",
              "      <td>NaN</td>\n",
              "      <td>NaN</td>\n",
              "      <td>NaN</td>\n",
              "      <td>NaN</td>\n",
              "      <td>NaN</td>\n",
              "    </tr>\n",
              "    <tr>\n",
              "      <th>max</th>\n",
              "      <td>1.430873e+07</td>\n",
              "      <td>NaN</td>\n",
              "      <td>NaN</td>\n",
              "      <td>5.300000e+01</td>\n",
              "      <td>NaN</td>\n",
              "      <td>NaN</td>\n",
              "      <td>NaN</td>\n",
              "      <td>NaN</td>\n",
              "      <td>NaN</td>\n",
              "    </tr>\n",
              "  </tbody>\n",
              "</table>\n",
              "</div>\n",
              "    <div class=\"colab-df-buttons\">\n",
              "\n",
              "  <div class=\"colab-df-container\">\n",
              "    <button class=\"colab-df-convert\" onclick=\"convertToInteractive('df-541b37fd-0b17-4d70-80ca-f52009d9e485')\"\n",
              "            title=\"Convert this dataframe to an interactive table.\"\n",
              "            style=\"display:none;\">\n",
              "\n",
              "  <svg xmlns=\"http://www.w3.org/2000/svg\" height=\"24px\" viewBox=\"0 -960 960 960\">\n",
              "    <path d=\"M120-120v-720h720v720H120Zm60-500h600v-160H180v160Zm220 220h160v-160H400v160Zm0 220h160v-160H400v160ZM180-400h160v-160H180v160Zm440 0h160v-160H620v160ZM180-180h160v-160H180v160Zm440 0h160v-160H620v160Z\"/>\n",
              "  </svg>\n",
              "    </button>\n",
              "\n",
              "  <style>\n",
              "    .colab-df-container {\n",
              "      display:flex;\n",
              "      gap: 12px;\n",
              "    }\n",
              "\n",
              "    .colab-df-convert {\n",
              "      background-color: #E8F0FE;\n",
              "      border: none;\n",
              "      border-radius: 50%;\n",
              "      cursor: pointer;\n",
              "      display: none;\n",
              "      fill: #1967D2;\n",
              "      height: 32px;\n",
              "      padding: 0 0 0 0;\n",
              "      width: 32px;\n",
              "    }\n",
              "\n",
              "    .colab-df-convert:hover {\n",
              "      background-color: #E2EBFA;\n",
              "      box-shadow: 0px 1px 2px rgba(60, 64, 67, 0.3), 0px 1px 3px 1px rgba(60, 64, 67, 0.15);\n",
              "      fill: #174EA6;\n",
              "    }\n",
              "\n",
              "    .colab-df-buttons div {\n",
              "      margin-bottom: 4px;\n",
              "    }\n",
              "\n",
              "    [theme=dark] .colab-df-convert {\n",
              "      background-color: #3B4455;\n",
              "      fill: #D2E3FC;\n",
              "    }\n",
              "\n",
              "    [theme=dark] .colab-df-convert:hover {\n",
              "      background-color: #434B5C;\n",
              "      box-shadow: 0px 1px 3px 1px rgba(0, 0, 0, 0.15);\n",
              "      filter: drop-shadow(0px 1px 2px rgba(0, 0, 0, 0.3));\n",
              "      fill: #FFFFFF;\n",
              "    }\n",
              "  </style>\n",
              "\n",
              "    <script>\n",
              "      const buttonEl =\n",
              "        document.querySelector('#df-541b37fd-0b17-4d70-80ca-f52009d9e485 button.colab-df-convert');\n",
              "      buttonEl.style.display =\n",
              "        google.colab.kernel.accessAllowed ? 'block' : 'none';\n",
              "\n",
              "      async function convertToInteractive(key) {\n",
              "        const element = document.querySelector('#df-541b37fd-0b17-4d70-80ca-f52009d9e485');\n",
              "        const dataTable =\n",
              "          await google.colab.kernel.invokeFunction('convertToInteractive',\n",
              "                                                    [key], {});\n",
              "        if (!dataTable) return;\n",
              "\n",
              "        const docLinkHtml = 'Like what you see? Visit the ' +\n",
              "          '<a target=\"_blank\" href=https://colab.research.google.com/notebooks/data_table.ipynb>data table notebook</a>'\n",
              "          + ' to learn more about interactive tables.';\n",
              "        element.innerHTML = '';\n",
              "        dataTable['output_type'] = 'display_data';\n",
              "        await google.colab.output.renderOutput(dataTable, element);\n",
              "        const docLink = document.createElement('div');\n",
              "        docLink.innerHTML = docLinkHtml;\n",
              "        element.appendChild(docLink);\n",
              "      }\n",
              "    </script>\n",
              "  </div>\n",
              "\n",
              "\n",
              "<div id=\"df-1ea020ad-96e7-492e-a485-7fd8ddfe85aa\">\n",
              "  <button class=\"colab-df-quickchart\" onclick=\"quickchart('df-1ea020ad-96e7-492e-a485-7fd8ddfe85aa')\"\n",
              "            title=\"Suggest charts\"\n",
              "            style=\"display:none;\">\n",
              "\n",
              "<svg xmlns=\"http://www.w3.org/2000/svg\" height=\"24px\"viewBox=\"0 0 24 24\"\n",
              "     width=\"24px\">\n",
              "    <g>\n",
              "        <path d=\"M19 3H5c-1.1 0-2 .9-2 2v14c0 1.1.9 2 2 2h14c1.1 0 2-.9 2-2V5c0-1.1-.9-2-2-2zM9 17H7v-7h2v7zm4 0h-2V7h2v10zm4 0h-2v-4h2v4z\"/>\n",
              "    </g>\n",
              "</svg>\n",
              "  </button>\n",
              "\n",
              "<style>\n",
              "  .colab-df-quickchart {\n",
              "      --bg-color: #E8F0FE;\n",
              "      --fill-color: #1967D2;\n",
              "      --hover-bg-color: #E2EBFA;\n",
              "      --hover-fill-color: #174EA6;\n",
              "      --disabled-fill-color: #AAA;\n",
              "      --disabled-bg-color: #DDD;\n",
              "  }\n",
              "\n",
              "  [theme=dark] .colab-df-quickchart {\n",
              "      --bg-color: #3B4455;\n",
              "      --fill-color: #D2E3FC;\n",
              "      --hover-bg-color: #434B5C;\n",
              "      --hover-fill-color: #FFFFFF;\n",
              "      --disabled-bg-color: #3B4455;\n",
              "      --disabled-fill-color: #666;\n",
              "  }\n",
              "\n",
              "  .colab-df-quickchart {\n",
              "    background-color: var(--bg-color);\n",
              "    border: none;\n",
              "    border-radius: 50%;\n",
              "    cursor: pointer;\n",
              "    display: none;\n",
              "    fill: var(--fill-color);\n",
              "    height: 32px;\n",
              "    padding: 0;\n",
              "    width: 32px;\n",
              "  }\n",
              "\n",
              "  .colab-df-quickchart:hover {\n",
              "    background-color: var(--hover-bg-color);\n",
              "    box-shadow: 0 1px 2px rgba(60, 64, 67, 0.3), 0 1px 3px 1px rgba(60, 64, 67, 0.15);\n",
              "    fill: var(--button-hover-fill-color);\n",
              "  }\n",
              "\n",
              "  .colab-df-quickchart-complete:disabled,\n",
              "  .colab-df-quickchart-complete:disabled:hover {\n",
              "    background-color: var(--disabled-bg-color);\n",
              "    fill: var(--disabled-fill-color);\n",
              "    box-shadow: none;\n",
              "  }\n",
              "\n",
              "  .colab-df-spinner {\n",
              "    border: 2px solid var(--fill-color);\n",
              "    border-color: transparent;\n",
              "    border-bottom-color: var(--fill-color);\n",
              "    animation:\n",
              "      spin 1s steps(1) infinite;\n",
              "  }\n",
              "\n",
              "  @keyframes spin {\n",
              "    0% {\n",
              "      border-color: transparent;\n",
              "      border-bottom-color: var(--fill-color);\n",
              "      border-left-color: var(--fill-color);\n",
              "    }\n",
              "    20% {\n",
              "      border-color: transparent;\n",
              "      border-left-color: var(--fill-color);\n",
              "      border-top-color: var(--fill-color);\n",
              "    }\n",
              "    30% {\n",
              "      border-color: transparent;\n",
              "      border-left-color: var(--fill-color);\n",
              "      border-top-color: var(--fill-color);\n",
              "      border-right-color: var(--fill-color);\n",
              "    }\n",
              "    40% {\n",
              "      border-color: transparent;\n",
              "      border-right-color: var(--fill-color);\n",
              "      border-top-color: var(--fill-color);\n",
              "    }\n",
              "    60% {\n",
              "      border-color: transparent;\n",
              "      border-right-color: var(--fill-color);\n",
              "    }\n",
              "    80% {\n",
              "      border-color: transparent;\n",
              "      border-right-color: var(--fill-color);\n",
              "      border-bottom-color: var(--fill-color);\n",
              "    }\n",
              "    90% {\n",
              "      border-color: transparent;\n",
              "      border-bottom-color: var(--fill-color);\n",
              "    }\n",
              "  }\n",
              "</style>\n",
              "\n",
              "  <script>\n",
              "    async function quickchart(key) {\n",
              "      const quickchartButtonEl =\n",
              "        document.querySelector('#' + key + ' button');\n",
              "      quickchartButtonEl.disabled = true;  // To prevent multiple clicks.\n",
              "      quickchartButtonEl.classList.add('colab-df-spinner');\n",
              "      try {\n",
              "        const charts = await google.colab.kernel.invokeFunction(\n",
              "            'suggestCharts', [key], {});\n",
              "      } catch (error) {\n",
              "        console.error('Error during call to suggestCharts:', error);\n",
              "      }\n",
              "      quickchartButtonEl.classList.remove('colab-df-spinner');\n",
              "      quickchartButtonEl.classList.add('colab-df-quickchart-complete');\n",
              "    }\n",
              "    (() => {\n",
              "      let quickchartButtonEl =\n",
              "        document.querySelector('#df-1ea020ad-96e7-492e-a485-7fd8ddfe85aa button');\n",
              "      quickchartButtonEl.style.display =\n",
              "        google.colab.kernel.accessAllowed ? 'block' : 'none';\n",
              "    })();\n",
              "  </script>\n",
              "</div>\n",
              "    </div>\n",
              "  </div>\n"
            ],
            "application/vnd.google.colaboratory.intrinsic+json": {
              "type": "dataframe",
              "variable_name": "description",
              "summary": "{\n  \"name\": \"description\",\n  \"rows\": 11,\n  \"fields\": [\n    {\n      \"column\": \"OBJECTID\",\n      \"properties\": {\n        \"dtype\": \"number\",\n        \"std\": 4679753.351421119,\n        \"min\": 530.0,\n        \"max\": 14308728.0,\n        \"num_unique_values\": 8,\n        \"samples\": [\n          5461993.767267582,\n          4256345.0,\n          1441024.0\n        ],\n        \"semantic_type\": \"\",\n        \"description\": \"\"\n      }\n    },\n    {\n      \"column\": \"FORMULARIO\",\n      \"properties\": {\n        \"dtype\": \"number\",\n        \"std\": 256272267.73448855,\n        \"min\": 54.0,\n        \"max\": 513283600.0,\n        \"num_unique_values\": 4,\n        \"samples\": [\n          780176.0,\n          54.0,\n          1441024.0\n        ],\n        \"semantic_type\": \"\",\n        \"description\": \"\"\n      }\n    },\n    {\n      \"column\": \"PLACA\",\n      \"properties\": {\n        \"dtype\": \"category\",\n        \"num_unique_values\": 4,\n        \"samples\": [\n          915542,\n          \"16040\",\n          \"1393918\"\n        ],\n        \"semantic_type\": \"\",\n        \"description\": \"\"\n      }\n    },\n    {\n      \"column\": \"CODIGO_VEHICULO\",\n      \"properties\": {\n        \"dtype\": \"number\",\n        \"std\": 509474.5703722638,\n        \"min\": -1.0,\n        \"max\": 1441020.0,\n        \"num_unique_values\": 7,\n        \"samples\": [\n          1441020.0,\n          1.5023878919098972,\n          2.0\n        ],\n        \"semantic_type\": \"\",\n        \"description\": \"\"\n      }\n    },\n    {\n      \"column\": \"CLASE\",\n      \"properties\": {\n        \"dtype\": \"category\",\n        \"num_unique_values\": 4,\n        \"samples\": [\n          27,\n          \"626460\",\n          \"1427389\"\n        ],\n        \"semantic_type\": \"\",\n        \"description\": \"\"\n      }\n    },\n    {\n      \"column\": \"SERVICIO\",\n      \"properties\": {\n        \"dtype\": \"category\",\n        \"num_unique_values\": 4,\n        \"samples\": [\n          5,\n          \"772189\",\n          \"1405407\"\n        ],\n        \"semantic_type\": \"\",\n        \"description\": \"\"\n      }\n    },\n    {\n      \"column\": \"MODALIDAD\",\n      \"properties\": {\n        \"dtype\": \"category\",\n        \"num_unique_values\": 4,\n        \"samples\": [\n          12,\n          \"70712\",\n          \"339198\"\n        ],\n        \"semantic_type\": \"\",\n        \"description\": \"\"\n      }\n    },\n    {\n      \"column\": \"ENFUGA\",\n      \"properties\": {\n        \"dtype\": \"category\",\n        \"num_unique_values\": 4,\n        \"samples\": [\n          2,\n          \"892815\",\n          \"907565\"\n        ],\n        \"semantic_type\": \"\",\n        \"description\": \"\"\n      }\n    },\n    {\n      \"column\": \"CODIGO\",\n      \"properties\": {\n        \"dtype\": \"category\",\n        \"num_unique_values\": 3,\n        \"samples\": [\n          \"1441024\",\n          \"511951-1\",\n          \"1\"\n        ],\n        \"semantic_type\": \"\",\n        \"description\": \"\"\n      }\n    }\n  ]\n}"
            }
          },
          "metadata": {},
          "execution_count": 315
        }
      ],
      "source": [
        "# 2. Exploración de los Datos\n",
        "description = Vehiculo.describe(include='all')\n",
        "description"
      ]
    },
    {
      "cell_type": "code",
      "execution_count": null,
      "metadata": {
        "id": "WXSGHg6rlmzz",
        "colab": {
          "base_uri": "https://localhost:8080/"
        },
        "outputId": "80ec3ca9-a1f4-46d1-fe11-55ca132d6cbb"
      },
      "outputs": [
        {
          "output_type": "execute_result",
          "data": {
            "text/plain": [
              "                   Nulos  Registros % Nulos\n",
              "OBJECTID               0    1441024   0.00%\n",
              "FORMULARIO             0    1441024   0.00%\n",
              "PLACA              47106    1441024   3.27%\n",
              "CODIGO_VEHICULO        4    1441024   0.00%\n",
              "CLASE              13635    1441024   0.95%\n",
              "SERVICIO           35617    1441024   2.47%\n",
              "MODALIDAD        1101826    1441024  76.46%\n",
              "ENFUGA            533459    1441024  37.02%\n",
              "CODIGO                 0    1441024   0.00%"
            ],
            "text/html": [
              "\n",
              "  <div id=\"df-cac0a313-5710-41d9-a4b3-a229c12878b8\" class=\"colab-df-container\">\n",
              "    <div>\n",
              "<style scoped>\n",
              "    .dataframe tbody tr th:only-of-type {\n",
              "        vertical-align: middle;\n",
              "    }\n",
              "\n",
              "    .dataframe tbody tr th {\n",
              "        vertical-align: top;\n",
              "    }\n",
              "\n",
              "    .dataframe thead th {\n",
              "        text-align: right;\n",
              "    }\n",
              "</style>\n",
              "<table border=\"1\" class=\"dataframe\">\n",
              "  <thead>\n",
              "    <tr style=\"text-align: right;\">\n",
              "      <th></th>\n",
              "      <th>Nulos</th>\n",
              "      <th>Registros</th>\n",
              "      <th>% Nulos</th>\n",
              "    </tr>\n",
              "  </thead>\n",
              "  <tbody>\n",
              "    <tr>\n",
              "      <th>OBJECTID</th>\n",
              "      <td>0</td>\n",
              "      <td>1441024</td>\n",
              "      <td>0.00%</td>\n",
              "    </tr>\n",
              "    <tr>\n",
              "      <th>FORMULARIO</th>\n",
              "      <td>0</td>\n",
              "      <td>1441024</td>\n",
              "      <td>0.00%</td>\n",
              "    </tr>\n",
              "    <tr>\n",
              "      <th>PLACA</th>\n",
              "      <td>47106</td>\n",
              "      <td>1441024</td>\n",
              "      <td>3.27%</td>\n",
              "    </tr>\n",
              "    <tr>\n",
              "      <th>CODIGO_VEHICULO</th>\n",
              "      <td>4</td>\n",
              "      <td>1441024</td>\n",
              "      <td>0.00%</td>\n",
              "    </tr>\n",
              "    <tr>\n",
              "      <th>CLASE</th>\n",
              "      <td>13635</td>\n",
              "      <td>1441024</td>\n",
              "      <td>0.95%</td>\n",
              "    </tr>\n",
              "    <tr>\n",
              "      <th>SERVICIO</th>\n",
              "      <td>35617</td>\n",
              "      <td>1441024</td>\n",
              "      <td>2.47%</td>\n",
              "    </tr>\n",
              "    <tr>\n",
              "      <th>MODALIDAD</th>\n",
              "      <td>1101826</td>\n",
              "      <td>1441024</td>\n",
              "      <td>76.46%</td>\n",
              "    </tr>\n",
              "    <tr>\n",
              "      <th>ENFUGA</th>\n",
              "      <td>533459</td>\n",
              "      <td>1441024</td>\n",
              "      <td>37.02%</td>\n",
              "    </tr>\n",
              "    <tr>\n",
              "      <th>CODIGO</th>\n",
              "      <td>0</td>\n",
              "      <td>1441024</td>\n",
              "      <td>0.00%</td>\n",
              "    </tr>\n",
              "  </tbody>\n",
              "</table>\n",
              "</div>\n",
              "    <div class=\"colab-df-buttons\">\n",
              "\n",
              "  <div class=\"colab-df-container\">\n",
              "    <button class=\"colab-df-convert\" onclick=\"convertToInteractive('df-cac0a313-5710-41d9-a4b3-a229c12878b8')\"\n",
              "            title=\"Convert this dataframe to an interactive table.\"\n",
              "            style=\"display:none;\">\n",
              "\n",
              "  <svg xmlns=\"http://www.w3.org/2000/svg\" height=\"24px\" viewBox=\"0 -960 960 960\">\n",
              "    <path d=\"M120-120v-720h720v720H120Zm60-500h600v-160H180v160Zm220 220h160v-160H400v160Zm0 220h160v-160H400v160ZM180-400h160v-160H180v160Zm440 0h160v-160H620v160ZM180-180h160v-160H180v160Zm440 0h160v-160H620v160Z\"/>\n",
              "  </svg>\n",
              "    </button>\n",
              "\n",
              "  <style>\n",
              "    .colab-df-container {\n",
              "      display:flex;\n",
              "      gap: 12px;\n",
              "    }\n",
              "\n",
              "    .colab-df-convert {\n",
              "      background-color: #E8F0FE;\n",
              "      border: none;\n",
              "      border-radius: 50%;\n",
              "      cursor: pointer;\n",
              "      display: none;\n",
              "      fill: #1967D2;\n",
              "      height: 32px;\n",
              "      padding: 0 0 0 0;\n",
              "      width: 32px;\n",
              "    }\n",
              "\n",
              "    .colab-df-convert:hover {\n",
              "      background-color: #E2EBFA;\n",
              "      box-shadow: 0px 1px 2px rgba(60, 64, 67, 0.3), 0px 1px 3px 1px rgba(60, 64, 67, 0.15);\n",
              "      fill: #174EA6;\n",
              "    }\n",
              "\n",
              "    .colab-df-buttons div {\n",
              "      margin-bottom: 4px;\n",
              "    }\n",
              "\n",
              "    [theme=dark] .colab-df-convert {\n",
              "      background-color: #3B4455;\n",
              "      fill: #D2E3FC;\n",
              "    }\n",
              "\n",
              "    [theme=dark] .colab-df-convert:hover {\n",
              "      background-color: #434B5C;\n",
              "      box-shadow: 0px 1px 3px 1px rgba(0, 0, 0, 0.15);\n",
              "      filter: drop-shadow(0px 1px 2px rgba(0, 0, 0, 0.3));\n",
              "      fill: #FFFFFF;\n",
              "    }\n",
              "  </style>\n",
              "\n",
              "    <script>\n",
              "      const buttonEl =\n",
              "        document.querySelector('#df-cac0a313-5710-41d9-a4b3-a229c12878b8 button.colab-df-convert');\n",
              "      buttonEl.style.display =\n",
              "        google.colab.kernel.accessAllowed ? 'block' : 'none';\n",
              "\n",
              "      async function convertToInteractive(key) {\n",
              "        const element = document.querySelector('#df-cac0a313-5710-41d9-a4b3-a229c12878b8');\n",
              "        const dataTable =\n",
              "          await google.colab.kernel.invokeFunction('convertToInteractive',\n",
              "                                                    [key], {});\n",
              "        if (!dataTable) return;\n",
              "\n",
              "        const docLinkHtml = 'Like what you see? Visit the ' +\n",
              "          '<a target=\"_blank\" href=https://colab.research.google.com/notebooks/data_table.ipynb>data table notebook</a>'\n",
              "          + ' to learn more about interactive tables.';\n",
              "        element.innerHTML = '';\n",
              "        dataTable['output_type'] = 'display_data';\n",
              "        await google.colab.output.renderOutput(dataTable, element);\n",
              "        const docLink = document.createElement('div');\n",
              "        docLink.innerHTML = docLinkHtml;\n",
              "        element.appendChild(docLink);\n",
              "      }\n",
              "    </script>\n",
              "  </div>\n",
              "\n",
              "\n",
              "<div id=\"df-066ace9b-eefd-47b0-b8b4-460018f8c405\">\n",
              "  <button class=\"colab-df-quickchart\" onclick=\"quickchart('df-066ace9b-eefd-47b0-b8b4-460018f8c405')\"\n",
              "            title=\"Suggest charts\"\n",
              "            style=\"display:none;\">\n",
              "\n",
              "<svg xmlns=\"http://www.w3.org/2000/svg\" height=\"24px\"viewBox=\"0 0 24 24\"\n",
              "     width=\"24px\">\n",
              "    <g>\n",
              "        <path d=\"M19 3H5c-1.1 0-2 .9-2 2v14c0 1.1.9 2 2 2h14c1.1 0 2-.9 2-2V5c0-1.1-.9-2-2-2zM9 17H7v-7h2v7zm4 0h-2V7h2v10zm4 0h-2v-4h2v4z\"/>\n",
              "    </g>\n",
              "</svg>\n",
              "  </button>\n",
              "\n",
              "<style>\n",
              "  .colab-df-quickchart {\n",
              "      --bg-color: #E8F0FE;\n",
              "      --fill-color: #1967D2;\n",
              "      --hover-bg-color: #E2EBFA;\n",
              "      --hover-fill-color: #174EA6;\n",
              "      --disabled-fill-color: #AAA;\n",
              "      --disabled-bg-color: #DDD;\n",
              "  }\n",
              "\n",
              "  [theme=dark] .colab-df-quickchart {\n",
              "      --bg-color: #3B4455;\n",
              "      --fill-color: #D2E3FC;\n",
              "      --hover-bg-color: #434B5C;\n",
              "      --hover-fill-color: #FFFFFF;\n",
              "      --disabled-bg-color: #3B4455;\n",
              "      --disabled-fill-color: #666;\n",
              "  }\n",
              "\n",
              "  .colab-df-quickchart {\n",
              "    background-color: var(--bg-color);\n",
              "    border: none;\n",
              "    border-radius: 50%;\n",
              "    cursor: pointer;\n",
              "    display: none;\n",
              "    fill: var(--fill-color);\n",
              "    height: 32px;\n",
              "    padding: 0;\n",
              "    width: 32px;\n",
              "  }\n",
              "\n",
              "  .colab-df-quickchart:hover {\n",
              "    background-color: var(--hover-bg-color);\n",
              "    box-shadow: 0 1px 2px rgba(60, 64, 67, 0.3), 0 1px 3px 1px rgba(60, 64, 67, 0.15);\n",
              "    fill: var(--button-hover-fill-color);\n",
              "  }\n",
              "\n",
              "  .colab-df-quickchart-complete:disabled,\n",
              "  .colab-df-quickchart-complete:disabled:hover {\n",
              "    background-color: var(--disabled-bg-color);\n",
              "    fill: var(--disabled-fill-color);\n",
              "    box-shadow: none;\n",
              "  }\n",
              "\n",
              "  .colab-df-spinner {\n",
              "    border: 2px solid var(--fill-color);\n",
              "    border-color: transparent;\n",
              "    border-bottom-color: var(--fill-color);\n",
              "    animation:\n",
              "      spin 1s steps(1) infinite;\n",
              "  }\n",
              "\n",
              "  @keyframes spin {\n",
              "    0% {\n",
              "      border-color: transparent;\n",
              "      border-bottom-color: var(--fill-color);\n",
              "      border-left-color: var(--fill-color);\n",
              "    }\n",
              "    20% {\n",
              "      border-color: transparent;\n",
              "      border-left-color: var(--fill-color);\n",
              "      border-top-color: var(--fill-color);\n",
              "    }\n",
              "    30% {\n",
              "      border-color: transparent;\n",
              "      border-left-color: var(--fill-color);\n",
              "      border-top-color: var(--fill-color);\n",
              "      border-right-color: var(--fill-color);\n",
              "    }\n",
              "    40% {\n",
              "      border-color: transparent;\n",
              "      border-right-color: var(--fill-color);\n",
              "      border-top-color: var(--fill-color);\n",
              "    }\n",
              "    60% {\n",
              "      border-color: transparent;\n",
              "      border-right-color: var(--fill-color);\n",
              "    }\n",
              "    80% {\n",
              "      border-color: transparent;\n",
              "      border-right-color: var(--fill-color);\n",
              "      border-bottom-color: var(--fill-color);\n",
              "    }\n",
              "    90% {\n",
              "      border-color: transparent;\n",
              "      border-bottom-color: var(--fill-color);\n",
              "    }\n",
              "  }\n",
              "</style>\n",
              "\n",
              "  <script>\n",
              "    async function quickchart(key) {\n",
              "      const quickchartButtonEl =\n",
              "        document.querySelector('#' + key + ' button');\n",
              "      quickchartButtonEl.disabled = true;  // To prevent multiple clicks.\n",
              "      quickchartButtonEl.classList.add('colab-df-spinner');\n",
              "      try {\n",
              "        const charts = await google.colab.kernel.invokeFunction(\n",
              "            'suggestCharts', [key], {});\n",
              "      } catch (error) {\n",
              "        console.error('Error during call to suggestCharts:', error);\n",
              "      }\n",
              "      quickchartButtonEl.classList.remove('colab-df-spinner');\n",
              "      quickchartButtonEl.classList.add('colab-df-quickchart-complete');\n",
              "    }\n",
              "    (() => {\n",
              "      let quickchartButtonEl =\n",
              "        document.querySelector('#df-066ace9b-eefd-47b0-b8b4-460018f8c405 button');\n",
              "      quickchartButtonEl.style.display =\n",
              "        google.colab.kernel.accessAllowed ? 'block' : 'none';\n",
              "    })();\n",
              "  </script>\n",
              "</div>\n",
              "    </div>\n",
              "  </div>\n"
            ],
            "application/vnd.google.colaboratory.intrinsic+json": {
              "type": "dataframe",
              "variable_name": "resumen_NaN_Vehiculo",
              "summary": "{\n  \"name\": \"resumen_NaN_Vehiculo\",\n  \"rows\": 9,\n  \"fields\": [\n    {\n      \"column\": \"Nulos\",\n      \"properties\": {\n        \"dtype\": \"number\",\n        \"std\": 382278,\n        \"min\": 0,\n        \"max\": 1101826,\n        \"num_unique_values\": 7,\n        \"samples\": [\n          0,\n          47106,\n          1101826\n        ],\n        \"semantic_type\": \"\",\n        \"description\": \"\"\n      }\n    },\n    {\n      \"column\": \"Registros\",\n      \"properties\": {\n        \"dtype\": \"number\",\n        \"std\": 0,\n        \"min\": 1441024,\n        \"max\": 1441024,\n        \"num_unique_values\": 1,\n        \"samples\": [\n          1441024\n        ],\n        \"semantic_type\": \"\",\n        \"description\": \"\"\n      }\n    },\n    {\n      \"column\": \"% Nulos\",\n      \"properties\": {\n        \"dtype\": \"string\",\n        \"num_unique_values\": 6,\n        \"samples\": [\n          \"0.00%\"\n        ],\n        \"semantic_type\": \"\",\n        \"description\": \"\"\n      }\n    }\n  ]\n}"
            }
          },
          "metadata": {},
          "execution_count": 316
        }
      ],
      "source": [
        "# 3. Contabilizamos valores nulos, e identificamos participación en el total de registros por columnas\n",
        "resumen_NaN_Vehiculo = pd.DataFrame(Vehiculo.isnull().sum())\n",
        "resumen_NaN_Vehiculo.columns=['Nulos']\n",
        "resumen_NaN_Vehiculo['Registros']=Vehiculo.shape[0]\n",
        "resumen_NaN_Vehiculo['% Nulos']=resumen_NaN_Vehiculo.Nulos/resumen_NaN_Vehiculo.Registros\n",
        "resumen_NaN_Vehiculo['% Nulos']=resumen_NaN_Vehiculo['% Nulos'].apply(\"{:.2%}\".format)\n",
        "resumen_NaN_Vehiculo"
      ]
    },
    {
      "cell_type": "code",
      "execution_count": null,
      "metadata": {
        "id": "4rD6zlhftSU-"
      },
      "outputs": [],
      "source": [
        "# 4. Traemos los codigos de Clase_Vehiculo, servicio y modalidad\n",
        "Vehiculo = pd.merge(Vehiculo,Clase_Vh, how=\"left\", left_on=\"CLASE\", right_on=\"CLASE\")\n",
        "Vehiculo = pd.merge(Vehiculo,Servicio, how=\"left\", left_on=\"SERVICIO\", right_on=\"SERVICIO\")\n",
        "Vehiculo = pd.merge(Vehiculo,Modalidad, how=\"left\", left_on=\"MODALIDAD\", right_on=\"MODALIDAD\")"
      ]
    },
    {
      "cell_type": "code",
      "execution_count": null,
      "metadata": {
        "id": "9ELyQfcbmWFY",
        "colab": {
          "base_uri": "https://localhost:8080/"
        },
        "outputId": "a3cd4f4e-3cbd-4057-dc77-6b782218fcf1"
      },
      "outputs": [
        {
          "output_type": "stream",
          "name": "stdout",
          "text": [
            "Número de registros duplicados: 0\n",
            "Empty DataFrame\n",
            "Columns: [OBJECTID, FORMULARIO, PLACA, CODIGO_VEHICULO, CLASE, SERVICIO, MODALIDAD, ENFUGA, CODIGO, COD_CLASE, COD_SERVICIO, COD_MODALIDAD]\n",
            "Index: []\n"
          ]
        }
      ],
      "source": [
        "# 4. Identificar registros duplicados\n",
        "duplicates = Vehiculo.duplicated()\n",
        "\n",
        "# Contar la cantidad de registros duplicados\n",
        "num_duplicates = sum(duplicates)\n",
        "\n",
        "print(\"Número de registros duplicados:\", num_duplicates)\n",
        "print(Vehiculo[duplicates])"
      ]
    },
    {
      "cell_type": "code",
      "execution_count": null,
      "metadata": {
        "id": "LJ6Cm1M05-l_"
      },
      "outputs": [],
      "source": [
        "# 5. Crear Columna Codigo Accidente\n",
        "Vehiculo[\"CODIGO_ACCIDENTE\"] = Vehiculo['CODIGO'].str.split('-').str[0]"
      ]
    },
    {
      "cell_type": "code",
      "execution_count": null,
      "metadata": {
        "id": "Qfh61-b6IqNY"
      },
      "outputs": [],
      "source": [
        "# 6. Aseguramos el tipo de datos que almacenará la columna\n",
        "Vehiculo[\"CODIGO_ACCIDENTE\"] = pd.to_numeric(Vehiculo[\"CODIGO_ACCIDENTE\"] , downcast=\"integer\", errors=\"coerce\")\n",
        "Vehiculo[\"CODIGO_ACCIDENTE\"] = Vehiculo[\"CODIGO_ACCIDENTE\"].astype('int64')"
      ]
    },
    {
      "cell_type": "code",
      "execution_count": null,
      "metadata": {
        "id": "29OsY8TxIxbH"
      },
      "outputs": [],
      "source": [
        "# 7. Traemos los codigos de accidente para conservar solo los registros que coinciden con códigos de accidente\n",
        "Vehiculo = pd.merge(Vehiculo, Accidente_df, how='left', left_on='CODIGO_ACCIDENTE',\n",
        "                         right_on='CODIGO_ACCIDENTE')"
      ]
    },
    {
      "cell_type": "code",
      "execution_count": null,
      "metadata": {
        "id": "cmvf6HCWI07e",
        "colab": {
          "base_uri": "https://localhost:8080/"
        },
        "outputId": "8a13dfa2-8c90-4764-f426-ea512f64bab4"
      },
      "outputs": [
        {
          "output_type": "execute_result",
          "data": {
            "text/plain": [
              "                        Nulos  Registros % Nulos\n",
              "OBJECTID                    0    1441024   0.00%\n",
              "FORMULARIO                  0    1441024   0.00%\n",
              "PLACA                   47106    1441024   3.27%\n",
              "CODIGO_VEHICULO             4    1441024   0.00%\n",
              "CLASE                   13635    1441024   0.95%\n",
              "SERVICIO                35617    1441024   2.47%\n",
              "MODALIDAD             1101826    1441024  76.46%\n",
              "ENFUGA                 533459    1441024  37.02%\n",
              "CODIGO                      0    1441024   0.00%\n",
              "COD_CLASE               13637    1441024   0.95%\n",
              "COD_SERVICIO            45803    1441024   3.18%\n",
              "COD_MODALIDAD         1101826    1441024  76.46%\n",
              "CODIGO_ACCIDENTE            0    1441024   0.00%\n",
              "FECHA_OCURRENCIA_ACC   557197    1441024  38.67%\n",
              "HORA_OCURRENCIA_ACC    557197    1441024  38.67%\n",
              "DIRECCION              557197    1441024  38.67%\n",
              "COD_GRAVEDAD           557204    1441024  38.67%\n",
              "COD_CLASE_ACC          557452    1441024  38.68%\n",
              "COD_LOCALIDAD          557295    1441024  38.67%\n",
              "LATITUD                557197    1441024  38.67%\n",
              "LONGITUD               557197    1441024  38.67%"
            ],
            "text/html": [
              "\n",
              "  <div id=\"df-14018860-9a1b-46b4-90e1-34baaa04e439\" class=\"colab-df-container\">\n",
              "    <div>\n",
              "<style scoped>\n",
              "    .dataframe tbody tr th:only-of-type {\n",
              "        vertical-align: middle;\n",
              "    }\n",
              "\n",
              "    .dataframe tbody tr th {\n",
              "        vertical-align: top;\n",
              "    }\n",
              "\n",
              "    .dataframe thead th {\n",
              "        text-align: right;\n",
              "    }\n",
              "</style>\n",
              "<table border=\"1\" class=\"dataframe\">\n",
              "  <thead>\n",
              "    <tr style=\"text-align: right;\">\n",
              "      <th></th>\n",
              "      <th>Nulos</th>\n",
              "      <th>Registros</th>\n",
              "      <th>% Nulos</th>\n",
              "    </tr>\n",
              "  </thead>\n",
              "  <tbody>\n",
              "    <tr>\n",
              "      <th>OBJECTID</th>\n",
              "      <td>0</td>\n",
              "      <td>1441024</td>\n",
              "      <td>0.00%</td>\n",
              "    </tr>\n",
              "    <tr>\n",
              "      <th>FORMULARIO</th>\n",
              "      <td>0</td>\n",
              "      <td>1441024</td>\n",
              "      <td>0.00%</td>\n",
              "    </tr>\n",
              "    <tr>\n",
              "      <th>PLACA</th>\n",
              "      <td>47106</td>\n",
              "      <td>1441024</td>\n",
              "      <td>3.27%</td>\n",
              "    </tr>\n",
              "    <tr>\n",
              "      <th>CODIGO_VEHICULO</th>\n",
              "      <td>4</td>\n",
              "      <td>1441024</td>\n",
              "      <td>0.00%</td>\n",
              "    </tr>\n",
              "    <tr>\n",
              "      <th>CLASE</th>\n",
              "      <td>13635</td>\n",
              "      <td>1441024</td>\n",
              "      <td>0.95%</td>\n",
              "    </tr>\n",
              "    <tr>\n",
              "      <th>SERVICIO</th>\n",
              "      <td>35617</td>\n",
              "      <td>1441024</td>\n",
              "      <td>2.47%</td>\n",
              "    </tr>\n",
              "    <tr>\n",
              "      <th>MODALIDAD</th>\n",
              "      <td>1101826</td>\n",
              "      <td>1441024</td>\n",
              "      <td>76.46%</td>\n",
              "    </tr>\n",
              "    <tr>\n",
              "      <th>ENFUGA</th>\n",
              "      <td>533459</td>\n",
              "      <td>1441024</td>\n",
              "      <td>37.02%</td>\n",
              "    </tr>\n",
              "    <tr>\n",
              "      <th>CODIGO</th>\n",
              "      <td>0</td>\n",
              "      <td>1441024</td>\n",
              "      <td>0.00%</td>\n",
              "    </tr>\n",
              "    <tr>\n",
              "      <th>COD_CLASE</th>\n",
              "      <td>13637</td>\n",
              "      <td>1441024</td>\n",
              "      <td>0.95%</td>\n",
              "    </tr>\n",
              "    <tr>\n",
              "      <th>COD_SERVICIO</th>\n",
              "      <td>45803</td>\n",
              "      <td>1441024</td>\n",
              "      <td>3.18%</td>\n",
              "    </tr>\n",
              "    <tr>\n",
              "      <th>COD_MODALIDAD</th>\n",
              "      <td>1101826</td>\n",
              "      <td>1441024</td>\n",
              "      <td>76.46%</td>\n",
              "    </tr>\n",
              "    <tr>\n",
              "      <th>CODIGO_ACCIDENTE</th>\n",
              "      <td>0</td>\n",
              "      <td>1441024</td>\n",
              "      <td>0.00%</td>\n",
              "    </tr>\n",
              "    <tr>\n",
              "      <th>FECHA_OCURRENCIA_ACC</th>\n",
              "      <td>557197</td>\n",
              "      <td>1441024</td>\n",
              "      <td>38.67%</td>\n",
              "    </tr>\n",
              "    <tr>\n",
              "      <th>HORA_OCURRENCIA_ACC</th>\n",
              "      <td>557197</td>\n",
              "      <td>1441024</td>\n",
              "      <td>38.67%</td>\n",
              "    </tr>\n",
              "    <tr>\n",
              "      <th>DIRECCION</th>\n",
              "      <td>557197</td>\n",
              "      <td>1441024</td>\n",
              "      <td>38.67%</td>\n",
              "    </tr>\n",
              "    <tr>\n",
              "      <th>COD_GRAVEDAD</th>\n",
              "      <td>557204</td>\n",
              "      <td>1441024</td>\n",
              "      <td>38.67%</td>\n",
              "    </tr>\n",
              "    <tr>\n",
              "      <th>COD_CLASE_ACC</th>\n",
              "      <td>557452</td>\n",
              "      <td>1441024</td>\n",
              "      <td>38.68%</td>\n",
              "    </tr>\n",
              "    <tr>\n",
              "      <th>COD_LOCALIDAD</th>\n",
              "      <td>557295</td>\n",
              "      <td>1441024</td>\n",
              "      <td>38.67%</td>\n",
              "    </tr>\n",
              "    <tr>\n",
              "      <th>LATITUD</th>\n",
              "      <td>557197</td>\n",
              "      <td>1441024</td>\n",
              "      <td>38.67%</td>\n",
              "    </tr>\n",
              "    <tr>\n",
              "      <th>LONGITUD</th>\n",
              "      <td>557197</td>\n",
              "      <td>1441024</td>\n",
              "      <td>38.67%</td>\n",
              "    </tr>\n",
              "  </tbody>\n",
              "</table>\n",
              "</div>\n",
              "    <div class=\"colab-df-buttons\">\n",
              "\n",
              "  <div class=\"colab-df-container\">\n",
              "    <button class=\"colab-df-convert\" onclick=\"convertToInteractive('df-14018860-9a1b-46b4-90e1-34baaa04e439')\"\n",
              "            title=\"Convert this dataframe to an interactive table.\"\n",
              "            style=\"display:none;\">\n",
              "\n",
              "  <svg xmlns=\"http://www.w3.org/2000/svg\" height=\"24px\" viewBox=\"0 -960 960 960\">\n",
              "    <path d=\"M120-120v-720h720v720H120Zm60-500h600v-160H180v160Zm220 220h160v-160H400v160Zm0 220h160v-160H400v160ZM180-400h160v-160H180v160Zm440 0h160v-160H620v160ZM180-180h160v-160H180v160Zm440 0h160v-160H620v160Z\"/>\n",
              "  </svg>\n",
              "    </button>\n",
              "\n",
              "  <style>\n",
              "    .colab-df-container {\n",
              "      display:flex;\n",
              "      gap: 12px;\n",
              "    }\n",
              "\n",
              "    .colab-df-convert {\n",
              "      background-color: #E8F0FE;\n",
              "      border: none;\n",
              "      border-radius: 50%;\n",
              "      cursor: pointer;\n",
              "      display: none;\n",
              "      fill: #1967D2;\n",
              "      height: 32px;\n",
              "      padding: 0 0 0 0;\n",
              "      width: 32px;\n",
              "    }\n",
              "\n",
              "    .colab-df-convert:hover {\n",
              "      background-color: #E2EBFA;\n",
              "      box-shadow: 0px 1px 2px rgba(60, 64, 67, 0.3), 0px 1px 3px 1px rgba(60, 64, 67, 0.15);\n",
              "      fill: #174EA6;\n",
              "    }\n",
              "\n",
              "    .colab-df-buttons div {\n",
              "      margin-bottom: 4px;\n",
              "    }\n",
              "\n",
              "    [theme=dark] .colab-df-convert {\n",
              "      background-color: #3B4455;\n",
              "      fill: #D2E3FC;\n",
              "    }\n",
              "\n",
              "    [theme=dark] .colab-df-convert:hover {\n",
              "      background-color: #434B5C;\n",
              "      box-shadow: 0px 1px 3px 1px rgba(0, 0, 0, 0.15);\n",
              "      filter: drop-shadow(0px 1px 2px rgba(0, 0, 0, 0.3));\n",
              "      fill: #FFFFFF;\n",
              "    }\n",
              "  </style>\n",
              "\n",
              "    <script>\n",
              "      const buttonEl =\n",
              "        document.querySelector('#df-14018860-9a1b-46b4-90e1-34baaa04e439 button.colab-df-convert');\n",
              "      buttonEl.style.display =\n",
              "        google.colab.kernel.accessAllowed ? 'block' : 'none';\n",
              "\n",
              "      async function convertToInteractive(key) {\n",
              "        const element = document.querySelector('#df-14018860-9a1b-46b4-90e1-34baaa04e439');\n",
              "        const dataTable =\n",
              "          await google.colab.kernel.invokeFunction('convertToInteractive',\n",
              "                                                    [key], {});\n",
              "        if (!dataTable) return;\n",
              "\n",
              "        const docLinkHtml = 'Like what you see? Visit the ' +\n",
              "          '<a target=\"_blank\" href=https://colab.research.google.com/notebooks/data_table.ipynb>data table notebook</a>'\n",
              "          + ' to learn more about interactive tables.';\n",
              "        element.innerHTML = '';\n",
              "        dataTable['output_type'] = 'display_data';\n",
              "        await google.colab.output.renderOutput(dataTable, element);\n",
              "        const docLink = document.createElement('div');\n",
              "        docLink.innerHTML = docLinkHtml;\n",
              "        element.appendChild(docLink);\n",
              "      }\n",
              "    </script>\n",
              "  </div>\n",
              "\n",
              "\n",
              "<div id=\"df-aa4836e4-53f2-442c-af06-f186fefc815e\">\n",
              "  <button class=\"colab-df-quickchart\" onclick=\"quickchart('df-aa4836e4-53f2-442c-af06-f186fefc815e')\"\n",
              "            title=\"Suggest charts\"\n",
              "            style=\"display:none;\">\n",
              "\n",
              "<svg xmlns=\"http://www.w3.org/2000/svg\" height=\"24px\"viewBox=\"0 0 24 24\"\n",
              "     width=\"24px\">\n",
              "    <g>\n",
              "        <path d=\"M19 3H5c-1.1 0-2 .9-2 2v14c0 1.1.9 2 2 2h14c1.1 0 2-.9 2-2V5c0-1.1-.9-2-2-2zM9 17H7v-7h2v7zm4 0h-2V7h2v10zm4 0h-2v-4h2v4z\"/>\n",
              "    </g>\n",
              "</svg>\n",
              "  </button>\n",
              "\n",
              "<style>\n",
              "  .colab-df-quickchart {\n",
              "      --bg-color: #E8F0FE;\n",
              "      --fill-color: #1967D2;\n",
              "      --hover-bg-color: #E2EBFA;\n",
              "      --hover-fill-color: #174EA6;\n",
              "      --disabled-fill-color: #AAA;\n",
              "      --disabled-bg-color: #DDD;\n",
              "  }\n",
              "\n",
              "  [theme=dark] .colab-df-quickchart {\n",
              "      --bg-color: #3B4455;\n",
              "      --fill-color: #D2E3FC;\n",
              "      --hover-bg-color: #434B5C;\n",
              "      --hover-fill-color: #FFFFFF;\n",
              "      --disabled-bg-color: #3B4455;\n",
              "      --disabled-fill-color: #666;\n",
              "  }\n",
              "\n",
              "  .colab-df-quickchart {\n",
              "    background-color: var(--bg-color);\n",
              "    border: none;\n",
              "    border-radius: 50%;\n",
              "    cursor: pointer;\n",
              "    display: none;\n",
              "    fill: var(--fill-color);\n",
              "    height: 32px;\n",
              "    padding: 0;\n",
              "    width: 32px;\n",
              "  }\n",
              "\n",
              "  .colab-df-quickchart:hover {\n",
              "    background-color: var(--hover-bg-color);\n",
              "    box-shadow: 0 1px 2px rgba(60, 64, 67, 0.3), 0 1px 3px 1px rgba(60, 64, 67, 0.15);\n",
              "    fill: var(--button-hover-fill-color);\n",
              "  }\n",
              "\n",
              "  .colab-df-quickchart-complete:disabled,\n",
              "  .colab-df-quickchart-complete:disabled:hover {\n",
              "    background-color: var(--disabled-bg-color);\n",
              "    fill: var(--disabled-fill-color);\n",
              "    box-shadow: none;\n",
              "  }\n",
              "\n",
              "  .colab-df-spinner {\n",
              "    border: 2px solid var(--fill-color);\n",
              "    border-color: transparent;\n",
              "    border-bottom-color: var(--fill-color);\n",
              "    animation:\n",
              "      spin 1s steps(1) infinite;\n",
              "  }\n",
              "\n",
              "  @keyframes spin {\n",
              "    0% {\n",
              "      border-color: transparent;\n",
              "      border-bottom-color: var(--fill-color);\n",
              "      border-left-color: var(--fill-color);\n",
              "    }\n",
              "    20% {\n",
              "      border-color: transparent;\n",
              "      border-left-color: var(--fill-color);\n",
              "      border-top-color: var(--fill-color);\n",
              "    }\n",
              "    30% {\n",
              "      border-color: transparent;\n",
              "      border-left-color: var(--fill-color);\n",
              "      border-top-color: var(--fill-color);\n",
              "      border-right-color: var(--fill-color);\n",
              "    }\n",
              "    40% {\n",
              "      border-color: transparent;\n",
              "      border-right-color: var(--fill-color);\n",
              "      border-top-color: var(--fill-color);\n",
              "    }\n",
              "    60% {\n",
              "      border-color: transparent;\n",
              "      border-right-color: var(--fill-color);\n",
              "    }\n",
              "    80% {\n",
              "      border-color: transparent;\n",
              "      border-right-color: var(--fill-color);\n",
              "      border-bottom-color: var(--fill-color);\n",
              "    }\n",
              "    90% {\n",
              "      border-color: transparent;\n",
              "      border-bottom-color: var(--fill-color);\n",
              "    }\n",
              "  }\n",
              "</style>\n",
              "\n",
              "  <script>\n",
              "    async function quickchart(key) {\n",
              "      const quickchartButtonEl =\n",
              "        document.querySelector('#' + key + ' button');\n",
              "      quickchartButtonEl.disabled = true;  // To prevent multiple clicks.\n",
              "      quickchartButtonEl.classList.add('colab-df-spinner');\n",
              "      try {\n",
              "        const charts = await google.colab.kernel.invokeFunction(\n",
              "            'suggestCharts', [key], {});\n",
              "      } catch (error) {\n",
              "        console.error('Error during call to suggestCharts:', error);\n",
              "      }\n",
              "      quickchartButtonEl.classList.remove('colab-df-spinner');\n",
              "      quickchartButtonEl.classList.add('colab-df-quickchart-complete');\n",
              "    }\n",
              "    (() => {\n",
              "      let quickchartButtonEl =\n",
              "        document.querySelector('#df-aa4836e4-53f2-442c-af06-f186fefc815e button');\n",
              "      quickchartButtonEl.style.display =\n",
              "        google.colab.kernel.accessAllowed ? 'block' : 'none';\n",
              "    })();\n",
              "  </script>\n",
              "</div>\n",
              "    </div>\n",
              "  </div>\n"
            ],
            "application/vnd.google.colaboratory.intrinsic+json": {
              "type": "dataframe",
              "variable_name": "resumen_NaN_Vehiculo2",
              "summary": "{\n  \"name\": \"resumen_NaN_Vehiculo2\",\n  \"rows\": 21,\n  \"fields\": [\n    {\n      \"column\": \"Nulos\",\n      \"properties\": {\n        \"dtype\": \"number\",\n        \"std\": 362603,\n        \"min\": 0,\n        \"max\": 1101826,\n        \"num_unique_values\": 13,\n        \"samples\": [\n          557452,\n          557197,\n          0\n        ],\n        \"semantic_type\": \"\",\n        \"description\": \"\"\n      }\n    },\n    {\n      \"column\": \"Registros\",\n      \"properties\": {\n        \"dtype\": \"number\",\n        \"std\": 0,\n        \"min\": 1441024,\n        \"max\": 1441024,\n        \"num_unique_values\": 1,\n        \"samples\": [\n          1441024\n        ],\n        \"semantic_type\": \"\",\n        \"description\": \"\"\n      }\n    },\n    {\n      \"column\": \"% Nulos\",\n      \"properties\": {\n        \"dtype\": \"category\",\n        \"num_unique_values\": 9,\n        \"samples\": [\n          \"38.67%\"\n        ],\n        \"semantic_type\": \"\",\n        \"description\": \"\"\n      }\n    }\n  ]\n}"
            }
          },
          "metadata": {},
          "execution_count": 322
        }
      ],
      "source": [
        "# 8. Contabilizamos valores nulos, e identificamos participación en el total de registros por columnas\n",
        "resumen_NaN_Vehiculo2 = pd.DataFrame(Vehiculo.isnull().sum())\n",
        "resumen_NaN_Vehiculo2.columns=['Nulos']\n",
        "resumen_NaN_Vehiculo2['Registros']=Vehiculo.shape[0]\n",
        "resumen_NaN_Vehiculo2['% Nulos']=resumen_NaN_Vehiculo2.Nulos/resumen_NaN_Vehiculo2.Registros\n",
        "resumen_NaN_Vehiculo2['% Nulos']=resumen_NaN_Vehiculo2['% Nulos'].apply(\"{:.2%}\".format)\n",
        "resumen_NaN_Vehiculo2"
      ]
    },
    {
      "cell_type": "code",
      "execution_count": null,
      "metadata": {
        "id": "KbuEQyMdI3tp"
      },
      "outputs": [],
      "source": [
        "# 9. Se eliminan todas las filas en las que la fecha de accidente está vacía,\n",
        "# pues indica que es un codigo de accidente inexistente en la tabla accidente\n",
        "Vehiculo = Vehiculo.dropna(subset=['FECHA_OCURRENCIA_ACC'])"
      ]
    },
    {
      "cell_type": "code",
      "execution_count": null,
      "metadata": {
        "id": "uMKEXsTJPqYV"
      },
      "outputs": [],
      "source": [
        "# 6. Crear un nuevo DataFrame con las columnas seleccionadas\n",
        "selected_columns =[\n",
        "    'PLACA',\n",
        "    'COD_CLASE',\n",
        "    'COD_SERVICIO',\n",
        "    'COD_MODALIDAD',\n",
        "    'ENFUGA',\n",
        "    'CODIGO',\n",
        "    'CODIGO_ACCIDENTE'\n",
        "]\n",
        "Vehiculo_df= Vehiculo[selected_columns]\n",
        "Vehiculo_df = pd.DataFrame(Vehiculo_df)\n"
      ]
    },
    {
      "cell_type": "code",
      "execution_count": null,
      "metadata": {
        "id": "vdyfOhH5Pw0S",
        "colab": {
          "base_uri": "https://localhost:8080/"
        },
        "outputId": "ad196161-c9de-4714-d115-4b4e33e9e3e2"
      },
      "outputs": [
        {
          "output_type": "stream",
          "name": "stdout",
          "text": [
            "Las variables almacenan la información en el siguiente formato: PLACA                object\n",
            "COD_CLASE           float64\n",
            "COD_SERVICIO        float64\n",
            "COD_MODALIDAD       float64\n",
            "ENFUGA               object\n",
            "CODIGO               object\n",
            "CODIGO_ACCIDENTE      int64\n",
            "dtype: object\n"
          ]
        }
      ],
      "source": [
        "print('Las variables almacenan la información en el siguiente formato:', Vehiculo_df.dtypes)"
      ]
    },
    {
      "cell_type": "code",
      "execution_count": null,
      "metadata": {
        "id": "FaouFwh8K-5d"
      },
      "outputs": [],
      "source": [
        "# Detiene el temporizador de transformación\n",
        "transformation_end_time = time.time()"
      ]
    },
    {
      "cell_type": "code",
      "execution_count": null,
      "metadata": {
        "id": "yDpsrLQ5LDHs",
        "colab": {
          "base_uri": "https://localhost:8080/"
        },
        "outputId": "53c153ff-ac1d-401d-ebdb-8b1a84b2e1c2"
      },
      "outputs": [
        {
          "output_type": "stream",
          "name": "stdout",
          "text": [
            "Tiempo de transformación: 237.40 segundos\n"
          ]
        }
      ],
      "source": [
        "# Calcula el tiempo de transformación\n",
        "transformation_time = transformation_end_time - transformation_start_time\n",
        "print(f'Tiempo de transformación: {transformation_time:.2f} segundos')"
      ]
    },
    {
      "cell_type": "markdown",
      "metadata": {
        "id": "Gmx5VNdhoNSE"
      },
      "source": [
        "## 4. Carga <a id=\"carga\"></a>"
      ]
    },
    {
      "cell_type": "code",
      "execution_count": null,
      "metadata": {
        "id": "z9QkJq0DJ7S5"
      },
      "outputs": [],
      "source": [
        "# Inicia el temporizador de carga\n",
        "load_start_time = time.time()"
      ]
    },
    {
      "cell_type": "markdown",
      "metadata": {
        "id": "e61mnWnTBT2y"
      },
      "source": [
        "### 4.1. Creación de Script de creación de tablas"
      ]
    },
    {
      "cell_type": "code",
      "execution_count": null,
      "metadata": {
        "id": "OZP47mLcA__1"
      },
      "outputs": [],
      "source": [
        "tablas_data= {\n",
        "    'Geometrica_A' : Geometrica_A,\n",
        "    'Geometrica_B' : Geometrica_B,\n",
        "    'Geometrica_C' : Geometrica_C,\n",
        "    'Utilizacion' : Utilizacion,\n",
        "    'Calzadas' : Calzadas,\n",
        "    'Carriles' : Carriles,\n",
        "    'Material' : Material,\n",
        "    'Estado_Via' : Estado_Via,\n",
        "    'Condiciones' : Condiciones,\n",
        "    'Iluminacion_A' : Iluminacion_A,\n",
        "    'Agente_Transito' : Agente_Transito,\n",
        "    'Semaforo' : Semaforo,\n",
        "    'Clase_Vh' : Clase_Vh,\n",
        "    'Servicio' : Servicio,\n",
        "    'Modalidad' : Modalidad,\n",
        "    'Describe_Causa' : Describe_Causa,\n",
        "    'Tipo_Causa' : Tipo_Causa,\n",
        "    'Tiempo': Tiempo,\n",
        "    'Horario' : Horario,\n",
        "    'Gravedad' : Gravedad,\n",
        "    'Clase_Accidente' : Clase_Accidente,\n",
        "    'Localidad' : Localidad,\n",
        "    'Condicion_Actor' : Condicion_Actor,\n",
        "    'Estado_ActorVial' : Estado_ActorVial,\n",
        "    'Genero' : Genero,\n",
        "    'Accidente': Accidente_df,\n",
        "    'Actor_Vial': Actor_Vial_df,\n",
        "    'Via': Via_df,\n",
        "    'Vehiculo': Vehiculo_df,\n",
        "    'Causa': Causa_df\n",
        "}"
      ]
    },
    {
      "cell_type": "markdown",
      "metadata": {
        "id": "zN5YFJe1bYgL"
      },
      "source": [
        "### 4.2. Creación de Script de establecimiento de llaves primarias"
      ]
    },
    {
      "cell_type": "code",
      "execution_count": null,
      "metadata": {
        "id": "sU2IirNXBCLF"
      },
      "outputs": [],
      "source": [
        "# Define las llaves primarias\n",
        "llaves_primarias = {\n",
        "    'Geometrica_A': 'COD_GEOMETRICA_A',\n",
        "    'Geometrica_B': 'COD_GEOMETRICA_B',\n",
        "    'Geometrica_C': 'COD_GEOMETRICA_C',\n",
        "    'Utilizacion': 'COD_UTILIZACION',\n",
        "    'Calzadas': 'COD_CALZADAS',\n",
        "    'Carriles': 'COD_CARRILES',\n",
        "    'Material': 'COD_MATERIAL',\n",
        "    'Estado_Via': 'COD_ESTADO',\n",
        "    'Condiciones': 'COD_CONDICION',\n",
        "    'Iluminacion_A': 'COD_ILUMINACION_A',\n",
        "    'Agente_Transito': 'COD_AGENTE_TRANSITO',\n",
        "    'Semaforo': 'COD_SEMAFORO',\n",
        "    'Clase_Vh': 'COD_CLASE',\n",
        "    'Servicio': 'COD_SERVICIO',\n",
        "    'Modalidad': 'COD_MODALIDAD',\n",
        "    'Condicion_Actor': 'COD_CONDICION_ACTOR',\n",
        "    'Genero': 'COD_GENERO',\n",
        "    'Estado_ActorVial': 'COD_ESTADO',\n",
        "    'Describe_Causa': 'CODIGO_CAUSA',\n",
        "    'Tipo_Causa': 'TIPO',\n",
        "    'Tiempo': 'FECHA_OCURRENCIA_ACC',\n",
        "    'Horario': 'HORA_OCURRENCIA_ACC',\n",
        "    'Gravedad': 'COD_GRAVEDAD',\n",
        "    'Clase_Accidente': 'COD_CLASE_ACC',\n",
        "    'Localidad': 'COD_LOCALIDAD',\n",
        "    'Accidente': 'CODIGO_ACCIDENTE',\n",
        "}"
      ]
    },
    {
      "cell_type": "markdown",
      "metadata": {
        "id": "aNuMAdAcbh3H"
      },
      "source": [
        "### 4.3. Creación de función para generar los archivos a ejecutar en PostgreSQL para crear las tablas"
      ]
    },
    {
      "cell_type": "code",
      "execution_count": null,
      "metadata": {
        "id": "wg18joamoP2H"
      },
      "outputs": [],
      "source": [
        "# Definir creación de tablas\n",
        "def generate_sql_create_table_script(table_name, df):\n",
        "    columns = df.columns.tolist()\n",
        "    script_sql_creacion = f\"CREATE TABLE {table_name} (\\n\"\n",
        "\n",
        "    for i, col in enumerate(columns):\n",
        "        # Validar el tipo de campo y longitud\n",
        "        column_type = \"VARCHAR\"  # Se puede ajustar los tipos según la necesidad\n",
        "        max_length = df[col].apply(str).str.len().max()\n",
        "\n",
        "        # Ajustar el tipo de campo según la naturaleza de los datos\n",
        "        if ((df[col].dtype == 'int64' or df[col].dtype == 'float64') and df[col].name != 'LATITUD') or ((df[col].dtype == 'int64' or df[col].dtype == 'float64') and df[col].name != 'LONGITUD'):\n",
        "            column_type = \"INTEGER\"\n",
        "        elif df[col].dtype == 'float64':\n",
        "            column_type = \"FLOAT\"\n",
        "\n",
        "        # Limitar la longitud de VARCHAR a un valor razonable\n",
        "        max_length = min(max_length, 255) if column_type == \"VARCHAR\" else None\n",
        "\n",
        "        script_sql_creacion += f\"  {col} {column_type}\"\n",
        "        if max_length:\n",
        "            script_sql_creacion += f\"({max_length})\"\n",
        "        if table_name in llaves_primarias:\n",
        "          script_sql_creacion += \",\" if i < len(columns) else \"\"\n",
        "        else:\n",
        "          script_sql_creacion += \",\" if i < len(columns) - 1 else \"\"\n",
        "        script_sql_creacion += \"\\n\"\n",
        "\n",
        "    if table_name in llaves_primarias:\n",
        "      script_sql_creacion += f\"  PRIMARY KEY ({llaves_primarias[table_name]})\\n\"\n",
        "\n",
        "    script_sql_creacion += \");\\n\\n\"\n",
        "\n",
        "    return script_sql_creacion"
      ]
    },
    {
      "cell_type": "markdown",
      "metadata": {
        "id": "eqHAza4Vbw5n"
      },
      "source": [
        "### 4.4. Creación de los archivos SQL para crear las tablas"
      ]
    },
    {
      "cell_type": "code",
      "execution_count": null,
      "metadata": {
        "id": "9U6KBEO4KTWh"
      },
      "outputs": [],
      "source": [
        "# Iterar a través de las tablas en tablas_data y generar los scripts SQL de creación\n",
        "script_sql_creacion = \"\"\n",
        "for table_name, df in tablas_data.items():\n",
        "    script_sql_creacion += generate_sql_create_table_script(table_name, df)"
      ]
    },
    {
      "cell_type": "code",
      "execution_count": null,
      "metadata": {
        "id": "gW4C8gJWKXt7"
      },
      "outputs": [],
      "source": [
        "# Guardar el script SQL en un archivo\n",
        "output_file_path = 'Script_creacion_tablas.sql'\n",
        "with open(output_file_path, 'w') as file:\n",
        "    file.write(script_sql_creacion)"
      ]
    },
    {
      "cell_type": "markdown",
      "metadata": {
        "id": "mHtNimliZJCe"
      },
      "source": [
        "### 4.5. Creación Script Relaciones"
      ]
    },
    {
      "cell_type": "code",
      "execution_count": null,
      "metadata": {
        "id": "MgcAl4g5ZPM0"
      },
      "outputs": [],
      "source": [
        "# Diccionario que almacena las relaciones foráneas\n",
        "relaciones_foraneas = {\n",
        "    'Via': {'CODIGO_ACCIDENTE': 'Accidente', 'COD_GEOMETRICA_A':'Geometrica_A',\n",
        "            'COD_GEOMETRICA_B':'Geometrica_B','COD_GEOMETRICA_C':'Geometrica_C',\n",
        "            'COD_UTILIZACION':'Utilizacion', 'COD_CALZADAS': 'Calzadas', 'COD_CARRILES':'Carriles',\n",
        "            'COD_MATERIAL':'Material', 'COD_ESTADO': 'Estado_Via', 'COD_CONDICION':'Condiciones',\n",
        "            'COD_ILUMINACION_A':'Iluminacion_A', 'COD_AGENTE_TRANSITO':'Agente_Transito',\n",
        "            'COD_SEMAFORO':'Semaforo'},\n",
        "    'Vehiculo': {'CODIGO_ACCIDENTE': 'Accidente','COD_CLASE': 'Clase_Vh',\n",
        "                 'COD_SERVICIO': 'Servicio', 'COD_MODALIDAD':'Modalidad'},\n",
        "    'Actor_Vial': {'CODIGO_ACCIDENTE': 'Accidente','COD_GENERO':'Genero', 'COD_ESTADO': 'Estado_ActorVial',\n",
        "                   'COD_CONDICION_ACTOR':'Condicion_Actor'},\n",
        "    'Causa': {'CODIGO_ACCIDENTE':'Accidente','CODIGO_CAUSA':'Describe_Causa', 'TIPO':'Tipo_Causa'},\n",
        "    'Accidente': {'FECHA_OCURRENCIA_ACC':'Tiempo', 'HORA_OCURRENCIA_ACC':'Horario',\n",
        "                  'COD_GRAVEDAD':'Gravedad', 'COD_CLASE_ACC':'Clase_Accidente',\n",
        "                  'COD_LOCALIDAD':'Localidad'},\n",
        "}"
      ]
    },
    {
      "cell_type": "code",
      "execution_count": null,
      "metadata": {
        "id": "q9Okzw2PZWWQ"
      },
      "outputs": [],
      "source": [
        "# Función para generar un script SQL de relaciones foráneas\n",
        "def generar_script_relaciones_foraneas(relaciones_foraneas):\n",
        "    script_relaciones = \"\"\n",
        "    for tabla, relaciones in relaciones_foraneas.items():\n",
        "        for columna_foranea, tabla_referenciada in relaciones.items():\n",
        "            script_relaciones += f\"ALTER TABLE {tabla} ADD FOREIGN KEY ({columna_foranea}) REFERENCES {tabla_referenciada}({columna_foranea});\\n\"\n",
        "    return script_relaciones"
      ]
    },
    {
      "cell_type": "code",
      "execution_count": null,
      "metadata": {
        "id": "kt8Sl-n2ZdyG"
      },
      "outputs": [],
      "source": [
        "# Genera el script de relaciones foráneas\n",
        "script_relaciones_foraneas = generar_script_relaciones_foraneas(relaciones_foraneas)"
      ]
    },
    {
      "cell_type": "code",
      "execution_count": null,
      "metadata": {
        "id": "fOWFbf1DZgaf"
      },
      "outputs": [],
      "source": [
        "# Guarda el script en un archivo\n",
        "archivo_script_relaciones = 'Script_relaciones_foraneas.sql'\n",
        "with open(archivo_script_relaciones, 'w') as archivo:\n",
        "    archivo.write(script_relaciones_foraneas)"
      ]
    },
    {
      "cell_type": "markdown",
      "metadata": {
        "id": "sBMo4oGL6f12"
      },
      "source": [
        "### 4.6 Ajuste previo columnas de texto"
      ]
    },
    {
      "cell_type": "markdown",
      "metadata": {
        "id": "9F2Kbmie6f13"
      },
      "source": [
        "#### 4.6.1 Ajuste tabla Geometrica A"
      ]
    },
    {
      "cell_type": "code",
      "execution_count": null,
      "metadata": {
        "id": "xFmVaBnF6f16"
      },
      "outputs": [],
      "source": [
        "#Se incluyen las comas en las columnas de texto\n",
        "Geometrica_A['GEOMETRICA_A'] = Geometrica_A['GEOMETRICA_A'].apply(lambda x: f\"'{x}'\")"
      ]
    },
    {
      "cell_type": "code",
      "execution_count": null,
      "metadata": {
        "id": "mKvouIPO6f16",
        "colab": {
          "base_uri": "https://localhost:8080/"
        },
        "outputId": "1b7799dd-a8f7-405c-a683-8344d40b002b"
      },
      "outputs": [
        {
          "output_type": "stream",
          "name": "stdout",
          "text": [
            "  GEOMETRICA_A  COD_GEOMETRICA_A\n",
            "0      'RECTA'                 1\n",
            "1      'CURVA'                 2\n"
          ]
        }
      ],
      "source": [
        "print(Geometrica_A.head())"
      ]
    },
    {
      "cell_type": "markdown",
      "metadata": {
        "id": "chZ3O4tG6f17"
      },
      "source": [
        "#### 4.6.2 Ajuste tabla Geometrica B"
      ]
    },
    {
      "cell_type": "code",
      "execution_count": null,
      "metadata": {
        "id": "JjDIlqAl6f19"
      },
      "outputs": [],
      "source": [
        "#Se incluyen las comas en las columnas de texto\n",
        "Geometrica_B['GEOMETRICA_B'] = Geometrica_B['GEOMETRICA_B'].apply(lambda x: f\"'{x}'\")"
      ]
    },
    {
      "cell_type": "code",
      "execution_count": null,
      "metadata": {
        "id": "Tqsnol2T6f1-",
        "colab": {
          "base_uri": "https://localhost:8080/"
        },
        "outputId": "ecb180f5-70d1-46ae-ab46-1eea049c5f7a"
      },
      "outputs": [
        {
          "output_type": "stream",
          "name": "stdout",
          "text": [
            "  GEOMETRICA_B  COD_GEOMETRICA_B\n",
            "0      'PLANO'                 1\n",
            "1  'PENDIENTE'                 2\n"
          ]
        }
      ],
      "source": [
        "print(Geometrica_B.head())"
      ]
    },
    {
      "cell_type": "markdown",
      "metadata": {
        "id": "lfcI7iod6f1_"
      },
      "source": [
        "#### 4.6.3 Ajuste tabla Geometrica C"
      ]
    },
    {
      "cell_type": "code",
      "execution_count": null,
      "metadata": {
        "id": "pK4Nbib76f2B"
      },
      "outputs": [],
      "source": [
        "#Se incluyen las comas en las columnas de texto\n",
        "Geometrica_C['GEOMETRICA_C'] = Geometrica_C['GEOMETRICA_C'].apply(lambda x: f\"'{x}'\")"
      ]
    },
    {
      "cell_type": "code",
      "execution_count": null,
      "metadata": {
        "id": "PoK6svCu6f2B",
        "colab": {
          "base_uri": "https://localhost:8080/"
        },
        "outputId": "f58c2573-0d99-46b2-b56f-3d083c4a0437"
      },
      "outputs": [
        {
          "output_type": "stream",
          "name": "stdout",
          "text": [
            "      GEOMETRICA_C  COD_GEOMETRICA_C\n",
            "0      'CON ANDEN'                 1\n",
            "1     'CON BERMAS'                 2\n",
            "2  'BAHIA DE EST.'                 3\n"
          ]
        }
      ],
      "source": [
        "print(Geometrica_C.head())"
      ]
    },
    {
      "cell_type": "markdown",
      "metadata": {
        "id": "eELsrVh66f2C"
      },
      "source": [
        "#### 4.6.4 Ajuste tabla Utilizacion"
      ]
    },
    {
      "cell_type": "code",
      "execution_count": null,
      "metadata": {
        "id": "rn8i_2XQ6f2E"
      },
      "outputs": [],
      "source": [
        "#Se incluyen las comas en las columnas de texto\n",
        "Utilizacion['UTILIZACION'] = Utilizacion['UTILIZACION'].apply(lambda x: f\"'{x}'\")"
      ]
    },
    {
      "cell_type": "code",
      "execution_count": null,
      "metadata": {
        "id": "QE-nFUrP6f2F",
        "colab": {
          "base_uri": "https://localhost:8080/"
        },
        "outputId": "01532bd9-518f-43f4-cc84-c5d2e4b94983"
      },
      "outputs": [
        {
          "output_type": "stream",
          "name": "stdout",
          "text": [
            "       UTILIZACION  COD_UTILIZACION\n",
            "0  'DOBLE SENTIDO'                1\n",
            "1     'UN SENTIDO'                2\n",
            "2     'REVERSIBLE'                3\n",
            "3    'CONTRAFLUJO'                4\n",
            "4       'CICLOVIA'                5\n"
          ]
        }
      ],
      "source": [
        "print(Utilizacion.head())"
      ]
    },
    {
      "cell_type": "markdown",
      "metadata": {
        "id": "lqAlrbeH6f2G"
      },
      "source": [
        "#### 4.6.5 Ajuste tabla Calzadas"
      ]
    },
    {
      "cell_type": "code",
      "execution_count": null,
      "metadata": {
        "id": "ZM8MX7kW6f2I"
      },
      "outputs": [],
      "source": [
        "#Se incluyen las comas en las columnas de texto\n",
        "Calzadas['CALZADAS'] = Calzadas['CALZADAS'].apply(lambda x: f\"'{x}'\")"
      ]
    },
    {
      "cell_type": "code",
      "execution_count": null,
      "metadata": {
        "id": "f22ExbMe6f2I",
        "colab": {
          "base_uri": "https://localhost:8080/"
        },
        "outputId": "93f6e7e8-9fa7-4e2b-f93e-04faed0e413d"
      },
      "outputs": [
        {
          "output_type": "stream",
          "name": "stdout",
          "text": [
            "         CALZADAS  COD_CALZADAS\n",
            "0           'UNA'             1\n",
            "1    'TRES O MAS'             2\n",
            "2           'DOS'             3\n",
            "3      'VARIABLE'             4\n",
            "4  'CUATRO O MAS'             5\n"
          ]
        }
      ],
      "source": [
        "print(Calzadas.head())"
      ]
    },
    {
      "cell_type": "markdown",
      "metadata": {
        "id": "Wa_wfjBD6f2J"
      },
      "source": [
        "#### 4.6.6 Ajuste tabla Carriles"
      ]
    },
    {
      "cell_type": "code",
      "execution_count": null,
      "metadata": {
        "id": "QRY57E6j6f2L"
      },
      "outputs": [],
      "source": [
        "#Se incluyen las comas en las columnas de texto\n",
        "Carriles['CARRILES'] = Carriles['CARRILES'].apply(lambda x: f\"'{x}'\")"
      ]
    },
    {
      "cell_type": "code",
      "execution_count": null,
      "metadata": {
        "id": "N_OxquuQ6f2L",
        "colab": {
          "base_uri": "https://localhost:8080/"
        },
        "outputId": "a8473d43-a9c8-431c-f10d-5ee5b967d478"
      },
      "outputs": [
        {
          "output_type": "stream",
          "name": "stdout",
          "text": [
            "         CARRILES  COD_CARRILES\n",
            "0           'UNO'             1\n",
            "1           'DOS'             2\n",
            "2    'TRES O MAS'             3\n",
            "3      'VARIABLE'             4\n",
            "4  'CUATRO O MAS'             5\n"
          ]
        }
      ],
      "source": [
        "print(Carriles.head())"
      ]
    },
    {
      "cell_type": "markdown",
      "metadata": {
        "id": "E8rOI92z6f2M"
      },
      "source": [
        "#### 4.6.7 Ajuste tabla Material"
      ]
    },
    {
      "cell_type": "code",
      "execution_count": null,
      "metadata": {
        "id": "_mSL1LLu6f2P"
      },
      "outputs": [],
      "source": [
        "#Se incluyen las comas en las columnas de texto\n",
        "Material['MATERIAL'] = Material['MATERIAL'].apply(lambda x: f\"'{x}'\")"
      ]
    },
    {
      "cell_type": "code",
      "execution_count": null,
      "metadata": {
        "id": "u1V1W7OT6f2P",
        "colab": {
          "base_uri": "https://localhost:8080/"
        },
        "outputId": "f3fc859e-6189-41e8-e48f-35407de06683"
      },
      "outputs": [
        {
          "output_type": "stream",
          "name": "stdout",
          "text": [
            "     MATERIAL  COD_MATERIAL\n",
            "0  'CONCRETO'             1\n",
            "1   'ASFALTO'             2\n",
            "2  'AFIRMADO'             3\n",
            "3   'ADOQUIN'             4\n",
            "4    'TIERRA'             5\n"
          ]
        }
      ],
      "source": [
        "print(Material.head())"
      ]
    },
    {
      "cell_type": "markdown",
      "metadata": {
        "id": "t0VOv0Mj6f2Q"
      },
      "source": [
        "#### 4.6.8 Ajuste tabla Estado_Via"
      ]
    },
    {
      "cell_type": "code",
      "execution_count": null,
      "metadata": {
        "id": "8Ar49sIT6f2V"
      },
      "outputs": [],
      "source": [
        "#Se incluyen las comas en las columnas de texto\n",
        "Estado_Via['ESTADO'] = Estado_Via['ESTADO'].apply(lambda x: f\"'{x}'\")"
      ]
    },
    {
      "cell_type": "code",
      "execution_count": null,
      "metadata": {
        "id": "lXWOzbNO6f2W",
        "colab": {
          "base_uri": "https://localhost:8080/"
        },
        "outputId": "6a4f89be-2751-4210-8937-e0e130a77ff1"
      },
      "outputs": [
        {
          "output_type": "stream",
          "name": "stdout",
          "text": [
            "            ESTADO  COD_ESTADO\n",
            "0          'BUENO'           1\n",
            "1      'DERRUMBES'           2\n",
            "2     'CON HUECOS'           3\n",
            "3         'RIZADA'           4\n",
            "4   'HUNDIMIENTOS'           5\n",
            "5  'EN REPARACION'           6\n",
            "6       'PARCHADA'           7\n",
            "7       'FISURADA'           8\n",
            "8       'INUNDADA'           9\n"
          ]
        }
      ],
      "source": [
        "print(Estado_Via.head(9))"
      ]
    },
    {
      "cell_type": "markdown",
      "metadata": {
        "id": "fnWGDpvA6f2X"
      },
      "source": [
        "#### 4.6.9 Ajuste tabla Condiciones"
      ]
    },
    {
      "cell_type": "code",
      "execution_count": null,
      "metadata": {
        "id": "2OMwzUhq6f2Z"
      },
      "outputs": [],
      "source": [
        "#Se incluyen las comas en las columnas de texto\n",
        "Condiciones['CONDICIONES'] = Condiciones['CONDICIONES'].apply(lambda x: f\"'{x}'\")"
      ]
    },
    {
      "cell_type": "code",
      "execution_count": null,
      "metadata": {
        "id": "ez3CpvTw6f2a",
        "colab": {
          "base_uri": "https://localhost:8080/"
        },
        "outputId": "c66c90b8-2326-4db4-df14-71921985f025"
      },
      "outputs": [
        {
          "output_type": "stream",
          "name": "stdout",
          "text": [
            "                CONDICIONES  COD_CONDICION\n",
            "0                    'SECA'              1\n",
            "1         'MATERIAL SUELTO'              2\n",
            "2                  'HUMEDA'              3\n",
            "3  'ALCANTARILLA DESTAPADA'              4\n",
            "4                    'LODO'              5\n",
            "5                  'ACEITE'              6\n",
            "6                    'OTRA'              7\n",
            "7       'MATERIAL ORGANICO'              8\n"
          ]
        }
      ],
      "source": [
        "print(Condiciones.head(8))"
      ]
    },
    {
      "cell_type": "markdown",
      "metadata": {
        "id": "s5_GWsie6f2b"
      },
      "source": [
        "#### 4.6.10 Ajuste tabla Iluminacion A"
      ]
    },
    {
      "cell_type": "code",
      "execution_count": null,
      "metadata": {
        "id": "Z8-Aqo476f2d"
      },
      "outputs": [],
      "source": [
        "#Se incluyen las comas en las columnas de texto\n",
        "Iluminacion_A['ILUMINACION_A'] = Iluminacion_A['ILUMINACION_A'].apply(lambda x: f\"'{x}'\")"
      ]
    },
    {
      "cell_type": "code",
      "execution_count": null,
      "metadata": {
        "id": "ZqiPazxe6f2d",
        "colab": {
          "base_uri": "https://localhost:8080/"
        },
        "outputId": "935b0db4-90e2-46f4-8351-97f85e51d883"
      },
      "outputs": [
        {
          "output_type": "stream",
          "name": "stdout",
          "text": [
            "  ILUMINACION_A  COD_ILUMINACION_A\n",
            "0         'SIN'                  1\n",
            "1         'CON'                  2\n"
          ]
        }
      ],
      "source": [
        "print(Iluminacion_A.head())"
      ]
    },
    {
      "cell_type": "markdown",
      "metadata": {
        "id": "kxFUYsLN6f2e"
      },
      "source": [
        "#### 4.6.11 Ajuste tabla Agente Transito"
      ]
    },
    {
      "cell_type": "code",
      "execution_count": null,
      "metadata": {
        "id": "S9eCbDGE6f2g"
      },
      "outputs": [],
      "source": [
        "#Se incluyen las comas en las columnas de texto\n",
        "Agente_Transito['AGENTE_TRANSITO'] = Agente_Transito['AGENTE_TRANSITO'].apply(lambda x: f\"'{x}'\")"
      ]
    },
    {
      "cell_type": "code",
      "execution_count": null,
      "metadata": {
        "id": "8Ix0Jktt6f2g",
        "colab": {
          "base_uri": "https://localhost:8080/"
        },
        "outputId": "08a9240e-3cde-49db-848a-4dc98c8edbf4"
      },
      "outputs": [
        {
          "output_type": "stream",
          "name": "stdout",
          "text": [
            "  AGENTE_TRANSITO  COD_AGENTE_TRANSITO\n",
            "0            'NO'                    1\n",
            "1            'SI'                    2\n"
          ]
        }
      ],
      "source": [
        "print(Agente_Transito.head())"
      ]
    },
    {
      "cell_type": "markdown",
      "metadata": {
        "id": "FmG0syrj6f2i"
      },
      "source": [
        "#### 4.6.12 Ajuste tabla Semaforo"
      ]
    },
    {
      "cell_type": "code",
      "execution_count": null,
      "metadata": {
        "id": "F7__6jkw6f2m"
      },
      "outputs": [],
      "source": [
        "#Se incluyen las comas en las columnas de texto\n",
        "Semaforo['SEMAFORO'] = Semaforo['SEMAFORO'].apply(lambda x: f\"'{x}'\")"
      ]
    },
    {
      "cell_type": "code",
      "execution_count": null,
      "metadata": {
        "id": "dGxRDI6K6f2m",
        "colab": {
          "base_uri": "https://localhost:8080/"
        },
        "outputId": "af02f1e7-9669-4e90-f092-d297f80620b1"
      },
      "outputs": [
        {
          "output_type": "stream",
          "name": "stdout",
          "text": [
            "         SEMAFORO  COD_SEMAFORO\n",
            "0      'OPERANDO'             1\n",
            "1        'OCULTO'             2\n",
            "2  'INTERMITENTE'             3\n",
            "3     'CON DAÑOS'             4\n",
            "4       'APAGADO'             5\n",
            "5       'NINGUNO'             6\n"
          ]
        }
      ],
      "source": [
        "print(Semaforo.head(6))"
      ]
    },
    {
      "cell_type": "markdown",
      "metadata": {
        "id": "Y_NH7L3y6f2o"
      },
      "source": [
        "#### 4.6.13  Ajuste tabla Via"
      ]
    },
    {
      "cell_type": "code",
      "execution_count": null,
      "metadata": {
        "id": "j8MEA4TH6f2r"
      },
      "outputs": [],
      "source": [
        "#Se incluyen las comas en las columnas de texto\n",
        "Via_df['CODIGO'] = Via_df['CODIGO'].apply(lambda x: f\"'{x}'\")"
      ]
    },
    {
      "cell_type": "code",
      "execution_count": null,
      "metadata": {
        "id": "G2033Cf4A55n"
      },
      "outputs": [],
      "source": [
        "#Se transforman a texto las columnas con NaN para reemplazarlas por null\n",
        "Via_df['COD_GEOMETRICA_A'] = Via_df['COD_GEOMETRICA_A'].map(str)\n",
        "Via_df['COD_GEOMETRICA_B'] = Via_df['COD_GEOMETRICA_B'].map(str)\n",
        "Via_df['COD_GEOMETRICA_C'] = Via_df['COD_GEOMETRICA_C'].map(str)\n",
        "Via_df['COD_UTILIZACION'] = Via_df['COD_UTILIZACION'].map(str)\n",
        "Via_df['COD_CALZADAS'] = Via_df['COD_CALZADAS'].map(str)\n",
        "Via_df['COD_CARRILES'] = Via_df['COD_CARRILES'].map(str)\n",
        "Via_df['COD_MATERIAL'] = Via_df['COD_MATERIAL'].map(str)\n",
        "Via_df['COD_ESTADO'] = Via_df['COD_ESTADO'].map(str)\n",
        "Via_df['COD_CONDICION'] = Via_df['COD_CONDICION'].map(str)\n",
        "Via_df['COD_ILUMINACION_A'] = Via_df['COD_ILUMINACION_A'].map(str)\n",
        "Via_df['COD_AGENTE_TRANSITO'] = Via_df['COD_AGENTE_TRANSITO'].map(str)\n",
        "Via_df['COD_SEMAFORO'] = Via_df['COD_SEMAFORO'].map(str)"
      ]
    },
    {
      "cell_type": "code",
      "execution_count": null,
      "metadata": {
        "id": "iMp51EGFBwz1"
      },
      "outputs": [],
      "source": [
        "#Se selecciona solo la primer posición de las columnas transformads en la celda anterior\n",
        "Via_df['COD_GEOMETRICA_A'] = Via_df['COD_GEOMETRICA_A'].str[:1]\n",
        "Via_df['COD_GEOMETRICA_B'] = Via_df['COD_GEOMETRICA_B'].str[:1]\n",
        "Via_df['COD_GEOMETRICA_C'] = Via_df['COD_GEOMETRICA_C'].str[:1]\n",
        "Via_df['COD_UTILIZACION'] = Via_df['COD_UTILIZACION'].str[:1]\n",
        "Via_df['COD_CALZADAS'] = Via_df['COD_CALZADAS'].str[:1]\n",
        "Via_df['COD_CARRILES'] = Via_df['COD_CARRILES'].str[:1]\n",
        "Via_df['COD_MATERIAL'] = Via_df['COD_MATERIAL'].str[:1]\n",
        "Via_df['COD_ESTADO'] = Via_df['COD_ESTADO'].str[:1]\n",
        "Via_df['COD_CONDICION'] = Via_df['COD_CONDICION'].str[:1]\n",
        "Via_df['COD_ILUMINACION_A'] = Via_df['COD_ILUMINACION_A'].str[:1]\n",
        "Via_df['COD_AGENTE_TRANSITO'] = Via_df['COD_AGENTE_TRANSITO'].str[:1]\n",
        "Via_df['COD_SEMAFORO'] = Via_df['COD_SEMAFORO'].str[:1]"
      ]
    },
    {
      "cell_type": "code",
      "execution_count": null,
      "metadata": {
        "id": "97GjrjzTCqN9"
      },
      "outputs": [],
      "source": [
        "#Se reemplazan las n por null\n",
        "Via_df = Via_df.replace('n', 'null')"
      ]
    },
    {
      "cell_type": "code",
      "execution_count": null,
      "metadata": {
        "id": "q79z-qbP9wyG",
        "colab": {
          "base_uri": "https://localhost:8080/"
        },
        "outputId": "4ce01a24-8529-4231-e1b8-1823687cce15"
      },
      "outputs": [
        {
          "output_type": "stream",
          "name": "stdout",
          "text": [
            "   CODIGO_ACCIDENTE COD_GEOMETRICA_A COD_GEOMETRICA_B COD_GEOMETRICA_C  \\\n",
            "0            511950                1                1                1   \n",
            "1            511947                1                1                1   \n",
            "2            511947                1                1                2   \n",
            "3            511951                1                1                1   \n",
            "4            511953                1                1                1   \n",
            "5            511955                1                1                2   \n",
            "\n",
            "  COD_UTILIZACION COD_CALZADAS COD_CARRILES COD_MATERIAL COD_ESTADO  \\\n",
            "0               1            1            1            1          1   \n",
            "1               1            2            2            2          1   \n",
            "2               2            1            1            2          1   \n",
            "3               1            1            2            2          1   \n",
            "4               1            3            2            2          1   \n",
            "5               2            1            1            2          1   \n",
            "\n",
            "  COD_CONDICION COD_ILUMINACION_A COD_AGENTE_TRANSITO COD_SEMAFORO  \\\n",
            "0             1                 1                   1         null   \n",
            "1             1                 1                   1         null   \n",
            "2             1                 2                   1         null   \n",
            "3             1                 2                   1         null   \n",
            "4             1                 2                   1         null   \n",
            "5             1                 1                   1         null   \n",
            "\n",
            "           CODIGO  \n",
            "0  '526-511950-1'  \n",
            "1  '527-511947-1'  \n",
            "2  '528-511947-2'  \n",
            "3  '530-511951-1'  \n",
            "4  '533-511953-1'  \n",
            "5  '534-511955-1'  \n"
          ]
        }
      ],
      "source": [
        "print(Via_df.head(6))"
      ]
    },
    {
      "cell_type": "markdown",
      "metadata": {
        "id": "uae1MxeI6f2s"
      },
      "source": [
        "#### 4.6.14 Ajuste tabla Tiempo"
      ]
    },
    {
      "cell_type": "code",
      "execution_count": null,
      "metadata": {
        "id": "veD1y2Re6f23"
      },
      "outputs": [],
      "source": [
        "#Se incluyen las comas en las columnas de texto\n",
        "Tiempo['FECHA_OCURRENCIA_ACC'] = Tiempo['FECHA_OCURRENCIA_ACC'].apply(lambda x: f\"'{x}'\")\n",
        "Tiempo['TXT_MES_OCURRENCIA'] = Tiempo['TXT_MES_OCURRENCIA'].apply(lambda x: f\"'{x}'\")\n",
        "Tiempo['TXT_DIA_OCURRENCIA'] = Tiempo['TXT_DIA_OCURRENCIA'].apply(lambda x: f\"'{x}'\")"
      ]
    },
    {
      "cell_type": "code",
      "execution_count": null,
      "metadata": {
        "id": "5_awzZXL6f22",
        "colab": {
          "base_uri": "https://localhost:8080/"
        },
        "outputId": "f1e507d0-803b-469a-9988-265865a4c429"
      },
      "outputs": [
        {
          "output_type": "stream",
          "name": "stdout",
          "text": [
            "  FECHA_OCURRENCIA_ACC  ANO_OCURRENCIA  NRO_MES_OCURRENCIA TXT_MES_OCURRENCIA  \\\n",
            "0         '2017-06-12'            2017                   6             'June'   \n",
            "1         '2022-10-29'            2022                  10          'October'   \n",
            "2         '2012-12-15'            2012                  12         'December'   \n",
            "3         '2022-11-01'            2022                  11         'November'   \n",
            "4         '2014-10-26'            2014                  10          'October'   \n",
            "\n",
            "   NRO_DIA_OCURRENCIA TXT_DIA_OCURRENCIA  TRIMESTRE_OCURRENCIA  \n",
            "0                  12           'Monday'                     2  \n",
            "1                  29         'Saturday'                     4  \n",
            "2                  15         'Saturday'                     4  \n",
            "3                   1          'Tuesday'                     4  \n",
            "4                  26           'Sunday'                     4  \n"
          ]
        }
      ],
      "source": [
        "print(Tiempo.head())"
      ]
    },
    {
      "cell_type": "markdown",
      "metadata": {
        "id": "xrkU1N5C6f23"
      },
      "source": [
        "#### 4.6.15 Ajuste tabla Horario"
      ]
    },
    {
      "cell_type": "code",
      "execution_count": null,
      "metadata": {
        "id": "qxkRjVVv6f25"
      },
      "outputs": [],
      "source": [
        "#Se incluyen las comas en las columnas de texto\n",
        "Horario['HORA_OCURRENCIA_ACC'] = Horario['HORA_OCURRENCIA_ACC'].apply(lambda x: f\"'{x}'\")\n",
        "Horario['HORA_OCURRENCIA'] = Horario['HORA_OCURRENCIA'].apply(lambda x: f\"'{x}'\")\n",
        "Horario['JORNADA_OCURRENCIA'] = Horario['JORNADA_OCURRENCIA'].apply(lambda x: f\"'{x}'\")"
      ]
    },
    {
      "cell_type": "code",
      "execution_count": null,
      "metadata": {
        "id": "G3vJW1yz6f25",
        "colab": {
          "base_uri": "https://localhost:8080/"
        },
        "outputId": "ee16f258-e5c5-4c43-a5b7-acfb4a04a273"
      },
      "outputs": [
        {
          "output_type": "stream",
          "name": "stdout",
          "text": [
            "  HORA_OCURRENCIA_ACC HORA_OCURRENCIA JORNADA_OCURRENCIA\n",
            "0          '05:30:00'            '05'        'Madrugada'\n",
            "1          '10:55:00'            '10'           'Mañana'\n",
            "2          '20:30:00'            '20'            'Noche'\n",
            "3          '14:58:00'            '14'            'Tarde'\n",
            "4          '21:25:00'            '21'            'Noche'\n"
          ]
        }
      ],
      "source": [
        "print(Horario.head())"
      ]
    },
    {
      "cell_type": "markdown",
      "metadata": {
        "id": "9S8KvHK36f26"
      },
      "source": [
        "#### 4.6.16 Ajuste tabla Gravedad"
      ]
    },
    {
      "cell_type": "code",
      "execution_count": null,
      "metadata": {
        "id": "qhT9Zfv_6f28"
      },
      "outputs": [],
      "source": [
        "#Se incluyen las comas en las columnas de texto\n",
        "Gravedad['GRAVEDAD'] = Gravedad['GRAVEDAD'].apply(lambda x: f\"'{x}'\")"
      ]
    },
    {
      "cell_type": "code",
      "execution_count": null,
      "metadata": {
        "id": "5ak7EAlK6f28",
        "colab": {
          "base_uri": "https://localhost:8080/"
        },
        "outputId": "c0a87e50-998f-48c3-ecfa-225ea0fcb0aa"
      },
      "outputs": [
        {
          "output_type": "stream",
          "name": "stdout",
          "text": [
            "        GRAVEDAD  COD_GRAVEDAD\n",
            "0   'SOLO DANOS'           1.0\n",
            "1  'CON HERIDOS'           2.0\n",
            "2  'CON MUERTOS'           3.0\n"
          ]
        }
      ],
      "source": [
        "print(Gravedad.head())"
      ]
    },
    {
      "cell_type": "markdown",
      "metadata": {
        "id": "UoV3yliD6f29"
      },
      "source": [
        "#### 4.6.17 Ajuste tabla Clase_Accidente"
      ]
    },
    {
      "cell_type": "code",
      "execution_count": null,
      "metadata": {
        "id": "6vp1YFlG6f2_"
      },
      "outputs": [],
      "source": [
        "#Se incluyen las comas en las columnas de texto\n",
        "Clase_Accidente['CLASE_ACC'] = Clase_Accidente['CLASE_ACC'].apply(lambda x: f\"'{x}'\")"
      ]
    },
    {
      "cell_type": "code",
      "execution_count": null,
      "metadata": {
        "id": "JoEIvKXr6f2_",
        "colab": {
          "base_uri": "https://localhost:8080/"
        },
        "outputId": "4ed58367-f400-4563-9d81-17ad3eec8854"
      },
      "outputs": [
        {
          "output_type": "stream",
          "name": "stdout",
          "text": [
            "       CLASE_ACC  COD_CLASE_ACC\n",
            "0       'CHOQUE'            1.0\n",
            "1    'ATROPELLO'            2.0\n",
            "2   'AUTOLESION'            3.0\n",
            "3  'VOLCAMIENTO'            4.0\n",
            "4         'OTRO'            5.0\n"
          ]
        }
      ],
      "source": [
        "print(Clase_Accidente.head())"
      ]
    },
    {
      "cell_type": "markdown",
      "metadata": {
        "id": "DJOLBDIn6f3B"
      },
      "source": [
        "#### 4.6.18 Ajuste tabla Localidad"
      ]
    },
    {
      "cell_type": "code",
      "execution_count": null,
      "metadata": {
        "id": "RE7lhvYE6f3C"
      },
      "outputs": [],
      "source": [
        "#Se incluyen las comas en las columnas de texto\n",
        "Localidad['LOCALIDAD'] = Localidad['LOCALIDAD'].apply(lambda x: f\"'{x}'\")"
      ]
    },
    {
      "cell_type": "code",
      "execution_count": null,
      "metadata": {
        "id": "dBrVfgBZ6f3C",
        "colab": {
          "base_uri": "https://localhost:8080/"
        },
        "outputId": "dd85993e-20f9-483e-fe4e-2a764596655c"
      },
      "outputs": [
        {
          "output_type": "stream",
          "name": "stdout",
          "text": [
            "               LOCALIDAD  COD_LOCALIDAD\n",
            "0             'ENGATIVA'            1.0\n",
            "1            'CHAPINERO'            2.0\n",
            "2                 'SUBA'            3.0\n",
            "3             'FONTIBON'            4.0\n",
            "4       'CIUDAD BOLIVAR'            5.0\n",
            "5         'LOS MARTIRES'            6.0\n",
            "6             'SANTA FE'            7.0\n",
            "7                 'BOSA'            8.0\n",
            "8              'USAQUEN'            9.0\n",
            "9              'KENNEDY'           10.0\n",
            "10  'RAFAEL URIBE URIBE'           11.0\n",
            "11         'TEUSAQUILLO'           12.0\n",
            "12       'SAN CRISTOBAL'           13.0\n",
            "13       'PUENTE ARANDA'           14.0\n",
            "14          'TUNJUELITO'           15.0\n",
            "15      'ANTONIO NARINO'           16.0\n",
            "16                'USME'           17.0\n",
            "17      'BARRIOS UNIDOS'           18.0\n",
            "18          'CANDELARIA'           19.0\n",
            "19             'SUMAPAZ'           20.0\n"
          ]
        }
      ],
      "source": [
        "print(Localidad.head(20))"
      ]
    },
    {
      "cell_type": "markdown",
      "metadata": {
        "id": "FnRWYnNH6f3D"
      },
      "source": [
        "#### 4.6.19 Ajuste tabla Condición_Actor"
      ]
    },
    {
      "cell_type": "code",
      "execution_count": null,
      "metadata": {
        "id": "oFBpFPcp6f3F"
      },
      "outputs": [],
      "source": [
        "#Se incluyen las comas en las columnas de texto\n",
        "Condicion_Actor['CONDICION'] = Condicion_Actor['CONDICION'].apply(lambda x: f\"'{x}'\")"
      ]
    },
    {
      "cell_type": "code",
      "execution_count": null,
      "metadata": {
        "id": "RssB02yo6f3F",
        "colab": {
          "base_uri": "https://localhost:8080/"
        },
        "outputId": "670b9382-d740-47c9-86b3-160eb9973c8c"
      },
      "outputs": [
        {
          "output_type": "stream",
          "name": "stdout",
          "text": [
            "           CONDICION  COD_CONDICION_ACTOR\n",
            "0        'CONDUCTOR'                  1.0\n",
            "1     'MOTOCICLISTA'                  2.0\n",
            "2         'CICLISTA'                  3.0\n",
            "3         'PASAJERO'                  4.0\n",
            "4           'PEATON'                  5.0\n",
            "5  'SIN INFORMACION'                  6.0\n"
          ]
        }
      ],
      "source": [
        "print(Condicion_Actor.head(6))"
      ]
    },
    {
      "cell_type": "markdown",
      "metadata": {
        "id": "yMSgSY916f3G"
      },
      "source": [
        "#### 4.6.20 Ajuste tabla Estado"
      ]
    },
    {
      "cell_type": "code",
      "execution_count": null,
      "metadata": {
        "id": "A699e1pc6f3I"
      },
      "outputs": [],
      "source": [
        "#Se incluyen las comas en las columnas de texto\n",
        "Estado_ActorVial['ESTADO'] = Estado_ActorVial['ESTADO'].apply(lambda x: f\"'{x}'\")"
      ]
    },
    {
      "cell_type": "code",
      "execution_count": null,
      "metadata": {
        "id": "uKyfPuvQ6f3I",
        "colab": {
          "base_uri": "https://localhost:8080/"
        },
        "outputId": "ba2af474-2281-4a03-b582-66b39e9df55d"
      },
      "outputs": [
        {
          "output_type": "stream",
          "name": "stdout",
          "text": [
            "     ESTADO  COD_ESTADO\n",
            "0   'ILESO'         1.0\n",
            "1  'HERIDO'         2.0\n",
            "2  'MUERTO'         3.0\n"
          ]
        }
      ],
      "source": [
        "print(Estado_ActorVial.head())"
      ]
    },
    {
      "cell_type": "markdown",
      "metadata": {
        "id": "tNlJpGa76f3J"
      },
      "source": [
        "#### 4.6.21 Ajuste tabla Genero"
      ]
    },
    {
      "cell_type": "code",
      "execution_count": null,
      "metadata": {
        "id": "IXQu6s2F6f3L"
      },
      "outputs": [],
      "source": [
        "#Se incluyen las comas en las columnas de texto\n",
        "Genero['GENERO'] = Genero['GENERO'].apply(lambda x: f\"'{x}'\")"
      ]
    },
    {
      "cell_type": "code",
      "execution_count": null,
      "metadata": {
        "id": "iL_XuNgs6f3L",
        "colab": {
          "base_uri": "https://localhost:8080/"
        },
        "outputId": "b814ece9-ed3e-437b-b8ca-c854a1866687"
      },
      "outputs": [
        {
          "output_type": "stream",
          "name": "stdout",
          "text": [
            "              GENERO  COD_GENERO\n",
            "0        'MASCULINO'         1.0\n",
            "1         'FEMENINO'         2.0\n",
            "2  'SIN INFORMACION'         3.0\n"
          ]
        }
      ],
      "source": [
        "print(Genero.head())"
      ]
    },
    {
      "cell_type": "markdown",
      "metadata": {
        "id": "16kNUBLv6f3M"
      },
      "source": [
        "#### 4.6.22 Ajuste tabla Actor Vial"
      ]
    },
    {
      "cell_type": "code",
      "execution_count": null,
      "metadata": {
        "id": "pJpSLsuM6f3S"
      },
      "outputs": [],
      "source": [
        "#Se incluyen las comas en las columnas de texto\n",
        "Actor_Vial_df['FECHA_NACIMIENTO'] = Actor_Vial_df['FECHA_NACIMIENTO'].apply(lambda x: f\"'{x}'\")\n",
        "Actor_Vial_df['CODIGO'] = Actor_Vial_df['CODIGO'].apply(lambda x: f\"'{x}'\")"
      ]
    },
    {
      "cell_type": "code",
      "execution_count": null,
      "metadata": {
        "id": "DvLEHtsWHOdk"
      },
      "outputs": [],
      "source": [
        "#Se transforman a texto las columnas con NaN para reemplazarlas por null\n",
        "Actor_Vial_df['CODIGO_ACCIDENTADO'] = Actor_Vial_df['CODIGO_ACCIDENTADO'].map(str)\n",
        "Actor_Vial_df['COD_CONDICION_ACTOR'] = Actor_Vial_df['COD_CONDICION_ACTOR'].map(str)\n",
        "Actor_Vial_df['COD_ESTADO'] = Actor_Vial_df['COD_ESTADO'].map(str)\n",
        "Actor_Vial_df['COD_GENERO'] = Actor_Vial_df['COD_GENERO'].map(str)"
      ]
    },
    {
      "cell_type": "code",
      "execution_count": null,
      "metadata": {
        "id": "jBAZ9Ue0HU31"
      },
      "outputs": [],
      "source": [
        "#Se selecciona solo la primer posición de las columnas transformads en la celda anterior\n",
        "Actor_Vial_df['CODIGO_ACCIDENTADO'] = Actor_Vial_df['CODIGO_ACCIDENTADO'].str[:1]\n",
        "Actor_Vial_df['COD_CONDICION_ACTOR'] = Actor_Vial_df['COD_CONDICION_ACTOR'].str[:1]\n",
        "Actor_Vial_df['COD_ESTADO'] = Actor_Vial_df['COD_ESTADO'].str[:1]\n",
        "Actor_Vial_df['COD_GENERO'] = Actor_Vial_df['COD_GENERO'].str[:1]"
      ]
    },
    {
      "cell_type": "code",
      "execution_count": null,
      "metadata": {
        "id": "zjKCshYWHaSC"
      },
      "outputs": [],
      "source": [
        "#Se reemplazan las n por null\n",
        "Actor_Vial_df = Actor_Vial_df.replace('n', 'null')\n",
        "Actor_Vial_df = Actor_Vial_df.replace('\\'NaT\\'', 'null')"
      ]
    },
    {
      "cell_type": "code",
      "execution_count": null,
      "metadata": {
        "id": "Xs3WbXoy_0JL",
        "colab": {
          "base_uri": "https://localhost:8080/"
        },
        "outputId": "d86f7792-4763-4683-fce3-a2f5507db676"
      },
      "outputs": [
        {
          "output_type": "stream",
          "name": "stdout",
          "text": [
            "  CODIGO_ACCIDENTADO COD_CONDICION_ACTOR COD_ESTADO COD_GENERO  \\\n",
            "0                  1                   1          1          1   \n",
            "1                  1                   1          1          1   \n",
            "2                  1                   1          1          1   \n",
            "3                  1                   1          1          2   \n",
            "4                  1                   1          1          1   \n",
            "\n",
            "  FECHA_NACIMIENTO        CODIGO  CODIGO_ACCIDENTE  \n",
            "0     '1991-04-28'  '10528705-1'          10528705  \n",
            "1     '1956-04-01'  '10528705-2'          10528705  \n",
            "2     '1997-06-23'  '10528709-1'          10528709  \n",
            "3     '1985-05-25'  '10528709-2'          10528709  \n",
            "4     '1979-10-04'  '10528708-1'          10528708  \n"
          ]
        }
      ],
      "source": [
        "print(Actor_Vial_df.head())"
      ]
    },
    {
      "cell_type": "markdown",
      "metadata": {
        "id": "6LL2aXKQ6f3S"
      },
      "source": [
        "#### 4.6.23 Ajuste tabla Descripcion_Causa"
      ]
    },
    {
      "cell_type": "code",
      "execution_count": null,
      "metadata": {
        "id": "d6nM0BRZ6f3U"
      },
      "outputs": [],
      "source": [
        "#Se incluyen las comas en las columnas de texto\n",
        "Describe_Causa['NOMBRE'] = Describe_Causa['NOMBRE'].apply(lambda x: f\"'{x}'\")"
      ]
    },
    {
      "cell_type": "code",
      "execution_count": null,
      "metadata": {
        "id": "m2CQftCy6f3V",
        "colab": {
          "base_uri": "https://localhost:8080/"
        },
        "outputId": "09edc758-bd03-48ac-ee76-8f211f14ff50"
      },
      "outputs": [
        {
          "output_type": "stream",
          "name": "stdout",
          "text": [
            "   CODIGO_CAUSA                                          NOMBRE\n",
            "0         157.0                                          'OTRA'\n",
            "1         121.0            'NO MANTENER DISTANCIA DE SEGURIDAD'\n",
            "2         143.0  'PONER EN MARCHA UN VEHICULO SIN PRECAUCIONES'\n",
            "3         139.0          'NO UTILIZAR - IMPERICIA EN EL MANEJO'\n",
            "4         103.0                            'ADELANTAR CERRANDO'\n",
            "5         104.0                      'ADELANTAR INVADIENDO VIA'\n"
          ]
        }
      ],
      "source": [
        "print(Describe_Causa.head(6))"
      ]
    },
    {
      "cell_type": "markdown",
      "metadata": {
        "id": "7bfbXoGI6f3V"
      },
      "source": [
        "#### 4.6.24 Ajuste tabla Tipo_Causa"
      ]
    },
    {
      "cell_type": "code",
      "execution_count": null,
      "metadata": {
        "id": "rh-1NoZi6f3X"
      },
      "outputs": [],
      "source": [
        "#Se incluyen las comas en las columnas de texto\n",
        "Tipo_Causa['TIPO'] = Tipo_Causa['TIPO'].apply(lambda x: f\"'{x}'\")\n",
        "Tipo_Causa['TIPO_CAUSA'] = Tipo_Causa['TIPO_CAUSA'].apply(lambda x: f\"'{x}'\")"
      ]
    },
    {
      "cell_type": "code",
      "execution_count": null,
      "metadata": {
        "id": "_sgtj2w-6f3X",
        "colab": {
          "base_uri": "https://localhost:8080/"
        },
        "outputId": "a251ef25-818c-4582-fe9a-66bc4749b8ea"
      },
      "outputs": [
        {
          "output_type": "stream",
          "name": "stdout",
          "text": [
            "   TIPO   TIPO_CAUSA\n",
            "0  'CG'  'CONDUCTOR'\n",
            "1  'VI'        'VIA'\n",
            "2  'CE'  'CONDUCTOR'\n",
            "3  'VH'   'VEHICULO'\n",
            "4  'PE'     'PEATON'\n",
            "5  'PA'   'PASAJERO'\n"
          ]
        }
      ],
      "source": [
        "print(Tipo_Causa.head(6))"
      ]
    },
    {
      "cell_type": "markdown",
      "metadata": {
        "id": "ZnCSwhyw6f3Y"
      },
      "source": [
        "#### 4.6.25 Ajuste tabla Causa"
      ]
    },
    {
      "cell_type": "code",
      "execution_count": null,
      "metadata": {
        "id": "IBF_xbr4g89P"
      },
      "outputs": [],
      "source": [
        "#Se reemplazan las n por null\n",
        "Causa_df = Causa_df.replace('nan', 'null')"
      ]
    },
    {
      "cell_type": "code",
      "execution_count": null,
      "metadata": {
        "id": "ym20_Ezs6f3d"
      },
      "outputs": [],
      "source": [
        "#Se incluyen las comas en las columnas de texto\n",
        "Causa_df['TIPO'] = Causa_df['TIPO'].apply(lambda x: f\"'{x}'\")\n",
        "Causa_df['CODIGO_AC_VH'] = Causa_df['CODIGO_AC_VH'].apply(lambda x: f\"'{x}'\")"
      ]
    },
    {
      "cell_type": "code",
      "execution_count": null,
      "metadata": {
        "id": "y4ksAlm9M5wj"
      },
      "outputs": [],
      "source": [
        "#Se transforman a texto las columnas con NaN para reemplazarlas por null\n",
        "Causa_df['CODIGO_CAUSA'] = Causa_df['CODIGO_CAUSA'].map(str)"
      ]
    },
    {
      "cell_type": "code",
      "execution_count": null,
      "metadata": {
        "id": "8pOORH-MM1Al"
      },
      "outputs": [],
      "source": [
        "#Conservar lo que está a la izquierda del punto en la columna Codigo_Causa\n",
        "Causa_df['CODIGO_CAUSA'] = Causa_df['CODIGO_CAUSA'].apply(lambda x: x.split('.')[0])"
      ]
    },
    {
      "cell_type": "code",
      "execution_count": null,
      "metadata": {
        "id": "mCl447W3L8qK"
      },
      "outputs": [],
      "source": [
        "#Se reemplazan los nan por null\n",
        "Causa_df = Causa_df.replace('nan', 'null')\n",
        "Causa_df = Causa_df.replace('\\'nan\\'', 'null')"
      ]
    },
    {
      "cell_type": "code",
      "execution_count": null,
      "metadata": {
        "id": "zLgV9g7M6f3d",
        "colab": {
          "base_uri": "https://localhost:8080/"
        },
        "outputId": "6ef7eeea-a17b-42d5-8aaa-aaf8addf5be9"
      },
      "outputs": [
        {
          "output_type": "execute_result",
          "data": {
            "text/plain": [
              "   CODIGO_ACCIDENTE CODIGO_CAUSA  TIPO  CODIGO_AC_VH\n",
              "0          10558992          157  'CG'  '10558992-1'\n",
              "1          10558992          157  'CG'  '10558992-2'\n",
              "2          10558993          121  'CG'  '10558993-2'\n",
              "3          10558993          157  'CG'  '10558993-2'\n",
              "4          10558994          143  'CG'  '10558994-1'"
            ],
            "text/html": [
              "\n",
              "  <div id=\"df-657d38e0-54bb-4114-85b0-a257c89ecf25\" class=\"colab-df-container\">\n",
              "    <div>\n",
              "<style scoped>\n",
              "    .dataframe tbody tr th:only-of-type {\n",
              "        vertical-align: middle;\n",
              "    }\n",
              "\n",
              "    .dataframe tbody tr th {\n",
              "        vertical-align: top;\n",
              "    }\n",
              "\n",
              "    .dataframe thead th {\n",
              "        text-align: right;\n",
              "    }\n",
              "</style>\n",
              "<table border=\"1\" class=\"dataframe\">\n",
              "  <thead>\n",
              "    <tr style=\"text-align: right;\">\n",
              "      <th></th>\n",
              "      <th>CODIGO_ACCIDENTE</th>\n",
              "      <th>CODIGO_CAUSA</th>\n",
              "      <th>TIPO</th>\n",
              "      <th>CODIGO_AC_VH</th>\n",
              "    </tr>\n",
              "  </thead>\n",
              "  <tbody>\n",
              "    <tr>\n",
              "      <th>0</th>\n",
              "      <td>10558992</td>\n",
              "      <td>157</td>\n",
              "      <td>'CG'</td>\n",
              "      <td>'10558992-1'</td>\n",
              "    </tr>\n",
              "    <tr>\n",
              "      <th>1</th>\n",
              "      <td>10558992</td>\n",
              "      <td>157</td>\n",
              "      <td>'CG'</td>\n",
              "      <td>'10558992-2'</td>\n",
              "    </tr>\n",
              "    <tr>\n",
              "      <th>2</th>\n",
              "      <td>10558993</td>\n",
              "      <td>121</td>\n",
              "      <td>'CG'</td>\n",
              "      <td>'10558993-2'</td>\n",
              "    </tr>\n",
              "    <tr>\n",
              "      <th>3</th>\n",
              "      <td>10558993</td>\n",
              "      <td>157</td>\n",
              "      <td>'CG'</td>\n",
              "      <td>'10558993-2'</td>\n",
              "    </tr>\n",
              "    <tr>\n",
              "      <th>4</th>\n",
              "      <td>10558994</td>\n",
              "      <td>143</td>\n",
              "      <td>'CG'</td>\n",
              "      <td>'10558994-1'</td>\n",
              "    </tr>\n",
              "  </tbody>\n",
              "</table>\n",
              "</div>\n",
              "    <div class=\"colab-df-buttons\">\n",
              "\n",
              "  <div class=\"colab-df-container\">\n",
              "    <button class=\"colab-df-convert\" onclick=\"convertToInteractive('df-657d38e0-54bb-4114-85b0-a257c89ecf25')\"\n",
              "            title=\"Convert this dataframe to an interactive table.\"\n",
              "            style=\"display:none;\">\n",
              "\n",
              "  <svg xmlns=\"http://www.w3.org/2000/svg\" height=\"24px\" viewBox=\"0 -960 960 960\">\n",
              "    <path d=\"M120-120v-720h720v720H120Zm60-500h600v-160H180v160Zm220 220h160v-160H400v160Zm0 220h160v-160H400v160ZM180-400h160v-160H180v160Zm440 0h160v-160H620v160ZM180-180h160v-160H180v160Zm440 0h160v-160H620v160Z\"/>\n",
              "  </svg>\n",
              "    </button>\n",
              "\n",
              "  <style>\n",
              "    .colab-df-container {\n",
              "      display:flex;\n",
              "      gap: 12px;\n",
              "    }\n",
              "\n",
              "    .colab-df-convert {\n",
              "      background-color: #E8F0FE;\n",
              "      border: none;\n",
              "      border-radius: 50%;\n",
              "      cursor: pointer;\n",
              "      display: none;\n",
              "      fill: #1967D2;\n",
              "      height: 32px;\n",
              "      padding: 0 0 0 0;\n",
              "      width: 32px;\n",
              "    }\n",
              "\n",
              "    .colab-df-convert:hover {\n",
              "      background-color: #E2EBFA;\n",
              "      box-shadow: 0px 1px 2px rgba(60, 64, 67, 0.3), 0px 1px 3px 1px rgba(60, 64, 67, 0.15);\n",
              "      fill: #174EA6;\n",
              "    }\n",
              "\n",
              "    .colab-df-buttons div {\n",
              "      margin-bottom: 4px;\n",
              "    }\n",
              "\n",
              "    [theme=dark] .colab-df-convert {\n",
              "      background-color: #3B4455;\n",
              "      fill: #D2E3FC;\n",
              "    }\n",
              "\n",
              "    [theme=dark] .colab-df-convert:hover {\n",
              "      background-color: #434B5C;\n",
              "      box-shadow: 0px 1px 3px 1px rgba(0, 0, 0, 0.15);\n",
              "      filter: drop-shadow(0px 1px 2px rgba(0, 0, 0, 0.3));\n",
              "      fill: #FFFFFF;\n",
              "    }\n",
              "  </style>\n",
              "\n",
              "    <script>\n",
              "      const buttonEl =\n",
              "        document.querySelector('#df-657d38e0-54bb-4114-85b0-a257c89ecf25 button.colab-df-convert');\n",
              "      buttonEl.style.display =\n",
              "        google.colab.kernel.accessAllowed ? 'block' : 'none';\n",
              "\n",
              "      async function convertToInteractive(key) {\n",
              "        const element = document.querySelector('#df-657d38e0-54bb-4114-85b0-a257c89ecf25');\n",
              "        const dataTable =\n",
              "          await google.colab.kernel.invokeFunction('convertToInteractive',\n",
              "                                                    [key], {});\n",
              "        if (!dataTable) return;\n",
              "\n",
              "        const docLinkHtml = 'Like what you see? Visit the ' +\n",
              "          '<a target=\"_blank\" href=https://colab.research.google.com/notebooks/data_table.ipynb>data table notebook</a>'\n",
              "          + ' to learn more about interactive tables.';\n",
              "        element.innerHTML = '';\n",
              "        dataTable['output_type'] = 'display_data';\n",
              "        await google.colab.output.renderOutput(dataTable, element);\n",
              "        const docLink = document.createElement('div');\n",
              "        docLink.innerHTML = docLinkHtml;\n",
              "        element.appendChild(docLink);\n",
              "      }\n",
              "    </script>\n",
              "  </div>\n",
              "\n",
              "\n",
              "<div id=\"df-b60b481f-dd04-40a8-96f1-e1bc52820b35\">\n",
              "  <button class=\"colab-df-quickchart\" onclick=\"quickchart('df-b60b481f-dd04-40a8-96f1-e1bc52820b35')\"\n",
              "            title=\"Suggest charts\"\n",
              "            style=\"display:none;\">\n",
              "\n",
              "<svg xmlns=\"http://www.w3.org/2000/svg\" height=\"24px\"viewBox=\"0 0 24 24\"\n",
              "     width=\"24px\">\n",
              "    <g>\n",
              "        <path d=\"M19 3H5c-1.1 0-2 .9-2 2v14c0 1.1.9 2 2 2h14c1.1 0 2-.9 2-2V5c0-1.1-.9-2-2-2zM9 17H7v-7h2v7zm4 0h-2V7h2v10zm4 0h-2v-4h2v4z\"/>\n",
              "    </g>\n",
              "</svg>\n",
              "  </button>\n",
              "\n",
              "<style>\n",
              "  .colab-df-quickchart {\n",
              "      --bg-color: #E8F0FE;\n",
              "      --fill-color: #1967D2;\n",
              "      --hover-bg-color: #E2EBFA;\n",
              "      --hover-fill-color: #174EA6;\n",
              "      --disabled-fill-color: #AAA;\n",
              "      --disabled-bg-color: #DDD;\n",
              "  }\n",
              "\n",
              "  [theme=dark] .colab-df-quickchart {\n",
              "      --bg-color: #3B4455;\n",
              "      --fill-color: #D2E3FC;\n",
              "      --hover-bg-color: #434B5C;\n",
              "      --hover-fill-color: #FFFFFF;\n",
              "      --disabled-bg-color: #3B4455;\n",
              "      --disabled-fill-color: #666;\n",
              "  }\n",
              "\n",
              "  .colab-df-quickchart {\n",
              "    background-color: var(--bg-color);\n",
              "    border: none;\n",
              "    border-radius: 50%;\n",
              "    cursor: pointer;\n",
              "    display: none;\n",
              "    fill: var(--fill-color);\n",
              "    height: 32px;\n",
              "    padding: 0;\n",
              "    width: 32px;\n",
              "  }\n",
              "\n",
              "  .colab-df-quickchart:hover {\n",
              "    background-color: var(--hover-bg-color);\n",
              "    box-shadow: 0 1px 2px rgba(60, 64, 67, 0.3), 0 1px 3px 1px rgba(60, 64, 67, 0.15);\n",
              "    fill: var(--button-hover-fill-color);\n",
              "  }\n",
              "\n",
              "  .colab-df-quickchart-complete:disabled,\n",
              "  .colab-df-quickchart-complete:disabled:hover {\n",
              "    background-color: var(--disabled-bg-color);\n",
              "    fill: var(--disabled-fill-color);\n",
              "    box-shadow: none;\n",
              "  }\n",
              "\n",
              "  .colab-df-spinner {\n",
              "    border: 2px solid var(--fill-color);\n",
              "    border-color: transparent;\n",
              "    border-bottom-color: var(--fill-color);\n",
              "    animation:\n",
              "      spin 1s steps(1) infinite;\n",
              "  }\n",
              "\n",
              "  @keyframes spin {\n",
              "    0% {\n",
              "      border-color: transparent;\n",
              "      border-bottom-color: var(--fill-color);\n",
              "      border-left-color: var(--fill-color);\n",
              "    }\n",
              "    20% {\n",
              "      border-color: transparent;\n",
              "      border-left-color: var(--fill-color);\n",
              "      border-top-color: var(--fill-color);\n",
              "    }\n",
              "    30% {\n",
              "      border-color: transparent;\n",
              "      border-left-color: var(--fill-color);\n",
              "      border-top-color: var(--fill-color);\n",
              "      border-right-color: var(--fill-color);\n",
              "    }\n",
              "    40% {\n",
              "      border-color: transparent;\n",
              "      border-right-color: var(--fill-color);\n",
              "      border-top-color: var(--fill-color);\n",
              "    }\n",
              "    60% {\n",
              "      border-color: transparent;\n",
              "      border-right-color: var(--fill-color);\n",
              "    }\n",
              "    80% {\n",
              "      border-color: transparent;\n",
              "      border-right-color: var(--fill-color);\n",
              "      border-bottom-color: var(--fill-color);\n",
              "    }\n",
              "    90% {\n",
              "      border-color: transparent;\n",
              "      border-bottom-color: var(--fill-color);\n",
              "    }\n",
              "  }\n",
              "</style>\n",
              "\n",
              "  <script>\n",
              "    async function quickchart(key) {\n",
              "      const quickchartButtonEl =\n",
              "        document.querySelector('#' + key + ' button');\n",
              "      quickchartButtonEl.disabled = true;  // To prevent multiple clicks.\n",
              "      quickchartButtonEl.classList.add('colab-df-spinner');\n",
              "      try {\n",
              "        const charts = await google.colab.kernel.invokeFunction(\n",
              "            'suggestCharts', [key], {});\n",
              "      } catch (error) {\n",
              "        console.error('Error during call to suggestCharts:', error);\n",
              "      }\n",
              "      quickchartButtonEl.classList.remove('colab-df-spinner');\n",
              "      quickchartButtonEl.classList.add('colab-df-quickchart-complete');\n",
              "    }\n",
              "    (() => {\n",
              "      let quickchartButtonEl =\n",
              "        document.querySelector('#df-b60b481f-dd04-40a8-96f1-e1bc52820b35 button');\n",
              "      quickchartButtonEl.style.display =\n",
              "        google.colab.kernel.accessAllowed ? 'block' : 'none';\n",
              "    })();\n",
              "  </script>\n",
              "</div>\n",
              "    </div>\n",
              "  </div>\n"
            ],
            "application/vnd.google.colaboratory.intrinsic+json": {
              "type": "dataframe",
              "variable_name": "Causa_df"
            }
          },
          "metadata": {},
          "execution_count": 399
        }
      ],
      "source": [
        "Causa_df.head()"
      ]
    },
    {
      "cell_type": "markdown",
      "metadata": {
        "id": "xiCn3LEK6f3e"
      },
      "source": [
        "#### 4.6.26 Ajuste tabla Clase_Vehiculo"
      ]
    },
    {
      "cell_type": "code",
      "execution_count": null,
      "metadata": {
        "id": "davMaBez6f3h"
      },
      "outputs": [],
      "source": [
        "#Se incluyen las comas en las columnas de texto\n",
        "Clase_Vh['CLASE'] = Clase_Vh['CLASE'].apply(lambda x: f\"'{x}'\")"
      ]
    },
    {
      "cell_type": "code",
      "execution_count": null,
      "metadata": {
        "id": "TjA8yf2G6f3h",
        "colab": {
          "base_uri": "https://localhost:8080/"
        },
        "outputId": "15b4753e-0d44-47ba-cdf3-3349a854120c"
      },
      "outputs": [
        {
          "output_type": "stream",
          "name": "stdout",
          "text": [
            "                CLASE  COD_CLASE\n",
            "0       'MOTOCICLETA'        1.0\n",
            "1         'AUTOMOVIL'        2.0\n",
            "2               'BUS'        3.0\n",
            "3      'TRACTOCAMION'        4.0\n",
            "4    'CAMION, FURGON'        5.0\n",
            "5         'CAMIONETA'        6.0\n",
            "6          'MICROBUS'        7.0\n",
            "7           'CAMPERO'        8.0\n",
            "8            'BUSETA'        9.0\n",
            "9          'VOLQUETA'       10.0\n",
            "10        'MOTOCARRO'       11.0\n",
            "11        'BICICLETA'       12.0\n",
            "12  'NO IDENTIFICADO'       13.0\n",
            "13  'TRACCION ANIMAL'       14.0\n",
            "14             'OTRO'       15.0\n",
            "15        'MOTOCICLO'       16.0\n",
            "16    'M. INDUSTRIAL'       17.0\n",
            "17      'M. AGRICOLA'       18.0\n",
            "18   'BUS ARTICULADO'       19.0\n",
            "19  'BUS ALIMENTADOR'       20.0\n",
            "20            'METRO'       21.0\n",
            "21       'AMBULANCIA'       22.0\n",
            "22             'TREN'       23.0\n",
            "23         'BICITAXI'       24.0\n",
            "24       'CUATRIMOTO'       25.0\n",
            "25         'REMOLQUE'       26.0\n",
            "26    'SEMI-REMOLQUE'       27.0\n"
          ]
        }
      ],
      "source": [
        "print(Clase_Vh.head(27))"
      ]
    },
    {
      "cell_type": "markdown",
      "metadata": {
        "id": "C2Q4P5Np6f3i"
      },
      "source": [
        "#### 4.6.27 Ajuste tabla Servicio"
      ]
    },
    {
      "cell_type": "code",
      "execution_count": null,
      "metadata": {
        "id": "IPaXYspI6f3l"
      },
      "outputs": [],
      "source": [
        "#Se incluyen las comas en las columnas de texto\n",
        "Servicio['SERVICIO'] = Servicio['SERVICIO'].apply(lambda x: f\"'{x}'\")"
      ]
    },
    {
      "cell_type": "code",
      "execution_count": null,
      "metadata": {
        "id": "3AsXDYG76f3l",
        "colab": {
          "base_uri": "https://localhost:8080/"
        },
        "outputId": "16b9f399-8d5d-416d-a02e-8640fddf3e14"
      },
      "outputs": [
        {
          "output_type": "stream",
          "name": "stdout",
          "text": [
            "            SERVICIO  COD_SERVICIO\n",
            "0       'PARTICULAR'           1.0\n",
            "1          'PUBLICO'           2.0\n",
            "2          'OFICIAL'           3.0\n",
            "3      'DIPLOMATICO'           4.0\n",
            "4  'SIN INFORMACION'           5.0\n"
          ]
        }
      ],
      "source": [
        "print(Servicio.head(5))"
      ]
    },
    {
      "cell_type": "markdown",
      "metadata": {
        "id": "mUraFxe_6f3m"
      },
      "source": [
        "#### 4.6.28 Ajuste tabla Modalidad"
      ]
    },
    {
      "cell_type": "code",
      "execution_count": null,
      "metadata": {
        "id": "O3qpVm1-6f3p"
      },
      "outputs": [],
      "source": [
        "#Se incluyen las comas en las columnas de texto\n",
        "Modalidad['MODALIDAD'] = Modalidad['MODALIDAD'].apply(lambda x: f\"'{x}'\")"
      ]
    },
    {
      "cell_type": "code",
      "execution_count": null,
      "metadata": {
        "id": "HNR6fcTv6f3p",
        "colab": {
          "base_uri": "https://localhost:8080/"
        },
        "outputId": "f999a96d-819c-48a2-aba8-b9dde75f630a"
      },
      "outputs": [
        {
          "output_type": "stream",
          "name": "stdout",
          "text": [
            "                           MODALIDAD  COD_MODALIDAD\n",
            "0               'PASAJEROS - MASIVO'            1.0\n",
            "1      'CARGA - MERCANCIA PELIGROSA'            2.0\n",
            "2                     'CARGA-PESADA'            3.0\n",
            "3           'PASAJEROS - INDIVIDUAL'            4.0\n",
            "4            'PASAJEROS - COLECTIVO'            5.0\n",
            "5     'PASAJEROS - ESPECIAL TURISMO'            6.0\n",
            "6   'PASAJEROS - ESPECIAL OCASIONAL'            7.0\n",
            "7                            'MIXTO'            8.0\n",
            "8     'PASAJEROS - ESPECIAL ESCOLAR'            9.0\n",
            "9              'CARGA - EXTRAPESADA'           10.0\n",
            "10  'PASAJEROS - ESPECIAL ASALARIAD'           11.0\n",
            "11       'CARGA - EXTRADIMENSIONADA'           12.0\n"
          ]
        }
      ],
      "source": [
        "print(Modalidad.head(12))"
      ]
    },
    {
      "cell_type": "markdown",
      "metadata": {
        "id": "zo8sRhvg6f3q"
      },
      "source": [
        "#### 4.6.29 Ajuste tabla Vehiculo"
      ]
    },
    {
      "cell_type": "code",
      "execution_count": null,
      "metadata": {
        "id": "PLzSnRDBinLt"
      },
      "outputs": [],
      "source": [
        "# Se eliminan las comillas sencillas existentes en la columna placa\n",
        "Vehiculo_df['PLACA'] = Vehiculo_df['PLACA'].str.replace(\"'\", \"\")\n",
        "Vehiculo_df['PLACA'] = Vehiculo_df['PLACA'].str.replace(\"HERNANDEZ\", \"null\")"
      ]
    },
    {
      "cell_type": "code",
      "execution_count": null,
      "metadata": {
        "id": "49ByDMdD6f3u"
      },
      "outputs": [],
      "source": [
        "#Se incluyen las comas en las columnas de texto\n",
        "Vehiculo_df['PLACA'] = Vehiculo_df['PLACA'].apply(lambda x: f\"'{x}'\")\n",
        "Vehiculo_df['ENFUGA'] = Vehiculo_df['ENFUGA'].apply(lambda x: f\"'{x}'\")\n",
        "Vehiculo_df['CODIGO'] = Vehiculo_df['CODIGO'].apply(lambda x: f\"'{x}'\")"
      ]
    },
    {
      "cell_type": "code",
      "execution_count": null,
      "metadata": {
        "id": "V5Ub8g1sN141"
      },
      "outputs": [],
      "source": [
        "#Se transforman a texto las columnas con NaN para reemplazarlas por null\n",
        "Vehiculo_df['COD_CLASE'] = Vehiculo_df['COD_CLASE'].map(str)\n",
        "Vehiculo_df['COD_SERVICIO'] = Vehiculo_df['COD_SERVICIO'].map(str)\n",
        "Vehiculo_df['COD_MODALIDAD'] = Vehiculo_df['COD_MODALIDAD'].map(str)"
      ]
    },
    {
      "cell_type": "code",
      "execution_count": null,
      "metadata": {
        "id": "4tUZJ9-AOdSj"
      },
      "outputs": [],
      "source": [
        "#Se selecciona solo la primer posición de las columnas transformads en la celda anterior\n",
        "Vehiculo_df['COD_CLASE'] = Vehiculo_df['COD_CLASE'].str[:1]\n",
        "Vehiculo_df['COD_SERVICIO'] = Vehiculo_df['COD_SERVICIO'].str[:1]\n",
        "Vehiculo_df['COD_MODALIDAD'] = Vehiculo_df['COD_MODALIDAD'].str[:1]"
      ]
    },
    {
      "cell_type": "code",
      "execution_count": null,
      "metadata": {
        "id": "_jgamwzZOt-e"
      },
      "outputs": [],
      "source": [
        "#Se reemplazan las n por null\n",
        "Vehiculo_df = Vehiculo_df.replace('n', 'null')\n",
        "Vehiculo_df = Vehiculo_df.replace('\\'nan\\'', 'null')"
      ]
    },
    {
      "cell_type": "code",
      "execution_count": null,
      "metadata": {
        "id": "6ZDYzQhqBIyl",
        "colab": {
          "base_uri": "https://localhost:8080/"
        },
        "outputId": "13c9583c-8cc1-4e95-c766-7fb102989ff7"
      },
      "outputs": [
        {
          "output_type": "stream",
          "name": "stdout",
          "text": [
            "      PLACA COD_CLASE COD_SERVICIO COD_MODALIDAD ENFUGA      CODIGO  \\\n",
            "0  'BWH61C'         1            1          null    'N'  '511951-1'   \n",
            "1  'BSU084'         2            1          null    'N'  '511950-1'   \n",
            "2  'CUW805'         2            1          null    'N'  '511947-1'   \n",
            "3  'YHV59C'         1            1          null    'N'  '511947-2'   \n",
            "\n",
            "   CODIGO_ACCIDENTE  \n",
            "0            511951  \n",
            "1            511950  \n",
            "2            511947  \n",
            "3            511947  \n"
          ]
        }
      ],
      "source": [
        "print(Vehiculo_df.head(4))"
      ]
    },
    {
      "cell_type": "markdown",
      "metadata": {
        "id": "L-7DM92v6f3v"
      },
      "source": [
        "#### 4.6.30 Ajuste tabla Accidente"
      ]
    },
    {
      "cell_type": "code",
      "execution_count": null,
      "metadata": {
        "id": "2dnOINjW6f3z"
      },
      "outputs": [],
      "source": [
        "#Se incluyen las comas en las columnas de texto\n",
        "Accidente_df['FECHA_OCURRENCIA_ACC'] = Accidente_df['FECHA_OCURRENCIA_ACC'].apply(lambda x: f\"'{x}'\")\n",
        "Accidente_df['HORA_OCURRENCIA_ACC'] = Accidente_df['HORA_OCURRENCIA_ACC'].apply(lambda x: f\"'{x}'\")\n",
        "Accidente_df['DIRECCION'] = Accidente_df['DIRECCION'].apply(lambda x: f\"'{x}'\")"
      ]
    },
    {
      "cell_type": "code",
      "execution_count": null,
      "metadata": {
        "id": "ycA_pn3oPIlW"
      },
      "outputs": [],
      "source": [
        "#Se transforman a texto las columnas con NaN para reemplazarlas por null\n",
        "Accidente_df['COD_GRAVEDAD'] = Accidente_df['COD_GRAVEDAD'].map(str)\n",
        "Accidente_df['COD_CLASE_ACC'] = Accidente_df['COD_CLASE_ACC'].map(str)\n",
        "Accidente_df['COD_LOCALIDAD'] = Accidente_df['COD_LOCALIDAD'].map(str)\n",
        "Accidente_df['COD_GRAVEDAD'] = Accidente_df['COD_GRAVEDAD'].map(str)"
      ]
    },
    {
      "cell_type": "code",
      "execution_count": null,
      "metadata": {
        "id": "obvXv8JsPMwf"
      },
      "outputs": [],
      "source": [
        "#Se selecciona solo la primer posición de las columnas transformads en la celda anterior\n",
        "Accidente_df['COD_GRAVEDAD'] = Accidente_df['COD_GRAVEDAD'].str[:1]\n",
        "Accidente_df['COD_CLASE_ACC'] = Accidente_df['COD_CLASE_ACC'].str[:1]\n",
        "Accidente_df['COD_LOCALIDAD'] = Accidente_df['COD_LOCALIDAD'].str[:1]\n",
        "Accidente_df['COD_GRAVEDAD'] = Accidente_df['COD_GRAVEDAD'].str[:1]"
      ]
    },
    {
      "cell_type": "code",
      "execution_count": null,
      "metadata": {
        "id": "mjohdGW8PSuR"
      },
      "outputs": [],
      "source": [
        "#Se reemplazan las n por null\n",
        "Accidente_df = Accidente_df.replace('n', 'null')\n",
        "Accidente_df = Accidente_df.replace('\\'NaT\\'', 'null')\n",
        "Accidente_df = Accidente_df.replace('', 'null')"
      ]
    },
    {
      "cell_type": "code",
      "execution_count": null,
      "metadata": {
        "id": "OjgCPpk16f3z",
        "colab": {
          "base_uri": "https://localhost:8080/"
        },
        "outputId": "e2229a3e-4d1a-466d-e94b-d844d4799b9f"
      },
      "outputs": [
        {
          "output_type": "stream",
          "name": "stdout",
          "text": [
            "   CODIGO_ACCIDENTE FECHA_OCURRENCIA_ACC HORA_OCURRENCIA_ACC  \\\n",
            "0           4484660         '2017-06-12'          '05:30:00'   \n",
            "1          10583520         '2022-10-29'          '10:55:00'   \n",
            "2            449558         '2012-12-15'          '20:30:00'   \n",
            "3          10583513         '2022-11-01'          '14:58:00'   \n",
            "4            513150         '2014-10-26'          '21:25:00'   \n",
            "\n",
            "                      DIRECCION COD_GRAVEDAD COD_CLASE_ACC COD_LOCALIDAD  \\\n",
            "0  'AV AVENIDA BOYACA-CL 79 02'            1             1             1   \n",
            "1      'KR 111 A  - CL 79   02'            1             1             1   \n",
            "2               'KR 4-CL 91 02'            1             1             2   \n",
            "3        'KR 72  - CL 148   02'            2             1             3   \n",
            "4             'AC 72-KR 68F 02'            2             2             1   \n",
            "\n",
            "    LATITUD   LONGITUD  \n",
            "0  4.693807 -74.090924  \n",
            "1  4.717638 -74.119697  \n",
            "2  4.669288 -74.040677  \n",
            "3  4.737015 -74.066101  \n",
            "4  4.679568 -74.087407  \n"
          ]
        }
      ],
      "source": [
        "# Visualizar el nuevo DataFrame con las columnas seleccionadas\n",
        "print(Accidente_df.head())"
      ]
    },
    {
      "cell_type": "markdown",
      "metadata": {
        "id": "lkWhmwI2DhGJ"
      },
      "source": [
        "#### 4.6.31 Volver a crear tablas"
      ]
    },
    {
      "cell_type": "code",
      "execution_count": null,
      "metadata": {
        "id": "kQ4PfoHFDqdJ"
      },
      "outputs": [],
      "source": [
        "tablas_data= {\n",
        "    'Geometrica_A' : Geometrica_A,\n",
        "    'Geometrica_B' : Geometrica_B,\n",
        "    'Geometrica_C' : Geometrica_C,\n",
        "    'Utilizacion' : Utilizacion,\n",
        "    'Calzadas' : Calzadas,\n",
        "    'Carriles' : Carriles,\n",
        "    'Material' : Material,\n",
        "    'Estado_Via' : Estado_Via,\n",
        "    'Condiciones' : Condiciones,\n",
        "    'Iluminacion_A' : Iluminacion_A,\n",
        "    'Agente_Transito' : Agente_Transito,\n",
        "    'Semaforo' : Semaforo,\n",
        "    'Clase_Vh' : Clase_Vh,\n",
        "    'Servicio' : Servicio,\n",
        "    'Modalidad' : Modalidad,\n",
        "    'Describe_Causa' : Describe_Causa,\n",
        "    'Tipo_Causa' : Tipo_Causa,\n",
        "    'Tiempo': Tiempo,\n",
        "    'Horario' : Horario,\n",
        "    'Gravedad' : Gravedad,\n",
        "    'Clase_Accidente' : Clase_Accidente,\n",
        "    'Localidad' : Localidad,\n",
        "    'Condicion_Actor' : Condicion_Actor,\n",
        "    'Estado_ActorVial' : Estado_ActorVial,\n",
        "    'Genero' : Genero,\n",
        "    'Accidente': Accidente_df,\n",
        "    'Actor_Vial': Actor_Vial_df,\n",
        "    'Via': Via_df,\n",
        "    'Vehiculo': Vehiculo_df,\n",
        "    'Causa': Causa_df\n",
        "}"
      ]
    },
    {
      "cell_type": "markdown",
      "metadata": {
        "id": "SvYy1kJtCYRZ"
      },
      "source": [
        "### 4.7. Creación Scripts cargue de BBDD"
      ]
    },
    {
      "cell_type": "code",
      "execution_count": null,
      "metadata": {
        "id": "sDqsYYEUChzN"
      },
      "outputs": [],
      "source": [
        "# Define el directorio donde se guardarán los archivos SQL de inserción\n",
        "sql_directory = 'Scripts_cargue_BBDD'\n",
        "\n",
        "# Asegúrate de que la carpeta exista o créala\n",
        "os.makedirs(sql_directory, exist_ok=True)"
      ]
    },
    {
      "cell_type": "code",
      "execution_count": null,
      "metadata": {
        "id": "OtrQXSOiCnAV"
      },
      "outputs": [],
      "source": [
        "def generate_sql_insert_script(tabla_nombre, df):\n",
        "    # Obtener los nombres de las columnas del DataFrame en la lista columns\n",
        "    columns = df.columns.tolist()\n",
        "\n",
        "    # Crear el script de inserción SQL\n",
        "    sql_insert_script = f\"INSERT INTO {tabla_nombre} ({', '.join(columns)}) VALUES\\n\"\n",
        "    sql_insert_script += ',\\n'.join([f\"({', '.join(map(str, row))})\" for row in df.values])\n",
        "    sql_insert_script += ';\\n'\n",
        "\n",
        "    return sql_insert_script\n"
      ]
    },
    {
      "cell_type": "code",
      "execution_count": null,
      "metadata": {
        "id": "iW9erFjLCtC1"
      },
      "outputs": [],
      "source": [
        "# Se genera un script de inserción para todas las tablas\n",
        "sql_script = ''\n",
        "for tabla_nombre, df in tablas_data.items():\n",
        "    sql_script += generate_sql_insert_script(tabla_nombre, df)\n",
        "\n",
        "# Guardar el script SQL en un archivo único\n",
        "output_file = os.path.join(sql_directory, 'insert_all_tables.sql')\n",
        "with open(output_file, 'w') as file:\n",
        "    file.write(sql_script)"
      ]
    },
    {
      "cell_type": "markdown",
      "metadata": {
        "id": "sWFGo0HraM2z"
      },
      "source": [
        "### 4.8. Descarga de archivos .SQL"
      ]
    },
    {
      "cell_type": "code",
      "execution_count": null,
      "metadata": {
        "id": "bEbAher1gURs"
      },
      "outputs": [],
      "source": [
        "from zipfile import ZipFile\n",
        "from google.colab import files"
      ]
    },
    {
      "cell_type": "code",
      "execution_count": null,
      "metadata": {
        "id": "1AhZrOUQaSsU",
        "colab": {
          "base_uri": "https://localhost:8080/",
          "height": 34
        },
        "outputId": "b67648a4-165a-43b4-8184-0990b350f6ae"
      },
      "outputs": [
        {
          "output_type": "stream",
          "name": "stdout",
          "text": [
            "Archivos SQL comprimidos en: Scripts_sql.zip\n"
          ]
        },
        {
          "output_type": "display_data",
          "data": {
            "text/plain": [
              "<IPython.core.display.Javascript object>"
            ],
            "application/javascript": [
              "\n",
              "    async function download(id, filename, size) {\n",
              "      if (!google.colab.kernel.accessAllowed) {\n",
              "        return;\n",
              "      }\n",
              "      const div = document.createElement('div');\n",
              "      const label = document.createElement('label');\n",
              "      label.textContent = `Downloading \"${filename}\": `;\n",
              "      div.appendChild(label);\n",
              "      const progress = document.createElement('progress');\n",
              "      progress.max = size;\n",
              "      div.appendChild(progress);\n",
              "      document.body.appendChild(div);\n",
              "\n",
              "      const buffers = [];\n",
              "      let downloaded = 0;\n",
              "\n",
              "      const channel = await google.colab.kernel.comms.open(id);\n",
              "      // Send a message to notify the kernel that we're ready.\n",
              "      channel.send({})\n",
              "\n",
              "      for await (const message of channel.messages) {\n",
              "        // Send a message to notify the kernel that we're ready.\n",
              "        channel.send({})\n",
              "        if (message.buffers) {\n",
              "          for (const buffer of message.buffers) {\n",
              "            buffers.push(buffer);\n",
              "            downloaded += buffer.byteLength;\n",
              "            progress.value = downloaded;\n",
              "          }\n",
              "        }\n",
              "      }\n",
              "      const blob = new Blob(buffers, {type: 'application/binary'});\n",
              "      const a = document.createElement('a');\n",
              "      a.href = window.URL.createObjectURL(blob);\n",
              "      a.download = filename;\n",
              "      div.appendChild(a);\n",
              "      a.click();\n",
              "      div.remove();\n",
              "    }\n",
              "  "
            ]
          },
          "metadata": {}
        },
        {
          "output_type": "display_data",
          "data": {
            "text/plain": [
              "<IPython.core.display.Javascript object>"
            ],
            "application/javascript": [
              "download(\"download_8f23ff87-847a-4266-9f02-505f43cd1491\", \"Scripts_sql.zip\", 194908368)"
            ]
          },
          "metadata": {}
        }
      ],
      "source": [
        "archivos_sql = ['Script_creacion_tablas.sql', 'Script_relaciones_foraneas.sql']\n",
        "\n",
        "# Agregar archivos individuales de Script_cargue_BBDD al archivo ZIP\n",
        "archivos_cargue_BBDD = os.listdir('Scripts_cargue_BBDD')\n",
        "archivos_sql.extend(['Scripts_cargue_BBDD/' + archivo for archivo in archivos_cargue_BBDD])\n",
        "\n",
        "nombre_zip = 'Scripts_sql.zip'\n",
        "\n",
        "with ZipFile(nombre_zip, 'w') as zipf:\n",
        "    for archivo_sql in archivos_sql:\n",
        "        zipf.write(archivo_sql, os.path.basename(archivo_sql))\n",
        "\n",
        "print(f\"Archivos SQL comprimidos en: {nombre_zip}\")\n",
        "\n",
        "# Descargar el archivo ZIP\n",
        "files.download('Scripts_sql.zip')"
      ]
    },
    {
      "cell_type": "code",
      "execution_count": null,
      "metadata": {
        "id": "01NpUjQeKA3L"
      },
      "outputs": [],
      "source": [
        "# Detiene el temporizador de carga\n",
        "load_end_time = time.time()"
      ]
    },
    {
      "cell_type": "code",
      "execution_count": null,
      "metadata": {
        "id": "_NSUTnqYKDRY",
        "colab": {
          "base_uri": "https://localhost:8080/"
        },
        "outputId": "c79f871c-54b4-4dee-ab55-2c5ac41f2acb"
      },
      "outputs": [
        {
          "output_type": "stream",
          "name": "stdout",
          "text": [
            "Tiempo de carga: 69.46 segundos\n"
          ]
        }
      ],
      "source": [
        "# Calcula el tiempo de carga\n",
        "load_time = load_end_time - load_start_time\n",
        "print(f'Tiempo de carga: {load_time:.2f} segundos')"
      ]
    },
    {
      "cell_type": "markdown",
      "metadata": {
        "id": "41uY-Gjz3rFc"
      },
      "source": [
        "## 5. Interfaz de monitoreo y control en el proceso ETL. <a id=\"Interfaz\"></a>\n"
      ]
    },
    {
      "cell_type": "markdown",
      "metadata": {
        "id": "4YWLzTtj4MjD"
      },
      "source": [
        "### 5.1 Métricas de Desempeño"
      ]
    },
    {
      "cell_type": "markdown",
      "metadata": {
        "id": "JwVgC2kV5Arw"
      },
      "source": [
        "### 5.1.1 Tiempo de Ejecución de la ETL"
      ]
    },
    {
      "cell_type": "code",
      "execution_count": null,
      "metadata": {
        "id": "BNsU1X9lKHN0",
        "colab": {
          "base_uri": "https://localhost:8080/"
        },
        "outputId": "d5e4085e-d220-4f8c-d915-5057434a2326"
      },
      "outputs": [
        {
          "output_type": "stream",
          "name": "stdout",
          "text": [
            "Tiempo total de extracción: 795.82 segundos\n",
            "Tiempo total de transformación: 244.56 segundos\n",
            "Tiempo total de carga: 63.24 segundos\n"
          ]
        }
      ],
      "source": [
        "# Imprime los tiempos totales\n",
        "print(f'Tiempo total de extracción: {extraction_time:.2f} segundos')\n",
        "print(f'Tiempo total de transformación: {transformation_time:.2f} segundos')\n",
        "print(f'Tiempo total de carga: {load_time:.2f} segundos')"
      ]
    },
    {
      "cell_type": "markdown",
      "metadata": {
        "id": "NVXTxORb4LUi"
      },
      "source": [
        "### 5.1.2 Utilización de Recursos (CPU, Memoria):"
      ]
    },
    {
      "cell_type": "code",
      "execution_count": null,
      "metadata": {
        "id": "ZgOgmJdi4M9D",
        "colab": {
          "base_uri": "https://localhost:8080/"
        },
        "outputId": "e56be999-f5db-4bf3-e81a-849075d03053"
      },
      "outputs": [
        {
          "output_type": "stream",
          "name": "stdout",
          "text": [
            "Uso de CPU: 47.3%\n",
            "Uso de memoria: 37.2%\n"
          ]
        }
      ],
      "source": [
        "# Obtén el uso de CPU y memoria\n",
        "cpu_usage = psutil.cpu_percent()\n",
        "memory_usage = psutil.virtual_memory().percent\n",
        "\n",
        "print(\"Uso de CPU: {}%\".format(cpu_usage))\n",
        "print(\"Uso de memoria: {}%\".format(memory_usage))\n"
      ]
    }
  ],
  "metadata": {
    "colab": {
      "collapsed_sections": [
        "zu0m8DGjn6P2",
        "QUiZdX5DoABc",
        "ReJuJy4MXxsc",
        "MThBFmZoX3Bc",
        "O8hTVJP_X5_u",
        "cxj-C0-AX8dU",
        "exd8stjlYJhe",
        "X4i9Iw7doF5z",
        "nojAOwqbagXs",
        "mkSovB85bi4B",
        "vuBv1OjucYzO",
        "kmC6tm1mdbd8",
        "FM_3K4OXdh2t",
        "kaW6QhtIdm6B",
        "e3mR9XEvdriP",
        "1D0Br332dv-O",
        "F_EMLlbld2Xh",
        "V51Ps_yZd8jZ",
        "LCk98cL7eGbT",
        "_8kru-TOeQ4N",
        "ckjB-zhi3gNp",
        "Gw7q5wDjTish",
        "OLzdnkRI1f3h",
        "BI_WCstbX1qo",
        "aNNo038LX9PC",
        "IakBGWzPYB9I",
        "A5iUdQ8ZkrPY",
        "wqYa0eCNkvUH",
        "_3n8kgaek4Cb",
        "3eTgrxdD4VSf",
        "544b41WmpU-x",
        "8QXZCHwUpg1I",
        "hG6OBssH4l-q",
        "E4NUTCX3wa-P",
        "hjeDC_ZOwkzQ",
        "GGUFr1p_wr1s",
        "NiahzHC-4YPX",
        "hhUy4rPd4Scj",
        "e61mnWnTBT2y",
        "zN5YFJe1bYgL",
        "aNuMAdAcbh3H",
        "eqHAza4Vbw5n",
        "mHtNimliZJCe",
        "9F2Kbmie6f13",
        "chZ3O4tG6f17",
        "lfcI7iod6f1_",
        "eELsrVh66f2C",
        "lqAlrbeH6f2G",
        "Wa_wfjBD6f2J",
        "E8rOI92z6f2M",
        "t0VOv0Mj6f2Q",
        "fnWGDpvA6f2X",
        "s5_GWsie6f2b",
        "kxFUYsLN6f2e",
        "FmG0syrj6f2i",
        "Y_NH7L3y6f2o",
        "uae1MxeI6f2s",
        "xrkU1N5C6f23",
        "9S8KvHK36f26",
        "UoV3yliD6f29",
        "DJOLBDIn6f3B",
        "FnRWYnNH6f3D",
        "yMSgSY916f3G",
        "tNlJpGa76f3J",
        "16kNUBLv6f3M",
        "6LL2aXKQ6f3S",
        "7bfbXoGI6f3V",
        "ZnCSwhyw6f3Y",
        "xiCn3LEK6f3e",
        "C2Q4P5Np6f3i",
        "mUraFxe_6f3m",
        "zo8sRhvg6f3q",
        "41uY-Gjz3rFc"
      ],
      "provenance": []
    },
    "kernelspec": {
      "display_name": "Python 3",
      "name": "python3"
    },
    "language_info": {
      "name": "python"
    }
  },
  "nbformat": 4,
  "nbformat_minor": 0
}